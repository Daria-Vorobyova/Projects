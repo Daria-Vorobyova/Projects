{
 "cells": [
  {
   "cell_type": "markdown",
   "metadata": {},
   "source": [
    "# Исследование объявлений рынка недвижимости \n",
    "\n",
    "Предоставленный датасет - данные сервиса Яндекс.Недвижимость, в котором хранятся объявления о продаже квартир в Санкт-Петербурге и его окрестностях за несколько лет. Необходимо определить рыночную стоимость объектов недвижимости. Для этого нужно установить параметры, которые позволят построить автоматизированную систему для отслеживания аномалий и мошеннической деятельности.\n",
    "\n",
    "В каждом объявлении о продаже объекта недвижимости есть два типа данных: первые вписаны пользователем/владельцем, а вторые установлены системой на основе картографических данных (расстояние до центра, аэропорта, парков и водоемов)."
   ]
  },
  {
   "cell_type": "markdown",
   "metadata": {},
   "source": [
    "### Шаг 1. Общая информация"
   ]
  },
  {
   "cell_type": "markdown",
   "metadata": {},
   "source": [
    "#### Импортируем библиотеку Pandas, в переменной data будет храниться датасет. Разделителем для данных укажем \"\\t\". Выведем первые 5 строк."
   ]
  },
  {
   "cell_type": "code",
   "execution_count": 1,
   "metadata": {},
   "outputs": [
    {
     "data": {
      "text/html": [
       "<div>\n",
       "<style scoped>\n",
       "    .dataframe tbody tr th:only-of-type {\n",
       "        vertical-align: middle;\n",
       "    }\n",
       "\n",
       "    .dataframe tbody tr th {\n",
       "        vertical-align: top;\n",
       "    }\n",
       "\n",
       "    .dataframe thead th {\n",
       "        text-align: right;\n",
       "    }\n",
       "</style>\n",
       "<table border=\"1\" class=\"dataframe\">\n",
       "  <thead>\n",
       "    <tr style=\"text-align: right;\">\n",
       "      <th></th>\n",
       "      <th>total_images</th>\n",
       "      <th>last_price</th>\n",
       "      <th>total_area</th>\n",
       "      <th>first_day_exposition</th>\n",
       "      <th>rooms</th>\n",
       "      <th>ceiling_height</th>\n",
       "      <th>floors_total</th>\n",
       "      <th>living_area</th>\n",
       "      <th>floor</th>\n",
       "      <th>is_apartment</th>\n",
       "      <th>...</th>\n",
       "      <th>kitchen_area</th>\n",
       "      <th>balcony</th>\n",
       "      <th>locality_name</th>\n",
       "      <th>airports_nearest</th>\n",
       "      <th>cityCenters_nearest</th>\n",
       "      <th>parks_around3000</th>\n",
       "      <th>parks_nearest</th>\n",
       "      <th>ponds_around3000</th>\n",
       "      <th>ponds_nearest</th>\n",
       "      <th>days_exposition</th>\n",
       "    </tr>\n",
       "  </thead>\n",
       "  <tbody>\n",
       "    <tr>\n",
       "      <th>0</th>\n",
       "      <td>20</td>\n",
       "      <td>13000000.0</td>\n",
       "      <td>108.0</td>\n",
       "      <td>2019-03-07T00:00:00</td>\n",
       "      <td>3</td>\n",
       "      <td>2.70</td>\n",
       "      <td>16.0</td>\n",
       "      <td>51.0</td>\n",
       "      <td>8</td>\n",
       "      <td>NaN</td>\n",
       "      <td>...</td>\n",
       "      <td>25.0</td>\n",
       "      <td>NaN</td>\n",
       "      <td>Санкт-Петербург</td>\n",
       "      <td>18863.0</td>\n",
       "      <td>16028.0</td>\n",
       "      <td>1.0</td>\n",
       "      <td>482.0</td>\n",
       "      <td>2.0</td>\n",
       "      <td>755.0</td>\n",
       "      <td>NaN</td>\n",
       "    </tr>\n",
       "    <tr>\n",
       "      <th>1</th>\n",
       "      <td>7</td>\n",
       "      <td>3350000.0</td>\n",
       "      <td>40.4</td>\n",
       "      <td>2018-12-04T00:00:00</td>\n",
       "      <td>1</td>\n",
       "      <td>NaN</td>\n",
       "      <td>11.0</td>\n",
       "      <td>18.6</td>\n",
       "      <td>1</td>\n",
       "      <td>NaN</td>\n",
       "      <td>...</td>\n",
       "      <td>11.0</td>\n",
       "      <td>2.0</td>\n",
       "      <td>посёлок Шушары</td>\n",
       "      <td>12817.0</td>\n",
       "      <td>18603.0</td>\n",
       "      <td>0.0</td>\n",
       "      <td>NaN</td>\n",
       "      <td>0.0</td>\n",
       "      <td>NaN</td>\n",
       "      <td>81.0</td>\n",
       "    </tr>\n",
       "    <tr>\n",
       "      <th>2</th>\n",
       "      <td>10</td>\n",
       "      <td>5196000.0</td>\n",
       "      <td>56.0</td>\n",
       "      <td>2015-08-20T00:00:00</td>\n",
       "      <td>2</td>\n",
       "      <td>NaN</td>\n",
       "      <td>5.0</td>\n",
       "      <td>34.3</td>\n",
       "      <td>4</td>\n",
       "      <td>NaN</td>\n",
       "      <td>...</td>\n",
       "      <td>8.3</td>\n",
       "      <td>0.0</td>\n",
       "      <td>Санкт-Петербург</td>\n",
       "      <td>21741.0</td>\n",
       "      <td>13933.0</td>\n",
       "      <td>1.0</td>\n",
       "      <td>90.0</td>\n",
       "      <td>2.0</td>\n",
       "      <td>574.0</td>\n",
       "      <td>558.0</td>\n",
       "    </tr>\n",
       "    <tr>\n",
       "      <th>3</th>\n",
       "      <td>0</td>\n",
       "      <td>64900000.0</td>\n",
       "      <td>159.0</td>\n",
       "      <td>2015-07-24T00:00:00</td>\n",
       "      <td>3</td>\n",
       "      <td>NaN</td>\n",
       "      <td>14.0</td>\n",
       "      <td>NaN</td>\n",
       "      <td>9</td>\n",
       "      <td>NaN</td>\n",
       "      <td>...</td>\n",
       "      <td>NaN</td>\n",
       "      <td>0.0</td>\n",
       "      <td>Санкт-Петербург</td>\n",
       "      <td>28098.0</td>\n",
       "      <td>6800.0</td>\n",
       "      <td>2.0</td>\n",
       "      <td>84.0</td>\n",
       "      <td>3.0</td>\n",
       "      <td>234.0</td>\n",
       "      <td>424.0</td>\n",
       "    </tr>\n",
       "    <tr>\n",
       "      <th>4</th>\n",
       "      <td>2</td>\n",
       "      <td>10000000.0</td>\n",
       "      <td>100.0</td>\n",
       "      <td>2018-06-19T00:00:00</td>\n",
       "      <td>2</td>\n",
       "      <td>3.03</td>\n",
       "      <td>14.0</td>\n",
       "      <td>32.0</td>\n",
       "      <td>13</td>\n",
       "      <td>NaN</td>\n",
       "      <td>...</td>\n",
       "      <td>41.0</td>\n",
       "      <td>NaN</td>\n",
       "      <td>Санкт-Петербург</td>\n",
       "      <td>31856.0</td>\n",
       "      <td>8098.0</td>\n",
       "      <td>2.0</td>\n",
       "      <td>112.0</td>\n",
       "      <td>1.0</td>\n",
       "      <td>48.0</td>\n",
       "      <td>121.0</td>\n",
       "    </tr>\n",
       "  </tbody>\n",
       "</table>\n",
       "<p>5 rows × 22 columns</p>\n",
       "</div>"
      ],
      "text/plain": [
       "   total_images  last_price  total_area first_day_exposition  rooms  \\\n",
       "0            20  13000000.0       108.0  2019-03-07T00:00:00      3   \n",
       "1             7   3350000.0        40.4  2018-12-04T00:00:00      1   \n",
       "2            10   5196000.0        56.0  2015-08-20T00:00:00      2   \n",
       "3             0  64900000.0       159.0  2015-07-24T00:00:00      3   \n",
       "4             2  10000000.0       100.0  2018-06-19T00:00:00      2   \n",
       "\n",
       "   ceiling_height  floors_total  living_area  floor is_apartment  ...  \\\n",
       "0            2.70          16.0         51.0      8          NaN  ...   \n",
       "1             NaN          11.0         18.6      1          NaN  ...   \n",
       "2             NaN           5.0         34.3      4          NaN  ...   \n",
       "3             NaN          14.0          NaN      9          NaN  ...   \n",
       "4            3.03          14.0         32.0     13          NaN  ...   \n",
       "\n",
       "   kitchen_area  balcony    locality_name  airports_nearest  \\\n",
       "0          25.0      NaN  Санкт-Петербург           18863.0   \n",
       "1          11.0      2.0   посёлок Шушары           12817.0   \n",
       "2           8.3      0.0  Санкт-Петербург           21741.0   \n",
       "3           NaN      0.0  Санкт-Петербург           28098.0   \n",
       "4          41.0      NaN  Санкт-Петербург           31856.0   \n",
       "\n",
       "  cityCenters_nearest  parks_around3000  parks_nearest  ponds_around3000  \\\n",
       "0             16028.0               1.0          482.0               2.0   \n",
       "1             18603.0               0.0            NaN               0.0   \n",
       "2             13933.0               1.0           90.0               2.0   \n",
       "3              6800.0               2.0           84.0               3.0   \n",
       "4              8098.0               2.0          112.0               1.0   \n",
       "\n",
       "   ponds_nearest  days_exposition  \n",
       "0          755.0              NaN  \n",
       "1            NaN             81.0  \n",
       "2          574.0            558.0  \n",
       "3          234.0            424.0  \n",
       "4           48.0            121.0  \n",
       "\n",
       "[5 rows x 22 columns]"
      ]
     },
     "execution_count": 1,
     "metadata": {},
     "output_type": "execute_result"
    }
   ],
   "source": [
    "import matplotlib.pyplot as plt\n",
    "import pandas as pd #импортируем библиотеки\n",
    "\n",
    "data = pd.read_csv('/datasets/real_estate_data.csv', sep='\\t') #новая переменная, чтение файла, разделитель\n",
    "data.head() #первые 5 строк"
   ]
  },
  {
   "cell_type": "markdown",
   "metadata": {},
   "source": [
    "#### Рассмотрим общую информацию о датафрейме"
   ]
  },
  {
   "cell_type": "code",
   "execution_count": 2,
   "metadata": {},
   "outputs": [
    {
     "name": "stdout",
     "output_type": "stream",
     "text": [
      "<class 'pandas.core.frame.DataFrame'>\n",
      "RangeIndex: 23699 entries, 0 to 23698\n",
      "Data columns (total 22 columns):\n",
      " #   Column                Non-Null Count  Dtype  \n",
      "---  ------                --------------  -----  \n",
      " 0   total_images          23699 non-null  int64  \n",
      " 1   last_price            23699 non-null  float64\n",
      " 2   total_area            23699 non-null  float64\n",
      " 3   first_day_exposition  23699 non-null  object \n",
      " 4   rooms                 23699 non-null  int64  \n",
      " 5   ceiling_height        14504 non-null  float64\n",
      " 6   floors_total          23613 non-null  float64\n",
      " 7   living_area           21796 non-null  float64\n",
      " 8   floor                 23699 non-null  int64  \n",
      " 9   is_apartment          2775 non-null   object \n",
      " 10  studio                23699 non-null  bool   \n",
      " 11  open_plan             23699 non-null  bool   \n",
      " 12  kitchen_area          21421 non-null  float64\n",
      " 13  balcony               12180 non-null  float64\n",
      " 14  locality_name         23650 non-null  object \n",
      " 15  airports_nearest      18157 non-null  float64\n",
      " 16  cityCenters_nearest   18180 non-null  float64\n",
      " 17  parks_around3000      18181 non-null  float64\n",
      " 18  parks_nearest         8079 non-null   float64\n",
      " 19  ponds_around3000      18181 non-null  float64\n",
      " 20  ponds_nearest         9110 non-null   float64\n",
      " 21  days_exposition       20518 non-null  float64\n",
      "dtypes: bool(2), float64(14), int64(3), object(3)\n",
      "memory usage: 3.7+ MB\n"
     ]
    }
   ],
   "source": [
    "data.info()"
   ]
  },
  {
   "cell_type": "markdown",
   "metadata": {},
   "source": [
    "Всего в таблице 22 колонки, 23699 строк.\n",
    "И очень много пропущенных значений, например, в колонке is_apartment из 23699 строк пропущено 20 924 (>88%)."
   ]
  },
  {
   "cell_type": "markdown",
   "metadata": {},
   "source": [
    "Проанализируем типы данных каждой колонки. Если тип данных не соответствует, оставим квадратик без галочки.\n",
    "- [x] total_images — число фотографий квартиры в объявлении - целое число.\n",
    "- [x] last_price — цена на момент снятия с публикации - вещественное число.\n",
    "- [x] total_area — общая площадь квартиры в квадратных метрах (м²) - вещественное число.\n",
    "- [ ] first_day_exposition — дата публикации - объект.\n",
    "- [x] rooms — число комнат - целое число.\n",
    "- [x] ceiling_height — высота потолков (м) - вещественное число.\n",
    "- [ ] floors_total — всего этажей в доме - вещественное число.\n",
    "- [x] living_area — жилая площадь в квадратных метрах (м²) - вещественное число.\n",
    "- [x] floor — этаж целое число.\n",
    "- [X] is_apartment — апартаменты - объект (булев тип).\n",
    "- [x] studio — квартира-студия - объект (булев тип).\n",
    "- [x] open_plan — свободная планировка - объект (булев тип).\n",
    "- [X] kitchen_area — площадь кухни в квадратных метрах (м²) - вещественное число.\n",
    "- [ ] balcony — число балконов - вещественное число.\n",
    "- [X] locality_name — название населённого пункта - объект.\n",
    "- [X] airports_nearest — расстояние до ближайшего аэропорта в метрах (м) - вещественное число.\n",
    "- [X] cityCenters_nearest — расстояние до центра города (м) - вещественное число.\n",
    "- [ ] parks_around3000 — число парков в радиусе 3 км - вещественное число.\n",
    "- [X] parks_nearest — расстояние до ближайшего парка (м) - вещественное число.\n",
    "- [ ] ponds_around3000 — число водоёмов в радиусе 3 км - вещественное число.\n",
    "- [X] ponds_nearest — расстояние до ближайшего водоёма (м) - вещественное число.\n",
    "- [ ] days_exposition — сколько дней было размещено объявление (от публикации до снятия) - вещественное число.\n"
   ]
  },
  {
   "cell_type": "markdown",
   "metadata": {},
   "source": [
    "#### Построим общую гистограмму для всех числовых столбцов таблицы. \n"
   ]
  },
  {
   "cell_type": "code",
   "execution_count": 3,
   "metadata": {},
   "outputs": [
    {
     "data": {
      "text/plain": [
       "array([[<AxesSubplot:title={'center':'total_images'}>,\n",
       "        <AxesSubplot:title={'center':'last_price'}>,\n",
       "        <AxesSubplot:title={'center':'total_area'}>,\n",
       "        <AxesSubplot:title={'center':'rooms'}>],\n",
       "       [<AxesSubplot:title={'center':'ceiling_height'}>,\n",
       "        <AxesSubplot:title={'center':'floors_total'}>,\n",
       "        <AxesSubplot:title={'center':'living_area'}>,\n",
       "        <AxesSubplot:title={'center':'floor'}>],\n",
       "       [<AxesSubplot:title={'center':'kitchen_area'}>,\n",
       "        <AxesSubplot:title={'center':'balcony'}>,\n",
       "        <AxesSubplot:title={'center':'airports_nearest'}>,\n",
       "        <AxesSubplot:title={'center':'cityCenters_nearest'}>],\n",
       "       [<AxesSubplot:title={'center':'parks_around3000'}>,\n",
       "        <AxesSubplot:title={'center':'parks_nearest'}>,\n",
       "        <AxesSubplot:title={'center':'ponds_around3000'}>,\n",
       "        <AxesSubplot:title={'center':'ponds_nearest'}>],\n",
       "       [<AxesSubplot:title={'center':'days_exposition'}>, <AxesSubplot:>,\n",
       "        <AxesSubplot:>, <AxesSubplot:>]], dtype=object)"
      ]
     },
     "execution_count": 3,
     "metadata": {},
     "output_type": "execute_result"
    },
    {
     "data": {
      "image/png": "[encoded data removed]",
      "text/plain": [
       "<Figure size 1080x1440 with 20 Axes>"
      ]
     },
     "metadata": {
      "needs_background": "light"
     },
     "output_type": "display_data"
    }
   ],
   "source": [
    "data.hist(figsize=(15, 20))"
   ]
  },
  {
   "cell_type": "markdown",
   "metadata": {},
   "source": [
    "Гистограммы содержат много нулевых значений - так как в таблице много пропущенных значений. \n",
    " - Самыми распространенными площадями квартир являются до 200 кв.метров.\n",
    " - С количеством комнат до 4\n",
    " - Высота потолков распределена от 1 до 100 - свидетельствует о выбросах\n",
    " - Высота дома до 60 - тоже нужно проверить на выбросы, самой распространенной высотой являются дома до 15 этажей\n",
    " - Жилая площадь распределена от 0 до 400\n",
    " - Самыми распространенными квартирами в объявления являются квартиры на 1-10 этажах\n",
    " - Площадь кухни до 24 квадратных метров - самая распространенная\n",
    " - Большее кол-во квартир с 0-2 балкона\n",
    " - Среднее расстояние до аэропорта - 20 км\n",
    " - До центра города - в большинстве менее 20 км\n",
    " - Много нулевых значений в столбце \"parks_around3000\" и \"ponds_around3000\"\n",
    " - В среднем до ближайшего парка 500 м\n",
    " - До ближайшего водоема 500 м\n",
    " - Обявления в среднем были размещены около 100 дней."
   ]
  },
  {
   "cell_type": "markdown",
   "metadata": {},
   "source": [
    "#### Промежуточный вывод: \n",
    "Полученная таблица содержит 22 колонки, 23699 строк. Также в датафрейме достаточно много пропущенных значений. Некоторые типы данных не соответствуют содержимому столбцов. Общие гистограммы на первый взгляд реалистичны."
   ]
  },
  {
   "cell_type": "markdown",
   "metadata": {},
   "source": [
    "### Шаг 2. Предобработка данных"
   ]
  },
  {
   "cell_type": "markdown",
   "metadata": {},
   "source": [
    "#### Найдем и изучим пропущенные значения в столбцах. \n",
    "##### Для начала определим, в каких столбцах есть пропуски."
   ]
  },
  {
   "cell_type": "code",
   "execution_count": 4,
   "metadata": {},
   "outputs": [
    {
     "data": {
      "text/plain": [
       "total_images                0\n",
       "last_price                  0\n",
       "total_area                  0\n",
       "first_day_exposition        0\n",
       "rooms                       0\n",
       "ceiling_height           9195\n",
       "floors_total               86\n",
       "living_area              1903\n",
       "floor                       0\n",
       "is_apartment            20924\n",
       "studio                      0\n",
       "open_plan                   0\n",
       "kitchen_area             2278\n",
       "balcony                 11519\n",
       "locality_name              49\n",
       "airports_nearest         5542\n",
       "cityCenters_nearest      5519\n",
       "parks_around3000         5518\n",
       "parks_nearest           15620\n",
       "ponds_around3000         5518\n",
       "ponds_nearest           14589\n",
       "days_exposition          3181\n",
       "dtype: int64"
      ]
     },
     "execution_count": 4,
     "metadata": {},
     "output_type": "execute_result"
    }
   ],
   "source": [
    " data.isna().sum()"
   ]
  },
  {
   "cell_type": "markdown",
   "metadata": {},
   "source": [
    "Посмотрим на долю пропусков: чем теплее цвет ячейки таблицы - тем доля пропусков в столбце больше.\n",
    "\n",
    "Самые \"теплые\" значения получились у столбцов \"is_apartment\", \"parks_nearest\", \"ponds_nearest\"."
   ]
  },
  {
   "cell_type": "code",
   "execution_count": 5,
   "metadata": {},
   "outputs": [
    {
     "data": {
      "text/html": [
       "<style  type=\"text/css\" >\n",
       "#T_b8704_row0_col0,#T_b8704_row1_col0,#T_b8704_row2_col0,#T_b8704_row3_col0,#T_b8704_row4_col0,#T_b8704_row8_col0,#T_b8704_row10_col0,#T_b8704_row11_col0,#T_b8704_row14_col0{\n",
       "            background-color:  #3b4cc0;\n",
       "            color:  #f1f1f1;\n",
       "        }#T_b8704_row5_col0{\n",
       "            background-color:  #ccd9ed;\n",
       "            color:  #000000;\n",
       "        }#T_b8704_row6_col0{\n",
       "            background-color:  #3c4ec2;\n",
       "            color:  #f1f1f1;\n",
       "        }#T_b8704_row7_col0{\n",
       "            background-color:  #5673e0;\n",
       "            color:  #000000;\n",
       "        }#T_b8704_row9_col0{\n",
       "            background-color:  #b40426;\n",
       "            color:  #f1f1f1;\n",
       "        }#T_b8704_row12_col0{\n",
       "            background-color:  #5b7ae5;\n",
       "            color:  #000000;\n",
       "        }#T_b8704_row13_col0{\n",
       "            background-color:  #e9d5cb;\n",
       "            color:  #000000;\n",
       "        }#T_b8704_row15_col0,#T_b8704_row16_col0,#T_b8704_row17_col0,#T_b8704_row19_col0{\n",
       "            background-color:  #92b4fe;\n",
       "            color:  #000000;\n",
       "        }#T_b8704_row18_col0{\n",
       "            background-color:  #f49a7b;\n",
       "            color:  #000000;\n",
       "        }#T_b8704_row20_col0{\n",
       "            background-color:  #f7ad90;\n",
       "            color:  #000000;\n",
       "        }#T_b8704_row21_col0{\n",
       "            background-color:  #6a8bef;\n",
       "            color:  #000000;\n",
       "        }</style><table id=\"T_b8704_\" ><thead>    <tr>        <th class=\"blank level0\" ></th>        <th class=\"col_heading level0 col0\" >0</th>    </tr></thead><tbody>\n",
       "                <tr>\n",
       "                        <th id=\"T_b8704_level0_row0\" class=\"row_heading level0 row0\" >total_images</th>\n",
       "                        <td id=\"T_b8704_row0_col0\" class=\"data row0 col0\" >0.000000</td>\n",
       "            </tr>\n",
       "            <tr>\n",
       "                        <th id=\"T_b8704_level0_row1\" class=\"row_heading level0 row1\" >last_price</th>\n",
       "                        <td id=\"T_b8704_row1_col0\" class=\"data row1 col0\" >0.000000</td>\n",
       "            </tr>\n",
       "            <tr>\n",
       "                        <th id=\"T_b8704_level0_row2\" class=\"row_heading level0 row2\" >total_area</th>\n",
       "                        <td id=\"T_b8704_row2_col0\" class=\"data row2 col0\" >0.000000</td>\n",
       "            </tr>\n",
       "            <tr>\n",
       "                        <th id=\"T_b8704_level0_row3\" class=\"row_heading level0 row3\" >first_day_exposition</th>\n",
       "                        <td id=\"T_b8704_row3_col0\" class=\"data row3 col0\" >0.000000</td>\n",
       "            </tr>\n",
       "            <tr>\n",
       "                        <th id=\"T_b8704_level0_row4\" class=\"row_heading level0 row4\" >rooms</th>\n",
       "                        <td id=\"T_b8704_row4_col0\" class=\"data row4 col0\" >0.000000</td>\n",
       "            </tr>\n",
       "            <tr>\n",
       "                        <th id=\"T_b8704_level0_row5\" class=\"row_heading level0 row5\" >ceiling_height</th>\n",
       "                        <td id=\"T_b8704_row5_col0\" class=\"data row5 col0\" >38.800000</td>\n",
       "            </tr>\n",
       "            <tr>\n",
       "                        <th id=\"T_b8704_level0_row6\" class=\"row_heading level0 row6\" >floors_total</th>\n",
       "                        <td id=\"T_b8704_row6_col0\" class=\"data row6 col0\" >0.400000</td>\n",
       "            </tr>\n",
       "            <tr>\n",
       "                        <th id=\"T_b8704_level0_row7\" class=\"row_heading level0 row7\" >living_area</th>\n",
       "                        <td id=\"T_b8704_row7_col0\" class=\"data row7 col0\" >8.000000</td>\n",
       "            </tr>\n",
       "            <tr>\n",
       "                        <th id=\"T_b8704_level0_row8\" class=\"row_heading level0 row8\" >floor</th>\n",
       "                        <td id=\"T_b8704_row8_col0\" class=\"data row8 col0\" >0.000000</td>\n",
       "            </tr>\n",
       "            <tr>\n",
       "                        <th id=\"T_b8704_level0_row9\" class=\"row_heading level0 row9\" >is_apartment</th>\n",
       "                        <td id=\"T_b8704_row9_col0\" class=\"data row9 col0\" >88.300000</td>\n",
       "            </tr>\n",
       "            <tr>\n",
       "                        <th id=\"T_b8704_level0_row10\" class=\"row_heading level0 row10\" >studio</th>\n",
       "                        <td id=\"T_b8704_row10_col0\" class=\"data row10 col0\" >0.000000</td>\n",
       "            </tr>\n",
       "            <tr>\n",
       "                        <th id=\"T_b8704_level0_row11\" class=\"row_heading level0 row11\" >open_plan</th>\n",
       "                        <td id=\"T_b8704_row11_col0\" class=\"data row11 col0\" >0.000000</td>\n",
       "            </tr>\n",
       "            <tr>\n",
       "                        <th id=\"T_b8704_level0_row12\" class=\"row_heading level0 row12\" >kitchen_area</th>\n",
       "                        <td id=\"T_b8704_row12_col0\" class=\"data row12 col0\" >9.600000</td>\n",
       "            </tr>\n",
       "            <tr>\n",
       "                        <th id=\"T_b8704_level0_row13\" class=\"row_heading level0 row13\" >balcony</th>\n",
       "                        <td id=\"T_b8704_row13_col0\" class=\"data row13 col0\" >48.600000</td>\n",
       "            </tr>\n",
       "            <tr>\n",
       "                        <th id=\"T_b8704_level0_row14\" class=\"row_heading level0 row14\" >locality_name</th>\n",
       "                        <td id=\"T_b8704_row14_col0\" class=\"data row14 col0\" >0.200000</td>\n",
       "            </tr>\n",
       "            <tr>\n",
       "                        <th id=\"T_b8704_level0_row15\" class=\"row_heading level0 row15\" >airports_nearest</th>\n",
       "                        <td id=\"T_b8704_row15_col0\" class=\"data row15 col0\" >23.400000</td>\n",
       "            </tr>\n",
       "            <tr>\n",
       "                        <th id=\"T_b8704_level0_row16\" class=\"row_heading level0 row16\" >cityCenters_nearest</th>\n",
       "                        <td id=\"T_b8704_row16_col0\" class=\"data row16 col0\" >23.300000</td>\n",
       "            </tr>\n",
       "            <tr>\n",
       "                        <th id=\"T_b8704_level0_row17\" class=\"row_heading level0 row17\" >parks_around3000</th>\n",
       "                        <td id=\"T_b8704_row17_col0\" class=\"data row17 col0\" >23.300000</td>\n",
       "            </tr>\n",
       "            <tr>\n",
       "                        <th id=\"T_b8704_level0_row18\" class=\"row_heading level0 row18\" >parks_nearest</th>\n",
       "                        <td id=\"T_b8704_row18_col0\" class=\"data row18 col0\" >65.900000</td>\n",
       "            </tr>\n",
       "            <tr>\n",
       "                        <th id=\"T_b8704_level0_row19\" class=\"row_heading level0 row19\" >ponds_around3000</th>\n",
       "                        <td id=\"T_b8704_row19_col0\" class=\"data row19 col0\" >23.300000</td>\n",
       "            </tr>\n",
       "            <tr>\n",
       "                        <th id=\"T_b8704_level0_row20\" class=\"row_heading level0 row20\" >ponds_nearest</th>\n",
       "                        <td id=\"T_b8704_row20_col0\" class=\"data row20 col0\" >61.600000</td>\n",
       "            </tr>\n",
       "            <tr>\n",
       "                        <th id=\"T_b8704_level0_row21\" class=\"row_heading level0 row21\" >days_exposition</th>\n",
       "                        <td id=\"T_b8704_row21_col0\" class=\"data row21 col0\" >13.400000</td>\n",
       "            </tr>\n",
       "    </tbody></table>"
      ],
      "text/plain": [
       "<pandas.io.formats.style.Styler at 0x7f963e4e7af0>"
      ]
     },
     "execution_count": 5,
     "metadata": {},
     "output_type": "execute_result"
    }
   ],
   "source": [
    "pd.DataFrame(round(data.isna().mean()*100,1)).style.background_gradient('coolwarm')"
   ]
  },
  {
   "cell_type": "markdown",
   "metadata": {},
   "source": [
    "##### Заполним пропущенные значения там, где это возможно. "
   ]
  },
  {
   "cell_type": "markdown",
   "metadata": {},
   "source": [
    "Рассмотрим столбец \"is_apartment\". Скорее всего продавец оставлял это поле пустым в том случае, если квартира не является апартаментами. Поэтому можно заменить все пропуски на \"False\"."
   ]
  },
  {
   "cell_type": "code",
   "execution_count": 6,
   "metadata": {},
   "outputs": [],
   "source": [
    "data['is_apartment'] = data['is_apartment'].fillna(False) #заменяем пропущенные значения"
   ]
  },
  {
   "cell_type": "markdown",
   "metadata": {},
   "source": [
    "Рассмотрим столбец \"balcony\". Если продавец не указал число балконов, то, скорее всего, в его квартире их нет. Такие пропуски правильно заменить на 0."
   ]
  },
  {
   "cell_type": "code",
   "execution_count": 7,
   "metadata": {},
   "outputs": [],
   "source": [
    "data['balcony'] = data['balcony'].fillna(0) #заменяем значения"
   ]
  },
  {
   "cell_type": "markdown",
   "metadata": {},
   "source": [
    "Столбец \"kitchen_area\". Заменим пропуски медианным значением площади кухни квартир, с таким же количество комнат."
   ]
  },
  {
   "cell_type": "code",
   "execution_count": 8,
   "metadata": {},
   "outputs": [
    {
     "name": "stderr",
     "output_type": "stream",
     "text": [
      "/opt/conda/lib/python3.9/site-packages/numpy/lib/nanfunctions.py:1117: RuntimeWarning: Mean of empty slice\n",
      "  return np.nanmean(a, axis, out=out, keepdims=keepdims)\n"
     ]
    }
   ],
   "source": [
    "for z in data['rooms'].unique(): #перебираем уникальное значение количества комнат\n",
    "    #отбираем строки, где в площади кухни есть пропуски и количество комнат совпадает\n",
    "    data.loc[(data['rooms'] == z) & (data['kitchen_area'].isna()), 'kitchen_area'] = \\\n",
    "    data.loc[(data['rooms'] == z), 'kitchen_area'].median() #записываем в них медиану площади кухни с таким же количеством комнат\n",
    "\n",
    "pd.set_option('mode.chained_assignment', None)"
   ]
  },
  {
   "cell_type": "markdown",
   "metadata": {},
   "source": [
    "Теперь в kitchen_area 23502 заполненных значения.\n",
    "Так же сделаем и для столбца \"living_area\""
   ]
  },
  {
   "cell_type": "code",
   "execution_count": 9,
   "metadata": {},
   "outputs": [],
   "source": [
    "for z in data['rooms'].unique(): #перебираем уникальное значение количества комнат\n",
    "    #отбираем строки, где в жилой есть пропуски и количество комнат совпадает\n",
    "    data.loc[(data['rooms'] == z) & (data['living_area'].isna()), 'living_area'] = \\\n",
    "    data.loc[(data['rooms'] == z), 'living_area'].median() #записываем в них медиану жилой площади с таким же количеством комнат"
   ]
  },
  {
   "cell_type": "markdown",
   "metadata": {},
   "source": [
    "Еще раз рассмотрим, в каких столбцах остались пропуски:\n",
    "\n",
    "Самые большие пропуски в столбцах \"parks_nearest\" и \"ponds_nearest\""
   ]
  },
  {
   "cell_type": "code",
   "execution_count": 10,
   "metadata": {},
   "outputs": [
    {
     "data": {
      "text/plain": [
       "total_images                0\n",
       "last_price                  0\n",
       "total_area                  0\n",
       "first_day_exposition        0\n",
       "rooms                       0\n",
       "ceiling_height           9195\n",
       "floors_total               86\n",
       "living_area                 0\n",
       "floor                       0\n",
       "is_apartment                0\n",
       "studio                      0\n",
       "open_plan                   0\n",
       "kitchen_area              197\n",
       "balcony                     0\n",
       "locality_name              49\n",
       "airports_nearest         5542\n",
       "cityCenters_nearest      5519\n",
       "parks_around3000         5518\n",
       "parks_nearest           15620\n",
       "ponds_around3000         5518\n",
       "ponds_nearest           14589\n",
       "days_exposition          3181\n",
       "dtype: int64"
      ]
     },
     "execution_count": 10,
     "metadata": {},
     "output_type": "execute_result"
    }
   ],
   "source": [
    "data.isna().sum()"
   ]
  },
  {
   "cell_type": "markdown",
   "metadata": {},
   "source": [
    "Заменим пропуски в столбцах \"parks_around3000\" и \"ponds_around3000\" на нули. Скорее всего, если парков и водоемов нет в радиусе 3 км - оставляли пропуски."
   ]
  },
  {
   "cell_type": "code",
   "execution_count": 11,
   "metadata": {},
   "outputs": [],
   "source": [
    "data['parks_around3000'] = data['parks_around3000'].fillna(0)\n",
    "data['ponds_around3000'] = data['ponds_around3000'].fillna(0)"
   ]
  },
  {
   "cell_type": "markdown",
   "metadata": {},
   "source": [
    "Посмотрим на столбец \"airports_nearest\". Медиана - 26726 км, среднее - 28793 км. Заменим пропуски медианным значением и посмотрим, насколько изменится среднее и медиана. "
   ]
  },
  {
   "cell_type": "code",
   "execution_count": 12,
   "metadata": {},
   "outputs": [
    {
     "data": {
      "text/plain": [
       "count    23699.000000\n",
       "mean     28310.148023\n",
       "std      11090.330161\n",
       "min          0.000000\n",
       "25%      21183.000000\n",
       "50%      26726.000000\n",
       "75%      34327.000000\n",
       "max      84869.000000\n",
       "Name: airports_nearest, dtype: float64"
      ]
     },
     "execution_count": 12,
     "metadata": {},
     "output_type": "execute_result"
    }
   ],
   "source": [
    "data['airports_nearest'] = data['airports_nearest'].fillna(26726)\n",
    "data['airports_nearest'].describe()"
   ]
  },
  {
   "cell_type": "markdown",
   "metadata": {},
   "source": [
    "Медиана и среднее изменились совсем немного, поэтому эту замену оставляем."
   ]
  },
  {
   "cell_type": "markdown",
   "metadata": {},
   "source": [
    "Что касается других столбцов с пропусками:\n",
    "\n",
    "    - \"ceiling_height\" - пропуски будут обработаны в разделе \"дубликаты и необычные значения\" после обработки аномалий и нахождения медианы\n",
    "    - \"kitchen_area\" - осталось 197 пропусков, значит нужно подробнее рассматривать столбцы \"rooms\", \"living_area\"\n",
    "    - \"locality_name\" - прпоуски в названиях населенного пункта невозможно заменить на что-то \"среднее\" или \"медианное\", поэтому пока оставим как есть. Но 49 пропусков значительно не повлияют на выборку.\n",
    "    \n",
    "    \n",
    "    - \"cityCenters_nearest\", \"parks_nearest\", \"ponds_nearest\" - значения в столбцах зависят от географического расположения квартиры, значения представлены в метрах - использовать среднее или медианное значения для заполнения пропусков будет неправильным\n",
    "    - 'days_exposition' - так же не представляется возможным заменить пропуски на среднее или медиану, так как это крайне индивидуальное значение для каждой квартиры"
   ]
  },
  {
   "cell_type": "markdown",
   "metadata": {},
   "source": [
    "    Причины, по которым могли возникнуть пропуски: \n",
    "1. продавец пропустил заполнение ячейки, так как значение равно нулю. Например, в квартире нет балконов - ячейку пропускают.\n",
    "2. продавец не знает такую информацию о своей квартире, например, высоту потолков\n",
    "3. в столбцах \"parks_around3000\" и \"ponds_around3000\" одинаковое количество пропущенных значений - 5518. Можно подозревать технический сбой, так как эти данные заполняет не продавец.\n",
    "4. Возможно, пропущенное значение в \"days_exposition\" - означает, что объявление все еще находится на сайте и не закрыто."
   ]
  },
  {
   "cell_type": "markdown",
   "metadata": {},
   "source": [
    "#### Типы данных"
   ]
  },
  {
   "cell_type": "markdown",
   "metadata": {},
   "source": [
    "##### Преобразуем типы данных некоторых столбцов.\n",
    "Это нужно сделать для дальнейших вычислений и анализа. \n",
    "Поменяем тип данных для колонки \"first_day_exposition\" на datetime"
   ]
  },
  {
   "cell_type": "code",
   "execution_count": 13,
   "metadata": {},
   "outputs": [],
   "source": [
    "data['first_day_exposition'] = pd.to_datetime(data['first_day_exposition'], format='%Y-%m-%dT%H:%M:%S')"
   ]
  },
  {
   "cell_type": "markdown",
   "metadata": {},
   "source": [
    "Поменяем тип данных в столбце \"balcony\" - число балконов может быть только целым числом."
   ]
  },
  {
   "cell_type": "code",
   "execution_count": 14,
   "metadata": {},
   "outputs": [],
   "source": [
    "data['balcony'] = data['balcony'].astype('Int64')"
   ]
  },
  {
   "cell_type": "markdown",
   "metadata": {},
   "source": [
    "Заменим тип данных в \"parks_around3000\" и \"ponds_around3000\" на целое число. Число парков и водоемов может быть только целым числом."
   ]
  },
  {
   "cell_type": "code",
   "execution_count": 15,
   "metadata": {},
   "outputs": [],
   "source": [
    "data['parks_around3000'] = data['parks_around3000'].astype('Int64')\n",
    "data['ponds_around3000'] = data['ponds_around3000'].astype('Int64')"
   ]
  },
  {
   "cell_type": "markdown",
   "metadata": {},
   "source": [
    "Также заменим тип данных в столбце с количеством этажей в доме."
   ]
  },
  {
   "cell_type": "code",
   "execution_count": 16,
   "metadata": {},
   "outputs": [],
   "source": [
    "data['floors_total'] = data['floors_total'].astype('Int64')"
   ]
  },
  {
   "cell_type": "markdown",
   "metadata": {},
   "source": [
    "#### Дубликаты и необычные значения"
   ]
  },
  {
   "cell_type": "markdown",
   "metadata": {},
   "source": [
    "Посмотрим на явные дубликаты в таблице data."
   ]
  },
  {
   "cell_type": "code",
   "execution_count": 17,
   "metadata": {},
   "outputs": [
    {
     "data": {
      "text/plain": [
       "0"
      ]
     },
     "execution_count": 17,
     "metadata": {},
     "output_type": "execute_result"
    }
   ],
   "source": [
    "data.duplicated().sum()"
   ]
  },
  {
   "cell_type": "markdown",
   "metadata": {},
   "source": [
    "Изучим уникальные значения в столбце с названиями и устраните неявные дубликаты. Например, «поселок Рябово» и «поселок городского типа Рябово», «поселок Тельмана» и «посёлок Тельмана» — это обозначения одних и тех же населённых пунктов. "
   ]
  },
  {
   "cell_type": "code",
   "execution_count": 18,
   "metadata": {},
   "outputs": [
    {
     "data": {
      "text/plain": [
       "array(['Бокситогорск', 'Волосово', 'Волхов', 'Всеволожск', 'Выборг',\n",
       "       'Высоцк', 'Гатчина', 'Зеленогорск', 'Ивангород', 'Каменногорск',\n",
       "       'Кингисепп', 'Кириши', 'Кировск', 'Колпино', 'Коммунар',\n",
       "       'Красное Село', 'Кронштадт', 'Кудрово', 'Лодейное Поле',\n",
       "       'Ломоносов', 'Луга', 'Любань', 'Мурино', 'Никольское',\n",
       "       'Новая Ладога', 'Отрадное', 'Павловск', 'Петергоф', 'Пикалёво',\n",
       "       'Подпорожье', 'Приморск', 'Приозерск', 'Пушкин', 'Санкт-Петербург',\n",
       "       'Светогорск', 'Сертолово', 'Сестрорецк', 'Сланцы', 'Сосновый Бор',\n",
       "       'Сясьстрой', 'Тихвин', 'Тосно', 'Шлиссельбург',\n",
       "       'городской поселок Большая Ижора', 'городской поселок Янино-1',\n",
       "       'городской посёлок Будогощь', 'городской посёлок Виллози',\n",
       "       'городской посёлок Лесогорский', 'городской посёлок Мга',\n",
       "       'городской посёлок Назия', 'городской посёлок Новоселье',\n",
       "       'городской посёлок Павлово', 'городской посёлок Рощино',\n",
       "       'городской посёлок Свирьстрой', 'городской посёлок Советский',\n",
       "       'городской посёлок Фёдоровское', 'городской посёлок Янино-1',\n",
       "       'деревня Агалатово', 'деревня Аро', 'деревня Батово',\n",
       "       'деревня Бегуницы', 'деревня Белогорка', 'деревня Большая Вруда',\n",
       "       'деревня Большая Пустомержа', 'деревня Большие Колпаны',\n",
       "       'деревня Большое Рейзино', 'деревня Большой Сабск', 'деревня Бор',\n",
       "       'деревня Борисова Грива', 'деревня Ваганово', 'деревня Вартемяги',\n",
       "       'деревня Вахнова Кара', 'деревня Выскатка', 'деревня Гарболово',\n",
       "       'деревня Глинка', 'деревня Горбунки', 'деревня Гостилицы',\n",
       "       'деревня Заклинье', 'деревня Заневка', 'деревня Зимитицы',\n",
       "       'деревня Извара', 'деревня Иссад', 'деревня Калитино',\n",
       "       'деревня Кальтино', 'деревня Камышовка', 'деревня Каськово',\n",
       "       'деревня Келози', 'деревня Кипень', 'деревня Кисельня',\n",
       "       'деревня Колтуши', 'деревня Коркино', 'деревня Котлы',\n",
       "       'деревня Кривко', 'деревня Кудрово', 'деревня Кузьмолово',\n",
       "       'деревня Курковицы', 'деревня Куровицы', 'деревня Куттузи',\n",
       "       'деревня Лаврики', 'деревня Лаголово', 'деревня Лампово',\n",
       "       'деревня Лесколово', 'деревня Лопухинка', 'деревня Лупполово',\n",
       "       'деревня Малая Романовка', 'деревня Малое Верево',\n",
       "       'деревня Малое Карлино', 'деревня Малые Колпаны',\n",
       "       'деревня Мануйлово', 'деревня Меньково', 'деревня Мины',\n",
       "       'деревня Мистолово', 'деревня Ненимяки', 'деревня Нижние Осельки',\n",
       "       'деревня Нижняя', 'деревня Низино', 'деревня Новое Девяткино',\n",
       "       'деревня Новолисино', 'деревня Нурма', 'деревня Оржицы',\n",
       "       'деревня Парицы', 'деревня Пельгора', 'деревня Пеники',\n",
       "       'деревня Пижма', 'деревня Пикколово', 'деревня Пудомяги',\n",
       "       'деревня Пустынка', 'деревня Пчева', 'деревня Рабитицы',\n",
       "       'деревня Разбегаево', 'деревня Раздолье', 'деревня Разметелево',\n",
       "       'деревня Рапполово', 'деревня Реброво', 'деревня Русско',\n",
       "       'деревня Сижно', 'деревня Снегирёвка', 'деревня Старая',\n",
       "       'деревня Старая Пустошь', 'деревня Старое Хинколово',\n",
       "       'деревня Старополье', 'деревня Старосиверская',\n",
       "       'деревня Старые Бегуницы', 'деревня Суоранда',\n",
       "       'деревня Сяськелево', 'деревня Тарасово', 'деревня Терпилицы',\n",
       "       'деревня Тихковицы', 'деревня Тойворово', 'деревня Торосово',\n",
       "       'деревня Торошковичи', 'деревня Трубников Бор',\n",
       "       'деревня Фалилеево', 'деревня Фёдоровское', 'деревня Хапо-Ое',\n",
       "       'деревня Хязельки', 'деревня Чудской Бор', 'деревня Шпаньково',\n",
       "       'деревня Щеглово', 'деревня Юкки', 'деревня Ялгино',\n",
       "       'деревня Яльгелево', 'деревня Ям-Тесово',\n",
       "       'коттеджный поселок Кивеннапа Север', 'коттеджный поселок Счастье',\n",
       "       'коттеджный посёлок Лесное', 'поселок Аннино', 'поселок Барышево',\n",
       "       'поселок Бугры', 'поселок Возрождение', 'поселок Войсковицы',\n",
       "       'поселок Володарское', 'поселок Гаврилово', 'поселок Гарболово',\n",
       "       'поселок Гладкое', 'поселок Глажево', 'поселок Глебычево',\n",
       "       'поселок Гончарово', 'поселок Громово', 'поселок Дружноселье',\n",
       "       'поселок Елизаветино', 'поселок Жилгородок', 'поселок Жилпосёлок',\n",
       "       'поселок Житково', 'поселок Заводской', 'поселок Запорожское',\n",
       "       'поселок Зимитицы', 'поселок Ильичёво', 'поселок Калитино',\n",
       "       'поселок Каложицы', 'поселок Кингисеппский', 'поселок Кирпичное',\n",
       "       'поселок Кобралово', 'поселок Кобринское', 'поселок Коммунары',\n",
       "       'поселок Коробицыно', 'поселок Котельский',\n",
       "       'поселок Красная Долина', 'поселок Красносельское',\n",
       "       'поселок Лесное', 'поселок Лисий Нос', 'поселок Лукаши',\n",
       "       'поселок Любань', 'поселок Мельниково', 'поселок Мичуринское',\n",
       "       'поселок Молодцово', 'поселок Мурино', 'поселок Новый Свет',\n",
       "       'поселок Новый Учхоз', 'поселок Оредеж',\n",
       "       'поселок Пансионат Зелёный Бор', 'поселок Первомайское',\n",
       "       'поселок Перово', 'поселок Петровское', 'поселок Победа',\n",
       "       'поселок Поляны', 'поселок Почап', 'поселок Починок',\n",
       "       'поселок Пушное', 'поселок Пчевжа', 'поселок Рабитицы',\n",
       "       'поселок Романовка', 'поселок Ромашки', 'поселок Рябово',\n",
       "       'поселок Севастьяново', 'поселок Селезнёво', 'поселок Сельцо',\n",
       "       'поселок Семиозерье', 'поселок Семрино', 'поселок Серебрянский',\n",
       "       'поселок Совхозный', 'поселок Старая Малукса',\n",
       "       'поселок Стеклянный', 'поселок Сумино', 'поселок Суходолье',\n",
       "       'поселок Тельмана', 'поселок Терволово', 'поселок Торковичи',\n",
       "       'поселок Тёсово-4', 'поселок Углово', 'поселок Усть-Луга',\n",
       "       'поселок Ушаки', 'поселок Цвелодубово', 'поселок Цвылёво',\n",
       "       'поселок городского типа Большая Ижора',\n",
       "       'поселок городского типа Вырица',\n",
       "       'поселок городского типа Дружная Горка',\n",
       "       'поселок городского типа Дубровка',\n",
       "       'поселок городского типа Ефимовский',\n",
       "       'поселок городского типа Кондратьево',\n",
       "       'поселок городского типа Красный Бор',\n",
       "       'поселок городского типа Кузьмоловский',\n",
       "       'поселок городского типа Лебяжье',\n",
       "       'поселок городского типа Лесогорский',\n",
       "       'поселок городского типа Назия',\n",
       "       'поселок городского типа Никольский',\n",
       "       'поселок городского типа Приладожский',\n",
       "       'поселок городского типа Рахья', 'поселок городского типа Рощино',\n",
       "       'поселок городского типа Рябово',\n",
       "       'поселок городского типа Синявино',\n",
       "       'поселок городского типа Советский',\n",
       "       'поселок городского типа Токсово',\n",
       "       'поселок городского типа Форносово',\n",
       "       'поселок городского типа имени Свердлова',\n",
       "       'поселок станции Вещево', 'поселок станции Корнево',\n",
       "       'поселок станции Лужайка', 'поселок станции Приветнинское',\n",
       "       'посёлок Александровская', 'посёлок Алексеевка', 'посёлок Аннино',\n",
       "       'посёлок Белоостров', 'посёлок Бугры', 'посёлок Возрождение',\n",
       "       'посёлок Войскорово', 'посёлок Высокоключевой',\n",
       "       'посёлок Гаврилово', 'посёлок Дзержинского', 'посёлок Жилгородок',\n",
       "       'посёлок Ильичёво', 'посёлок Кикерино', 'посёлок Кобралово',\n",
       "       'посёлок Коробицыно', 'посёлок Левашово', 'посёлок Ленинское',\n",
       "       'посёлок Лисий Нос', 'посёлок Мельниково', 'посёлок Металлострой',\n",
       "       'посёлок Мичуринское', 'посёлок Молодёжное', 'посёлок Мурино',\n",
       "       'посёлок Мыза-Ивановка', 'посёлок Новогорелово',\n",
       "       'посёлок Новый Свет', 'посёлок Пансионат Зелёный Бор',\n",
       "       'посёлок Парголово', 'посёлок Перово', 'посёлок Песочный',\n",
       "       'посёлок Петро-Славянка', 'посёлок Петровское',\n",
       "       'посёлок Платформа 69-й километр', 'посёлок Плодовое',\n",
       "       'посёлок Плоское', 'посёлок Победа', 'посёлок Поляны',\n",
       "       'посёлок Понтонный', 'посёлок Пригородный', 'посёлок Пудость',\n",
       "       'посёлок Репино', 'посёлок Ропша', 'посёлок Сапёрное',\n",
       "       'посёлок Сапёрный', 'посёлок Сосново', 'посёлок Старая Малукса',\n",
       "       'посёлок Стеклянный', 'посёлок Стрельна', 'посёлок Суйда',\n",
       "       'посёлок Сумино', 'посёлок Тельмана', 'посёлок Терволово',\n",
       "       'посёлок Торфяное', 'посёлок Усть-Ижора', 'посёлок Усть-Луга',\n",
       "       'посёлок Форт Красная Горка', 'посёлок Шугозеро', 'посёлок Шушары',\n",
       "       'посёлок Щеглово', 'посёлок городского типа Важины',\n",
       "       'посёлок городского типа Вознесенье',\n",
       "       'посёлок городского типа Вырица',\n",
       "       'посёлок городского типа Красный Бор',\n",
       "       'посёлок городского типа Кузнечное',\n",
       "       'посёлок городского типа Кузьмоловский',\n",
       "       'посёлок городского типа Лебяжье', 'посёлок городского типа Мга',\n",
       "       'посёлок городского типа Павлово',\n",
       "       'посёлок городского типа Рощино', 'посёлок городского типа Рябово',\n",
       "       'посёлок городского типа Сиверский',\n",
       "       'посёлок городского типа Тайцы', 'посёлок городского типа Токсово',\n",
       "       'посёлок городского типа Ульяновка',\n",
       "       'посёлок городского типа Форносово',\n",
       "       'посёлок городского типа имени Морозова',\n",
       "       'посёлок городского типа имени Свердлова',\n",
       "       'посёлок при железнодорожной станции Вещево',\n",
       "       'посёлок при железнодорожной станции Приветнинское',\n",
       "       'посёлок станции Громово', 'посёлок станции Свирь',\n",
       "       'садоводческое некоммерческое товарищество Лесная Поляна',\n",
       "       'садовое товарищество Новая Ропша',\n",
       "       'садовое товарищество Приладожский', 'садовое товарищество Рахья',\n",
       "       'садовое товарищество Садко', 'село Копорье', 'село Никольское',\n",
       "       'село Павлово', 'село Паша', 'село Путилово', 'село Рождествено',\n",
       "       'село Русско-Высоцкое', 'село Старая Ладога', 'село Шум', nan],\n",
       "      dtype=object)"
      ]
     },
     "execution_count": 18,
     "metadata": {},
     "output_type": "execute_result"
    }
   ],
   "source": [
    "data['locality_name'].sort_values().unique() \n",
    "#посмотрим все отсортированные по алфавиту уникальные значения названий населенных пунктов"
   ]
  },
  {
   "cell_type": "markdown",
   "metadata": {},
   "source": [
    "Заменим букву \"ё\" на букву \"е\", \"поселок городского типа\", \"городской поселок\" и т.д. на пропуск."
   ]
  },
  {
   "cell_type": "code",
   "execution_count": 19,
   "metadata": {},
   "outputs": [],
   "source": [
    "data['locality_name'] = data['locality_name'].str.lower() #приводим к нижнему регистру\n",
    "data['locality_name'] = data['locality_name'].str.replace('ё', \"е\") #заменяем букву \"ё\" на \"е\"\n",
    "data['locality_name'] = data['locality_name'].str.replace('поселок ', \"\")\n",
    "data['locality_name'] = data['locality_name'].str.replace('городской ', \"\")\n",
    "data['locality_name'] = data['locality_name'].str.replace('садоводческое некоммерческое товарищество ', \"\")\n",
    "data['locality_name'] = data['locality_name'].str.replace('садовое товарищество ', \"\")\n",
    "data['locality_name'] = data['locality_name'].str.replace('коттеджный ', \"\")\n",
    "data['locality_name'] = data['locality_name'].str.replace('садовое товарищество ', \"\")\n",
    "data['locality_name'] = data['locality_name'].str.replace('городского типа ', \"\")\n",
    "data['locality_name'] = data['locality_name'].str.replace('деревня ', \"\")\n",
    "data['locality_name'] = data['locality_name'].str.replace('село ', \"\")\n",
    "data['locality_name'] = data['locality_name'].str.replace('жилгородок', \"жил\")\n",
    "data['locality_name'] = data['locality_name'].str.replace('при железнодорожной станции ', \"\")\n",
    "data['locality_name'] = data['locality_name'].str.replace('станции ', \"\")"
   ]
  },
  {
   "cell_type": "code",
   "execution_count": 20,
   "metadata": {},
   "outputs": [
    {
     "data": {
      "text/plain": [
       "306"
      ]
     },
     "execution_count": 20,
     "metadata": {},
     "output_type": "execute_result"
    }
   ],
   "source": [
    "len(data['locality_name'].sort_values().unique()) # посмотрим, сколько уникальных значений в столбце теперь"
   ]
  },
  {
   "cell_type": "markdown",
   "metadata": {},
   "source": [
    "Теперь уникальных значений всего 306."
   ]
  },
  {
   "cell_type": "markdown",
   "metadata": {},
   "source": [
    "Посмотрим снова все уникальные значения столбца"
   ]
  },
  {
   "cell_type": "code",
   "execution_count": 21,
   "metadata": {
    "scrolled": false
   },
   "outputs": [
    {
     "data": {
      "text/plain": [
       "array(['агалатово', 'александровская', 'алексеевка', 'аннино', 'аро',\n",
       "       'барышево', 'батово', 'бегуницы', 'белогорка', 'белоостров',\n",
       "       'бокситогорск', 'большая вруда', 'большая ижора',\n",
       "       'большая пустомержа', 'большие колпаны', 'большое рейзино',\n",
       "       'большой сабск', 'бор', 'борисова грива', 'бугры', 'будогощь',\n",
       "       'ваганово', 'важины', 'вартемяги', 'вахнова кара', 'вещево',\n",
       "       'виллози', 'вознесенье', 'возрождение', 'войсковицы', 'войскорово',\n",
       "       'володарское', 'волосово', 'волхов', 'всеволожск', 'выборг',\n",
       "       'вырица', 'выскатка', 'высокоключевой', 'высоцк', 'гаврилово',\n",
       "       'гарболово', 'гатчина', 'гладкое', 'глажево', 'глебычево',\n",
       "       'глинка', 'гончарово', 'горбунки', 'гостилицы', 'громово',\n",
       "       'дзержинского', 'дружная горка', 'дружноселье', 'дубровка',\n",
       "       'елизаветино', 'ефимовский', 'жил', 'жилпоселок', 'житково',\n",
       "       'заводской', 'заклинье', 'заневка', 'запорожское', 'зеленогорск',\n",
       "       'зимитицы', 'ивангород', 'извара', 'ильичево', 'имени морозова',\n",
       "       'имени свердлова', 'иссад', 'калитино', 'каложицы', 'кальтино',\n",
       "       'каменногорск', 'камышовка', 'каськово', 'келози',\n",
       "       'кивеннапа север', 'кикерино', 'кингисепп', 'кингисеппский',\n",
       "       'кипень', 'кириши', 'кировск', 'кирпичное', 'кисельня',\n",
       "       'кобралово', 'кобринское', 'колпино', 'колтуши', 'коммунар',\n",
       "       'коммунары', 'кондратьево', 'копорье', 'коркино', 'корнево',\n",
       "       'коробицыно', 'котельский', 'котлы', 'красная долина',\n",
       "       'красное село', 'красносельское', 'красный бор', 'кривко',\n",
       "       'кронштадт', 'кудрово', 'кузнечное', 'кузьмолово', 'кузьмоловский',\n",
       "       'курковицы', 'куровицы', 'куттузи', 'лаврики', 'лаголово',\n",
       "       'лампово', 'лебяжье', 'левашово', 'ленинское', 'лесколово',\n",
       "       'лесная поляна', 'лесное', 'лесогорский', 'лисий нос',\n",
       "       'лодейное поле', 'ломоносов', 'лопухинка', 'луга', 'лужайка',\n",
       "       'лукаши', 'лупполово', 'любань', 'малая романовка', 'малое верево',\n",
       "       'малое карлино', 'малые колпаны', 'мануйлово', 'мга', 'мельниково',\n",
       "       'меньково', 'металлострой', 'мины', 'мистолово', 'мичуринское',\n",
       "       'молодежное', 'молодцово', 'мурино', 'мыза-ивановка', 'назия',\n",
       "       'ненимяки', 'нижние осельки', 'нижняя', 'низино', 'никольский',\n",
       "       'никольское', 'новая ладога', 'новая ропша', 'новогорелово',\n",
       "       'новое девяткино', 'новолисино', 'новоселье', 'новый свет',\n",
       "       'новый учхоз', 'нурма', 'оредеж', 'оржицы', 'отрадное', 'павлово',\n",
       "       'павловск', 'пансионат зеленый бор', 'парголово', 'парицы', 'паша',\n",
       "       'пельгора', 'пеники', 'первомайское', 'перово', 'песочный',\n",
       "       'петергоф', 'петро-славянка', 'петровское', 'пижма', 'пикалево',\n",
       "       'пикколово', 'платформа 69-й километр', 'плодовое', 'плоское',\n",
       "       'победа', 'подпорожье', 'поляны', 'понтонный', 'почап', 'починок',\n",
       "       'приветнинское', 'пригородный', 'приладожский', 'приморск',\n",
       "       'приозерск', 'пудомяги', 'пудость', 'пустынка', 'путилово',\n",
       "       'пушкин', 'пушное', 'пчева', 'пчевжа', 'рабитицы', 'разбегаево',\n",
       "       'раздолье', 'разметелево', 'рапполово', 'рахья', 'реброво',\n",
       "       'репино', 'рождествено', 'романовка', 'ромашки', 'ропша', 'рощино',\n",
       "       'русско', 'русско-высоцкое', 'рябово', 'садко', 'санкт-петербург',\n",
       "       'саперное', 'саперный', 'светогорск', 'свирь', 'свирьстрой',\n",
       "       'севастьяново', 'селезнево', 'сельцо', 'семиозерье', 'семрино',\n",
       "       'серебрянский', 'сертолово', 'сестрорецк', 'сиверский', 'сижно',\n",
       "       'синявино', 'сланцы', 'снегиревка', 'советский', 'совхозный',\n",
       "       'сосново', 'сосновый бор', 'старая', 'старая ладога',\n",
       "       'старая малукса', 'старая пустошь', 'старое хинколово',\n",
       "       'старополье', 'старосиверская', 'старые бегуницы', 'стеклянный',\n",
       "       'стрельна', 'суйда', 'сумино', 'суоранда', 'суходолье', 'счастье',\n",
       "       'сяськелево', 'сясьстрой', 'тайцы', 'тарасово', 'тельмана',\n",
       "       'терволово', 'терпилицы', 'тесово-4', 'тихвин', 'тихковицы',\n",
       "       'тойворово', 'токсово', 'торковичи', 'торосово', 'торошковичи',\n",
       "       'торфяное', 'тосно', 'трубников бор', 'углово', 'ульяновка',\n",
       "       'усть-ижора', 'усть-луга', 'ушаки', 'фалилеево', 'федоровское',\n",
       "       'форносово', 'форт красная горка', 'хапо-ое', 'хязельки',\n",
       "       'цвелодубово', 'цвылево', 'чудской бор', 'шлиссельбург',\n",
       "       'шпаньково', 'шугозеро', 'шум', 'шушары', 'щеглово', 'юкки',\n",
       "       'ялгино', 'яльгелево', 'ям-тесово', 'янино-1', nan], dtype=object)"
      ]
     },
     "execution_count": 21,
     "metadata": {},
     "output_type": "execute_result"
    }
   ],
   "source": [
    "data['locality_name'].sort_values().unique()"
   ]
  },
  {
   "cell_type": "markdown",
   "metadata": {},
   "source": [
    "Поработаем с другими столбцами.\n",
    "\n",
    "Столбец 'total_area': посмотрим на графике, есть ли выбивающиеся значения.\n",
    "\n",
    "Гистограмма похожа на распределение Пуассона. Посмотрим поближе значение, крайне отличающееся от остальных."
   ]
  },
  {
   "cell_type": "code",
   "execution_count": 22,
   "metadata": {},
   "outputs": [
    {
     "data": {
      "text/plain": [
       "<AxesSubplot:>"
      ]
     },
     "execution_count": 22,
     "metadata": {},
     "output_type": "execute_result"
    },
    {
     "data": {
      "image/png": "[encoded data removed]",
      "text/plain": [
       "<Figure size 432x288 with 1 Axes>"
      ]
     },
     "metadata": {
      "needs_background": "light"
     },
     "output_type": "display_data"
    }
   ],
   "source": [
    "data['total_area'].hist(bins=100) # гистограмма"
   ]
  },
  {
   "cell_type": "code",
   "execution_count": 23,
   "metadata": {},
   "outputs": [
    {
     "data": {
      "text/plain": [
       "<AxesSubplot:>"
      ]
     },
     "execution_count": 23,
     "metadata": {},
     "output_type": "execute_result"
    },
    {
     "data": {
      "image/png": "[encoded data removed]",
      "text/plain": [
       "<Figure size 432x288 with 1 Axes>"
      ]
     },
     "metadata": {
      "needs_background": "light"
     },
     "output_type": "display_data"
    }
   ],
   "source": [
    "data['total_area'].plot() #график"
   ]
  },
  {
   "cell_type": "code",
   "execution_count": 24,
   "metadata": {},
   "outputs": [
    {
     "data": {
      "text/plain": [
       "[Text(0.5, 1.0, 'Диаграмма размаха общей площади')]"
      ]
     },
     "execution_count": 24,
     "metadata": {},
     "output_type": "execute_result"
    },
    {
     "data": {
      "image/png": "[encoded data removed]",
      "text/plain": [
       "<Figure size 432x288 with 1 Axes>"
      ]
     },
     "metadata": {
      "needs_background": "light"
     },
     "output_type": "display_data"
    }
   ],
   "source": [
    "data.boxplot(column = 'total_area').set(    #строим диаграмму размаха\n",
    "title= 'Диаграмма размаха общей площади')\n",
    "#plt.ylim(0.1, 20)"
   ]
  },
  {
   "cell_type": "code",
   "execution_count": 25,
   "metadata": {},
   "outputs": [
    {
     "data": {
      "text/html": [
       "<div>\n",
       "<style scoped>\n",
       "    .dataframe tbody tr th:only-of-type {\n",
       "        vertical-align: middle;\n",
       "    }\n",
       "\n",
       "    .dataframe tbody tr th {\n",
       "        vertical-align: top;\n",
       "    }\n",
       "\n",
       "    .dataframe thead th {\n",
       "        text-align: right;\n",
       "    }\n",
       "</style>\n",
       "<table border=\"1\" class=\"dataframe\">\n",
       "  <thead>\n",
       "    <tr style=\"text-align: right;\">\n",
       "      <th></th>\n",
       "      <th>total_images</th>\n",
       "      <th>last_price</th>\n",
       "      <th>total_area</th>\n",
       "      <th>first_day_exposition</th>\n",
       "      <th>rooms</th>\n",
       "      <th>ceiling_height</th>\n",
       "      <th>floors_total</th>\n",
       "      <th>living_area</th>\n",
       "      <th>floor</th>\n",
       "      <th>is_apartment</th>\n",
       "      <th>...</th>\n",
       "      <th>kitchen_area</th>\n",
       "      <th>balcony</th>\n",
       "      <th>locality_name</th>\n",
       "      <th>airports_nearest</th>\n",
       "      <th>cityCenters_nearest</th>\n",
       "      <th>parks_around3000</th>\n",
       "      <th>parks_nearest</th>\n",
       "      <th>ponds_around3000</th>\n",
       "      <th>ponds_nearest</th>\n",
       "      <th>days_exposition</th>\n",
       "    </tr>\n",
       "  </thead>\n",
       "  <tbody>\n",
       "    <tr>\n",
       "      <th>3117</th>\n",
       "      <td>19</td>\n",
       "      <td>140000000.0</td>\n",
       "      <td>631.0</td>\n",
       "      <td>2019-03-30</td>\n",
       "      <td>7</td>\n",
       "      <td>NaN</td>\n",
       "      <td>5</td>\n",
       "      <td>145.0</td>\n",
       "      <td>5</td>\n",
       "      <td>False</td>\n",
       "      <td>...</td>\n",
       "      <td>60.0</td>\n",
       "      <td>0</td>\n",
       "      <td>санкт-петербург</td>\n",
       "      <td>25707.0</td>\n",
       "      <td>4972.0</td>\n",
       "      <td>0</td>\n",
       "      <td>NaN</td>\n",
       "      <td>2</td>\n",
       "      <td>210.0</td>\n",
       "      <td>NaN</td>\n",
       "    </tr>\n",
       "    <tr>\n",
       "      <th>12859</th>\n",
       "      <td>20</td>\n",
       "      <td>140000000.0</td>\n",
       "      <td>631.2</td>\n",
       "      <td>2019-04-09</td>\n",
       "      <td>7</td>\n",
       "      <td>3.9</td>\n",
       "      <td>4</td>\n",
       "      <td>322.3</td>\n",
       "      <td>4</td>\n",
       "      <td>False</td>\n",
       "      <td>...</td>\n",
       "      <td>19.5</td>\n",
       "      <td>1</td>\n",
       "      <td>санкт-петербург</td>\n",
       "      <td>25707.0</td>\n",
       "      <td>4972.0</td>\n",
       "      <td>0</td>\n",
       "      <td>NaN</td>\n",
       "      <td>2</td>\n",
       "      <td>210.0</td>\n",
       "      <td>NaN</td>\n",
       "    </tr>\n",
       "    <tr>\n",
       "      <th>15651</th>\n",
       "      <td>20</td>\n",
       "      <td>300000000.0</td>\n",
       "      <td>618.0</td>\n",
       "      <td>2017-12-18</td>\n",
       "      <td>7</td>\n",
       "      <td>3.4</td>\n",
       "      <td>7</td>\n",
       "      <td>258.0</td>\n",
       "      <td>5</td>\n",
       "      <td>False</td>\n",
       "      <td>...</td>\n",
       "      <td>70.0</td>\n",
       "      <td>0</td>\n",
       "      <td>санкт-петербург</td>\n",
       "      <td>32440.0</td>\n",
       "      <td>5297.0</td>\n",
       "      <td>0</td>\n",
       "      <td>NaN</td>\n",
       "      <td>2</td>\n",
       "      <td>198.0</td>\n",
       "      <td>111.0</td>\n",
       "    </tr>\n",
       "    <tr>\n",
       "      <th>19540</th>\n",
       "      <td>8</td>\n",
       "      <td>420000000.0</td>\n",
       "      <td>900.0</td>\n",
       "      <td>2017-12-06</td>\n",
       "      <td>12</td>\n",
       "      <td>2.8</td>\n",
       "      <td>25</td>\n",
       "      <td>409.7</td>\n",
       "      <td>25</td>\n",
       "      <td>False</td>\n",
       "      <td>...</td>\n",
       "      <td>112.0</td>\n",
       "      <td>0</td>\n",
       "      <td>санкт-петербург</td>\n",
       "      <td>30706.0</td>\n",
       "      <td>7877.0</td>\n",
       "      <td>0</td>\n",
       "      <td>NaN</td>\n",
       "      <td>2</td>\n",
       "      <td>318.0</td>\n",
       "      <td>106.0</td>\n",
       "    </tr>\n",
       "  </tbody>\n",
       "</table>\n",
       "<p>4 rows × 22 columns</p>\n",
       "</div>"
      ],
      "text/plain": [
       "       total_images   last_price  total_area first_day_exposition  rooms  \\\n",
       "3117             19  140000000.0       631.0           2019-03-30      7   \n",
       "12859            20  140000000.0       631.2           2019-04-09      7   \n",
       "15651            20  300000000.0       618.0           2017-12-18      7   \n",
       "19540             8  420000000.0       900.0           2017-12-06     12   \n",
       "\n",
       "       ceiling_height  floors_total  living_area  floor  is_apartment  ...  \\\n",
       "3117              NaN             5        145.0      5         False  ...   \n",
       "12859             3.9             4        322.3      4         False  ...   \n",
       "15651             3.4             7        258.0      5         False  ...   \n",
       "19540             2.8            25        409.7     25         False  ...   \n",
       "\n",
       "       kitchen_area  balcony    locality_name  airports_nearest  \\\n",
       "3117           60.0        0  санкт-петербург           25707.0   \n",
       "12859          19.5        1  санкт-петербург           25707.0   \n",
       "15651          70.0        0  санкт-петербург           32440.0   \n",
       "19540         112.0        0  санкт-петербург           30706.0   \n",
       "\n",
       "      cityCenters_nearest  parks_around3000  parks_nearest  ponds_around3000  \\\n",
       "3117               4972.0                 0            NaN                 2   \n",
       "12859              4972.0                 0            NaN                 2   \n",
       "15651              5297.0                 0            NaN                 2   \n",
       "19540              7877.0                 0            NaN                 2   \n",
       "\n",
       "       ponds_nearest  days_exposition  \n",
       "3117           210.0              NaN  \n",
       "12859          210.0              NaN  \n",
       "15651          198.0            111.0  \n",
       "19540          318.0            106.0  \n",
       "\n",
       "[4 rows x 22 columns]"
      ]
     },
     "execution_count": 25,
     "metadata": {},
     "output_type": "execute_result"
    }
   ],
   "source": [
    "data[data['total_area'] > 600] # посмотрим квартиры с площадью больше 600"
   ]
  },
  {
   "cell_type": "markdown",
   "metadata": {},
   "source": [
    "У всех квартир больше количество комнат, значит такая большая площадь total_area не удивительна."
   ]
  },
  {
   "cell_type": "markdown",
   "metadata": {},
   "source": [
    "Посмотрим на столбец rooms. Также, отдельно посмотрим на слишком отличающиеся значения."
   ]
  },
  {
   "cell_type": "code",
   "execution_count": 26,
   "metadata": {},
   "outputs": [
    {
     "data": {
      "text/plain": [
       "<AxesSubplot:>"
      ]
     },
     "execution_count": 26,
     "metadata": {},
     "output_type": "execute_result"
    },
    {
     "data": {
      "image/png": "[encoded data removed]",
      "text/plain": [
       "<Figure size 432x288 with 1 Axes>"
      ]
     },
     "metadata": {
      "needs_background": "light"
     },
     "output_type": "display_data"
    }
   ],
   "source": [
    "data['rooms'].plot() #график"
   ]
  },
  {
   "cell_type": "code",
   "execution_count": 27,
   "metadata": {},
   "outputs": [
    {
     "data": {
      "text/html": [
       "<div>\n",
       "<style scoped>\n",
       "    .dataframe tbody tr th:only-of-type {\n",
       "        vertical-align: middle;\n",
       "    }\n",
       "\n",
       "    .dataframe tbody tr th {\n",
       "        vertical-align: top;\n",
       "    }\n",
       "\n",
       "    .dataframe thead th {\n",
       "        text-align: right;\n",
       "    }\n",
       "</style>\n",
       "<table border=\"1\" class=\"dataframe\">\n",
       "  <thead>\n",
       "    <tr style=\"text-align: right;\">\n",
       "      <th></th>\n",
       "      <th>total_images</th>\n",
       "      <th>last_price</th>\n",
       "      <th>total_area</th>\n",
       "      <th>first_day_exposition</th>\n",
       "      <th>rooms</th>\n",
       "      <th>ceiling_height</th>\n",
       "      <th>floors_total</th>\n",
       "      <th>living_area</th>\n",
       "      <th>floor</th>\n",
       "      <th>is_apartment</th>\n",
       "      <th>...</th>\n",
       "      <th>kitchen_area</th>\n",
       "      <th>balcony</th>\n",
       "      <th>locality_name</th>\n",
       "      <th>airports_nearest</th>\n",
       "      <th>cityCenters_nearest</th>\n",
       "      <th>parks_around3000</th>\n",
       "      <th>parks_nearest</th>\n",
       "      <th>ponds_around3000</th>\n",
       "      <th>ponds_nearest</th>\n",
       "      <th>days_exposition</th>\n",
       "    </tr>\n",
       "  </thead>\n",
       "  <tbody>\n",
       "    <tr>\n",
       "      <th>648</th>\n",
       "      <td>3</td>\n",
       "      <td>17500000.0</td>\n",
       "      <td>183.7</td>\n",
       "      <td>2018-07-01</td>\n",
       "      <td>11</td>\n",
       "      <td>3.40</td>\n",
       "      <td>7</td>\n",
       "      <td>138.8</td>\n",
       "      <td>7</td>\n",
       "      <td>False</td>\n",
       "      <td>...</td>\n",
       "      <td>13.3</td>\n",
       "      <td>0</td>\n",
       "      <td>санкт-петербург</td>\n",
       "      <td>23606.0</td>\n",
       "      <td>3148.0</td>\n",
       "      <td>0</td>\n",
       "      <td>NaN</td>\n",
       "      <td>0</td>\n",
       "      <td>NaN</td>\n",
       "      <td>NaN</td>\n",
       "    </tr>\n",
       "    <tr>\n",
       "      <th>866</th>\n",
       "      <td>5</td>\n",
       "      <td>25000000.0</td>\n",
       "      <td>363.0</td>\n",
       "      <td>2017-12-23</td>\n",
       "      <td>14</td>\n",
       "      <td>3.16</td>\n",
       "      <td>5</td>\n",
       "      <td>222.0</td>\n",
       "      <td>4</td>\n",
       "      <td>False</td>\n",
       "      <td>...</td>\n",
       "      <td>16.6</td>\n",
       "      <td>0</td>\n",
       "      <td>санкт-петербург</td>\n",
       "      <td>38076.0</td>\n",
       "      <td>7950.0</td>\n",
       "      <td>0</td>\n",
       "      <td>NaN</td>\n",
       "      <td>2</td>\n",
       "      <td>435.0</td>\n",
       "      <td>418.0</td>\n",
       "    </tr>\n",
       "    <tr>\n",
       "      <th>5358</th>\n",
       "      <td>20</td>\n",
       "      <td>65000000.0</td>\n",
       "      <td>590.0</td>\n",
       "      <td>2019-02-14</td>\n",
       "      <td>15</td>\n",
       "      <td>3.50</td>\n",
       "      <td>6</td>\n",
       "      <td>409.0</td>\n",
       "      <td>3</td>\n",
       "      <td>False</td>\n",
       "      <td>...</td>\n",
       "      <td>100.0</td>\n",
       "      <td>0</td>\n",
       "      <td>санкт-петербург</td>\n",
       "      <td>24447.0</td>\n",
       "      <td>4666.0</td>\n",
       "      <td>1</td>\n",
       "      <td>767.0</td>\n",
       "      <td>0</td>\n",
       "      <td>NaN</td>\n",
       "      <td>14.0</td>\n",
       "    </tr>\n",
       "    <tr>\n",
       "      <th>9688</th>\n",
       "      <td>8</td>\n",
       "      <td>33000000.0</td>\n",
       "      <td>194.1</td>\n",
       "      <td>2017-02-07</td>\n",
       "      <td>11</td>\n",
       "      <td>3.43</td>\n",
       "      <td>5</td>\n",
       "      <td>129.0</td>\n",
       "      <td>2</td>\n",
       "      <td>False</td>\n",
       "      <td>...</td>\n",
       "      <td>11.9</td>\n",
       "      <td>0</td>\n",
       "      <td>санкт-петербург</td>\n",
       "      <td>21469.0</td>\n",
       "      <td>1015.0</td>\n",
       "      <td>1</td>\n",
       "      <td>686.0</td>\n",
       "      <td>2</td>\n",
       "      <td>66.0</td>\n",
       "      <td>813.0</td>\n",
       "    </tr>\n",
       "    <tr>\n",
       "      <th>14498</th>\n",
       "      <td>6</td>\n",
       "      <td>32250000.0</td>\n",
       "      <td>374.6</td>\n",
       "      <td>2018-06-09</td>\n",
       "      <td>19</td>\n",
       "      <td>NaN</td>\n",
       "      <td>5</td>\n",
       "      <td>264.5</td>\n",
       "      <td>2</td>\n",
       "      <td>False</td>\n",
       "      <td>...</td>\n",
       "      <td>27.6</td>\n",
       "      <td>0</td>\n",
       "      <td>санкт-петербург</td>\n",
       "      <td>19497.0</td>\n",
       "      <td>3574.0</td>\n",
       "      <td>0</td>\n",
       "      <td>NaN</td>\n",
       "      <td>2</td>\n",
       "      <td>548.0</td>\n",
       "      <td>114.0</td>\n",
       "    </tr>\n",
       "    <tr>\n",
       "      <th>18848</th>\n",
       "      <td>6</td>\n",
       "      <td>28500000.0</td>\n",
       "      <td>270.0</td>\n",
       "      <td>2015-03-02</td>\n",
       "      <td>16</td>\n",
       "      <td>3.00</td>\n",
       "      <td>4</td>\n",
       "      <td>180.0</td>\n",
       "      <td>4</td>\n",
       "      <td>False</td>\n",
       "      <td>...</td>\n",
       "      <td>13.0</td>\n",
       "      <td>1</td>\n",
       "      <td>санкт-петербург</td>\n",
       "      <td>23575.0</td>\n",
       "      <td>4142.0</td>\n",
       "      <td>1</td>\n",
       "      <td>516.0</td>\n",
       "      <td>0</td>\n",
       "      <td>NaN</td>\n",
       "      <td>1365.0</td>\n",
       "    </tr>\n",
       "    <tr>\n",
       "      <th>19540</th>\n",
       "      <td>8</td>\n",
       "      <td>420000000.0</td>\n",
       "      <td>900.0</td>\n",
       "      <td>2017-12-06</td>\n",
       "      <td>12</td>\n",
       "      <td>2.80</td>\n",
       "      <td>25</td>\n",
       "      <td>409.7</td>\n",
       "      <td>25</td>\n",
       "      <td>False</td>\n",
       "      <td>...</td>\n",
       "      <td>112.0</td>\n",
       "      <td>0</td>\n",
       "      <td>санкт-петербург</td>\n",
       "      <td>30706.0</td>\n",
       "      <td>7877.0</td>\n",
       "      <td>0</td>\n",
       "      <td>NaN</td>\n",
       "      <td>2</td>\n",
       "      <td>318.0</td>\n",
       "      <td>106.0</td>\n",
       "    </tr>\n",
       "    <tr>\n",
       "      <th>20829</th>\n",
       "      <td>6</td>\n",
       "      <td>28659000.0</td>\n",
       "      <td>245.4</td>\n",
       "      <td>2016-03-31</td>\n",
       "      <td>14</td>\n",
       "      <td>NaN</td>\n",
       "      <td>4</td>\n",
       "      <td>168.3</td>\n",
       "      <td>2</td>\n",
       "      <td>False</td>\n",
       "      <td>...</td>\n",
       "      <td>25.9</td>\n",
       "      <td>0</td>\n",
       "      <td>санкт-петербург</td>\n",
       "      <td>21104.0</td>\n",
       "      <td>2054.0</td>\n",
       "      <td>3</td>\n",
       "      <td>541.0</td>\n",
       "      <td>2</td>\n",
       "      <td>118.0</td>\n",
       "      <td>95.0</td>\n",
       "    </tr>\n",
       "  </tbody>\n",
       "</table>\n",
       "<p>8 rows × 22 columns</p>\n",
       "</div>"
      ],
      "text/plain": [
       "       total_images   last_price  total_area first_day_exposition  rooms  \\\n",
       "648               3   17500000.0       183.7           2018-07-01     11   \n",
       "866               5   25000000.0       363.0           2017-12-23     14   \n",
       "5358             20   65000000.0       590.0           2019-02-14     15   \n",
       "9688              8   33000000.0       194.1           2017-02-07     11   \n",
       "14498             6   32250000.0       374.6           2018-06-09     19   \n",
       "18848             6   28500000.0       270.0           2015-03-02     16   \n",
       "19540             8  420000000.0       900.0           2017-12-06     12   \n",
       "20829             6   28659000.0       245.4           2016-03-31     14   \n",
       "\n",
       "       ceiling_height  floors_total  living_area  floor  is_apartment  ...  \\\n",
       "648              3.40             7        138.8      7         False  ...   \n",
       "866              3.16             5        222.0      4         False  ...   \n",
       "5358             3.50             6        409.0      3         False  ...   \n",
       "9688             3.43             5        129.0      2         False  ...   \n",
       "14498             NaN             5        264.5      2         False  ...   \n",
       "18848            3.00             4        180.0      4         False  ...   \n",
       "19540            2.80            25        409.7     25         False  ...   \n",
       "20829             NaN             4        168.3      2         False  ...   \n",
       "\n",
       "       kitchen_area  balcony    locality_name  airports_nearest  \\\n",
       "648            13.3        0  санкт-петербург           23606.0   \n",
       "866            16.6        0  санкт-петербург           38076.0   \n",
       "5358          100.0        0  санкт-петербург           24447.0   \n",
       "9688           11.9        0  санкт-петербург           21469.0   \n",
       "14498          27.6        0  санкт-петербург           19497.0   \n",
       "18848          13.0        1  санкт-петербург           23575.0   \n",
       "19540         112.0        0  санкт-петербург           30706.0   \n",
       "20829          25.9        0  санкт-петербург           21104.0   \n",
       "\n",
       "      cityCenters_nearest  parks_around3000  parks_nearest  ponds_around3000  \\\n",
       "648                3148.0                 0            NaN                 0   \n",
       "866                7950.0                 0            NaN                 2   \n",
       "5358               4666.0                 1          767.0                 0   \n",
       "9688               1015.0                 1          686.0                 2   \n",
       "14498              3574.0                 0            NaN                 2   \n",
       "18848              4142.0                 1          516.0                 0   \n",
       "19540              7877.0                 0            NaN                 2   \n",
       "20829              2054.0                 3          541.0                 2   \n",
       "\n",
       "       ponds_nearest  days_exposition  \n",
       "648              NaN              NaN  \n",
       "866            435.0            418.0  \n",
       "5358             NaN             14.0  \n",
       "9688            66.0            813.0  \n",
       "14498          548.0            114.0  \n",
       "18848            NaN           1365.0  \n",
       "19540          318.0            106.0  \n",
       "20829          118.0             95.0  \n",
       "\n",
       "[8 rows x 22 columns]"
      ]
     },
     "execution_count": 27,
     "metadata": {},
     "output_type": "execute_result"
    }
   ],
   "source": [
    "data[data['rooms'] > 10] #число строк, с комнатами больше 10"
   ]
  },
  {
   "cell_type": "markdown",
   "metadata": {},
   "source": [
    "Посмотрим на диаграмму размаха."
   ]
  },
  {
   "cell_type": "code",
   "execution_count": 28,
   "metadata": {},
   "outputs": [
    {
     "data": {
      "text/plain": [
       "(0.1, 20.0)"
      ]
     },
     "execution_count": 28,
     "metadata": {},
     "output_type": "execute_result"
    },
    {
     "data": {
      "image/png": "[encoded data removed]",
      "text/plain": [
       "<Figure size 432x288 with 1 Axes>"
      ]
     },
     "metadata": {
      "needs_background": "light"
     },
     "output_type": "display_data"
    }
   ],
   "source": [
    "data.boxplot(column = 'rooms').set(    #строим диаграмму размаха\n",
    "title= 'Диаграмма размаха количества комнат', ylabel='метры')\n",
    "plt.ylim(0.1, 20)"
   ]
  },
  {
   "cell_type": "markdown",
   "metadata": {},
   "source": [
    "    19 комнат - очень странно. Удалим строки, где количество комнат больше 14."
   ]
  },
  {
   "cell_type": "code",
   "execution_count": 29,
   "metadata": {},
   "outputs": [],
   "source": [
    "data = data.loc[data['rooms']<14]"
   ]
  },
  {
   "cell_type": "markdown",
   "metadata": {},
   "source": [
    "Посмотрим на столбец ceiling_height. \n",
    "\n",
    "В некоторых квартирах потолки выше 20 метров - это очень много даже для Санкт-Петербурга.\n",
    "Построим диаграмму размаха для высоты потолка.\n"
   ]
  },
  {
   "cell_type": "code",
   "execution_count": 30,
   "metadata": {},
   "outputs": [
    {
     "data": {
      "text/plain": [
       "<AxesSubplot:>"
      ]
     },
     "execution_count": 30,
     "metadata": {},
     "output_type": "execute_result"
    },
    {
     "data": {
      "image/png": "[encoded data removed]",
      "text/plain": [
       "<Figure size 432x288 with 1 Axes>"
      ]
     },
     "metadata": {
      "needs_background": "light"
     },
     "output_type": "display_data"
    }
   ],
   "source": [
    "data['ceiling_height'].plot() # строим график"
   ]
  },
  {
   "cell_type": "code",
   "execution_count": 31,
   "metadata": {},
   "outputs": [
    {
     "data": {
      "text/plain": [
       "(1.2, 6.0)"
      ]
     },
     "execution_count": 31,
     "metadata": {},
     "output_type": "execute_result"
    },
    {
     "data": {
      "image/png": "[encoded data removed]",
      "text/plain": [
       "<Figure size 432x288 with 1 Axes>"
      ]
     },
     "metadata": {
      "needs_background": "light"
     },
     "output_type": "display_data"
    }
   ],
   "source": [
    "data.boxplot(column = 'ceiling_height').set(    #строим диаграмму размаха\n",
    "title= 'Диаграмма размаха высоты потолка')\n",
    "plt.ylim(1.2, 6)"
   ]
  },
  {
   "cell_type": "markdown",
   "metadata": {},
   "source": [
    "По результатам диаграммы получилось, что есть несколько значений ниже 2 метров - однозначно выбросы, таких квартир не может быть. И большое количество квартир с высотой потолка от 3,2. "
   ]
  },
  {
   "cell_type": "code",
   "execution_count": 32,
   "metadata": {
    "scrolled": true
   },
   "outputs": [
    {
     "data": {
      "text/plain": [
       "count    14501.000000\n",
       "mean         2.771406\n",
       "std          1.261166\n",
       "min          1.000000\n",
       "25%          2.520000\n",
       "50%          2.650000\n",
       "75%          2.800000\n",
       "max        100.000000\n",
       "Name: ceiling_height, dtype: float64"
      ]
     },
     "execution_count": 32,
     "metadata": {},
     "output_type": "execute_result"
    }
   ],
   "source": [
    "data['ceiling_height'].describe()"
   ]
  },
  {
   "cell_type": "markdown",
   "metadata": {},
   "source": [
    "Было принято решение разделить на 10 все значения высоты потолков, выше 20 метров. Так как 25 метров скорее всего равняется 2,5 метра."
   ]
  },
  {
   "cell_type": "code",
   "execution_count": 33,
   "metadata": {},
   "outputs": [
    {
     "data": {
      "text/plain": [
       "count    14501.000000\n",
       "mean         2.730748\n",
       "std          0.350426\n",
       "min          1.000000\n",
       "25%          2.510000\n",
       "50%          2.650000\n",
       "75%          2.800000\n",
       "max         20.000000\n",
       "Name: ceiling_height, dtype: float64"
      ]
     },
     "execution_count": 33,
     "metadata": {},
     "output_type": "execute_result"
    }
   ],
   "source": [
    "def process_height(height): #функция, которой передается значение, и если оно больше 20 - делится на 10.\n",
    "    if height > 20:\n",
    "        return height / 10\n",
    "    else: return height\n",
    "\n",
    "data['ceiling_height'] = data['ceiling_height'].apply(process_height) # применяем функцию к столбцу с высотой потолка\n",
    "data['ceiling_height'].describe()"
   ]
  },
  {
   "cell_type": "code",
   "execution_count": 34,
   "metadata": {},
   "outputs": [
    {
     "data": {
      "text/plain": [
       "<AxesSubplot:>"
      ]
     },
     "execution_count": 34,
     "metadata": {},
     "output_type": "execute_result"
    },
    {
     "data": {
      "image/png": "[encoded data removed]",
      "text/plain": [
       "<Figure size 432x288 with 1 Axes>"
      ]
     },
     "metadata": {
      "needs_background": "light"
     },
     "output_type": "display_data"
    }
   ],
   "source": [
    "data['ceiling_height'].plot()"
   ]
  },
  {
   "cell_type": "markdown",
   "metadata": {},
   "source": [
    "Удалим выбросы из таблицы. Удалим строки с высотой потолка более 6 метров."
   ]
  },
  {
   "cell_type": "code",
   "execution_count": 35,
   "metadata": {},
   "outputs": [],
   "source": [
    "data = data.loc[data['ceiling_height'] < 6] "
   ]
  },
  {
   "cell_type": "markdown",
   "metadata": {},
   "source": [
    "Удалим строки, где потолки меньше 2,3 метров."
   ]
  },
  {
   "cell_type": "code",
   "execution_count": 36,
   "metadata": {},
   "outputs": [
    {
     "data": {
      "text/html": [
       "<div>\n",
       "<style scoped>\n",
       "    .dataframe tbody tr th:only-of-type {\n",
       "        vertical-align: middle;\n",
       "    }\n",
       "\n",
       "    .dataframe tbody tr th {\n",
       "        vertical-align: top;\n",
       "    }\n",
       "\n",
       "    .dataframe thead th {\n",
       "        text-align: right;\n",
       "    }\n",
       "</style>\n",
       "<table border=\"1\" class=\"dataframe\">\n",
       "  <thead>\n",
       "    <tr style=\"text-align: right;\">\n",
       "      <th></th>\n",
       "      <th>total_images</th>\n",
       "      <th>last_price</th>\n",
       "      <th>total_area</th>\n",
       "      <th>first_day_exposition</th>\n",
       "      <th>rooms</th>\n",
       "      <th>ceiling_height</th>\n",
       "      <th>floors_total</th>\n",
       "      <th>living_area</th>\n",
       "      <th>floor</th>\n",
       "      <th>is_apartment</th>\n",
       "      <th>...</th>\n",
       "      <th>kitchen_area</th>\n",
       "      <th>balcony</th>\n",
       "      <th>locality_name</th>\n",
       "      <th>airports_nearest</th>\n",
       "      <th>cityCenters_nearest</th>\n",
       "      <th>parks_around3000</th>\n",
       "      <th>parks_nearest</th>\n",
       "      <th>ponds_around3000</th>\n",
       "      <th>ponds_nearest</th>\n",
       "      <th>days_exposition</th>\n",
       "    </tr>\n",
       "  </thead>\n",
       "  <tbody>\n",
       "    <tr>\n",
       "      <th>0</th>\n",
       "      <td>20</td>\n",
       "      <td>13000000.0</td>\n",
       "      <td>108.00</td>\n",
       "      <td>2019-03-07</td>\n",
       "      <td>3</td>\n",
       "      <td>2.70</td>\n",
       "      <td>16</td>\n",
       "      <td>51.0</td>\n",
       "      <td>8</td>\n",
       "      <td>False</td>\n",
       "      <td>...</td>\n",
       "      <td>25.00</td>\n",
       "      <td>0</td>\n",
       "      <td>санкт-петербург</td>\n",
       "      <td>18863.0</td>\n",
       "      <td>16028.0</td>\n",
       "      <td>1</td>\n",
       "      <td>482.0</td>\n",
       "      <td>2</td>\n",
       "      <td>755.0</td>\n",
       "      <td>NaN</td>\n",
       "    </tr>\n",
       "    <tr>\n",
       "      <th>4</th>\n",
       "      <td>2</td>\n",
       "      <td>10000000.0</td>\n",
       "      <td>100.00</td>\n",
       "      <td>2018-06-19</td>\n",
       "      <td>2</td>\n",
       "      <td>3.03</td>\n",
       "      <td>14</td>\n",
       "      <td>32.0</td>\n",
       "      <td>13</td>\n",
       "      <td>False</td>\n",
       "      <td>...</td>\n",
       "      <td>41.00</td>\n",
       "      <td>0</td>\n",
       "      <td>санкт-петербург</td>\n",
       "      <td>31856.0</td>\n",
       "      <td>8098.0</td>\n",
       "      <td>2</td>\n",
       "      <td>112.0</td>\n",
       "      <td>1</td>\n",
       "      <td>48.0</td>\n",
       "      <td>121.0</td>\n",
       "    </tr>\n",
       "    <tr>\n",
       "      <th>9</th>\n",
       "      <td>18</td>\n",
       "      <td>5400000.0</td>\n",
       "      <td>61.00</td>\n",
       "      <td>2017-02-26</td>\n",
       "      <td>3</td>\n",
       "      <td>2.50</td>\n",
       "      <td>9</td>\n",
       "      <td>43.6</td>\n",
       "      <td>7</td>\n",
       "      <td>False</td>\n",
       "      <td>...</td>\n",
       "      <td>6.50</td>\n",
       "      <td>2</td>\n",
       "      <td>санкт-петербург</td>\n",
       "      <td>50898.0</td>\n",
       "      <td>15008.0</td>\n",
       "      <td>0</td>\n",
       "      <td>NaN</td>\n",
       "      <td>0</td>\n",
       "      <td>NaN</td>\n",
       "      <td>289.0</td>\n",
       "    </tr>\n",
       "    <tr>\n",
       "      <th>10</th>\n",
       "      <td>5</td>\n",
       "      <td>5050000.0</td>\n",
       "      <td>39.60</td>\n",
       "      <td>2017-11-16</td>\n",
       "      <td>1</td>\n",
       "      <td>2.67</td>\n",
       "      <td>12</td>\n",
       "      <td>20.3</td>\n",
       "      <td>3</td>\n",
       "      <td>False</td>\n",
       "      <td>...</td>\n",
       "      <td>8.50</td>\n",
       "      <td>0</td>\n",
       "      <td>санкт-петербург</td>\n",
       "      <td>38357.0</td>\n",
       "      <td>13878.0</td>\n",
       "      <td>1</td>\n",
       "      <td>310.0</td>\n",
       "      <td>2</td>\n",
       "      <td>553.0</td>\n",
       "      <td>137.0</td>\n",
       "    </tr>\n",
       "    <tr>\n",
       "      <th>13</th>\n",
       "      <td>20</td>\n",
       "      <td>3550000.0</td>\n",
       "      <td>42.80</td>\n",
       "      <td>2017-07-01</td>\n",
       "      <td>2</td>\n",
       "      <td>2.56</td>\n",
       "      <td>5</td>\n",
       "      <td>27.0</td>\n",
       "      <td>5</td>\n",
       "      <td>False</td>\n",
       "      <td>...</td>\n",
       "      <td>5.20</td>\n",
       "      <td>1</td>\n",
       "      <td>петергоф</td>\n",
       "      <td>37868.0</td>\n",
       "      <td>33058.0</td>\n",
       "      <td>1</td>\n",
       "      <td>294.0</td>\n",
       "      <td>3</td>\n",
       "      <td>298.0</td>\n",
       "      <td>366.0</td>\n",
       "    </tr>\n",
       "    <tr>\n",
       "      <th>...</th>\n",
       "      <td>...</td>\n",
       "      <td>...</td>\n",
       "      <td>...</td>\n",
       "      <td>...</td>\n",
       "      <td>...</td>\n",
       "      <td>...</td>\n",
       "      <td>...</td>\n",
       "      <td>...</td>\n",
       "      <td>...</td>\n",
       "      <td>...</td>\n",
       "      <td>...</td>\n",
       "      <td>...</td>\n",
       "      <td>...</td>\n",
       "      <td>...</td>\n",
       "      <td>...</td>\n",
       "      <td>...</td>\n",
       "      <td>...</td>\n",
       "      <td>...</td>\n",
       "      <td>...</td>\n",
       "      <td>...</td>\n",
       "      <td>...</td>\n",
       "    </tr>\n",
       "    <tr>\n",
       "      <th>23691</th>\n",
       "      <td>11</td>\n",
       "      <td>9470000.0</td>\n",
       "      <td>72.90</td>\n",
       "      <td>2016-10-13</td>\n",
       "      <td>2</td>\n",
       "      <td>2.75</td>\n",
       "      <td>25</td>\n",
       "      <td>40.3</td>\n",
       "      <td>7</td>\n",
       "      <td>False</td>\n",
       "      <td>...</td>\n",
       "      <td>10.60</td>\n",
       "      <td>1</td>\n",
       "      <td>санкт-петербург</td>\n",
       "      <td>19424.0</td>\n",
       "      <td>4489.0</td>\n",
       "      <td>0</td>\n",
       "      <td>NaN</td>\n",
       "      <td>1</td>\n",
       "      <td>806.0</td>\n",
       "      <td>519.0</td>\n",
       "    </tr>\n",
       "    <tr>\n",
       "      <th>23693</th>\n",
       "      <td>9</td>\n",
       "      <td>4600000.0</td>\n",
       "      <td>62.40</td>\n",
       "      <td>2016-08-05</td>\n",
       "      <td>3</td>\n",
       "      <td>2.60</td>\n",
       "      <td>9</td>\n",
       "      <td>40.0</td>\n",
       "      <td>8</td>\n",
       "      <td>False</td>\n",
       "      <td>...</td>\n",
       "      <td>8.00</td>\n",
       "      <td>0</td>\n",
       "      <td>петергоф</td>\n",
       "      <td>45602.0</td>\n",
       "      <td>34104.0</td>\n",
       "      <td>1</td>\n",
       "      <td>352.0</td>\n",
       "      <td>1</td>\n",
       "      <td>675.0</td>\n",
       "      <td>239.0</td>\n",
       "    </tr>\n",
       "    <tr>\n",
       "      <th>23694</th>\n",
       "      <td>9</td>\n",
       "      <td>9700000.0</td>\n",
       "      <td>133.81</td>\n",
       "      <td>2017-03-21</td>\n",
       "      <td>3</td>\n",
       "      <td>3.70</td>\n",
       "      <td>5</td>\n",
       "      <td>73.3</td>\n",
       "      <td>3</td>\n",
       "      <td>False</td>\n",
       "      <td>...</td>\n",
       "      <td>13.83</td>\n",
       "      <td>0</td>\n",
       "      <td>санкт-петербург</td>\n",
       "      <td>24665.0</td>\n",
       "      <td>4232.0</td>\n",
       "      <td>1</td>\n",
       "      <td>796.0</td>\n",
       "      <td>3</td>\n",
       "      <td>381.0</td>\n",
       "      <td>NaN</td>\n",
       "    </tr>\n",
       "    <tr>\n",
       "      <th>23697</th>\n",
       "      <td>13</td>\n",
       "      <td>11475000.0</td>\n",
       "      <td>76.75</td>\n",
       "      <td>2017-03-28</td>\n",
       "      <td>2</td>\n",
       "      <td>3.00</td>\n",
       "      <td>17</td>\n",
       "      <td>30.5</td>\n",
       "      <td>12</td>\n",
       "      <td>False</td>\n",
       "      <td>...</td>\n",
       "      <td>23.30</td>\n",
       "      <td>2</td>\n",
       "      <td>санкт-петербург</td>\n",
       "      <td>39140.0</td>\n",
       "      <td>10364.0</td>\n",
       "      <td>2</td>\n",
       "      <td>173.0</td>\n",
       "      <td>3</td>\n",
       "      <td>196.0</td>\n",
       "      <td>602.0</td>\n",
       "    </tr>\n",
       "    <tr>\n",
       "      <th>23698</th>\n",
       "      <td>4</td>\n",
       "      <td>1350000.0</td>\n",
       "      <td>32.30</td>\n",
       "      <td>2017-07-21</td>\n",
       "      <td>1</td>\n",
       "      <td>2.50</td>\n",
       "      <td>5</td>\n",
       "      <td>12.3</td>\n",
       "      <td>1</td>\n",
       "      <td>False</td>\n",
       "      <td>...</td>\n",
       "      <td>9.00</td>\n",
       "      <td>0</td>\n",
       "      <td>новый учхоз</td>\n",
       "      <td>26726.0</td>\n",
       "      <td>NaN</td>\n",
       "      <td>0</td>\n",
       "      <td>NaN</td>\n",
       "      <td>0</td>\n",
       "      <td>NaN</td>\n",
       "      <td>NaN</td>\n",
       "    </tr>\n",
       "  </tbody>\n",
       "</table>\n",
       "<p>14471 rows × 22 columns</p>\n",
       "</div>"
      ],
      "text/plain": [
       "       total_images  last_price  total_area first_day_exposition  rooms  \\\n",
       "0                20  13000000.0      108.00           2019-03-07      3   \n",
       "4                 2  10000000.0      100.00           2018-06-19      2   \n",
       "9                18   5400000.0       61.00           2017-02-26      3   \n",
       "10                5   5050000.0       39.60           2017-11-16      1   \n",
       "13               20   3550000.0       42.80           2017-07-01      2   \n",
       "...             ...         ...         ...                  ...    ...   \n",
       "23691            11   9470000.0       72.90           2016-10-13      2   \n",
       "23693             9   4600000.0       62.40           2016-08-05      3   \n",
       "23694             9   9700000.0      133.81           2017-03-21      3   \n",
       "23697            13  11475000.0       76.75           2017-03-28      2   \n",
       "23698             4   1350000.0       32.30           2017-07-21      1   \n",
       "\n",
       "       ceiling_height  floors_total  living_area  floor  is_apartment  ...  \\\n",
       "0                2.70            16         51.0      8         False  ...   \n",
       "4                3.03            14         32.0     13         False  ...   \n",
       "9                2.50             9         43.6      7         False  ...   \n",
       "10               2.67            12         20.3      3         False  ...   \n",
       "13               2.56             5         27.0      5         False  ...   \n",
       "...               ...           ...          ...    ...           ...  ...   \n",
       "23691            2.75            25         40.3      7         False  ...   \n",
       "23693            2.60             9         40.0      8         False  ...   \n",
       "23694            3.70             5         73.3      3         False  ...   \n",
       "23697            3.00            17         30.5     12         False  ...   \n",
       "23698            2.50             5         12.3      1         False  ...   \n",
       "\n",
       "       kitchen_area  balcony    locality_name  airports_nearest  \\\n",
       "0             25.00        0  санкт-петербург           18863.0   \n",
       "4             41.00        0  санкт-петербург           31856.0   \n",
       "9              6.50        2  санкт-петербург           50898.0   \n",
       "10             8.50        0  санкт-петербург           38357.0   \n",
       "13             5.20        1         петергоф           37868.0   \n",
       "...             ...      ...              ...               ...   \n",
       "23691         10.60        1  санкт-петербург           19424.0   \n",
       "23693          8.00        0         петергоф           45602.0   \n",
       "23694         13.83        0  санкт-петербург           24665.0   \n",
       "23697         23.30        2  санкт-петербург           39140.0   \n",
       "23698          9.00        0      новый учхоз           26726.0   \n",
       "\n",
       "      cityCenters_nearest  parks_around3000  parks_nearest  ponds_around3000  \\\n",
       "0                 16028.0                 1          482.0                 2   \n",
       "4                  8098.0                 2          112.0                 1   \n",
       "9                 15008.0                 0            NaN                 0   \n",
       "10                13878.0                 1          310.0                 2   \n",
       "13                33058.0                 1          294.0                 3   \n",
       "...                   ...               ...            ...               ...   \n",
       "23691              4489.0                 0            NaN                 1   \n",
       "23693             34104.0                 1          352.0                 1   \n",
       "23694              4232.0                 1          796.0                 3   \n",
       "23697             10364.0                 2          173.0                 3   \n",
       "23698                 NaN                 0            NaN                 0   \n",
       "\n",
       "       ponds_nearest  days_exposition  \n",
       "0              755.0              NaN  \n",
       "4               48.0            121.0  \n",
       "9                NaN            289.0  \n",
       "10             553.0            137.0  \n",
       "13             298.0            366.0  \n",
       "...              ...              ...  \n",
       "23691          806.0            519.0  \n",
       "23693          675.0            239.0  \n",
       "23694          381.0              NaN  \n",
       "23697          196.0            602.0  \n",
       "23698            NaN              NaN  \n",
       "\n",
       "[14471 rows x 22 columns]"
      ]
     },
     "execution_count": 36,
     "metadata": {},
     "output_type": "execute_result"
    }
   ],
   "source": [
    "data = data.loc[data['ceiling_height'] > 2.3]\n",
    "data"
   ]
  },
  {
   "cell_type": "code",
   "execution_count": 37,
   "metadata": {
    "scrolled": true
   },
   "outputs": [
    {
     "data": {
      "text/plain": [
       "<AxesSubplot:>"
      ]
     },
     "execution_count": 37,
     "metadata": {},
     "output_type": "execute_result"
    },
    {
     "data": {
      "image/png": "[encoded data removed]",
      "text/plain": [
       "<Figure size 432x288 with 1 Axes>"
      ]
     },
     "metadata": {
      "needs_background": "light"
     },
     "output_type": "display_data"
    }
   ],
   "source": [
    "data['ceiling_height'].plot() #проверим на графике"
   ]
  },
  {
   "cell_type": "markdown",
   "metadata": {},
   "source": [
    "Теперь заполним пропущенные значения в столбце \"ceiling_height\" медианным значением."
   ]
  },
  {
   "cell_type": "code",
   "execution_count": 38,
   "metadata": {},
   "outputs": [
    {
     "data": {
      "text/plain": [
       "count    14471.000000\n",
       "mean         2.727117\n",
       "std          0.276514\n",
       "min          2.340000\n",
       "25%          2.520000\n",
       "50%          2.650000\n",
       "75%          2.800000\n",
       "max          5.800000\n",
       "Name: ceiling_height, dtype: float64"
      ]
     },
     "execution_count": 38,
     "metadata": {},
     "output_type": "execute_result"
    }
   ],
   "source": [
    "data['ceiling_height'].describe() # найдем значение медианы"
   ]
  },
  {
   "cell_type": "code",
   "execution_count": 39,
   "metadata": {},
   "outputs": [],
   "source": [
    "data['ceiling_height'] = data['ceiling_height'].fillna(2.650000) # заполним пропуски медианой"
   ]
  },
  {
   "cell_type": "markdown",
   "metadata": {},
   "source": [
    "Посмотрим на этажность дома и этаж квартиры.\n",
    "Посчитаем, сколько квартир, расположенных на этаже выше, чем этажность дома."
   ]
  },
  {
   "cell_type": "code",
   "execution_count": 40,
   "metadata": {},
   "outputs": [
    {
     "data": {
      "text/plain": [
       "0"
      ]
     },
     "execution_count": 40,
     "metadata": {},
     "output_type": "execute_result"
    }
   ],
   "source": [
    "(data['floor'] > data['floors_total']).sum()"
   ]
  },
  {
   "cell_type": "markdown",
   "metadata": {},
   "source": [
    "Посчитаем, сколько квартир с количеством балконов больше, чем количество комнат."
   ]
  },
  {
   "cell_type": "code",
   "execution_count": 41,
   "metadata": {},
   "outputs": [
    {
     "data": {
      "text/plain": [
       "1384"
      ]
     },
     "execution_count": 41,
     "metadata": {},
     "output_type": "execute_result"
    }
   ],
   "source": [
    "(data['balcony'] > data['rooms']).sum()"
   ]
  },
  {
   "cell_type": "markdown",
   "metadata": {},
   "source": [
    "Заменим количество балконов в таких квартирах на количество комнат."
   ]
  },
  {
   "cell_type": "code",
   "execution_count": 42,
   "metadata": {},
   "outputs": [
    {
     "data": {
      "text/plain": [
       "0"
      ]
     },
     "execution_count": 42,
     "metadata": {},
     "output_type": "execute_result"
    }
   ],
   "source": [
    "data['balcony'] = data['balcony'].where((data['balcony']-data['rooms']) < 0, data['rooms'])\n",
    "(data['balcony'] > data['rooms']).sum()"
   ]
  },
  {
   "cell_type": "markdown",
   "metadata": {},
   "source": [
    "Посмотрим на этажность домов, проверим столбец на выбросы"
   ]
  },
  {
   "cell_type": "code",
   "execution_count": 43,
   "metadata": {},
   "outputs": [
    {
     "data": {
      "text/plain": [
       "<AxesSubplot:>"
      ]
     },
     "execution_count": 43,
     "metadata": {},
     "output_type": "execute_result"
    },
    {
     "data": {
      "image/png": "[encoded data removed]",
      "text/plain": [
       "<Figure size 432x288 with 1 Axes>"
      ]
     },
     "metadata": {
      "needs_background": "light"
     },
     "output_type": "display_data"
    }
   ],
   "source": [
    "data['floors_total'].plot()"
   ]
  },
  {
   "cell_type": "code",
   "execution_count": 44,
   "metadata": {},
   "outputs": [
    {
     "data": {
      "text/html": [
       "<div>\n",
       "<style scoped>\n",
       "    .dataframe tbody tr th:only-of-type {\n",
       "        vertical-align: middle;\n",
       "    }\n",
       "\n",
       "    .dataframe tbody tr th {\n",
       "        vertical-align: top;\n",
       "    }\n",
       "\n",
       "    .dataframe thead th {\n",
       "        text-align: right;\n",
       "    }\n",
       "</style>\n",
       "<table border=\"1\" class=\"dataframe\">\n",
       "  <thead>\n",
       "    <tr style=\"text-align: right;\">\n",
       "      <th></th>\n",
       "      <th>total_images</th>\n",
       "      <th>last_price</th>\n",
       "      <th>total_area</th>\n",
       "      <th>first_day_exposition</th>\n",
       "      <th>rooms</th>\n",
       "      <th>ceiling_height</th>\n",
       "      <th>floors_total</th>\n",
       "      <th>living_area</th>\n",
       "      <th>floor</th>\n",
       "      <th>is_apartment</th>\n",
       "      <th>...</th>\n",
       "      <th>kitchen_area</th>\n",
       "      <th>balcony</th>\n",
       "      <th>locality_name</th>\n",
       "      <th>airports_nearest</th>\n",
       "      <th>cityCenters_nearest</th>\n",
       "      <th>parks_around3000</th>\n",
       "      <th>parks_nearest</th>\n",
       "      <th>ponds_around3000</th>\n",
       "      <th>ponds_nearest</th>\n",
       "      <th>days_exposition</th>\n",
       "    </tr>\n",
       "  </thead>\n",
       "  <tbody>\n",
       "    <tr>\n",
       "      <th>2253</th>\n",
       "      <td>12</td>\n",
       "      <td>3800000.0</td>\n",
       "      <td>45.5</td>\n",
       "      <td>2018-06-28</td>\n",
       "      <td>2</td>\n",
       "      <td>2.88</td>\n",
       "      <td>60</td>\n",
       "      <td>27.4</td>\n",
       "      <td>4</td>\n",
       "      <td>False</td>\n",
       "      <td>...</td>\n",
       "      <td>7.4</td>\n",
       "      <td>0</td>\n",
       "      <td>кронштадт</td>\n",
       "      <td>67763.0</td>\n",
       "      <td>49488.0</td>\n",
       "      <td>2</td>\n",
       "      <td>342.0</td>\n",
       "      <td>3</td>\n",
       "      <td>614.0</td>\n",
       "      <td>166.0</td>\n",
       "    </tr>\n",
       "    <tr>\n",
       "      <th>5807</th>\n",
       "      <td>17</td>\n",
       "      <td>8150000.0</td>\n",
       "      <td>80.0</td>\n",
       "      <td>2019-01-09</td>\n",
       "      <td>2</td>\n",
       "      <td>2.70</td>\n",
       "      <td>36</td>\n",
       "      <td>41.0</td>\n",
       "      <td>13</td>\n",
       "      <td>False</td>\n",
       "      <td>...</td>\n",
       "      <td>12.0</td>\n",
       "      <td>2</td>\n",
       "      <td>санкт-петербург</td>\n",
       "      <td>18732.0</td>\n",
       "      <td>20444.0</td>\n",
       "      <td>0</td>\n",
       "      <td>NaN</td>\n",
       "      <td>3</td>\n",
       "      <td>80.0</td>\n",
       "      <td>38.0</td>\n",
       "    </tr>\n",
       "    <tr>\n",
       "      <th>11079</th>\n",
       "      <td>16</td>\n",
       "      <td>9200000.0</td>\n",
       "      <td>75.0</td>\n",
       "      <td>2019-02-22</td>\n",
       "      <td>2</td>\n",
       "      <td>2.70</td>\n",
       "      <td>36</td>\n",
       "      <td>40.0</td>\n",
       "      <td>29</td>\n",
       "      <td>False</td>\n",
       "      <td>...</td>\n",
       "      <td>12.0</td>\n",
       "      <td>2</td>\n",
       "      <td>санкт-петербург</td>\n",
       "      <td>18732.0</td>\n",
       "      <td>20444.0</td>\n",
       "      <td>0</td>\n",
       "      <td>NaN</td>\n",
       "      <td>3</td>\n",
       "      <td>80.0</td>\n",
       "      <td>NaN</td>\n",
       "    </tr>\n",
       "    <tr>\n",
       "      <th>16731</th>\n",
       "      <td>9</td>\n",
       "      <td>3978000.0</td>\n",
       "      <td>40.0</td>\n",
       "      <td>2018-09-24</td>\n",
       "      <td>1</td>\n",
       "      <td>2.65</td>\n",
       "      <td>52</td>\n",
       "      <td>10.5</td>\n",
       "      <td>18</td>\n",
       "      <td>False</td>\n",
       "      <td>...</td>\n",
       "      <td>14.0</td>\n",
       "      <td>0</td>\n",
       "      <td>санкт-петербург</td>\n",
       "      <td>20728.0</td>\n",
       "      <td>12978.0</td>\n",
       "      <td>1</td>\n",
       "      <td>793.0</td>\n",
       "      <td>0</td>\n",
       "      <td>NaN</td>\n",
       "      <td>45.0</td>\n",
       "    </tr>\n",
       "  </tbody>\n",
       "</table>\n",
       "<p>4 rows × 22 columns</p>\n",
       "</div>"
      ],
      "text/plain": [
       "       total_images  last_price  total_area first_day_exposition  rooms  \\\n",
       "2253             12   3800000.0        45.5           2018-06-28      2   \n",
       "5807             17   8150000.0        80.0           2019-01-09      2   \n",
       "11079            16   9200000.0        75.0           2019-02-22      2   \n",
       "16731             9   3978000.0        40.0           2018-09-24      1   \n",
       "\n",
       "       ceiling_height  floors_total  living_area  floor  is_apartment  ...  \\\n",
       "2253             2.88            60         27.4      4         False  ...   \n",
       "5807             2.70            36         41.0     13         False  ...   \n",
       "11079            2.70            36         40.0     29         False  ...   \n",
       "16731            2.65            52         10.5     18         False  ...   \n",
       "\n",
       "       kitchen_area  balcony    locality_name  airports_nearest  \\\n",
       "2253            7.4        0        кронштадт           67763.0   \n",
       "5807           12.0        2  санкт-петербург           18732.0   \n",
       "11079          12.0        2  санкт-петербург           18732.0   \n",
       "16731          14.0        0  санкт-петербург           20728.0   \n",
       "\n",
       "      cityCenters_nearest  parks_around3000  parks_nearest  ponds_around3000  \\\n",
       "2253              49488.0                 2          342.0                 3   \n",
       "5807              20444.0                 0            NaN                 3   \n",
       "11079             20444.0                 0            NaN                 3   \n",
       "16731             12978.0                 1          793.0                 0   \n",
       "\n",
       "       ponds_nearest  days_exposition  \n",
       "2253           614.0            166.0  \n",
       "5807            80.0             38.0  \n",
       "11079           80.0              NaN  \n",
       "16731            NaN             45.0  \n",
       "\n",
       "[4 rows x 22 columns]"
      ]
     },
     "execution_count": 44,
     "metadata": {},
     "output_type": "execute_result"
    }
   ],
   "source": [
    "data[data['floors_total']>35] # посмотрим на квартиры, расположенные в домах, выше 35 этажей"
   ]
  },
  {
   "cell_type": "markdown",
   "metadata": {},
   "source": [
    "Есть 2 квартиры с этажностью дома больше 40. По данным https://spbhomes.ru/ самый высокий жилой дом в Ленинградской области - жилой комплекс «Князь Александр Невский» в 37 этажей. \n",
    "\n",
    "В соответствии с этим удаляем из датафрейма строки, где этажность дома выше 37."
   ]
  },
  {
   "cell_type": "code",
   "execution_count": 45,
   "metadata": {},
   "outputs": [],
   "source": [
    "data = data.loc[data['floors_total'] <= 37]"
   ]
  },
  {
   "cell_type": "markdown",
   "metadata": {},
   "source": [
    "Посмотрим на квартиры-студии. В студиях не может быть больше 1 комнаты - поэтому квартира и считается студией."
   ]
  },
  {
   "cell_type": "code",
   "execution_count": 46,
   "metadata": {},
   "outputs": [
    {
     "data": {
      "text/plain": [
       "0"
      ]
     },
     "execution_count": 46,
     "metadata": {},
     "output_type": "execute_result"
    }
   ],
   "source": [
    "((data['studio'] == 'True') & (data['rooms'] >1 )).sum()"
   ]
  },
  {
   "cell_type": "markdown",
   "metadata": {},
   "source": [
    "Заменим значения для столбца \"kitchen_area\" на 0 для всех студий и для всех апартаментов.\n",
    "А также сделаем жилую площадь для апартаментов равной нулю, так как апартаменты это коммерческая нежилая недвижимость."
   ]
  },
  {
   "cell_type": "code",
   "execution_count": 47,
   "metadata": {},
   "outputs": [],
   "source": [
    "data.loc[data['studio'] == True, 'kitchen_area'] = 0\n",
    "data.loc[data['is_apartment'] == True, 'kitchen_area'] = 0\n",
    "data.loc[data['is_apartment'] == True, 'living_area'] = 0\n",
    "\n",
    "pd.set_option('mode.chained_assignment', None)"
   ]
  },
  {
   "cell_type": "markdown",
   "metadata": {},
   "source": [
    "Удалим строки с пропущенными значения в столбцах locality_name и kitchen_area. Доля этих строк крайне мала и не повлияет на выборку."
   ]
  },
  {
   "cell_type": "code",
   "execution_count": 48,
   "metadata": {},
   "outputs": [],
   "source": [
    "data = data.dropna(subset=['kitchen_area','locality_name']) "
   ]
  },
  {
   "cell_type": "markdown",
   "metadata": {},
   "source": [
    "#### Промежуточный вывод\n",
    "В ходе предобработки данных были найдены и изучены пропущенные значения в таблице.\n",
    "\n",
    "Некоторые данные удалось восстановить, тем самым не теряя количество строк, а следовательно ценную информацию. Например, количество балконов было заменено нулями, так как скорее всего при заполнении информации продавец пропускал ячейку, если балкона в квартире нет. Кроме того, пропущенная площадь кухни была заменена медианным значением площади кухни квартир, с таким же количеством комнат. Также было сделано и для жилой площади. \n",
    "\n",
    "Пропуски в столбцах \"parks_around3000\" и \"ponds_around3000\" в одинаковом количестве – предположительно, был технический сбой. \n",
    "В таблице были устранены дубликаты и необычные выделяющиеся значения. С помощью графиков и диаграмм размаха были найдены и устранены выбросы, например, количество балконов в некоторых квартирах превышало количество комнат, поэтому в таких строках количество балконов было заменено на количество комнат.\n",
    "\n",
    "В таблице по прежнему есть пропуски: в столбцах cityCenters_nearest, parks_nearest, ponds_nearest, days_exposition, citycenter_km. Это может повлиять на дальнейший анализ.\n"
   ]
  },
  {
   "cell_type": "markdown",
   "metadata": {},
   "source": [
    "### Новые столбцы"
   ]
  },
  {
   "cell_type": "markdown",
   "metadata": {},
   "source": [
    "Добавим в таблицу новый столбец \"цена одного квадратного метра\" - meter_price.\n",
    "Затем посмотрим, есть ли выбивающиеся значения и удалим их."
   ]
  },
  {
   "cell_type": "code",
   "execution_count": 49,
   "metadata": {},
   "outputs": [
    {
     "data": {
      "text/plain": [
       "count    1.443600e+04\n",
       "mean     1.015738e+05\n",
       "std      5.030589e+04\n",
       "min      1.118349e+02\n",
       "25%      7.844405e+04\n",
       "50%      9.670649e+04\n",
       "75%      1.165084e+05\n",
       "max      1.736842e+06\n",
       "Name: meter_price, dtype: float64"
      ]
     },
     "execution_count": 49,
     "metadata": {},
     "output_type": "execute_result"
    }
   ],
   "source": [
    "data['meter_price'] = data['last_price'] / data ['total_area'] # для этого разделим стоимость квартиры на ее площадь\n",
    "data['meter_price'].describe()"
   ]
  },
  {
   "cell_type": "markdown",
   "metadata": {},
   "source": [
    "Стандартное отклонение = 5.0306. Это свидетельствует о том, что есть очень выбивающиеся значения. Посмотрим диаграмму размаха."
   ]
  },
  {
   "cell_type": "code",
   "execution_count": 50,
   "metadata": {},
   "outputs": [
    {
     "data": {
      "text/plain": [
       "[Text(0.5, 1.0, 'Диаграмма размаха цены квадратного метра')]"
      ]
     },
     "execution_count": 50,
     "metadata": {},
     "output_type": "execute_result"
    },
    {
     "data": {
      "image/png": "[encoded data removed]",
      "text/plain": [
       "<Figure size 432x288 with 1 Axes>"
      ]
     },
     "metadata": {
      "needs_background": "light"
     },
     "output_type": "display_data"
    }
   ],
   "source": [
    "data.boxplot(column = 'meter_price').set(    #строим диаграмму размаха\n",
    "title= 'Диаграмма размаха цены квадратного метра')"
   ]
  },
  {
   "cell_type": "code",
   "execution_count": 51,
   "metadata": {},
   "outputs": [
    {
     "name": "stdout",
     "output_type": "stream",
     "text": [
      "111.8348623853211\n",
      "1736842.105263158\n",
      "101573.79978552347\n",
      "96706.48706132577\n"
     ]
    }
   ],
   "source": [
    "print(data['meter_price'].min()) # минимум\n",
    "print(data['meter_price'].max()) # максимум\n",
    "print(data['meter_price'].mean()) # среднее\n",
    "print(data['meter_price'].median()) # медиана"
   ]
  },
  {
   "cell_type": "markdown",
   "metadata": {},
   "source": [
    "Удалим строки, где цена за квадратный метр больше 280 тысяч рублей."
   ]
  },
  {
   "cell_type": "code",
   "execution_count": 52,
   "metadata": {},
   "outputs": [],
   "source": [
    "data = data.loc[data['meter_price'] < 280000]"
   ]
  },
  {
   "cell_type": "markdown",
   "metadata": {},
   "source": [
    "Добавим столбец \"день недели\" - publication_day_week.\n",
    "- 0 - понедельник \n",
    "- 1 - вторник \n",
    "- 2 - среда\n",
    "- 3 - четверг\n",
    "- 4 - пятница\n",
    "- 5 - суббота\n",
    "- 6 - воскресенье"
   ]
  },
  {
   "cell_type": "code",
   "execution_count": 53,
   "metadata": {},
   "outputs": [],
   "source": [
    "data['publication_day_week'] = data['first_day_exposition'].dt.weekday"
   ]
  },
  {
   "cell_type": "markdown",
   "metadata": {},
   "source": [
    "Добавим столбец publication_month - месяц публикации.\n",
    "\n",
    "Добавим столбец publication_year - год публикации. "
   ]
  },
  {
   "cell_type": "code",
   "execution_count": 54,
   "metadata": {},
   "outputs": [],
   "source": [
    "data['publication_month'] = data['first_day_exposition'].dt.month\n",
    "data['publication_year'] = data['first_day_exposition'].dt.year"
   ]
  },
  {
   "cell_type": "markdown",
   "metadata": {},
   "source": [
    "Добавим 3 типа этажа квартиры:\n",
    "- \"первый\"\n",
    "- \"последний\"\n",
    "- \"другой\""
   ]
  },
  {
   "cell_type": "code",
   "execution_count": 55,
   "metadata": {},
   "outputs": [],
   "source": [
    "def categorize_floors(row): # функция, принимающая строку, и категоризирующая значение столбцов по категориям\n",
    "    try:\n",
    "        if row['floor'] == 1:\n",
    "            return 'первый'\n",
    "        elif row['floor'] == row['floors_total']:\n",
    "            return 'последний'\n",
    "        else: return 'другой'\n",
    "    except: pass\n",
    "\n",
    "\n",
    "data['categorize_floor'] = data.apply(lambda row: categorize_floors(row), axis=1) #создадим новый столбец с категориями"
   ]
  },
  {
   "cell_type": "markdown",
   "metadata": {},
   "source": [
    "Добавим новый столбец с расстоянием до центра города в километрах - 'citycenter_km'"
   ]
  },
  {
   "cell_type": "code",
   "execution_count": 56,
   "metadata": {},
   "outputs": [],
   "source": [
    "data['citycenter_km'] = (data['cityCenters_nearest']/1000).round(3) # чтобы перевести метры в километры, надо разделить на 1000"
   ]
  },
  {
   "cell_type": "markdown",
   "metadata": {},
   "source": [
    "## Шаг 3. Исследовательский анализ данных"
   ]
  },
  {
   "cell_type": "markdown",
   "metadata": {},
   "source": [
    "#### Изучим отдельные параметры"
   ]
  },
  {
   "cell_type": "markdown",
   "metadata": {},
   "source": [
    "Изучим следующие столбцы:\n",
    " - общая площадь\n",
    " - жилая площадь\n",
    " - площадь кухни\n",
    " - цена объекта\n",
    " - количество комнат\n",
    " - высота потолков\n",
    " - этаж квартиры\n",
    " - типа этажа квартиры\n",
    " - общее кол-во этажей в доме\n",
    " - расстояние до центра города в метрах\n",
    " - расстояние до ближайшего аэропорта\n",
    " - расстояние до ближайшего парка\n",
    " - день и месяц публикации объявления.\n",
    " \n"
   ]
  },
  {
   "cell_type": "code",
   "execution_count": 57,
   "metadata": {},
   "outputs": [
    {
     "data": {
      "text/plain": [
       "<AxesSubplot:>"
      ]
     },
     "execution_count": 57,
     "metadata": {},
     "output_type": "execute_result"
    },
    {
     "data": {
      "image/png": "[encoded data removed]",
      "text/plain": [
       "<Figure size 432x288 with 1 Axes>"
      ]
     },
     "metadata": {
      "needs_background": "light"
     },
     "output_type": "display_data"
    }
   ],
   "source": [
    "data['total_area'].hist(bins = 30) # гистограмма для общей площади"
   ]
  },
  {
   "cell_type": "markdown",
   "metadata": {},
   "source": [
    "Распределение похоже на распределение Пуассона, что говорит о нормальности данных. Большинство квартир состоит в отрезке от 30 до 100 квадратных метров - это самые популярные квартиры. Менее популярны квартиры с площадью более 100 - такие квартиры считают дорогим сегментом, поэтому на рынке их не так много."
   ]
  },
  {
   "cell_type": "code",
   "execution_count": 58,
   "metadata": {},
   "outputs": [
    {
     "data": {
      "text/plain": [
       "<AxesSubplot:>"
      ]
     },
     "execution_count": 58,
     "metadata": {},
     "output_type": "execute_result"
    },
    {
     "data": {
      "image/png": "[encoded data removed]",
      "text/plain": [
       "<Figure size 432x288 with 1 Axes>"
      ]
     },
     "metadata": {
      "needs_background": "light"
     },
     "output_type": "display_data"
    }
   ],
   "source": [
    "data['living_area'].hist(bins = 30) # построим гистограмму для жилой площади"
   ]
  },
  {
   "cell_type": "markdown",
   "metadata": {},
   "source": [
    "Некоторые значения равны нулю - это апартаменты, где нет жилой площади. Самая распространенная жилая плошадь - до 50 кв.метров. Квартиры с площадью 0 - апартаменты. Квартир, с площадью более 55 кв.метров гораздо меньше на рынке - как и квартир с большей общей площадью.\n",
    "Распределение диаграммы схоже с распределением Пуассона."
   ]
  },
  {
   "cell_type": "code",
   "execution_count": 59,
   "metadata": {},
   "outputs": [
    {
     "data": {
      "text/plain": [
       "<AxesSubplot:>"
      ]
     },
     "execution_count": 59,
     "metadata": {},
     "output_type": "execute_result"
    },
    {
     "data": {
      "image/png": "[encoded data removed]",
      "text/plain": [
       "<Figure size 432x288 with 1 Axes>"
      ]
     },
     "metadata": {
      "needs_background": "light"
     },
     "output_type": "display_data"
    }
   ],
   "source": [
    "data['kitchen_area'].hist(bins = 50)"
   ]
  },
  {
   "cell_type": "markdown",
   "metadata": {},
   "source": [
    "Так же, как и с жилой площадью - нулевые значения относятся к студиям и апартаментам. Больше всего на рынке квартир с кухней от 5 до 10 кв.метров. Далее, чем больше кухня в квартире - тем меньше таких квартир в продаже - аналогично с общей и жилой площадью.\n",
    "Диаграмма так же похожа на распределение Пуассона."
   ]
  },
  {
   "cell_type": "code",
   "execution_count": 60,
   "metadata": {},
   "outputs": [
    {
     "data": {
      "text/plain": [
       "<AxesSubplot:>"
      ]
     },
     "execution_count": 60,
     "metadata": {},
     "output_type": "execute_result"
    },
    {
     "data": {
      "image/png": "[encoded data removed]",
      "text/plain": [
       "<Figure size 432x288 with 1 Axes>"
      ]
     },
     "metadata": {
      "needs_background": "light"
     },
     "output_type": "display_data"
    }
   ],
   "source": [
    "data['last_price'].hist(bins = 60)"
   ]
  },
  {
   "cell_type": "code",
   "execution_count": 61,
   "metadata": {},
   "outputs": [
    {
     "data": {
      "text/plain": [
       "count    1.430800e+04\n",
       "mean     6.255407e+06\n",
       "std      5.462729e+06\n",
       "min      1.219000e+04\n",
       "25%      3.550000e+06\n",
       "50%      4.800000e+06\n",
       "75%      6.990000e+06\n",
       "max      1.400000e+08\n",
       "Name: last_price, dtype: float64"
      ]
     },
     "execution_count": 61,
     "metadata": {},
     "output_type": "execute_result"
    }
   ],
   "source": [
    "data['last_price'].describe()"
   ]
  },
  {
   "cell_type": "markdown",
   "metadata": {},
   "source": [
    "Самые распространенные объявления - квартиры со стоимостью 4,8 миллиона (медиана), менее всего квартир со стоимостью от 6,9 миллионов. \n",
    "Распределение схоже с распределением Пуассона. "
   ]
  },
  {
   "cell_type": "code",
   "execution_count": 62,
   "metadata": {},
   "outputs": [
    {
     "data": {
      "text/plain": [
       "<AxesSubplot:>"
      ]
     },
     "execution_count": 62,
     "metadata": {},
     "output_type": "execute_result"
    },
    {
     "data": {
      "image/png": "[encoded data removed]",
      "text/plain": [
       "<Figure size 432x288 with 1 Axes>"
      ]
     },
     "metadata": {
      "needs_background": "light"
     },
     "output_type": "display_data"
    }
   ],
   "source": [
    "data['rooms'].hist(bins = 20)"
   ]
  },
  {
   "cell_type": "markdown",
   "metadata": {},
   "source": [
    "Больше всего квартир с двумя комнатами, а также с одной. Квартиры без комнат - апартаменты."
   ]
  },
  {
   "cell_type": "code",
   "execution_count": 63,
   "metadata": {},
   "outputs": [
    {
     "data": {
      "text/plain": [
       "<AxesSubplot:>"
      ]
     },
     "execution_count": 63,
     "metadata": {},
     "output_type": "execute_result"
    },
    {
     "data": {
      "image/png": "[encoded data removed]",
      "text/plain": [
       "<Figure size 432x288 with 1 Axes>"
      ]
     },
     "metadata": {
      "needs_background": "light"
     },
     "output_type": "display_data"
    }
   ],
   "source": [
    "data['ceiling_height'].hist(bins = 35)"
   ]
  },
  {
   "cell_type": "markdown",
   "metadata": {},
   "source": [
    "Самая популярная высота потолка в объявлениях - до 3 метров. Чем выше потолок, тем меньше квартир.\n",
    "В диаграмме по высоте потолка есть провал в значениях между 2,8 метра и 3 метра. "
   ]
  },
  {
   "cell_type": "code",
   "execution_count": 64,
   "metadata": {},
   "outputs": [
    {
     "data": {
      "text/plain": [
       "<AxesSubplot:>"
      ]
     },
     "execution_count": 64,
     "metadata": {},
     "output_type": "execute_result"
    },
    {
     "data": {
      "image/png": "[encoded data removed]",
      "text/plain": [
       "<Figure size 432x288 with 1 Axes>"
      ]
     },
     "metadata": {
      "needs_background": "light"
     },
     "output_type": "display_data"
    }
   ],
   "source": [
    "data['floor'].hist(bins = 25)"
   ]
  },
  {
   "cell_type": "markdown",
   "metadata": {},
   "source": [
    "Больше всего квартир продавали на 2 этаже. Нулевых значений нет - нулевых этажей не бывает. Чем выше этаж квартиры, тем объявлений меньше."
   ]
  },
  {
   "cell_type": "code",
   "execution_count": 65,
   "metadata": {},
   "outputs": [
    {
     "data": {
      "text/plain": [
       "<AxesSubplot:>"
      ]
     },
     "execution_count": 65,
     "metadata": {},
     "output_type": "execute_result"
    },
    {
     "data": {
      "image/png": "[encoded data removed]",
      "text/plain": [
       "<Figure size 432x288 with 1 Axes>"
      ]
     },
     "metadata": {
      "needs_background": "light"
     },
     "output_type": "display_data"
    }
   ],
   "source": [
    "data['categorize_floor'].hist(bins = 5)"
   ]
  },
  {
   "cell_type": "markdown",
   "metadata": {},
   "source": [
    "Как и ожидалось, большинство квартир расположены не на первом и не на последнем этажах. Квартиры на последних этажах продавали чуть чаще, чем на первом."
   ]
  },
  {
   "cell_type": "code",
   "execution_count": 66,
   "metadata": {},
   "outputs": [
    {
     "data": {
      "text/plain": [
       "<AxesSubplot:>"
      ]
     },
     "execution_count": 66,
     "metadata": {},
     "output_type": "execute_result"
    },
    {
     "data": {
      "image/png": "[encoded data removed]",
      "text/plain": [
       "<Figure size 432x288 with 1 Axes>"
      ]
     },
     "metadata": {
      "needs_background": "light"
     },
     "output_type": "display_data"
    }
   ],
   "source": [
    "data['floors_total'].hist(bins = 25)"
   ]
  },
  {
   "cell_type": "markdown",
   "metadata": {},
   "source": [
    "Большее количество квартир продают в 5-этажных домах и 9-этажных домах. Это неудивительно, ведь 5- и 9-этажные дома самые распространенные в РФ. "
   ]
  },
  {
   "cell_type": "code",
   "execution_count": 67,
   "metadata": {},
   "outputs": [
    {
     "data": {
      "text/plain": [
       "<AxesSubplot:>"
      ]
     },
     "execution_count": 67,
     "metadata": {},
     "output_type": "execute_result"
    },
    {
     "data": {
      "image/png": "[encoded data removed]",
      "text/plain": [
       "<Figure size 432x288 with 1 Axes>"
      ]
     },
     "metadata": {
      "needs_background": "light"
     },
     "output_type": "display_data"
    }
   ],
   "source": [
    "data['cityCenters_nearest'].hist(bins = 25)"
   ]
  },
  {
   "cell_type": "markdown",
   "metadata": {},
   "source": [
    "В основном от центра города до продаваемой квартиры расстояние более 10 км. Небольшое количество квартир расположены прямо в центре, и достаточно много удалено от центра на расстояние более 20 км - скорее всего, это мелкие населенные пункты в области."
   ]
  },
  {
   "cell_type": "code",
   "execution_count": 68,
   "metadata": {},
   "outputs": [
    {
     "data": {
      "text/plain": [
       "<AxesSubplot:>"
      ]
     },
     "execution_count": 68,
     "metadata": {},
     "output_type": "execute_result"
    },
    {
     "data": {
      "image/png": "[encoded data removed]",
      "text/plain": [
       "<Figure size 432x288 with 1 Axes>"
      ]
     },
     "metadata": {
      "needs_background": "light"
     },
     "output_type": "display_data"
    }
   ],
   "source": [
    "data['airports_nearest'].hist(bins = 25)"
   ]
  },
  {
   "cell_type": "markdown",
   "metadata": {},
   "source": [
    "В этом столбце много пропущенных значений, но в среднем расстояние до ближайшего аэропорта 20 км."
   ]
  },
  {
   "cell_type": "code",
   "execution_count": 69,
   "metadata": {},
   "outputs": [
    {
     "data": {
      "text/plain": [
       "<AxesSubplot:>"
      ]
     },
     "execution_count": 69,
     "metadata": {},
     "output_type": "execute_result"
    },
    {
     "data": {
      "image/png": "[encoded data removed]",
      "text/plain": [
       "<Figure size 432x288 with 1 Axes>"
      ]
     },
     "metadata": {
      "needs_background": "light"
     },
     "output_type": "display_data"
    }
   ],
   "source": [
    "data['parks_nearest'].hist(bins = 25)"
   ]
  },
  {
   "cell_type": "markdown",
   "metadata": {},
   "source": [
    "Распределение схоже с распределением Пуассона. Расстояние до ближайшего парка в среднем 500 метров."
   ]
  },
  {
   "cell_type": "code",
   "execution_count": 70,
   "metadata": {},
   "outputs": [
    {
     "data": {
      "text/plain": [
       "<AxesSubplot:>"
      ]
     },
     "execution_count": 70,
     "metadata": {},
     "output_type": "execute_result"
    },
    {
     "data": {
      "image/png": "[encoded data removed]",
      "text/plain": [
       "<Figure size 432x288 with 1 Axes>"
      ]
     },
     "metadata": {
      "needs_background": "light"
     },
     "output_type": "display_data"
    }
   ],
   "source": [
    "data['publication_day_week'].hist(bins = 7)"
   ]
  },
  {
   "cell_type": "markdown",
   "metadata": {},
   "source": [
    "Большинство объявлений публиковалось в рабочие дни. В выходные дни число заметно уменьшается."
   ]
  },
  {
   "cell_type": "code",
   "execution_count": 71,
   "metadata": {},
   "outputs": [
    {
     "data": {
      "text/plain": [
       "<AxesSubplot:>"
      ]
     },
     "execution_count": 71,
     "metadata": {},
     "output_type": "execute_result"
    },
    {
     "data": {
      "image/png": "[encoded data removed]",
      "text/plain": [
       "<Figure size 432x288 with 1 Axes>"
      ]
     },
     "metadata": {
      "needs_background": "light"
     },
     "output_type": "display_data"
    }
   ],
   "source": [
    "data['publication_month'].hist(bins = 12)"
   ]
  },
  {
   "cell_type": "markdown",
   "metadata": {},
   "source": [
    "Большинство объявление публиковалось с февраля по апрель. Затем был спад и постепенный подьем до ноября. Затем снова провал. Наименьшее кол-во объявление было в мае."
   ]
  },
  {
   "cell_type": "markdown",
   "metadata": {},
   "source": [
    "#### Изучим, насколько быстро продавались квартиры"
   ]
  },
  {
   "cell_type": "markdown",
   "metadata": {},
   "source": [
    "Построим гистограмму для столбца \"days_exposition\". Затем посчитаем среднее и медиану."
   ]
  },
  {
   "cell_type": "code",
   "execution_count": 72,
   "metadata": {},
   "outputs": [
    {
     "name": "stdout",
     "output_type": "stream",
     "text": [
      "count    11899.000000\n",
      "mean       189.650139\n",
      "std        228.151048\n",
      "min          1.000000\n",
      "25%         45.000000\n",
      "50%        103.000000\n",
      "75%        246.000000\n",
      "max       1580.000000\n",
      "Name: days_exposition, dtype: float64\n"
     ]
    },
    {
     "data": {
      "image/png": "[encoded data removed]",
      "text/plain": [
       "<Figure size 432x288 with 1 Axes>"
      ]
     },
     "metadata": {
      "needs_background": "light"
     },
     "output_type": "display_data"
    }
   ],
   "source": [
    "data['days_exposition'].hist(bins = 20)\n",
    "print(data['days_exposition'].describe())"
   ]
  },
  {
   "cell_type": "markdown",
   "metadata": {},
   "source": [
    "Большинство объявлений было размещено до 100 дней. Также есть объявления, где продажа занимала менее месяца.\n",
    "По результатам диаграммы быстрой продажей можно считать объявления, срок размещения которых был менее 100 дней. Долгой продажей можно считать объявления со сроком от 200 дней. Крайне и необычно долгими - со сроком в 800 и более дней."
   ]
  },
  {
   "cell_type": "markdown",
   "metadata": {},
   "source": [
    "#### Изучение зависимости цены от других параметров"
   ]
  },
  {
   "cell_type": "markdown",
   "metadata": {},
   "source": [
    "Изучим, зависит ли цена от:\n",
    " - общей площади\n",
    " - жилой площади\n",
    " - площади кухни\n",
    " - количества комнат\n",
    " - этажа\n",
    " - даты размещения"
   ]
  },
  {
   "cell_type": "code",
   "execution_count": 73,
   "metadata": {},
   "outputs": [
    {
     "data": {
      "text/plain": [
       "<AxesSubplot:xlabel='общая площадь', ylabel='цена'>"
      ]
     },
     "execution_count": 73,
     "metadata": {},
     "output_type": "execute_result"
    },
    {
     "data": {
      "image/png": "[encoded data removed]",
      "text/plain": [
       "<Figure size 432x288 with 1 Axes>"
      ]
     },
     "metadata": {
      "needs_background": "light"
     },
     "output_type": "display_data"
    }
   ],
   "source": [
    "data.pivot_table(index='total_area', values='last_price', aggfunc='median').plot(xlabel='общая площадь', ylabel='цена')"
   ]
  },
  {
   "cell_type": "markdown",
   "metadata": {},
   "source": [
    "По графику наблюдается тенденция, можно сделать вывод: чем больше площадь, тем больше цена. Это логично и неудивительно. \n",
    "\n",
    "Посмотрим на коэффициент корреляции между двумя параметрами."
   ]
  },
  {
   "cell_type": "code",
   "execution_count": 74,
   "metadata": {},
   "outputs": [
    {
     "data": {
      "text/plain": [
       "0.8407059287505608"
      ]
     },
     "execution_count": 74,
     "metadata": {},
     "output_type": "execute_result"
    }
   ],
   "source": [
    "data['last_price'].corr(data['total_area'])"
   ]
  },
  {
   "cell_type": "markdown",
   "metadata": {},
   "source": [
    "Коэффициент корреляции Пирсона положительный и его значение близко к единице. Таким образом, можно с уверенностью сказать о зависимости этих двух параметров.\n",
    "\n",
    "Посмотрим на зависимость цены и жилой площади."
   ]
  },
  {
   "cell_type": "code",
   "execution_count": 75,
   "metadata": {},
   "outputs": [
    {
     "data": {
      "text/plain": [
       "<AxesSubplot:xlabel='жилая площадь', ylabel='цена'>"
      ]
     },
     "execution_count": 75,
     "metadata": {},
     "output_type": "execute_result"
    },
    {
     "data": {
      "image/png": "[encoded data removed]",
      "text/plain": [
       "<Figure size 432x288 with 1 Axes>"
      ]
     },
     "metadata": {
      "needs_background": "light"
     },
     "output_type": "display_data"
    }
   ],
   "source": [
    "data.pivot_table(index='living_area', values = 'last_price', aggfunc='median').plot(ylabel='цена', xlabel='жилая площадь', style='o')"
   ]
  },
  {
   "cell_type": "markdown",
   "metadata": {},
   "source": [
    "На диаграмме есть несколько разбросанных значений, выбивающихся из общей тенденции. Однако и по этой диаграмме можно сделать вывод о зависимости параметров.\n",
    "\n",
    "Посмотрим на коэффициент Пирсона."
   ]
  },
  {
   "cell_type": "code",
   "execution_count": 76,
   "metadata": {},
   "outputs": [
    {
     "data": {
      "text/plain": [
       "0.719722388964409"
      ]
     },
     "execution_count": 76,
     "metadata": {},
     "output_type": "execute_result"
    }
   ],
   "source": [
    "data['last_price'].corr(data['living_area'])"
   ]
  },
  {
   "cell_type": "markdown",
   "metadata": {},
   "source": [
    "Значение так же показывает о высокой зависимости между параметрами.\n",
    "\n",
    "Посмотрим на площадь кухни."
   ]
  },
  {
   "cell_type": "code",
   "execution_count": 77,
   "metadata": {},
   "outputs": [
    {
     "data": {
      "text/plain": [
       "<AxesSubplot:xlabel='площадь кухни', ylabel='цена'>"
      ]
     },
     "execution_count": 77,
     "metadata": {},
     "output_type": "execute_result"
    },
    {
     "data": {
      "image/png": "[encoded data removed]",
      "text/plain": [
       "<Figure size 432x288 with 1 Axes>"
      ]
     },
     "metadata": {
      "needs_background": "light"
     },
     "output_type": "display_data"
    }
   ],
   "source": [
    "data.pivot_table(index='kitchen_area', values = 'last_price', aggfunc='median').plot(ylabel='цена', xlabel='площадь кухни')"
   ]
  },
  {
   "cell_type": "markdown",
   "metadata": {},
   "source": [
    "По сравнению с диаграммами выше - здесь зависимость между ценой и площадью кухни гораздо ниже. Кроме того, есть много квартир без кухни.\n",
    "\n",
    "Посмотрим коэффициент Пирсона."
   ]
  },
  {
   "cell_type": "code",
   "execution_count": 78,
   "metadata": {},
   "outputs": [
    {
     "data": {
      "text/plain": [
       "0.5761010015604695"
      ]
     },
     "execution_count": 78,
     "metadata": {},
     "output_type": "execute_result"
    }
   ],
   "source": [
    "data['last_price'].corr(data['kitchen_area'])"
   ]
  },
  {
   "cell_type": "markdown",
   "metadata": {},
   "source": [
    "Коэффициент равен 0.5761 - это говорит о наличии зависимости, чем больше кухня, тем больше цена. Но коэффициент не велик - значит связь не настолько показательна.\n",
    "\n",
    "Рассмотрим зависимость между ценой и количеством комнат."
   ]
  },
  {
   "cell_type": "code",
   "execution_count": 79,
   "metadata": {},
   "outputs": [
    {
     "data": {
      "text/plain": [
       "<AxesSubplot:xlabel='количество комнат', ylabel='цена'>"
      ]
     },
     "execution_count": 79,
     "metadata": {},
     "output_type": "execute_result"
    },
    {
     "data": {
      "image/png": "[encoded data removed]",
      "text/plain": [
       "<Figure size 432x288 with 1 Axes>"
      ]
     },
     "metadata": {
      "needs_background": "light"
     },
     "output_type": "display_data"
    }
   ],
   "source": [
    "data.pivot_table(index='rooms', values='last_price', aggfunc='median').plot(xlabel='количество комнат', ylabel='цена')"
   ]
  },
  {
   "cell_type": "markdown",
   "metadata": {},
   "source": [
    "По данному графику можно сделать однозначный вывод: чем больше количество комнат, тем выше цена квартиры.\n",
    "\n",
    "Рассмотрим последний параметр - дата размещения, которая включает день недели, месяц и год."
   ]
  },
  {
   "cell_type": "code",
   "execution_count": 80,
   "metadata": {},
   "outputs": [
    {
     "data": {
      "text/plain": [
       "<AxesSubplot:xlabel='publication_day_week'>"
      ]
     },
     "execution_count": 80,
     "metadata": {},
     "output_type": "execute_result"
    },
    {
     "data": {
      "image/png": "[encoded data removed]",
      "text/plain": [
       "<Figure size 432x288 with 1 Axes>"
      ]
     },
     "metadata": {
      "needs_background": "light"
     },
     "output_type": "display_data"
    }
   ],
   "source": [
    "data.pivot_table(index='publication_day_week', values='last_price', aggfunc='median').plot()"
   ]
  },
  {
   "cell_type": "markdown",
   "metadata": {},
   "source": [
    "По данному графику видна отрицательная зависимость. В выходные дни размещали квартиры с меньшей стоимостью.\n",
    "\n",
    "Посчитаем коэффициент Пирсона."
   ]
  },
  {
   "cell_type": "code",
   "execution_count": 81,
   "metadata": {},
   "outputs": [
    {
     "data": {
      "text/plain": [
       "-0.020629899979950603"
      ]
     },
     "execution_count": 81,
     "metadata": {},
     "output_type": "execute_result"
    }
   ],
   "source": [
    "data['last_price'].corr(data['publication_day_week'])"
   ]
  },
  {
   "cell_type": "markdown",
   "metadata": {},
   "source": [
    "По коэффициенту Пирсона у параметров цены и дня размещения объявления зависимости нет. Связь отсутствует. \n",
    "\n",
    "Посмотрим на месяц размещения."
   ]
  },
  {
   "cell_type": "code",
   "execution_count": 82,
   "metadata": {},
   "outputs": [
    {
     "data": {
      "text/plain": [
       "<AxesSubplot:xlabel='publication_month'>"
      ]
     },
     "execution_count": 82,
     "metadata": {},
     "output_type": "execute_result"
    },
    {
     "data": {
      "image/png": "[encoded data removed]",
      "text/plain": [
       "<Figure size 432x288 with 1 Axes>"
      ]
     },
     "metadata": {
      "needs_background": "light"
     },
     "output_type": "display_data"
    }
   ],
   "source": [
    "data.pivot_table(index='publication_month', values='last_price', aggfunc='median').plot()"
   ]
  },
  {
   "cell_type": "markdown",
   "metadata": {},
   "source": [
    "Самые дорогие квартиры размещали в апреле и июле. Самые дешевые в июне и марте.\n",
    "По данному графику нельзя сделать вывод о зависимости - скорее всего ее тоже нет.\n",
    "Коэффициент Пирсона также свидетельствует об этом:"
   ]
  },
  {
   "cell_type": "code",
   "execution_count": 83,
   "metadata": {},
   "outputs": [
    {
     "data": {
      "text/plain": [
       "0.0024425581315227563"
      ]
     },
     "execution_count": 83,
     "metadata": {},
     "output_type": "execute_result"
    }
   ],
   "source": [
    "data['last_price'].corr(data['publication_month'])"
   ]
  },
  {
   "cell_type": "markdown",
   "metadata": {},
   "source": [
    "Посмотрим на год размещения."
   ]
  },
  {
   "cell_type": "code",
   "execution_count": 84,
   "metadata": {},
   "outputs": [
    {
     "data": {
      "text/plain": [
       "<AxesSubplot:xlabel='publication_year'>"
      ]
     },
     "execution_count": 84,
     "metadata": {},
     "output_type": "execute_result"
    },
    {
     "data": {
      "image/png": "[encoded data removed]",
      "text/plain": [
       "<Figure size 432x288 with 1 Axes>"
      ]
     },
     "metadata": {
      "needs_background": "light"
     },
     "output_type": "display_data"
    }
   ],
   "source": [
    "data.pivot_table(index='publication_year', values='last_price', aggfunc='median').plot()"
   ]
  },
  {
   "cell_type": "markdown",
   "metadata": {},
   "source": [
    "Здесь можно сделать вывод о том, что самые дешевые квартиры продавались с 2015 по 2018 года. С 2014 года наблюдается тенденция к удешевению недвижимости, а в 2018 году наблюдается подъем.\n",
    "\n",
    "Рассмотри коэффициент Пирсона. По нему также нельзя сказать, что цена зависит от года размещения объявления."
   ]
  },
  {
   "cell_type": "code",
   "execution_count": 85,
   "metadata": {},
   "outputs": [
    {
     "data": {
      "text/plain": [
       "<AxesSubplot:xlabel='publication_year'>"
      ]
     },
     "execution_count": 85,
     "metadata": {},
     "output_type": "execute_result"
    },
    {
     "data": {
      "image/png": "[encoded data removed]",
      "text/plain": [
       "<Figure size 432x288 with 1 Axes>"
      ]
     },
     "metadata": {
      "needs_background": "light"
     },
     "output_type": "display_data"
    }
   ],
   "source": [
    "data.pivot_table(index='publication_year', values='total_area', aggfunc='median').plot()"
   ]
  },
  {
   "cell_type": "markdown",
   "metadata": {},
   "source": [
    "Рассматривая график динамики общей площади продаваемых квартир видна тенденция к снижению. Можно предположить, что снизилась цена квартир именно за счет снижения площади квартир."
   ]
  },
  {
   "cell_type": "code",
   "execution_count": 86,
   "metadata": {},
   "outputs": [
    {
     "data": {
      "text/plain": [
       "-0.05432509305270193"
      ]
     },
     "execution_count": 86,
     "metadata": {},
     "output_type": "execute_result"
    }
   ],
   "source": [
    "data['last_price'].corr(data['publication_year'])"
   ]
  },
  {
   "cell_type": "markdown",
   "metadata": {},
   "source": [
    "#### Средняя цена квадратного метра \n",
    "Посчитаем среднюю цену одного квадратного метра в 10 населённых пунктах с наибольшим числом объявлений. Выделим населённые пункты с самой высокой и низкой стоимостью квадратного метра."
   ]
  },
  {
   "cell_type": "code",
   "execution_count": 87,
   "metadata": {},
   "outputs": [
    {
     "data": {
      "text/plain": [
       "locality_name\n",
       "санкт-петербург    9947\n",
       "всеволожск          271\n",
       "пушкин              234\n",
       "мурино              227\n",
       "шушары              216\n",
       "колпино             203\n",
       "кудрово             192\n",
       "гатчина             149\n",
       "петергоф            145\n",
       "парголово           137\n",
       "dtype: int64"
      ]
     },
     "execution_count": 87,
     "metadata": {},
     "output_type": "execute_result"
    }
   ],
   "source": [
    "data.value_counts('locality_name').head(10)"
   ]
  },
  {
   "cell_type": "code",
   "execution_count": 88,
   "metadata": {},
   "outputs": [],
   "source": [
    "max_ad = ['санкт-петербург', 'всеволожск', 'пушкин', 'мурино', 'шушары', 'колпино', 'кудрово', 'гатчина', 'петергоф', 'парголово']"
   ]
  },
  {
   "cell_type": "code",
   "execution_count": 89,
   "metadata": {},
   "outputs": [
    {
     "data": {
      "text/html": [
       "<div>\n",
       "<style scoped>\n",
       "    .dataframe tbody tr th:only-of-type {\n",
       "        vertical-align: middle;\n",
       "    }\n",
       "\n",
       "    .dataframe tbody tr th {\n",
       "        vertical-align: top;\n",
       "    }\n",
       "\n",
       "    .dataframe thead th {\n",
       "        text-align: right;\n",
       "    }\n",
       "</style>\n",
       "<table border=\"1\" class=\"dataframe\">\n",
       "  <thead>\n",
       "    <tr style=\"text-align: right;\">\n",
       "      <th></th>\n",
       "      <th>meter_price</th>\n",
       "    </tr>\n",
       "    <tr>\n",
       "      <th>locality_name</th>\n",
       "      <th></th>\n",
       "    </tr>\n",
       "  </thead>\n",
       "  <tbody>\n",
       "    <tr>\n",
       "      <th>всеволожск</th>\n",
       "      <td>67434.629936</td>\n",
       "    </tr>\n",
       "    <tr>\n",
       "      <th>гатчина</th>\n",
       "      <td>69992.693801</td>\n",
       "    </tr>\n",
       "    <tr>\n",
       "      <th>колпино</th>\n",
       "      <td>75938.525561</td>\n",
       "    </tr>\n",
       "    <tr>\n",
       "      <th>шушары</th>\n",
       "      <td>79286.491658</td>\n",
       "    </tr>\n",
       "    <tr>\n",
       "      <th>петергоф</th>\n",
       "      <td>85554.144673</td>\n",
       "    </tr>\n",
       "    <tr>\n",
       "      <th>мурино</th>\n",
       "      <td>87675.149631</td>\n",
       "    </tr>\n",
       "    <tr>\n",
       "      <th>парголово</th>\n",
       "      <td>90901.351145</td>\n",
       "    </tr>\n",
       "    <tr>\n",
       "      <th>кудрово</th>\n",
       "      <td>96052.444959</td>\n",
       "    </tr>\n",
       "    <tr>\n",
       "      <th>пушкин</th>\n",
       "      <td>103920.487928</td>\n",
       "    </tr>\n",
       "    <tr>\n",
       "      <th>санкт-петербург</th>\n",
       "      <td>111664.692883</td>\n",
       "    </tr>\n",
       "  </tbody>\n",
       "</table>\n",
       "</div>"
      ],
      "text/plain": [
       "                   meter_price\n",
       "locality_name                 \n",
       "всеволожск        67434.629936\n",
       "гатчина           69992.693801\n",
       "колпино           75938.525561\n",
       "шушары            79286.491658\n",
       "петергоф          85554.144673\n",
       "мурино            87675.149631\n",
       "парголово         90901.351145\n",
       "кудрово           96052.444959\n",
       "пушкин           103920.487928\n",
       "санкт-петербург  111664.692883"
      ]
     },
     "execution_count": 89,
     "metadata": {},
     "output_type": "execute_result"
    }
   ],
   "source": [
    "locality = data.loc[(data['locality_name'] == 'санкт-петербург') \n",
    "                    | (data['locality_name'] == 'всеволожск') \n",
    "                    | (data['locality_name'] == 'пушкин') \n",
    "                    | (data['locality_name'] == 'пушкин')\n",
    "                    | (data['locality_name'] == 'мурино')\n",
    "                    | (data['locality_name'] == 'шушары')\n",
    "                    | (data['locality_name'] == 'колпино')\n",
    "                    | (data['locality_name'] == 'кудрово')\n",
    "                    | (data['locality_name'] == 'гатчина')\n",
    "                    | (data['locality_name'] == 'петергоф')\n",
    "                    | (data['locality_name'] == 'парголово')\n",
    "                   ]\n",
    "\n",
    "# скорее всего, это можно было сделать как-то по-другому, но у меня нет идей\n",
    "\n",
    "locality.pivot_table(index='locality_name', values = 'meter_price', aggfunc='mean').sort_values(by='meter_price')"
   ]
  },
  {
   "cell_type": "markdown",
   "metadata": {},
   "source": [
    "Из 10 населенных пунктов с самым большим количеством объявлений, с самыми дорогими квартирами - Санкт-Петербург (111 664 рублей за кв.метр), а с самыми дешевыми - Всеволожск (67 434 рублей за кв.метр)"
   ]
  },
  {
   "cell_type": "code",
   "execution_count": 90,
   "metadata": {},
   "outputs": [
    {
     "data": {
      "text/html": [
       "<div>\n",
       "<style scoped>\n",
       "    .dataframe tbody tr th:only-of-type {\n",
       "        vertical-align: middle;\n",
       "    }\n",
       "\n",
       "    .dataframe tbody tr th {\n",
       "        vertical-align: top;\n",
       "    }\n",
       "\n",
       "    .dataframe thead th {\n",
       "        text-align: right;\n",
       "    }\n",
       "</style>\n",
       "<table border=\"1\" class=\"dataframe\">\n",
       "  <thead>\n",
       "    <tr style=\"text-align: right;\">\n",
       "      <th></th>\n",
       "      <th>meter_price</th>\n",
       "    </tr>\n",
       "    <tr>\n",
       "      <th>locality_name</th>\n",
       "      <th></th>\n",
       "    </tr>\n",
       "  </thead>\n",
       "  <tbody>\n",
       "    <tr>\n",
       "      <th>вахнова кара</th>\n",
       "      <td>11688.311688</td>\n",
       "    </tr>\n",
       "    <tr>\n",
       "      <th>совхозный</th>\n",
       "      <td>12555.555556</td>\n",
       "    </tr>\n",
       "    <tr>\n",
       "      <th>ефимовский</th>\n",
       "      <td>12686.567164</td>\n",
       "    </tr>\n",
       "    <tr>\n",
       "      <th>фалилеево</th>\n",
       "      <td>13303.769401</td>\n",
       "    </tr>\n",
       "    <tr>\n",
       "      <th>житково</th>\n",
       "      <td>15648.286140</td>\n",
       "    </tr>\n",
       "    <tr>\n",
       "      <th>...</th>\n",
       "      <td>...</td>\n",
       "    </tr>\n",
       "    <tr>\n",
       "      <th>пушкин</th>\n",
       "      <td>103920.487928</td>\n",
       "    </tr>\n",
       "    <tr>\n",
       "      <th>репино</th>\n",
       "      <td>104238.614786</td>\n",
       "    </tr>\n",
       "    <tr>\n",
       "      <th>бор</th>\n",
       "      <td>105539.261570</td>\n",
       "    </tr>\n",
       "    <tr>\n",
       "      <th>мистолово</th>\n",
       "      <td>107121.680644</td>\n",
       "    </tr>\n",
       "    <tr>\n",
       "      <th>санкт-петербург</th>\n",
       "      <td>111664.692883</td>\n",
       "    </tr>\n",
       "  </tbody>\n",
       "</table>\n",
       "<p>241 rows × 1 columns</p>\n",
       "</div>"
      ],
      "text/plain": [
       "                   meter_price\n",
       "locality_name                 \n",
       "вахнова кара      11688.311688\n",
       "совхозный         12555.555556\n",
       "ефимовский        12686.567164\n",
       "фалилеево         13303.769401\n",
       "житково           15648.286140\n",
       "...                        ...\n",
       "пушкин           103920.487928\n",
       "репино           104238.614786\n",
       "бор              105539.261570\n",
       "мистолово        107121.680644\n",
       "санкт-петербург  111664.692883\n",
       "\n",
       "[241 rows x 1 columns]"
      ]
     },
     "execution_count": 90,
     "metadata": {},
     "output_type": "execute_result"
    }
   ],
   "source": [
    "data.pivot_table(index='locality_name', values = 'meter_price', aggfunc='mean').sort_values(by='meter_price')"
   ]
  },
  {
   "cell_type": "markdown",
   "metadata": {},
   "source": [
    "Если рассматривать все населенные пункты - с самыми дешевыми квартирами становится Вахнова Кара (11 688 рублей за квадратнвй метр), а с самыми дорогими - Санкт-Петербург. "
   ]
  },
  {
   "cell_type": "markdown",
   "metadata": {},
   "source": [
    "#### Средняя цена километра в Санкт-Петербурге\n",
    "Выделим квартиры в Санкт-Петербурге и посчитаем среднюю цену каждого километра."
   ]
  },
  {
   "cell_type": "code",
   "execution_count": 91,
   "metadata": {},
   "outputs": [
    {
     "data": {
      "text/plain": [
       "1218113.329584818"
      ]
     },
     "execution_count": 91,
     "metadata": {},
     "output_type": "execute_result"
    }
   ],
   "source": [
    "mean_price_km_spb = data.loc[data['locality_name'] == 'санкт-петербург']\n",
    "(mean_price_km_spb['last_price']/mean_price_km_spb['citycenter_km']).mean()"
   ]
  },
  {
   "cell_type": "markdown",
   "metadata": {},
   "source": [
    "Средняя цена километра в Санкт-Петербурге = 1 218 113 рублей.\n",
    "\n",
    "    Чем ближе к центру города расположен объект, тем он дороже - это известная закономерность. Это объясняется тем, что в центре города сосредоточена городская инфраструктура, торговые центры, офисные здания, развлекательные центры и др. Соответственно, жильцам не придется тратить много времени на перемещение из квартиры до объектов инфраструктуры, тратить на бензин или общественный транспорт. Из центра города гораздо быстрее попасть в удаленные районы города, чем из одного района в другой."
   ]
  },
  {
   "cell_type": "markdown",
   "metadata": {},
   "source": [
    "#### Промежуточный вывод\n",
    "Большинство объявлений было размещено от 100 до 150 дней. Также есть объявления, где продажа занимала менее месяца.\n",
    "По результатам диаграммы быстрой продажей можно считать объявления, срок размещения которых был менее 100 дней. Долгой продажей можно считать объявления со сроком от 200 дней. Крайне и необычно долгими - со сроком в 800 и более дней.\n",
    "\n",
    "На цену квартиры влияют такие факторы, как общая площадь и жилая площадь (коэффициенты Пирсона равны 0,84 и 0,719) Менее значительно влияет площадь кухни.\n",
    "Совершенно не влияет дата размещения объявления.\n",
    "\n",
    "Из 10 населенных пунктов с самым большим количеством объявлений, с самыми дорогими квартирами - Санкт-Петербург (111 664 рублей за кв.метр), а с самыми дешевыми - Всеволожск (67 434 рублей за кв.метр)\n",
    "\n",
    "Средняя цена километра в Санкт-Петербурге = 1 218 113 рублей."
   ]
  },
  {
   "cell_type": "markdown",
   "metadata": {},
   "source": [
    "### Общий вывод"
   ]
  },
  {
   "cell_type": "markdown",
   "metadata": {},
   "source": [
    "Для выполнения исследования были предоставлены данные Яндекс.Недвижимости - архив объявлений о продаже квартир в Санкт-Петербурге и области. Основной задачей проекта стала предобработка данных, изучение особенностей и зависимостей для установки параметров для определения рыночной стоимости объектов недвижимости.\n",
    "  \n",
    "По каждому объявлению было доступно 2 вида данных: вписанные пользователем и полученные автоматически на основе картографических данных.\n",
    "      \n",
    "1. Предобработка данных\n",
    "      \n",
    "В ходе предобработки данных было выявлено много пропусков значений в разных столбцах. После чего был проведен анализ, и пропущенные значения (там, где возможно) были заполнены. Некоторые данные удалось восстановить, тем самым не теряя количество строк, а следовательно ценную информацию. Например, пропущенное число балконов было заменено нулями - так как скорее всего продавец при заполнении оставлял поле пустым, если балконов нет. Кроме того, пропущенная площадь кухни была заменена медианным значением площади кухни квартир, с таким же количеством комнат. Также было сделано и для жилой площади.\n",
    "\n",
    "\n",
    "Далее были изучены и отредактированы названия населенных пунктов, для того, чтобы не было различий. Например, \"поселок\" и \"посёлок\". \n",
    "\n",
    "Были обработаны выдающиеся значения, например высота потолка = 100 метров.\n",
    "\n",
    "Однако в таблице по-прежнему есть пропущенные значения, которые не удалось заменить. А их удаление сыграет отрицательную роль в распределении выборки.\n",
    "\n",
    "Пропуски в столбцах \"parks_around3000\" и \"ponds_around3000\" в одинаковом количестве – предположительно, был технический сбой. \n",
    "    \n",
    "2. Новые столбцы\n",
    "    \n",
    "Были рассчитаны новые показатели: \n",
    "   - цена квадратного метра\n",
    "   - день недели публикации\n",
    "   - месяц и год публикации\n",
    "   - тип этажа квартиры (первый, последний, другой)\n",
    "   - расстояние до центра города в километрах\n",
    "   \n",
    "3. Исследовательский анализ\n",
    "    \n",
    "Были изучены следующие параметры: \n",
    " - общая площадь\n",
    " - жилая площадь\n",
    " - площадь кухни\n",
    " - цена объекта\n",
    " - количество комнат\n",
    " - высота потолков\n",
    " - этаж квартиры\n",
    " - типа этажа квартиры\n",
    " - общее кол-во этажей в доме\n",
    " - расстояние до центра города в метрах\n",
    " - расстояние до ближайшего аэропорта\n",
    " - расстояние до ближайшего парка\n",
    " - день и месяц публикации объявления\n",
    "\n",
    "\n",
    "В основном все графики и гистограммы показывали распределение Пуассона, что говорит о нормальности распределения данных. \n",
    "\n",
    "Также было изучено, насколько быстро продавались квартиры. Большинство объявлений было размещено от 100 до 150 дней. Также есть объявления, где продажа занимала менее месяца. По результатам диаграммы быстрой продажей можно считать объявления, срок размещения которых был менее 100 дней. Долгой продажей можно считать объявления со сроком от 200 дней. Крайне и необычно долгими - со сроком в 800 и более дней.\n",
    "\n",
    "Больше всего на общую стоимость квартиры влияют такие факторы, как общая площадь и жилая площадь (коэффициенты Пирсона равны 0,84 и 0,719) Менее значительно влияет площадь кухни. Совершенно не влияет дата размещения объявления.\n",
    "\n",
    "Средняя цена квадратного метра в населенных пунктах с наибольшим числом объявлений: с самыми дорогими квартирами - Санкт-Петербург (111 664 рублей за кв.метр), а с самыми дешевыми - Всеволожск (67 434 рублей за кв.метр)\n",
    "\n",
    "Также была посчитана средняя цена километра в Санкт-Петербурге = 1 218 113 рублей.\n",
    "\n",
    "Чем ближе к центру города расположен объект, тем он дороже - это известная закономерность. Это объясняется тем, что в центре города сосредоточена городская инфраструктура, торговые центры, офисные здания, развлекательные центры и др. Соответственно, жильцам не придется тратить много времени на перемещение из квартиры до объектов инфраструктуры, тратить на бензин или общественный транспорт. Из центра города гораздо быстрее попасть в удаленные районы города, чем из одного района в другой.\n",
    "________________________________________________________________________\n",
    "\n",
    "Так как в данных было большое количество пропусков и аномальных значений - проводить достоверный анализ не представляется возможным. \n",
    "\n"
   ]
  }
 ],
 "metadata": {
  "ExecuteTimeLog": [
   {
    "duration": 66,
    "start_time": "2022-11-04T07:32:28.293Z"
   },
   {
    "duration": 705,
    "start_time": "2022-11-04T07:39:09.903Z"
   },
   {
    "duration": 86,
    "start_time": "2022-11-04T07:39:12.279Z"
   },
   {
    "duration": 95,
    "start_time": "2022-11-04T07:39:22.216Z"
   },
   {
    "duration": 107,
    "start_time": "2022-11-04T07:39:40.937Z"
   },
   {
    "duration": 107,
    "start_time": "2022-11-04T07:48:25.532Z"
   },
   {
    "duration": 23,
    "start_time": "2022-11-04T07:49:16.204Z"
   },
   {
    "duration": 13,
    "start_time": "2022-11-04T07:49:48.075Z"
   },
   {
    "duration": 5,
    "start_time": "2022-11-04T08:02:27.401Z"
   },
   {
    "duration": 5,
    "start_time": "2022-11-04T08:02:34.979Z"
   },
   {
    "duration": 38,
    "start_time": "2022-11-04T08:12:07.907Z"
   },
   {
    "duration": 2326,
    "start_time": "2022-11-04T08:12:11.119Z"
   },
   {
    "duration": 1818,
    "start_time": "2022-11-04T08:14:34.911Z"
   },
   {
    "duration": 2,
    "start_time": "2022-11-04T08:21:31.564Z"
   },
   {
    "duration": 43,
    "start_time": "2022-11-04T08:27:45.444Z"
   },
   {
    "duration": 7,
    "start_time": "2022-11-04T08:29:46.135Z"
   },
   {
    "duration": 8,
    "start_time": "2022-11-04T08:31:46.845Z"
   },
   {
    "duration": 7,
    "start_time": "2022-11-04T08:31:52.068Z"
   },
   {
    "duration": 7,
    "start_time": "2022-11-04T08:32:00.649Z"
   },
   {
    "duration": 78,
    "start_time": "2022-11-04T08:33:49.829Z"
   },
   {
    "duration": 10,
    "start_time": "2022-11-04T08:34:09.456Z"
   },
   {
    "duration": 8,
    "start_time": "2022-11-04T08:34:18.744Z"
   },
   {
    "duration": 7,
    "start_time": "2022-11-04T08:34:27.564Z"
   },
   {
    "duration": 33,
    "start_time": "2022-11-04T08:34:39.910Z"
   },
   {
    "duration": 69,
    "start_time": "2022-11-04T08:35:04.454Z"
   },
   {
    "duration": 37,
    "start_time": "2022-11-04T08:35:13.056Z"
   },
   {
    "duration": 36,
    "start_time": "2022-11-04T08:35:24.194Z"
   },
   {
    "duration": 57,
    "start_time": "2022-11-04T08:35:30.110Z"
   },
   {
    "duration": 64,
    "start_time": "2022-11-04T08:35:41.016Z"
   },
   {
    "duration": 5,
    "start_time": "2022-11-04T08:36:01.212Z"
   },
   {
    "duration": 6,
    "start_time": "2022-11-04T08:36:23.092Z"
   },
   {
    "duration": 4,
    "start_time": "2022-11-04T08:37:29.121Z"
   },
   {
    "duration": 6,
    "start_time": "2022-11-04T08:37:35.628Z"
   },
   {
    "duration": 4,
    "start_time": "2022-11-04T08:37:56.591Z"
   },
   {
    "duration": 6,
    "start_time": "2022-11-04T08:38:19.178Z"
   },
   {
    "duration": 3,
    "start_time": "2022-11-04T08:38:35.795Z"
   },
   {
    "duration": 6,
    "start_time": "2022-11-04T08:40:38.058Z"
   },
   {
    "duration": 4,
    "start_time": "2022-11-04T08:40:45.597Z"
   },
   {
    "duration": 14,
    "start_time": "2022-11-04T08:41:23.337Z"
   },
   {
    "duration": 12,
    "start_time": "2022-11-04T08:42:29.463Z"
   },
   {
    "duration": 3,
    "start_time": "2022-11-04T08:46:57.358Z"
   },
   {
    "duration": 5,
    "start_time": "2022-11-04T08:54:26.194Z"
   },
   {
    "duration": 5,
    "start_time": "2022-11-04T08:54:55.824Z"
   },
   {
    "duration": 8,
    "start_time": "2022-11-04T08:55:11.350Z"
   },
   {
    "duration": 6,
    "start_time": "2022-11-04T08:56:36.193Z"
   },
   {
    "duration": 6,
    "start_time": "2022-11-04T08:56:47.145Z"
   },
   {
    "duration": 6,
    "start_time": "2022-11-04T08:56:55.287Z"
   },
   {
    "duration": 6,
    "start_time": "2022-11-04T08:57:17.482Z"
   },
   {
    "duration": 24,
    "start_time": "2022-11-04T08:57:37.769Z"
   },
   {
    "duration": 5,
    "start_time": "2022-11-04T08:58:03.236Z"
   },
   {
    "duration": 5,
    "start_time": "2022-11-04T08:58:40.249Z"
   },
   {
    "duration": 62,
    "start_time": "2022-11-04T09:08:41.489Z"
   },
   {
    "duration": 9,
    "start_time": "2022-11-04T09:08:46.070Z"
   },
   {
    "duration": 6,
    "start_time": "2022-11-04T09:08:50.171Z"
   },
   {
    "duration": 13,
    "start_time": "2022-11-04T09:09:05.083Z"
   },
   {
    "duration": 17,
    "start_time": "2022-11-04T09:09:09.938Z"
   },
   {
    "duration": 30,
    "start_time": "2022-11-04T09:14:31.742Z"
   },
   {
    "duration": 26,
    "start_time": "2022-11-04T09:14:42.789Z"
   },
   {
    "duration": 27,
    "start_time": "2022-11-04T09:17:35.798Z"
   },
   {
    "duration": 39,
    "start_time": "2022-11-04T09:17:44.064Z"
   },
   {
    "duration": 27,
    "start_time": "2022-11-04T09:19:08.390Z"
   },
   {
    "duration": 26,
    "start_time": "2022-11-04T09:25:10.900Z"
   },
   {
    "duration": 19,
    "start_time": "2022-11-04T09:25:24.216Z"
   },
   {
    "duration": 504,
    "start_time": "2022-11-04T09:26:27.527Z"
   },
   {
    "duration": 15,
    "start_time": "2022-11-04T09:26:28.033Z"
   },
   {
    "duration": 2032,
    "start_time": "2022-11-04T09:26:28.049Z"
   },
   {
    "duration": 6,
    "start_time": "2022-11-04T09:26:30.083Z"
   },
   {
    "duration": 18,
    "start_time": "2022-11-04T09:26:30.090Z"
   },
   {
    "duration": 49,
    "start_time": "2022-11-04T09:26:30.109Z"
   },
   {
    "duration": 44,
    "start_time": "2022-11-04T09:26:30.159Z"
   },
   {
    "duration": 30,
    "start_time": "2022-11-04T09:26:30.204Z"
   },
   {
    "duration": 54,
    "start_time": "2022-11-04T09:26:30.236Z"
   },
   {
    "duration": 3,
    "start_time": "2022-11-04T09:27:10.305Z"
   },
   {
    "duration": 26,
    "start_time": "2022-11-04T09:27:23.053Z"
   },
   {
    "duration": 14,
    "start_time": "2022-11-04T09:31:38.814Z"
   },
   {
    "duration": 85,
    "start_time": "2022-11-04T09:47:42.032Z"
   },
   {
    "duration": 6,
    "start_time": "2022-11-04T09:50:28.592Z"
   },
   {
    "duration": 12,
    "start_time": "2022-11-04T09:51:06.162Z"
   },
   {
    "duration": 19,
    "start_time": "2022-11-04T09:51:32.785Z"
   },
   {
    "duration": 31,
    "start_time": "2022-11-04T09:53:22.724Z"
   },
   {
    "duration": 18,
    "start_time": "2022-11-04T09:55:36.484Z"
   },
   {
    "duration": 9,
    "start_time": "2022-11-04T09:55:55.558Z"
   },
   {
    "duration": 8,
    "start_time": "2022-11-04T09:56:26.586Z"
   },
   {
    "duration": 31,
    "start_time": "2022-11-04T09:56:33.576Z"
   },
   {
    "duration": 11,
    "start_time": "2022-11-04T09:57:13.758Z"
   },
   {
    "duration": 5,
    "start_time": "2022-11-04T09:59:09.510Z"
   },
   {
    "duration": 19,
    "start_time": "2022-11-04T09:59:15.117Z"
   },
   {
    "duration": 4,
    "start_time": "2022-11-04T09:59:21.970Z"
   },
   {
    "duration": 51,
    "start_time": "2022-11-04T10:00:17.545Z"
   },
   {
    "duration": 12,
    "start_time": "2022-11-04T10:00:49.348Z"
   },
   {
    "duration": 17,
    "start_time": "2022-11-04T10:03:53.019Z"
   },
   {
    "duration": 3,
    "start_time": "2022-11-04T10:05:56.876Z"
   },
   {
    "duration": 2,
    "start_time": "2022-11-04T10:11:48.347Z"
   },
   {
    "duration": 10,
    "start_time": "2022-11-04T10:12:44.075Z"
   },
   {
    "duration": 25,
    "start_time": "2022-11-04T10:14:06.258Z"
   },
   {
    "duration": 11,
    "start_time": "2022-11-04T10:14:28.360Z"
   },
   {
    "duration": 11,
    "start_time": "2022-11-04T10:14:39.994Z"
   },
   {
    "duration": 23,
    "start_time": "2022-11-04T10:14:58.540Z"
   },
   {
    "duration": 9,
    "start_time": "2022-11-04T10:16:01.568Z"
   },
   {
    "duration": 8,
    "start_time": "2022-11-04T10:19:09.910Z"
   },
   {
    "duration": 30,
    "start_time": "2022-11-04T10:19:20.213Z"
   },
   {
    "duration": 18,
    "start_time": "2022-11-04T10:38:16.152Z"
   },
   {
    "duration": 14,
    "start_time": "2022-11-04T10:38:18.307Z"
   },
   {
    "duration": 18,
    "start_time": "2022-11-04T10:38:28.295Z"
   },
   {
    "duration": 12,
    "start_time": "2022-11-04T10:38:46.392Z"
   },
   {
    "duration": 25,
    "start_time": "2022-11-04T10:38:58.575Z"
   },
   {
    "duration": 11,
    "start_time": "2022-11-04T10:39:45.798Z"
   },
   {
    "duration": 26,
    "start_time": "2022-11-04T10:40:27.216Z"
   },
   {
    "duration": 36,
    "start_time": "2022-11-04T10:41:33.603Z"
   },
   {
    "duration": 25,
    "start_time": "2022-11-04T10:41:34.685Z"
   },
   {
    "duration": 45,
    "start_time": "2022-11-04T10:43:46.009Z"
   },
   {
    "duration": 33,
    "start_time": "2022-11-04T10:43:46.772Z"
   },
   {
    "duration": 23,
    "start_time": "2022-11-04T10:45:25.998Z"
   },
   {
    "duration": 31,
    "start_time": "2022-11-04T10:45:32.701Z"
   },
   {
    "duration": 491,
    "start_time": "2022-11-04T10:45:43.237Z"
   },
   {
    "duration": 14,
    "start_time": "2022-11-04T10:45:43.730Z"
   },
   {
    "duration": 2179,
    "start_time": "2022-11-04T10:45:43.746Z"
   },
   {
    "duration": 5,
    "start_time": "2022-11-04T10:45:45.927Z"
   },
   {
    "duration": 9,
    "start_time": "2022-11-04T10:45:45.934Z"
   },
   {
    "duration": 29,
    "start_time": "2022-11-04T10:45:45.944Z"
   },
   {
    "duration": 26,
    "start_time": "2022-11-04T10:45:45.974Z"
   },
   {
    "duration": 8,
    "start_time": "2022-11-04T10:45:46.002Z"
   },
   {
    "duration": 8,
    "start_time": "2022-11-04T10:45:46.011Z"
   },
   {
    "duration": 26,
    "start_time": "2022-11-04T10:45:46.021Z"
   },
   {
    "duration": 62,
    "start_time": "2022-11-04T10:45:46.049Z"
   },
   {
    "duration": 52,
    "start_time": "2022-11-04T10:45:46.112Z"
   },
   {
    "duration": 24,
    "start_time": "2022-11-04T10:46:53.119Z"
   },
   {
    "duration": 46,
    "start_time": "2022-11-04T10:48:33.493Z"
   },
   {
    "duration": 46,
    "start_time": "2022-11-04T10:48:34.163Z"
   },
   {
    "duration": 25,
    "start_time": "2022-11-04T10:49:41.271Z"
   },
   {
    "duration": 45,
    "start_time": "2022-11-04T10:49:42.207Z"
   },
   {
    "duration": 27,
    "start_time": "2022-11-04T10:49:43.047Z"
   },
   {
    "duration": 23,
    "start_time": "2022-11-04T10:50:01.455Z"
   },
   {
    "duration": 8,
    "start_time": "2022-11-04T10:50:42.625Z"
   },
   {
    "duration": 6,
    "start_time": "2022-11-04T10:50:50.451Z"
   },
   {
    "duration": 39,
    "start_time": "2022-11-04T10:51:05.046Z"
   },
   {
    "duration": 183,
    "start_time": "2022-11-04T10:51:40.667Z"
   },
   {
    "duration": 119,
    "start_time": "2022-11-04T10:51:50.301Z"
   },
   {
    "duration": 111,
    "start_time": "2022-11-04T10:52:30.287Z"
   },
   {
    "duration": 125,
    "start_time": "2022-11-04T10:52:46.542Z"
   },
   {
    "duration": 168,
    "start_time": "2022-11-04T10:52:51.309Z"
   },
   {
    "duration": 242,
    "start_time": "2022-11-04T10:53:51.254Z"
   },
   {
    "duration": 124,
    "start_time": "2022-11-04T10:54:02.777Z"
   },
   {
    "duration": 5,
    "start_time": "2022-11-04T10:54:34.347Z"
   },
   {
    "duration": 23,
    "start_time": "2022-11-04T10:54:43.735Z"
   },
   {
    "duration": 38,
    "start_time": "2022-11-04T10:56:21.617Z"
   },
   {
    "duration": 138,
    "start_time": "2022-11-04T10:56:50.898Z"
   },
   {
    "duration": 35,
    "start_time": "2022-11-04T10:57:26.833Z"
   },
   {
    "duration": 106,
    "start_time": "2022-11-04T11:00:22.111Z"
   },
   {
    "duration": 115,
    "start_time": "2022-11-04T11:01:00.749Z"
   },
   {
    "duration": 129,
    "start_time": "2022-11-04T11:01:23.076Z"
   },
   {
    "duration": 120,
    "start_time": "2022-11-04T11:01:30.012Z"
   },
   {
    "duration": 132,
    "start_time": "2022-11-04T11:01:42.010Z"
   },
   {
    "duration": 110,
    "start_time": "2022-11-04T11:01:57.274Z"
   },
   {
    "duration": 138,
    "start_time": "2022-11-04T11:02:20.547Z"
   },
   {
    "duration": 142,
    "start_time": "2022-11-04T11:03:19.719Z"
   },
   {
    "duration": 111,
    "start_time": "2022-11-04T11:06:01.782Z"
   },
   {
    "duration": 113,
    "start_time": "2022-11-04T11:07:50.449Z"
   },
   {
    "duration": 121,
    "start_time": "2022-11-04T11:08:12.683Z"
   },
   {
    "duration": 748,
    "start_time": "2022-11-04T11:08:17.981Z"
   },
   {
    "duration": 16,
    "start_time": "2022-11-04T11:08:18.731Z"
   },
   {
    "duration": 1897,
    "start_time": "2022-11-04T11:08:18.748Z"
   },
   {
    "duration": 5,
    "start_time": "2022-11-04T11:08:20.647Z"
   },
   {
    "duration": 25,
    "start_time": "2022-11-04T11:08:20.654Z"
   },
   {
    "duration": 55,
    "start_time": "2022-11-04T11:08:20.680Z"
   },
   {
    "duration": 53,
    "start_time": "2022-11-04T11:08:20.736Z"
   },
   {
    "duration": 17,
    "start_time": "2022-11-04T11:08:20.790Z"
   },
   {
    "duration": 38,
    "start_time": "2022-11-04T11:08:20.809Z"
   },
   {
    "duration": 51,
    "start_time": "2022-11-04T11:08:20.849Z"
   },
   {
    "duration": 54,
    "start_time": "2022-11-04T11:08:20.902Z"
   },
   {
    "duration": 28,
    "start_time": "2022-11-04T11:08:20.959Z"
   },
   {
    "duration": 133,
    "start_time": "2022-11-04T11:08:20.989Z"
   },
   {
    "duration": 23,
    "start_time": "2022-11-04T11:08:21.124Z"
   },
   {
    "duration": 160,
    "start_time": "2022-11-04T11:08:21.149Z"
   },
   {
    "duration": 28,
    "start_time": "2022-11-04T11:08:21.310Z"
   },
   {
    "duration": 141,
    "start_time": "2022-11-04T11:08:21.340Z"
   },
   {
    "duration": 126,
    "start_time": "2022-11-04T11:08:21.483Z"
   },
   {
    "duration": 4,
    "start_time": "2022-11-04T11:11:56.769Z"
   },
   {
    "duration": 10,
    "start_time": "2022-11-04T11:14:18.561Z"
   },
   {
    "duration": 414,
    "start_time": "2022-11-04T11:16:41.086Z"
   },
   {
    "duration": 24,
    "start_time": "2022-11-04T11:17:00.398Z"
   },
   {
    "duration": 13,
    "start_time": "2022-11-04T11:20:07.788Z"
   },
   {
    "duration": 45,
    "start_time": "2022-11-04T11:21:25.668Z"
   },
   {
    "duration": 9,
    "start_time": "2022-11-04T11:24:56.955Z"
   },
   {
    "duration": 11,
    "start_time": "2022-11-04T11:25:11.095Z"
   },
   {
    "duration": 8,
    "start_time": "2022-11-04T11:26:29.901Z"
   },
   {
    "duration": 5,
    "start_time": "2022-11-04T11:26:45.209Z"
   },
   {
    "duration": 6,
    "start_time": "2022-11-04T11:27:18.366Z"
   },
   {
    "duration": 15,
    "start_time": "2022-11-04T11:28:25.934Z"
   },
   {
    "duration": 4,
    "start_time": "2022-11-04T11:28:34.559Z"
   },
   {
    "duration": 5,
    "start_time": "2022-11-04T11:29:46.570Z"
   },
   {
    "duration": 719,
    "start_time": "2022-11-04T11:29:53.865Z"
   },
   {
    "duration": 14,
    "start_time": "2022-11-04T11:29:54.586Z"
   },
   {
    "duration": 1827,
    "start_time": "2022-11-04T11:29:54.602Z"
   },
   {
    "duration": 5,
    "start_time": "2022-11-04T11:29:56.431Z"
   },
   {
    "duration": 36,
    "start_time": "2022-11-04T11:29:56.438Z"
   },
   {
    "duration": 31,
    "start_time": "2022-11-04T11:29:56.475Z"
   },
   {
    "duration": 26,
    "start_time": "2022-11-04T11:29:56.508Z"
   },
   {
    "duration": 7,
    "start_time": "2022-11-04T11:29:56.536Z"
   },
   {
    "duration": 12,
    "start_time": "2022-11-04T11:29:56.544Z"
   },
   {
    "duration": 11,
    "start_time": "2022-11-04T11:29:56.557Z"
   },
   {
    "duration": 8,
    "start_time": "2022-11-04T11:29:56.570Z"
   },
   {
    "duration": 21,
    "start_time": "2022-11-04T11:29:56.580Z"
   },
   {
    "duration": 46,
    "start_time": "2022-11-04T11:29:56.602Z"
   },
   {
    "duration": 25,
    "start_time": "2022-11-04T11:29:56.651Z"
   },
   {
    "duration": 140,
    "start_time": "2022-11-04T11:29:56.677Z"
   },
   {
    "duration": 27,
    "start_time": "2022-11-04T11:29:56.818Z"
   },
   {
    "duration": 156,
    "start_time": "2022-11-04T11:29:56.847Z"
   },
   {
    "duration": 30,
    "start_time": "2022-11-04T11:29:57.009Z"
   },
   {
    "duration": 129,
    "start_time": "2022-11-04T11:29:57.040Z"
   },
   {
    "duration": 118,
    "start_time": "2022-11-04T11:29:57.170Z"
   },
   {
    "duration": 22,
    "start_time": "2022-11-04T11:29:57.289Z"
   },
   {
    "duration": 80,
    "start_time": "2022-11-04T11:29:57.312Z"
   },
   {
    "duration": 5,
    "start_time": "2022-11-04T12:30:34.421Z"
   },
   {
    "duration": 10,
    "start_time": "2022-11-04T12:30:46.376Z"
   },
   {
    "duration": 12,
    "start_time": "2022-11-04T12:30:58.905Z"
   },
   {
    "duration": 13,
    "start_time": "2022-11-04T12:31:23.470Z"
   },
   {
    "duration": 13,
    "start_time": "2022-11-04T12:31:29.922Z"
   },
   {
    "duration": 13,
    "start_time": "2022-11-04T12:33:05.877Z"
   },
   {
    "duration": 8,
    "start_time": "2022-11-04T12:33:37.520Z"
   },
   {
    "duration": 8,
    "start_time": "2022-11-04T12:33:58.102Z"
   },
   {
    "duration": 8,
    "start_time": "2022-11-04T12:35:26.809Z"
   },
   {
    "duration": 19,
    "start_time": "2022-11-04T12:35:32.723Z"
   },
   {
    "duration": 757,
    "start_time": "2022-11-04T12:41:13.309Z"
   },
   {
    "duration": 17,
    "start_time": "2022-11-04T12:41:14.067Z"
   },
   {
    "duration": 1923,
    "start_time": "2022-11-04T12:41:14.086Z"
   },
   {
    "duration": 5,
    "start_time": "2022-11-04T12:41:16.011Z"
   },
   {
    "duration": 6,
    "start_time": "2022-11-04T12:41:16.019Z"
   },
   {
    "duration": 36,
    "start_time": "2022-11-04T12:41:16.026Z"
   },
   {
    "duration": 47,
    "start_time": "2022-11-04T12:41:16.064Z"
   },
   {
    "duration": 7,
    "start_time": "2022-11-04T12:41:16.113Z"
   },
   {
    "duration": 11,
    "start_time": "2022-11-04T12:41:16.122Z"
   },
   {
    "duration": 12,
    "start_time": "2022-11-04T12:41:16.134Z"
   },
   {
    "duration": 7,
    "start_time": "2022-11-04T12:41:16.147Z"
   },
   {
    "duration": 27,
    "start_time": "2022-11-04T12:41:16.155Z"
   },
   {
    "duration": 58,
    "start_time": "2022-11-04T12:41:16.184Z"
   },
   {
    "duration": 25,
    "start_time": "2022-11-04T12:41:16.244Z"
   },
   {
    "duration": 139,
    "start_time": "2022-11-04T12:41:16.271Z"
   },
   {
    "duration": 25,
    "start_time": "2022-11-04T12:41:16.413Z"
   },
   {
    "duration": 161,
    "start_time": "2022-11-04T12:41:16.440Z"
   },
   {
    "duration": 32,
    "start_time": "2022-11-04T12:41:16.602Z"
   },
   {
    "duration": 132,
    "start_time": "2022-11-04T12:41:16.636Z"
   },
   {
    "duration": 147,
    "start_time": "2022-11-04T12:41:16.770Z"
   },
   {
    "duration": 9,
    "start_time": "2022-11-04T12:41:16.919Z"
   },
   {
    "duration": 13,
    "start_time": "2022-11-04T12:41:16.929Z"
   },
   {
    "duration": 391,
    "start_time": "2022-11-04T12:49:19.562Z"
   },
   {
    "duration": 5,
    "start_time": "2022-11-04T12:50:32.452Z"
   },
   {
    "duration": 321,
    "start_time": "2022-11-04T12:51:17.300Z"
   },
   {
    "duration": 7,
    "start_time": "2022-11-04T12:52:24.733Z"
   },
   {
    "duration": 9,
    "start_time": "2022-11-04T12:52:37.729Z"
   },
   {
    "duration": 8,
    "start_time": "2022-11-04T12:53:21.990Z"
   },
   {
    "duration": 6,
    "start_time": "2022-11-04T12:54:25.689Z"
   },
   {
    "duration": 103,
    "start_time": "2022-11-04T12:54:32.095Z"
   },
   {
    "duration": 12,
    "start_time": "2022-11-04T12:55:29.429Z"
   },
   {
    "duration": 13,
    "start_time": "2022-11-04T12:56:49.221Z"
   },
   {
    "duration": 710,
    "start_time": "2022-11-04T13:03:04.429Z"
   },
   {
    "duration": 17,
    "start_time": "2022-11-04T13:03:05.140Z"
   },
   {
    "duration": 1954,
    "start_time": "2022-11-04T13:03:05.159Z"
   },
   {
    "duration": 7,
    "start_time": "2022-11-04T13:03:07.115Z"
   },
   {
    "duration": 19,
    "start_time": "2022-11-04T13:03:07.124Z"
   },
   {
    "duration": 38,
    "start_time": "2022-11-04T13:03:07.145Z"
   },
   {
    "duration": 25,
    "start_time": "2022-11-04T13:03:07.185Z"
   },
   {
    "duration": 7,
    "start_time": "2022-11-04T13:03:07.212Z"
   },
   {
    "duration": 8,
    "start_time": "2022-11-04T13:03:07.220Z"
   },
   {
    "duration": 6,
    "start_time": "2022-11-04T13:03:07.230Z"
   },
   {
    "duration": 3,
    "start_time": "2022-11-04T13:03:07.237Z"
   },
   {
    "duration": 19,
    "start_time": "2022-11-04T13:03:07.242Z"
   },
   {
    "duration": 62,
    "start_time": "2022-11-04T13:03:07.263Z"
   },
   {
    "duration": 24,
    "start_time": "2022-11-04T13:03:07.328Z"
   },
   {
    "duration": 133,
    "start_time": "2022-11-04T13:03:07.354Z"
   },
   {
    "duration": 34,
    "start_time": "2022-11-04T13:03:07.489Z"
   },
   {
    "duration": 140,
    "start_time": "2022-11-04T13:03:07.524Z"
   },
   {
    "duration": 27,
    "start_time": "2022-11-04T13:03:07.665Z"
   },
   {
    "duration": 129,
    "start_time": "2022-11-04T13:03:07.693Z"
   },
   {
    "duration": 124,
    "start_time": "2022-11-04T13:03:07.823Z"
   },
   {
    "duration": 10,
    "start_time": "2022-11-04T13:03:07.958Z"
   },
   {
    "duration": 9,
    "start_time": "2022-11-04T13:03:09.681Z"
   },
   {
    "duration": 13,
    "start_time": "2022-11-04T13:07:41.568Z"
   },
   {
    "duration": 122,
    "start_time": "2022-11-04T13:08:23.699Z"
   },
   {
    "duration": 13,
    "start_time": "2022-11-04T13:11:23.481Z"
   },
   {
    "duration": 21,
    "start_time": "2022-11-04T13:11:42.422Z"
   },
   {
    "duration": 61,
    "start_time": "2022-11-04T13:14:54.924Z"
   },
   {
    "duration": 22,
    "start_time": "2022-11-04T13:15:03.200Z"
   },
   {
    "duration": 131,
    "start_time": "2022-11-04T13:15:27.358Z"
   },
   {
    "duration": 27,
    "start_time": "2022-11-04T13:16:48.636Z"
   },
   {
    "duration": 17,
    "start_time": "2022-11-04T13:17:06.578Z"
   },
   {
    "duration": 45,
    "start_time": "2022-11-04T13:17:08.929Z"
   },
   {
    "duration": 23,
    "start_time": "2022-11-04T13:17:10.721Z"
   },
   {
    "duration": 734,
    "start_time": "2022-11-04T13:17:27.620Z"
   },
   {
    "duration": 20,
    "start_time": "2022-11-04T13:17:28.356Z"
   },
   {
    "duration": 1883,
    "start_time": "2022-11-04T13:17:28.378Z"
   },
   {
    "duration": 6,
    "start_time": "2022-11-04T13:17:30.262Z"
   },
   {
    "duration": 29,
    "start_time": "2022-11-04T13:17:30.270Z"
   },
   {
    "duration": 47,
    "start_time": "2022-11-04T13:17:30.300Z"
   },
   {
    "duration": 27,
    "start_time": "2022-11-04T13:17:30.349Z"
   },
   {
    "duration": 18,
    "start_time": "2022-11-04T13:17:30.378Z"
   },
   {
    "duration": 32,
    "start_time": "2022-11-04T13:17:30.398Z"
   },
   {
    "duration": 25,
    "start_time": "2022-11-04T13:17:30.431Z"
   },
   {
    "duration": 19,
    "start_time": "2022-11-04T13:17:30.457Z"
   },
   {
    "duration": 27,
    "start_time": "2022-11-04T13:17:30.478Z"
   },
   {
    "duration": 48,
    "start_time": "2022-11-04T13:17:30.506Z"
   },
   {
    "duration": 24,
    "start_time": "2022-11-04T13:17:30.556Z"
   },
   {
    "duration": 137,
    "start_time": "2022-11-04T13:17:30.581Z"
   },
   {
    "duration": 24,
    "start_time": "2022-11-04T13:17:30.720Z"
   },
   {
    "duration": 159,
    "start_time": "2022-11-04T13:17:30.745Z"
   },
   {
    "duration": 28,
    "start_time": "2022-11-04T13:17:30.909Z"
   },
   {
    "duration": 119,
    "start_time": "2022-11-04T13:17:30.939Z"
   },
   {
    "duration": 124,
    "start_time": "2022-11-04T13:17:31.061Z"
   },
   {
    "duration": 22,
    "start_time": "2022-11-04T13:17:31.187Z"
   },
   {
    "duration": 52,
    "start_time": "2022-11-04T13:17:31.210Z"
   },
   {
    "duration": 146,
    "start_time": "2022-11-04T13:17:31.264Z"
   },
   {
    "duration": 24,
    "start_time": "2022-11-04T13:18:15.481Z"
   },
   {
    "duration": 47,
    "start_time": "2022-11-04T13:18:18.020Z"
   },
   {
    "duration": 25,
    "start_time": "2022-11-04T13:18:20.447Z"
   },
   {
    "duration": 61,
    "start_time": "2022-11-04T13:19:30.147Z"
   },
   {
    "duration": 26,
    "start_time": "2022-11-04T13:19:32.232Z"
   },
   {
    "duration": 70,
    "start_time": "2022-11-04T13:20:11.120Z"
   },
   {
    "duration": 27,
    "start_time": "2022-11-04T13:20:12.080Z"
   },
   {
    "duration": 84,
    "start_time": "2022-11-04T13:20:59.474Z"
   },
   {
    "duration": 26,
    "start_time": "2022-11-04T13:21:00.474Z"
   },
   {
    "duration": 25,
    "start_time": "2022-11-04T13:21:24.547Z"
   },
   {
    "duration": 26,
    "start_time": "2022-11-04T13:21:30.023Z"
   },
   {
    "duration": 116,
    "start_time": "2022-11-04T13:24:50.606Z"
   },
   {
    "duration": 59,
    "start_time": "2022-11-04T13:29:12.492Z"
   },
   {
    "duration": 89,
    "start_time": "2022-11-04T13:29:16.156Z"
   },
   {
    "duration": 10,
    "start_time": "2022-11-04T13:29:29.382Z"
   },
   {
    "duration": 15,
    "start_time": "2022-11-04T13:32:05.736Z"
   },
   {
    "duration": 20,
    "start_time": "2022-11-04T13:32:15.763Z"
   },
   {
    "duration": 5,
    "start_time": "2022-11-04T13:32:27.830Z"
   },
   {
    "duration": 74,
    "start_time": "2022-11-04T13:32:31.403Z"
   },
   {
    "duration": 4,
    "start_time": "2022-11-04T13:33:24.454Z"
   },
   {
    "duration": 16,
    "start_time": "2022-11-04T13:33:33.046Z"
   },
   {
    "duration": 714,
    "start_time": "2022-11-04T13:34:40.935Z"
   },
   {
    "duration": 21,
    "start_time": "2022-11-04T13:34:41.651Z"
   },
   {
    "duration": 1915,
    "start_time": "2022-11-04T13:34:41.674Z"
   },
   {
    "duration": 5,
    "start_time": "2022-11-04T13:34:43.591Z"
   },
   {
    "duration": 6,
    "start_time": "2022-11-04T13:34:43.598Z"
   },
   {
    "duration": 31,
    "start_time": "2022-11-04T13:34:43.605Z"
   },
   {
    "duration": 26,
    "start_time": "2022-11-04T13:34:43.637Z"
   },
   {
    "duration": 7,
    "start_time": "2022-11-04T13:34:43.664Z"
   },
   {
    "duration": 12,
    "start_time": "2022-11-04T13:34:43.673Z"
   },
   {
    "duration": 5,
    "start_time": "2022-11-04T13:34:43.688Z"
   },
   {
    "duration": 14,
    "start_time": "2022-11-04T13:34:43.695Z"
   },
   {
    "duration": 18,
    "start_time": "2022-11-04T13:34:43.711Z"
   },
   {
    "duration": 96,
    "start_time": "2022-11-04T13:34:43.731Z"
   },
   {
    "duration": 29,
    "start_time": "2022-11-04T13:34:43.829Z"
   },
   {
    "duration": 133,
    "start_time": "2022-11-04T13:34:43.859Z"
   },
   {
    "duration": 32,
    "start_time": "2022-11-04T13:34:43.994Z"
   },
   {
    "duration": 152,
    "start_time": "2022-11-04T13:34:44.027Z"
   },
   {
    "duration": 41,
    "start_time": "2022-11-04T13:34:44.181Z"
   },
   {
    "duration": 128,
    "start_time": "2022-11-04T13:34:44.224Z"
   },
   {
    "duration": 116,
    "start_time": "2022-11-04T13:34:44.353Z"
   },
   {
    "duration": 8,
    "start_time": "2022-11-04T13:34:44.471Z"
   },
   {
    "duration": 28,
    "start_time": "2022-11-04T13:34:44.481Z"
   },
   {
    "duration": 127,
    "start_time": "2022-11-04T13:34:44.510Z"
   },
   {
    "duration": 52,
    "start_time": "2022-11-04T13:34:44.639Z"
   },
   {
    "duration": 35,
    "start_time": "2022-11-04T13:34:44.693Z"
   },
   {
    "duration": 692,
    "start_time": "2022-11-04T13:35:11.642Z"
   },
   {
    "duration": 15,
    "start_time": "2022-11-04T13:35:12.336Z"
   },
   {
    "duration": 1960,
    "start_time": "2022-11-04T13:35:12.353Z"
   },
   {
    "duration": 5,
    "start_time": "2022-11-04T13:35:14.315Z"
   },
   {
    "duration": 12,
    "start_time": "2022-11-04T13:35:14.322Z"
   },
   {
    "duration": 32,
    "start_time": "2022-11-04T13:35:14.335Z"
   },
   {
    "duration": 26,
    "start_time": "2022-11-04T13:35:14.368Z"
   },
   {
    "duration": 17,
    "start_time": "2022-11-04T13:35:14.396Z"
   },
   {
    "duration": 9,
    "start_time": "2022-11-04T13:35:14.415Z"
   },
   {
    "duration": 7,
    "start_time": "2022-11-04T13:35:14.427Z"
   },
   {
    "duration": 4,
    "start_time": "2022-11-04T13:35:14.435Z"
   },
   {
    "duration": 27,
    "start_time": "2022-11-04T13:35:14.441Z"
   },
   {
    "duration": 106,
    "start_time": "2022-11-04T13:35:14.469Z"
   },
   {
    "duration": 33,
    "start_time": "2022-11-04T13:35:14.576Z"
   },
   {
    "duration": 125,
    "start_time": "2022-11-04T13:35:14.611Z"
   },
   {
    "duration": 25,
    "start_time": "2022-11-04T13:35:14.737Z"
   },
   {
    "duration": 151,
    "start_time": "2022-11-04T13:35:14.764Z"
   },
   {
    "duration": 27,
    "start_time": "2022-11-04T13:35:14.916Z"
   },
   {
    "duration": 122,
    "start_time": "2022-11-04T13:35:14.945Z"
   },
   {
    "duration": 119,
    "start_time": "2022-11-04T13:35:15.069Z"
   },
   {
    "duration": 19,
    "start_time": "2022-11-04T13:35:15.190Z"
   },
   {
    "duration": 14,
    "start_time": "2022-11-04T13:35:15.210Z"
   },
   {
    "duration": 129,
    "start_time": "2022-11-04T13:35:15.225Z"
   },
   {
    "duration": 53,
    "start_time": "2022-11-04T13:35:15.356Z"
   },
   {
    "duration": 117,
    "start_time": "2022-11-04T13:35:47.096Z"
   },
   {
    "duration": 746,
    "start_time": "2022-11-04T13:36:27.575Z"
   },
   {
    "duration": 16,
    "start_time": "2022-11-04T13:36:28.323Z"
   },
   {
    "duration": 1908,
    "start_time": "2022-11-04T13:36:28.341Z"
   },
   {
    "duration": 5,
    "start_time": "2022-11-04T13:36:30.252Z"
   },
   {
    "duration": 23,
    "start_time": "2022-11-04T13:36:30.259Z"
   },
   {
    "duration": 60,
    "start_time": "2022-11-04T13:36:30.283Z"
   },
   {
    "duration": 39,
    "start_time": "2022-11-04T13:36:30.345Z"
   },
   {
    "duration": 20,
    "start_time": "2022-11-04T13:36:30.385Z"
   },
   {
    "duration": 36,
    "start_time": "2022-11-04T13:36:30.407Z"
   },
   {
    "duration": 10,
    "start_time": "2022-11-04T13:36:30.445Z"
   },
   {
    "duration": 14,
    "start_time": "2022-11-04T13:36:30.456Z"
   },
   {
    "duration": 52,
    "start_time": "2022-11-04T13:36:30.471Z"
   },
   {
    "duration": 98,
    "start_time": "2022-11-04T13:36:30.525Z"
   },
   {
    "duration": 26,
    "start_time": "2022-11-04T13:36:30.625Z"
   },
   {
    "duration": 134,
    "start_time": "2022-11-04T13:36:30.653Z"
   },
   {
    "duration": 30,
    "start_time": "2022-11-04T13:36:30.789Z"
   },
   {
    "duration": 149,
    "start_time": "2022-11-04T13:36:30.821Z"
   },
   {
    "duration": 37,
    "start_time": "2022-11-04T13:36:30.972Z"
   },
   {
    "duration": 115,
    "start_time": "2022-11-04T13:36:31.011Z"
   },
   {
    "duration": 116,
    "start_time": "2022-11-04T13:36:31.127Z"
   },
   {
    "duration": 8,
    "start_time": "2022-11-04T13:36:31.245Z"
   },
   {
    "duration": 19,
    "start_time": "2022-11-04T13:36:31.255Z"
   },
   {
    "duration": 136,
    "start_time": "2022-11-04T13:36:31.275Z"
   },
   {
    "duration": 46,
    "start_time": "2022-11-04T13:36:31.413Z"
   },
   {
    "duration": 133,
    "start_time": "2022-11-04T13:36:31.460Z"
   },
   {
    "duration": 673,
    "start_time": "2022-11-04T13:37:15.448Z"
   },
   {
    "duration": 16,
    "start_time": "2022-11-04T13:37:16.123Z"
   },
   {
    "duration": 1808,
    "start_time": "2022-11-04T13:37:16.141Z"
   },
   {
    "duration": 5,
    "start_time": "2022-11-04T13:37:17.951Z"
   },
   {
    "duration": 4,
    "start_time": "2022-11-04T13:37:17.958Z"
   },
   {
    "duration": 28,
    "start_time": "2022-11-04T13:37:17.963Z"
   },
   {
    "duration": 25,
    "start_time": "2022-11-04T13:37:17.993Z"
   },
   {
    "duration": 8,
    "start_time": "2022-11-04T13:37:18.020Z"
   },
   {
    "duration": 9,
    "start_time": "2022-11-04T13:37:18.029Z"
   },
   {
    "duration": 6,
    "start_time": "2022-11-04T13:37:18.039Z"
   },
   {
    "duration": 5,
    "start_time": "2022-11-04T13:37:18.046Z"
   },
   {
    "duration": 18,
    "start_time": "2022-11-04T13:37:18.052Z"
   },
   {
    "duration": 102,
    "start_time": "2022-11-04T13:37:18.071Z"
   },
   {
    "duration": 25,
    "start_time": "2022-11-04T13:37:18.175Z"
   },
   {
    "duration": 124,
    "start_time": "2022-11-04T13:37:18.209Z"
   },
   {
    "duration": 23,
    "start_time": "2022-11-04T13:37:18.335Z"
   },
   {
    "duration": 140,
    "start_time": "2022-11-04T13:37:18.360Z"
   },
   {
    "duration": 32,
    "start_time": "2022-11-04T13:37:18.501Z"
   },
   {
    "duration": 130,
    "start_time": "2022-11-04T13:37:18.535Z"
   },
   {
    "duration": 116,
    "start_time": "2022-11-04T13:37:18.667Z"
   },
   {
    "duration": 10,
    "start_time": "2022-11-04T13:37:18.785Z"
   },
   {
    "duration": 15,
    "start_time": "2022-11-04T13:37:18.810Z"
   },
   {
    "duration": 139,
    "start_time": "2022-11-04T13:37:18.826Z"
   },
   {
    "duration": 8,
    "start_time": "2022-11-04T13:37:18.966Z"
   },
   {
    "duration": 128,
    "start_time": "2022-11-04T13:37:18.975Z"
   },
   {
    "duration": 24,
    "start_time": "2022-11-04T13:39:37.031Z"
   },
   {
    "duration": 26,
    "start_time": "2022-11-04T13:41:06.798Z"
   },
   {
    "duration": 39,
    "start_time": "2022-11-04T13:42:31.821Z"
   },
   {
    "duration": 788,
    "start_time": "2022-11-04T13:43:17.186Z"
   },
   {
    "duration": 17,
    "start_time": "2022-11-04T13:43:17.976Z"
   },
   {
    "duration": 1890,
    "start_time": "2022-11-04T13:43:17.995Z"
   },
   {
    "duration": 5,
    "start_time": "2022-11-04T13:43:19.888Z"
   },
   {
    "duration": 14,
    "start_time": "2022-11-04T13:43:19.895Z"
   },
   {
    "duration": 29,
    "start_time": "2022-11-04T13:43:19.911Z"
   },
   {
    "duration": 28,
    "start_time": "2022-11-04T13:43:19.942Z"
   },
   {
    "duration": 8,
    "start_time": "2022-11-04T13:43:19.972Z"
   },
   {
    "duration": 29,
    "start_time": "2022-11-04T13:43:19.982Z"
   },
   {
    "duration": 7,
    "start_time": "2022-11-04T13:43:20.014Z"
   },
   {
    "duration": 7,
    "start_time": "2022-11-04T13:43:20.022Z"
   },
   {
    "duration": 24,
    "start_time": "2022-11-04T13:43:20.031Z"
   },
   {
    "duration": 101,
    "start_time": "2022-11-04T13:43:20.056Z"
   },
   {
    "duration": 29,
    "start_time": "2022-11-04T13:43:20.159Z"
   },
   {
    "duration": 160,
    "start_time": "2022-11-04T13:43:20.190Z"
   },
   {
    "duration": 27,
    "start_time": "2022-11-04T13:43:20.351Z"
   },
   {
    "duration": 222,
    "start_time": "2022-11-04T13:43:20.379Z"
   },
   {
    "duration": 38,
    "start_time": "2022-11-04T13:43:20.603Z"
   },
   {
    "duration": 131,
    "start_time": "2022-11-04T13:43:20.643Z"
   },
   {
    "duration": 125,
    "start_time": "2022-11-04T13:43:20.775Z"
   },
   {
    "duration": 17,
    "start_time": "2022-11-04T13:43:20.901Z"
   },
   {
    "duration": 16,
    "start_time": "2022-11-04T13:43:20.920Z"
   },
   {
    "duration": 153,
    "start_time": "2022-11-04T13:43:20.938Z"
   },
   {
    "duration": 8,
    "start_time": "2022-11-04T13:43:21.093Z"
   },
   {
    "duration": 135,
    "start_time": "2022-11-04T13:43:21.109Z"
   },
   {
    "duration": 40,
    "start_time": "2022-11-04T13:43:21.245Z"
   },
   {
    "duration": 6,
    "start_time": "2022-11-04T13:44:18.634Z"
   },
   {
    "duration": 82,
    "start_time": "2022-11-04T13:44:53.234Z"
   },
   {
    "duration": 10,
    "start_time": "2022-11-04T13:45:01.469Z"
   },
   {
    "duration": 9,
    "start_time": "2022-11-04T13:45:18.783Z"
   },
   {
    "duration": 8,
    "start_time": "2022-11-04T13:45:34.682Z"
   },
   {
    "duration": 9,
    "start_time": "2022-11-04T13:47:49.751Z"
   },
   {
    "duration": 7,
    "start_time": "2022-11-04T13:48:19.496Z"
   },
   {
    "duration": 6,
    "start_time": "2022-11-04T13:48:28.178Z"
   },
   {
    "duration": 40,
    "start_time": "2022-11-04T13:48:41.290Z"
   },
   {
    "duration": 39,
    "start_time": "2022-11-04T13:48:48.994Z"
   },
   {
    "duration": 5,
    "start_time": "2022-11-04T13:48:57.671Z"
   },
   {
    "duration": 4,
    "start_time": "2022-11-04T13:50:12.750Z"
   },
   {
    "duration": 7,
    "start_time": "2022-11-04T13:50:18.566Z"
   },
   {
    "duration": 92,
    "start_time": "2022-11-04T13:50:59.884Z"
   },
   {
    "duration": 740,
    "start_time": "2022-11-04T13:51:19.179Z"
   },
   {
    "duration": 6,
    "start_time": "2022-11-04T13:51:27.008Z"
   },
   {
    "duration": 649,
    "start_time": "2022-11-04T14:01:10.234Z"
   },
   {
    "duration": 8,
    "start_time": "2022-11-04T14:03:39.429Z"
   },
   {
    "duration": 5,
    "start_time": "2022-11-04T14:03:48.147Z"
   },
   {
    "duration": 662,
    "start_time": "2022-11-04T14:03:59.465Z"
   },
   {
    "duration": 15,
    "start_time": "2022-11-04T14:04:00.129Z"
   },
   {
    "duration": 1828,
    "start_time": "2022-11-04T14:04:00.145Z"
   },
   {
    "duration": 5,
    "start_time": "2022-11-04T14:04:01.975Z"
   },
   {
    "duration": 26,
    "start_time": "2022-11-04T14:04:01.982Z"
   },
   {
    "duration": 43,
    "start_time": "2022-11-04T14:04:02.010Z"
   },
   {
    "duration": 26,
    "start_time": "2022-11-04T14:04:02.054Z"
   },
   {
    "duration": 7,
    "start_time": "2022-11-04T14:04:02.082Z"
   },
   {
    "duration": 21,
    "start_time": "2022-11-04T14:04:02.090Z"
   },
   {
    "duration": 22,
    "start_time": "2022-11-04T14:04:02.112Z"
   },
   {
    "duration": 44,
    "start_time": "2022-11-04T14:04:02.135Z"
   },
   {
    "duration": 34,
    "start_time": "2022-11-04T14:04:02.181Z"
   },
   {
    "duration": 94,
    "start_time": "2022-11-04T14:04:02.217Z"
   },
   {
    "duration": 24,
    "start_time": "2022-11-04T14:04:02.314Z"
   },
   {
    "duration": 130,
    "start_time": "2022-11-04T14:04:02.339Z"
   },
   {
    "duration": 26,
    "start_time": "2022-11-04T14:04:02.470Z"
   },
   {
    "duration": 187,
    "start_time": "2022-11-04T14:04:02.508Z"
   },
   {
    "duration": 47,
    "start_time": "2022-11-04T14:04:02.697Z"
   },
   {
    "duration": 134,
    "start_time": "2022-11-04T14:04:02.746Z"
   },
   {
    "duration": 127,
    "start_time": "2022-11-04T14:04:02.882Z"
   },
   {
    "duration": 8,
    "start_time": "2022-11-04T14:04:03.011Z"
   },
   {
    "duration": 15,
    "start_time": "2022-11-04T14:04:03.021Z"
   },
   {
    "duration": 141,
    "start_time": "2022-11-04T14:04:03.038Z"
   },
   {
    "duration": 8,
    "start_time": "2022-11-04T14:04:03.181Z"
   },
   {
    "duration": 130,
    "start_time": "2022-11-04T14:04:03.190Z"
   },
   {
    "duration": 5,
    "start_time": "2022-11-04T14:04:03.322Z"
   },
   {
    "duration": 18,
    "start_time": "2022-11-04T14:04:03.329Z"
   },
   {
    "duration": 14,
    "start_time": "2022-11-04T14:04:03.349Z"
   },
   {
    "duration": 14,
    "start_time": "2022-11-04T14:04:03.364Z"
   },
   {
    "duration": 5,
    "start_time": "2022-11-04T14:07:41.553Z"
   },
   {
    "duration": 4,
    "start_time": "2022-11-04T14:07:47.424Z"
   },
   {
    "duration": 5,
    "start_time": "2022-11-04T14:08:25.429Z"
   },
   {
    "duration": 738,
    "start_time": "2022-11-04T14:08:30.623Z"
   },
   {
    "duration": 14,
    "start_time": "2022-11-04T14:08:31.363Z"
   },
   {
    "duration": 1891,
    "start_time": "2022-11-04T14:08:31.378Z"
   },
   {
    "duration": 5,
    "start_time": "2022-11-04T14:08:33.271Z"
   },
   {
    "duration": 31,
    "start_time": "2022-11-04T14:08:33.277Z"
   },
   {
    "duration": 57,
    "start_time": "2022-11-04T14:08:33.310Z"
   },
   {
    "duration": 25,
    "start_time": "2022-11-04T14:08:33.368Z"
   },
   {
    "duration": 24,
    "start_time": "2022-11-04T14:08:33.395Z"
   },
   {
    "duration": 47,
    "start_time": "2022-11-04T14:08:33.421Z"
   },
   {
    "duration": 38,
    "start_time": "2022-11-04T14:08:33.470Z"
   },
   {
    "duration": 25,
    "start_time": "2022-11-04T14:08:33.510Z"
   },
   {
    "duration": 57,
    "start_time": "2022-11-04T14:08:33.537Z"
   },
   {
    "duration": 83,
    "start_time": "2022-11-04T14:08:33.596Z"
   },
   {
    "duration": 29,
    "start_time": "2022-11-04T14:08:33.681Z"
   },
   {
    "duration": 137,
    "start_time": "2022-11-04T14:08:33.712Z"
   },
   {
    "duration": 28,
    "start_time": "2022-11-04T14:08:33.852Z"
   },
   {
    "duration": 148,
    "start_time": "2022-11-04T14:08:33.882Z"
   },
   {
    "duration": 28,
    "start_time": "2022-11-04T14:08:34.032Z"
   },
   {
    "duration": 135,
    "start_time": "2022-11-04T14:08:34.061Z"
   },
   {
    "duration": 127,
    "start_time": "2022-11-04T14:08:34.198Z"
   },
   {
    "duration": 8,
    "start_time": "2022-11-04T14:08:34.327Z"
   },
   {
    "duration": 29,
    "start_time": "2022-11-04T14:08:34.336Z"
   },
   {
    "duration": 122,
    "start_time": "2022-11-04T14:08:34.367Z"
   },
   {
    "duration": 8,
    "start_time": "2022-11-04T14:08:34.491Z"
   },
   {
    "duration": 129,
    "start_time": "2022-11-04T14:08:34.509Z"
   },
   {
    "duration": 5,
    "start_time": "2022-11-04T14:08:34.640Z"
   },
   {
    "duration": 29,
    "start_time": "2022-11-04T14:08:34.646Z"
   },
   {
    "duration": 15,
    "start_time": "2022-11-04T14:08:34.679Z"
   },
   {
    "duration": 7,
    "start_time": "2022-11-04T14:08:53.689Z"
   },
   {
    "duration": 35,
    "start_time": "2022-11-04T14:09:55.759Z"
   },
   {
    "duration": 47,
    "start_time": "2022-11-04T14:11:22.627Z"
   },
   {
    "duration": 206,
    "start_time": "2022-11-04T14:11:51.931Z"
   },
   {
    "duration": 94,
    "start_time": "2022-11-04T14:12:12.657Z"
   },
   {
    "duration": 5,
    "start_time": "2022-11-04T14:12:22.422Z"
   },
   {
    "duration": 15,
    "start_time": "2022-11-04T14:12:27.691Z"
   },
   {
    "duration": 23,
    "start_time": "2022-11-04T14:12:41.205Z"
   },
   {
    "duration": 34,
    "start_time": "2022-11-04T14:15:23.854Z"
   },
   {
    "duration": 9,
    "start_time": "2022-11-04T14:17:42.262Z"
   },
   {
    "duration": 23,
    "start_time": "2022-11-04T14:17:49.667Z"
   },
   {
    "duration": 46,
    "start_time": "2022-11-04T14:18:17.573Z"
   },
   {
    "duration": 23,
    "start_time": "2022-11-04T14:21:38.107Z"
   },
   {
    "duration": 114,
    "start_time": "2022-11-04T14:21:41.405Z"
   },
   {
    "duration": 24,
    "start_time": "2022-11-04T14:21:41.941Z"
   },
   {
    "duration": 154,
    "start_time": "2022-11-04T14:23:43.620Z"
   },
   {
    "duration": 23,
    "start_time": "2022-11-04T14:23:43.776Z"
   },
   {
    "duration": 24,
    "start_time": "2022-11-04T14:23:51.155Z"
   },
   {
    "duration": 60,
    "start_time": "2022-11-04T14:24:26.348Z"
   },
   {
    "duration": 29,
    "start_time": "2022-11-04T14:24:26.819Z"
   },
   {
    "duration": 75,
    "start_time": "2022-11-04T14:24:42.844Z"
   },
   {
    "duration": 82,
    "start_time": "2022-11-04T14:28:15.776Z"
   },
   {
    "duration": 24,
    "start_time": "2022-11-04T14:28:16.294Z"
   },
   {
    "duration": 39,
    "start_time": "2022-11-04T14:28:18.006Z"
   },
   {
    "duration": 744,
    "start_time": "2022-11-04T14:28:34.079Z"
   },
   {
    "duration": 16,
    "start_time": "2022-11-04T14:28:34.825Z"
   },
   {
    "duration": 1834,
    "start_time": "2022-11-04T14:28:34.843Z"
   },
   {
    "duration": 7,
    "start_time": "2022-11-04T14:28:36.679Z"
   },
   {
    "duration": 4,
    "start_time": "2022-11-04T14:28:36.689Z"
   },
   {
    "duration": 28,
    "start_time": "2022-11-04T14:28:36.695Z"
   },
   {
    "duration": 26,
    "start_time": "2022-11-04T14:28:36.725Z"
   },
   {
    "duration": 8,
    "start_time": "2022-11-04T14:28:36.753Z"
   },
   {
    "duration": 6,
    "start_time": "2022-11-04T14:28:36.763Z"
   },
   {
    "duration": 7,
    "start_time": "2022-11-04T14:28:36.770Z"
   },
   {
    "duration": 4,
    "start_time": "2022-11-04T14:28:36.779Z"
   },
   {
    "duration": 47,
    "start_time": "2022-11-04T14:28:36.784Z"
   },
   {
    "duration": 99,
    "start_time": "2022-11-04T14:28:36.832Z"
   },
   {
    "duration": 22,
    "start_time": "2022-11-04T14:28:36.934Z"
   },
   {
    "duration": 28,
    "start_time": "2022-11-04T14:28:36.957Z"
   },
   {
    "duration": 139,
    "start_time": "2022-11-04T14:28:36.986Z"
   },
   {
    "duration": 25,
    "start_time": "2022-11-04T14:28:37.126Z"
   },
   {
    "duration": 148,
    "start_time": "2022-11-04T14:28:37.152Z"
   },
   {
    "duration": 31,
    "start_time": "2022-11-04T14:28:37.302Z"
   },
   {
    "duration": 119,
    "start_time": "2022-11-04T14:28:37.335Z"
   },
   {
    "duration": 119,
    "start_time": "2022-11-04T14:28:37.455Z"
   },
   {
    "duration": 9,
    "start_time": "2022-11-04T14:28:37.575Z"
   },
   {
    "duration": 27,
    "start_time": "2022-11-04T14:28:37.585Z"
   },
   {
    "duration": 130,
    "start_time": "2022-11-04T14:28:37.614Z"
   },
   {
    "duration": 8,
    "start_time": "2022-11-04T14:28:37.745Z"
   },
   {
    "duration": 129,
    "start_time": "2022-11-04T14:28:37.754Z"
   },
   {
    "duration": 4,
    "start_time": "2022-11-04T14:28:37.885Z"
   },
   {
    "duration": 5,
    "start_time": "2022-11-04T14:28:37.891Z"
   },
   {
    "duration": 17,
    "start_time": "2022-11-04T14:28:37.897Z"
   },
   {
    "duration": 225,
    "start_time": "2022-11-04T14:28:37.915Z"
   },
   {
    "duration": 28,
    "start_time": "2022-11-04T14:28:38.143Z"
   },
   {
    "duration": 8,
    "start_time": "2022-11-04T14:28:38.173Z"
   },
   {
    "duration": 57,
    "start_time": "2022-11-04T14:28:38.182Z"
   },
   {
    "duration": 30,
    "start_time": "2022-11-04T14:31:05.249Z"
   },
   {
    "duration": 730,
    "start_time": "2022-11-04T14:31:42.449Z"
   },
   {
    "duration": 7,
    "start_time": "2022-11-04T14:31:51.953Z"
   },
   {
    "duration": 25,
    "start_time": "2022-11-04T14:31:59.795Z"
   },
   {
    "duration": 6,
    "start_time": "2022-11-04T14:34:55.981Z"
   },
   {
    "duration": 153,
    "start_time": "2022-11-04T14:35:00.957Z"
   },
   {
    "duration": 6,
    "start_time": "2022-11-04T14:35:07.836Z"
   },
   {
    "duration": 8,
    "start_time": "2022-11-04T14:35:37.058Z"
   },
   {
    "duration": 6,
    "start_time": "2022-11-04T14:35:43.526Z"
   },
   {
    "duration": 7,
    "start_time": "2022-11-04T14:35:55.951Z"
   },
   {
    "duration": 12,
    "start_time": "2022-11-04T14:37:15.355Z"
   },
   {
    "duration": 941,
    "start_time": "2022-11-04T14:38:03.590Z"
   },
   {
    "duration": 3,
    "start_time": "2022-11-04T14:38:26.903Z"
   },
   {
    "duration": 5,
    "start_time": "2022-11-04T14:38:31.924Z"
   },
   {
    "duration": 21,
    "start_time": "2022-11-04T14:38:41.099Z"
   },
   {
    "duration": 7,
    "start_time": "2022-11-04T14:39:58.519Z"
   },
   {
    "duration": 7,
    "start_time": "2022-11-04T14:40:21.841Z"
   },
   {
    "duration": 8,
    "start_time": "2022-11-04T14:40:24.636Z"
   },
   {
    "duration": 7,
    "start_time": "2022-11-04T14:40:43.071Z"
   },
   {
    "duration": 5,
    "start_time": "2022-11-04T14:41:29.177Z"
   },
   {
    "duration": 7,
    "start_time": "2022-11-04T14:41:34.438Z"
   },
   {
    "duration": 5,
    "start_time": "2022-11-04T14:41:45.201Z"
   },
   {
    "duration": 23,
    "start_time": "2022-11-04T14:41:47.480Z"
   },
   {
    "duration": 6,
    "start_time": "2022-11-04T14:42:06.243Z"
   },
   {
    "duration": 44,
    "start_time": "2022-11-04T14:42:14.092Z"
   },
   {
    "duration": 37,
    "start_time": "2022-11-04T14:44:55.542Z"
   },
   {
    "duration": 182,
    "start_time": "2022-11-04T14:50:19.750Z"
   },
   {
    "duration": 219,
    "start_time": "2022-11-04T14:50:32.039Z"
   },
   {
    "duration": 329,
    "start_time": "2022-11-04T14:53:08.034Z"
   },
   {
    "duration": 12,
    "start_time": "2022-11-04T14:54:56.446Z"
   },
   {
    "duration": 12,
    "start_time": "2022-11-04T14:55:00.120Z"
   },
   {
    "duration": 6,
    "start_time": "2022-11-04T14:55:19.618Z"
   },
   {
    "duration": 12,
    "start_time": "2022-11-04T14:56:27.124Z"
   },
   {
    "duration": 412,
    "start_time": "2022-11-04T14:57:15.466Z"
   },
   {
    "duration": 731,
    "start_time": "2022-11-04T15:01:14.936Z"
   },
   {
    "duration": 6,
    "start_time": "2022-11-04T15:01:29.035Z"
   },
   {
    "duration": 5,
    "start_time": "2022-11-04T15:01:43.879Z"
   },
   {
    "duration": 4,
    "start_time": "2022-11-04T15:01:50.601Z"
   },
   {
    "duration": 8,
    "start_time": "2022-11-04T15:02:01.031Z"
   },
   {
    "duration": 48,
    "start_time": "2022-11-04T15:02:09.542Z"
   },
   {
    "duration": 5,
    "start_time": "2022-11-04T15:02:37.929Z"
   },
   {
    "duration": 56,
    "start_time": "2022-11-04T15:02:53.320Z"
   },
   {
    "duration": 6,
    "start_time": "2022-11-04T15:04:03.286Z"
   },
   {
    "duration": 96,
    "start_time": "2022-11-04T15:04:17.749Z"
   },
   {
    "duration": 707,
    "start_time": "2022-11-04T15:06:08.670Z"
   },
   {
    "duration": 17,
    "start_time": "2022-11-04T15:06:09.379Z"
   },
   {
    "duration": 1839,
    "start_time": "2022-11-04T15:06:09.398Z"
   },
   {
    "duration": 6,
    "start_time": "2022-11-04T15:06:11.238Z"
   },
   {
    "duration": 38,
    "start_time": "2022-11-04T15:06:11.246Z"
   },
   {
    "duration": 44,
    "start_time": "2022-11-04T15:06:11.285Z"
   },
   {
    "duration": 33,
    "start_time": "2022-11-04T15:06:11.331Z"
   },
   {
    "duration": 8,
    "start_time": "2022-11-04T15:06:11.365Z"
   },
   {
    "duration": 18,
    "start_time": "2022-11-04T15:06:11.374Z"
   },
   {
    "duration": 34,
    "start_time": "2022-11-04T15:06:11.394Z"
   },
   {
    "duration": 22,
    "start_time": "2022-11-04T15:06:11.430Z"
   },
   {
    "duration": 43,
    "start_time": "2022-11-04T15:06:11.453Z"
   },
   {
    "duration": 101,
    "start_time": "2022-11-04T15:06:11.498Z"
   },
   {
    "duration": 23,
    "start_time": "2022-11-04T15:06:11.603Z"
   },
   {
    "duration": 30,
    "start_time": "2022-11-04T15:06:11.628Z"
   },
   {
    "duration": 141,
    "start_time": "2022-11-04T15:06:11.660Z"
   },
   {
    "duration": 30,
    "start_time": "2022-11-04T15:06:11.803Z"
   },
   {
    "duration": 144,
    "start_time": "2022-11-04T15:06:11.834Z"
   },
   {
    "duration": 36,
    "start_time": "2022-11-04T15:06:11.980Z"
   },
   {
    "duration": 117,
    "start_time": "2022-11-04T15:06:12.018Z"
   },
   {
    "duration": 126,
    "start_time": "2022-11-04T15:06:12.137Z"
   },
   {
    "duration": 9,
    "start_time": "2022-11-04T15:06:12.266Z"
   },
   {
    "duration": 32,
    "start_time": "2022-11-04T15:06:12.277Z"
   },
   {
    "duration": 134,
    "start_time": "2022-11-04T15:06:12.311Z"
   },
   {
    "duration": 9,
    "start_time": "2022-11-04T15:06:12.448Z"
   },
   {
    "duration": 160,
    "start_time": "2022-11-04T15:06:12.458Z"
   },
   {
    "duration": 8,
    "start_time": "2022-11-04T15:06:12.620Z"
   },
   {
    "duration": 45,
    "start_time": "2022-11-04T15:06:12.630Z"
   },
   {
    "duration": 37,
    "start_time": "2022-11-04T15:06:12.677Z"
   },
   {
    "duration": 249,
    "start_time": "2022-11-04T15:06:12.716Z"
   },
   {
    "duration": 27,
    "start_time": "2022-11-04T15:06:12.966Z"
   },
   {
    "duration": 18,
    "start_time": "2022-11-04T15:06:12.995Z"
   },
   {
    "duration": 39,
    "start_time": "2022-11-04T15:06:13.014Z"
   },
   {
    "duration": 37,
    "start_time": "2022-11-04T15:06:13.055Z"
   },
   {
    "duration": 728,
    "start_time": "2022-11-04T15:10:56.920Z"
   },
   {
    "duration": 15,
    "start_time": "2022-11-04T15:10:57.650Z"
   },
   {
    "duration": 1819,
    "start_time": "2022-11-04T15:10:57.666Z"
   },
   {
    "duration": 6,
    "start_time": "2022-11-04T15:10:59.487Z"
   },
   {
    "duration": 6,
    "start_time": "2022-11-04T15:10:59.494Z"
   },
   {
    "duration": 30,
    "start_time": "2022-11-04T15:10:59.501Z"
   },
   {
    "duration": 25,
    "start_time": "2022-11-04T15:10:59.532Z"
   },
   {
    "duration": 7,
    "start_time": "2022-11-04T15:10:59.559Z"
   },
   {
    "duration": 7,
    "start_time": "2022-11-04T15:10:59.568Z"
   },
   {
    "duration": 7,
    "start_time": "2022-11-04T15:10:59.577Z"
   },
   {
    "duration": 4,
    "start_time": "2022-11-04T15:10:59.585Z"
   },
   {
    "duration": 18,
    "start_time": "2022-11-04T15:10:59.608Z"
   },
   {
    "duration": 172,
    "start_time": "2022-11-04T15:10:59.628Z"
   },
   {
    "duration": 24,
    "start_time": "2022-11-04T15:10:59.802Z"
   },
   {
    "duration": 23,
    "start_time": "2022-11-04T15:10:59.828Z"
   },
   {
    "duration": 137,
    "start_time": "2022-11-04T15:10:59.853Z"
   },
   {
    "duration": 30,
    "start_time": "2022-11-04T15:10:59.992Z"
   },
   {
    "duration": 149,
    "start_time": "2022-11-04T15:11:00.024Z"
   },
   {
    "duration": 43,
    "start_time": "2022-11-04T15:11:00.175Z"
   },
   {
    "duration": 118,
    "start_time": "2022-11-04T15:11:00.220Z"
   },
   {
    "duration": 131,
    "start_time": "2022-11-04T15:11:00.340Z"
   },
   {
    "duration": 10,
    "start_time": "2022-11-04T15:11:00.473Z"
   },
   {
    "duration": 32,
    "start_time": "2022-11-04T15:11:00.485Z"
   },
   {
    "duration": 182,
    "start_time": "2022-11-04T15:11:00.519Z"
   },
   {
    "duration": 12,
    "start_time": "2022-11-04T15:11:00.703Z"
   },
   {
    "duration": 152,
    "start_time": "2022-11-04T15:11:00.717Z"
   },
   {
    "duration": 5,
    "start_time": "2022-11-04T15:11:00.871Z"
   },
   {
    "duration": 14,
    "start_time": "2022-11-04T15:11:00.878Z"
   },
   {
    "duration": 31,
    "start_time": "2022-11-04T15:11:00.893Z"
   },
   {
    "duration": 224,
    "start_time": "2022-11-04T15:11:00.926Z"
   },
   {
    "duration": 25,
    "start_time": "2022-11-04T15:11:01.151Z"
   },
   {
    "duration": 43,
    "start_time": "2022-11-04T15:11:01.178Z"
   },
   {
    "duration": 35,
    "start_time": "2022-11-04T15:11:01.223Z"
   },
   {
    "duration": 19,
    "start_time": "2022-11-04T15:11:01.259Z"
   },
   {
    "duration": 806,
    "start_time": "2022-11-04T15:12:52.074Z"
   },
   {
    "duration": 15,
    "start_time": "2022-11-04T15:12:52.882Z"
   },
   {
    "duration": 1895,
    "start_time": "2022-11-04T15:12:52.898Z"
   },
   {
    "duration": 6,
    "start_time": "2022-11-04T15:12:54.795Z"
   },
   {
    "duration": 6,
    "start_time": "2022-11-04T15:12:54.802Z"
   },
   {
    "duration": 29,
    "start_time": "2022-11-04T15:12:54.810Z"
   },
   {
    "duration": 28,
    "start_time": "2022-11-04T15:12:54.841Z"
   },
   {
    "duration": 8,
    "start_time": "2022-11-04T15:12:54.871Z"
   },
   {
    "duration": 6,
    "start_time": "2022-11-04T15:12:54.881Z"
   },
   {
    "duration": 6,
    "start_time": "2022-11-04T15:12:54.909Z"
   },
   {
    "duration": 4,
    "start_time": "2022-11-04T15:12:54.916Z"
   },
   {
    "duration": 20,
    "start_time": "2022-11-04T15:12:54.921Z"
   },
   {
    "duration": 192,
    "start_time": "2022-11-04T15:12:54.942Z"
   },
   {
    "duration": 23,
    "start_time": "2022-11-04T15:12:55.136Z"
   },
   {
    "duration": 108,
    "start_time": "2022-11-04T15:12:55.160Z"
   },
   {
    "duration": 186,
    "start_time": "2022-11-04T15:12:55.270Z"
   },
   {
    "duration": 25,
    "start_time": "2022-11-04T15:12:55.457Z"
   },
   {
    "duration": 141,
    "start_time": "2022-11-04T15:12:55.483Z"
   },
   {
    "duration": 28,
    "start_time": "2022-11-04T15:12:55.625Z"
   },
   {
    "duration": 122,
    "start_time": "2022-11-04T15:12:55.655Z"
   },
   {
    "duration": 117,
    "start_time": "2022-11-04T15:12:55.779Z"
   },
   {
    "duration": 18,
    "start_time": "2022-11-04T15:12:55.897Z"
   },
   {
    "duration": 40,
    "start_time": "2022-11-04T15:12:55.916Z"
   },
   {
    "duration": 179,
    "start_time": "2022-11-04T15:12:55.958Z"
   },
   {
    "duration": 7,
    "start_time": "2022-11-04T15:12:56.139Z"
   },
   {
    "duration": 122,
    "start_time": "2022-11-04T15:12:56.148Z"
   },
   {
    "duration": 5,
    "start_time": "2022-11-04T15:12:56.271Z"
   },
   {
    "duration": 19,
    "start_time": "2022-11-04T15:12:56.278Z"
   },
   {
    "duration": 23,
    "start_time": "2022-11-04T15:12:56.298Z"
   },
   {
    "duration": 222,
    "start_time": "2022-11-04T15:12:56.323Z"
   },
   {
    "duration": 26,
    "start_time": "2022-11-04T15:12:56.546Z"
   },
   {
    "duration": 14,
    "start_time": "2022-11-04T15:12:56.573Z"
   },
   {
    "duration": 13,
    "start_time": "2022-11-04T15:12:56.588Z"
   },
   {
    "duration": 24,
    "start_time": "2022-11-04T15:12:56.603Z"
   },
   {
    "duration": 13,
    "start_time": "2022-11-04T15:26:36.058Z"
   },
   {
    "duration": 83,
    "start_time": "2022-11-04T15:30:27.784Z"
   },
   {
    "duration": 11,
    "start_time": "2022-11-04T15:31:27.165Z"
   },
   {
    "duration": 20,
    "start_time": "2022-11-04T15:31:35.259Z"
   },
   {
    "duration": 10,
    "start_time": "2022-11-04T15:32:09.322Z"
   },
   {
    "duration": 106,
    "start_time": "2022-11-04T15:37:36.347Z"
   },
   {
    "duration": 203,
    "start_time": "2022-11-04T15:37:43.129Z"
   },
   {
    "duration": 26,
    "start_time": "2022-11-04T15:40:34.325Z"
   },
   {
    "duration": 10,
    "start_time": "2022-11-04T15:41:31.033Z"
   },
   {
    "duration": 707,
    "start_time": "2022-11-04T15:41:39.628Z"
   },
   {
    "duration": 17,
    "start_time": "2022-11-04T15:41:40.338Z"
   },
   {
    "duration": 1949,
    "start_time": "2022-11-04T15:41:40.356Z"
   },
   {
    "duration": 6,
    "start_time": "2022-11-04T15:41:42.306Z"
   },
   {
    "duration": 4,
    "start_time": "2022-11-04T15:41:42.314Z"
   },
   {
    "duration": 30,
    "start_time": "2022-11-04T15:41:42.320Z"
   },
   {
    "duration": 26,
    "start_time": "2022-11-04T15:41:42.351Z"
   },
   {
    "duration": 8,
    "start_time": "2022-11-04T15:41:42.378Z"
   },
   {
    "duration": 6,
    "start_time": "2022-11-04T15:41:42.387Z"
   },
   {
    "duration": 18,
    "start_time": "2022-11-04T15:41:42.395Z"
   },
   {
    "duration": 4,
    "start_time": "2022-11-04T15:41:42.414Z"
   },
   {
    "duration": 23,
    "start_time": "2022-11-04T15:41:42.419Z"
   },
   {
    "duration": 226,
    "start_time": "2022-11-04T15:41:42.443Z"
   },
   {
    "duration": 28,
    "start_time": "2022-11-04T15:41:42.672Z"
   },
   {
    "duration": 29,
    "start_time": "2022-11-04T15:41:42.708Z"
   },
   {
    "duration": 222,
    "start_time": "2022-11-04T15:41:42.739Z"
   },
   {
    "duration": 130,
    "start_time": "2022-11-04T15:41:42.963Z"
   },
   {
    "duration": 30,
    "start_time": "2022-11-04T15:41:43.094Z"
   },
   {
    "duration": 145,
    "start_time": "2022-11-04T15:41:43.126Z"
   },
   {
    "duration": 37,
    "start_time": "2022-11-04T15:41:43.272Z"
   },
   {
    "duration": 118,
    "start_time": "2022-11-04T15:41:43.311Z"
   },
   {
    "duration": 117,
    "start_time": "2022-11-04T15:41:43.430Z"
   },
   {
    "duration": 9,
    "start_time": "2022-11-04T15:41:43.549Z"
   },
   {
    "duration": 15,
    "start_time": "2022-11-04T15:41:43.559Z"
   },
   {
    "duration": 196,
    "start_time": "2022-11-04T15:41:43.575Z"
   },
   {
    "duration": 8,
    "start_time": "2022-11-04T15:41:43.772Z"
   },
   {
    "duration": 10,
    "start_time": "2022-11-04T15:41:43.781Z"
   },
   {
    "duration": 142,
    "start_time": "2022-11-04T15:41:43.792Z"
   },
   {
    "duration": 4,
    "start_time": "2022-11-04T15:41:43.936Z"
   },
   {
    "duration": 5,
    "start_time": "2022-11-04T15:41:43.942Z"
   },
   {
    "duration": 6,
    "start_time": "2022-11-04T15:41:43.949Z"
   },
   {
    "duration": 182,
    "start_time": "2022-11-04T15:41:43.957Z"
   },
   {
    "duration": 28,
    "start_time": "2022-11-04T15:41:44.140Z"
   },
   {
    "duration": 10,
    "start_time": "2022-11-04T15:41:44.170Z"
   },
   {
    "duration": 28,
    "start_time": "2022-11-04T15:41:44.182Z"
   },
   {
    "duration": 6,
    "start_time": "2022-11-04T15:41:44.211Z"
   },
   {
    "duration": 16,
    "start_time": "2022-11-04T15:41:44.218Z"
   },
   {
    "duration": 91,
    "start_time": "2022-11-04T15:43:08.382Z"
   },
   {
    "duration": 15,
    "start_time": "2022-11-04T15:43:17.583Z"
   },
   {
    "duration": 734,
    "start_time": "2022-11-04T15:43:23.072Z"
   },
   {
    "duration": 21,
    "start_time": "2022-11-04T15:43:23.809Z"
   },
   {
    "duration": 1874,
    "start_time": "2022-11-04T15:43:23.831Z"
   },
   {
    "duration": 5,
    "start_time": "2022-11-04T15:43:25.707Z"
   },
   {
    "duration": 10,
    "start_time": "2022-11-04T15:43:25.714Z"
   },
   {
    "duration": 30,
    "start_time": "2022-11-04T15:43:25.725Z"
   },
   {
    "duration": 26,
    "start_time": "2022-11-04T15:43:25.757Z"
   },
   {
    "duration": 8,
    "start_time": "2022-11-04T15:43:25.785Z"
   },
   {
    "duration": 19,
    "start_time": "2022-11-04T15:43:25.794Z"
   },
   {
    "duration": 8,
    "start_time": "2022-11-04T15:43:25.816Z"
   },
   {
    "duration": 4,
    "start_time": "2022-11-04T15:43:25.826Z"
   },
   {
    "duration": 27,
    "start_time": "2022-11-04T15:43:25.831Z"
   },
   {
    "duration": 192,
    "start_time": "2022-11-04T15:43:25.859Z"
   },
   {
    "duration": 25,
    "start_time": "2022-11-04T15:43:26.053Z"
   },
   {
    "duration": 39,
    "start_time": "2022-11-04T15:43:26.079Z"
   },
   {
    "duration": 220,
    "start_time": "2022-11-04T15:43:26.120Z"
   },
   {
    "duration": 145,
    "start_time": "2022-11-04T15:43:26.342Z"
   },
   {
    "duration": 33,
    "start_time": "2022-11-04T15:43:26.489Z"
   },
   {
    "duration": 150,
    "start_time": "2022-11-04T15:43:26.524Z"
   },
   {
    "duration": 52,
    "start_time": "2022-11-04T15:43:26.675Z"
   },
   {
    "duration": 141,
    "start_time": "2022-11-04T15:43:26.728Z"
   },
   {
    "duration": 167,
    "start_time": "2022-11-04T15:43:26.871Z"
   },
   {
    "duration": 8,
    "start_time": "2022-11-04T15:43:27.040Z"
   },
   {
    "duration": 15,
    "start_time": "2022-11-04T15:43:27.050Z"
   },
   {
    "duration": 208,
    "start_time": "2022-11-04T15:43:27.067Z"
   },
   {
    "duration": 8,
    "start_time": "2022-11-04T15:43:27.277Z"
   },
   {
    "duration": 43,
    "start_time": "2022-11-04T15:43:27.287Z"
   },
   {
    "duration": 130,
    "start_time": "2022-11-04T15:43:27.334Z"
   },
   {
    "duration": 5,
    "start_time": "2022-11-04T15:43:27.466Z"
   },
   {
    "duration": 9,
    "start_time": "2022-11-04T15:43:27.472Z"
   },
   {
    "duration": 8,
    "start_time": "2022-11-04T15:43:27.482Z"
   },
   {
    "duration": 172,
    "start_time": "2022-11-04T15:43:27.492Z"
   },
   {
    "duration": 27,
    "start_time": "2022-11-04T15:43:27.665Z"
   },
   {
    "duration": 9,
    "start_time": "2022-11-04T15:43:27.709Z"
   },
   {
    "duration": 23,
    "start_time": "2022-11-04T15:43:27.720Z"
   },
   {
    "duration": 15,
    "start_time": "2022-11-04T15:43:27.744Z"
   },
   {
    "duration": 20,
    "start_time": "2022-11-04T15:43:27.761Z"
   },
   {
    "duration": 23,
    "start_time": "2022-11-04T15:44:28.198Z"
   },
   {
    "duration": 110,
    "start_time": "2022-11-04T15:44:52.649Z"
   },
   {
    "duration": 715,
    "start_time": "2022-11-04T15:45:15.209Z"
   },
   {
    "duration": 15,
    "start_time": "2022-11-04T15:45:15.925Z"
   },
   {
    "duration": 1803,
    "start_time": "2022-11-04T15:45:15.942Z"
   },
   {
    "duration": 6,
    "start_time": "2022-11-04T15:45:17.746Z"
   },
   {
    "duration": 7,
    "start_time": "2022-11-04T15:45:17.754Z"
   },
   {
    "duration": 32,
    "start_time": "2022-11-04T15:45:17.762Z"
   },
   {
    "duration": 27,
    "start_time": "2022-11-04T15:45:17.796Z"
   },
   {
    "duration": 8,
    "start_time": "2022-11-04T15:45:17.825Z"
   },
   {
    "duration": 10,
    "start_time": "2022-11-04T15:45:17.834Z"
   },
   {
    "duration": 12,
    "start_time": "2022-11-04T15:45:17.845Z"
   },
   {
    "duration": 4,
    "start_time": "2022-11-04T15:45:17.858Z"
   },
   {
    "duration": 19,
    "start_time": "2022-11-04T15:45:17.864Z"
   },
   {
    "duration": 180,
    "start_time": "2022-11-04T15:45:17.884Z"
   },
   {
    "duration": 23,
    "start_time": "2022-11-04T15:45:18.067Z"
   },
   {
    "duration": 37,
    "start_time": "2022-11-04T15:45:18.092Z"
   },
   {
    "duration": 212,
    "start_time": "2022-11-04T15:45:18.131Z"
   },
   {
    "duration": 133,
    "start_time": "2022-11-04T15:45:18.344Z"
   },
   {
    "duration": 38,
    "start_time": "2022-11-04T15:45:18.478Z"
   },
   {
    "duration": 148,
    "start_time": "2022-11-04T15:45:18.517Z"
   },
   {
    "duration": 29,
    "start_time": "2022-11-04T15:45:18.666Z"
   },
   {
    "duration": 115,
    "start_time": "2022-11-04T15:45:18.709Z"
   },
   {
    "duration": 127,
    "start_time": "2022-11-04T15:45:18.826Z"
   },
   {
    "duration": 9,
    "start_time": "2022-11-04T15:45:18.955Z"
   },
   {
    "duration": 15,
    "start_time": "2022-11-04T15:45:18.966Z"
   },
   {
    "duration": 216,
    "start_time": "2022-11-04T15:45:18.982Z"
   },
   {
    "duration": 15,
    "start_time": "2022-11-04T15:45:19.199Z"
   },
   {
    "duration": 11,
    "start_time": "2022-11-04T15:45:19.216Z"
   },
   {
    "duration": 133,
    "start_time": "2022-11-04T15:45:19.228Z"
   },
   {
    "duration": 5,
    "start_time": "2022-11-04T15:45:19.363Z"
   },
   {
    "duration": 11,
    "start_time": "2022-11-04T15:45:19.369Z"
   },
   {
    "duration": 28,
    "start_time": "2022-11-04T15:45:19.381Z"
   },
   {
    "duration": 160,
    "start_time": "2022-11-04T15:45:19.410Z"
   },
   {
    "duration": 25,
    "start_time": "2022-11-04T15:45:19.571Z"
   },
   {
    "duration": 8,
    "start_time": "2022-11-04T15:45:19.609Z"
   },
   {
    "duration": 18,
    "start_time": "2022-11-04T15:45:19.619Z"
   },
   {
    "duration": 6,
    "start_time": "2022-11-04T15:45:19.639Z"
   },
   {
    "duration": 11,
    "start_time": "2022-11-04T15:45:19.646Z"
   },
   {
    "duration": 87,
    "start_time": "2022-11-04T15:46:58.976Z"
   },
   {
    "duration": 732,
    "start_time": "2022-11-04T15:47:25.594Z"
   },
   {
    "duration": 15,
    "start_time": "2022-11-04T15:47:26.328Z"
   },
   {
    "duration": 1868,
    "start_time": "2022-11-04T15:47:26.345Z"
   },
   {
    "duration": 6,
    "start_time": "2022-11-04T15:47:28.216Z"
   },
   {
    "duration": 13,
    "start_time": "2022-11-04T15:47:28.224Z"
   },
   {
    "duration": 29,
    "start_time": "2022-11-04T15:47:28.239Z"
   },
   {
    "duration": 39,
    "start_time": "2022-11-04T15:47:28.270Z"
   },
   {
    "duration": 8,
    "start_time": "2022-11-04T15:47:28.311Z"
   },
   {
    "duration": 7,
    "start_time": "2022-11-04T15:47:28.321Z"
   },
   {
    "duration": 6,
    "start_time": "2022-11-04T15:47:28.332Z"
   },
   {
    "duration": 4,
    "start_time": "2022-11-04T15:47:28.340Z"
   },
   {
    "duration": 20,
    "start_time": "2022-11-04T15:47:28.346Z"
   },
   {
    "duration": 200,
    "start_time": "2022-11-04T15:47:28.368Z"
   },
   {
    "duration": 24,
    "start_time": "2022-11-04T15:47:28.570Z"
   },
   {
    "duration": 33,
    "start_time": "2022-11-04T15:47:28.596Z"
   },
   {
    "duration": 216,
    "start_time": "2022-11-04T15:47:28.630Z"
   },
   {
    "duration": 132,
    "start_time": "2022-11-04T15:47:28.847Z"
   },
   {
    "duration": 35,
    "start_time": "2022-11-04T15:47:28.980Z"
   },
   {
    "duration": 157,
    "start_time": "2022-11-04T15:47:29.016Z"
   },
   {
    "duration": 39,
    "start_time": "2022-11-04T15:47:29.175Z"
   },
   {
    "duration": 123,
    "start_time": "2022-11-04T15:47:29.216Z"
   },
   {
    "duration": 140,
    "start_time": "2022-11-04T15:47:29.342Z"
   },
   {
    "duration": 9,
    "start_time": "2022-11-04T15:47:29.484Z"
   },
   {
    "duration": 26,
    "start_time": "2022-11-04T15:47:29.495Z"
   },
   {
    "duration": 196,
    "start_time": "2022-11-04T15:47:29.523Z"
   },
   {
    "duration": 11,
    "start_time": "2022-11-04T15:47:29.721Z"
   },
   {
    "duration": 10,
    "start_time": "2022-11-04T15:47:29.733Z"
   },
   {
    "duration": 126,
    "start_time": "2022-11-04T15:47:29.746Z"
   },
   {
    "duration": 6,
    "start_time": "2022-11-04T15:47:29.873Z"
   },
   {
    "duration": 6,
    "start_time": "2022-11-04T15:47:29.880Z"
   },
   {
    "duration": 23,
    "start_time": "2022-11-04T15:47:29.888Z"
   },
   {
    "duration": 165,
    "start_time": "2022-11-04T15:47:29.913Z"
   },
   {
    "duration": 35,
    "start_time": "2022-11-04T15:47:30.079Z"
   },
   {
    "duration": 8,
    "start_time": "2022-11-04T15:47:30.116Z"
   },
   {
    "duration": 17,
    "start_time": "2022-11-04T15:47:30.125Z"
   },
   {
    "duration": 32,
    "start_time": "2022-11-04T15:47:30.144Z"
   },
   {
    "duration": 26,
    "start_time": "2022-11-04T15:47:30.177Z"
   },
   {
    "duration": 29,
    "start_time": "2022-11-04T15:52:51.700Z"
   },
   {
    "duration": 5,
    "start_time": "2022-11-04T15:53:34.485Z"
   },
   {
    "duration": 36,
    "start_time": "2022-11-04T15:53:42.535Z"
   },
   {
    "duration": 5,
    "start_time": "2022-11-04T15:56:38.544Z"
   },
   {
    "duration": 31,
    "start_time": "2022-11-04T15:56:40.579Z"
   },
   {
    "duration": 4,
    "start_time": "2022-11-04T15:58:30.240Z"
   },
   {
    "duration": 27,
    "start_time": "2022-11-04T15:58:30.720Z"
   },
   {
    "duration": 5,
    "start_time": "2022-11-04T16:01:39.352Z"
   },
   {
    "duration": 7,
    "start_time": "2022-11-04T16:01:54.264Z"
   },
   {
    "duration": 25,
    "start_time": "2022-11-04T16:02:32.789Z"
   },
   {
    "duration": 48,
    "start_time": "2022-11-04T16:08:14.508Z"
   },
   {
    "duration": 732,
    "start_time": "2022-11-04T16:08:19.892Z"
   },
   {
    "duration": 527,
    "start_time": "2022-11-04T16:08:43.173Z"
   },
   {
    "duration": 13,
    "start_time": "2022-11-04T16:11:06.080Z"
   },
   {
    "duration": 706,
    "start_time": "2022-11-04T16:11:19.178Z"
   },
   {
    "duration": 953,
    "start_time": "2022-11-04T16:12:12.478Z"
   },
   {
    "duration": 43,
    "start_time": "2022-11-04T16:12:46.247Z"
   },
   {
    "duration": 764,
    "start_time": "2022-11-04T16:13:02.938Z"
   },
   {
    "duration": 4,
    "start_time": "2022-11-04T16:13:18.526Z"
   },
   {
    "duration": 693,
    "start_time": "2022-11-04T16:15:29.387Z"
   },
   {
    "duration": 17,
    "start_time": "2022-11-04T16:15:49.347Z"
   },
   {
    "duration": 643,
    "start_time": "2022-11-04T16:23:01.618Z"
   },
   {
    "duration": 708,
    "start_time": "2022-11-04T16:25:39.923Z"
   },
   {
    "duration": 725,
    "start_time": "2022-11-04T16:26:01.404Z"
   },
   {
    "duration": 686,
    "start_time": "2022-11-04T16:26:34.584Z"
   },
   {
    "duration": 681,
    "start_time": "2022-11-04T16:29:27.268Z"
   },
   {
    "duration": 14,
    "start_time": "2022-11-04T16:29:27.951Z"
   },
   {
    "duration": 1803,
    "start_time": "2022-11-04T16:29:27.966Z"
   },
   {
    "duration": 6,
    "start_time": "2022-11-04T16:29:29.770Z"
   },
   {
    "duration": 8,
    "start_time": "2022-11-04T16:29:29.777Z"
   },
   {
    "duration": 35,
    "start_time": "2022-11-04T16:29:29.787Z"
   },
   {
    "duration": 26,
    "start_time": "2022-11-04T16:29:29.823Z"
   },
   {
    "duration": 8,
    "start_time": "2022-11-04T16:29:29.850Z"
   },
   {
    "duration": 8,
    "start_time": "2022-11-04T16:29:29.860Z"
   },
   {
    "duration": 8,
    "start_time": "2022-11-04T16:29:29.870Z"
   },
   {
    "duration": 3,
    "start_time": "2022-11-04T16:29:29.879Z"
   },
   {
    "duration": 35,
    "start_time": "2022-11-04T16:29:29.884Z"
   },
   {
    "duration": 178,
    "start_time": "2022-11-04T16:29:29.921Z"
   },
   {
    "duration": 27,
    "start_time": "2022-11-04T16:29:30.101Z"
   },
   {
    "duration": 30,
    "start_time": "2022-11-04T16:29:30.129Z"
   },
   {
    "duration": 206,
    "start_time": "2022-11-04T16:29:30.160Z"
   },
   {
    "duration": 132,
    "start_time": "2022-11-04T16:29:30.367Z"
   },
   {
    "duration": 30,
    "start_time": "2022-11-04T16:29:30.500Z"
   },
   {
    "duration": 142,
    "start_time": "2022-11-04T16:29:30.532Z"
   },
   {
    "duration": 39,
    "start_time": "2022-11-04T16:29:30.676Z"
   },
   {
    "duration": 123,
    "start_time": "2022-11-04T16:29:30.716Z"
   },
   {
    "duration": 131,
    "start_time": "2022-11-04T16:29:30.841Z"
   },
   {
    "duration": 8,
    "start_time": "2022-11-04T16:29:30.973Z"
   },
   {
    "duration": 29,
    "start_time": "2022-11-04T16:29:30.982Z"
   },
   {
    "duration": 193,
    "start_time": "2022-11-04T16:29:31.012Z"
   },
   {
    "duration": 23,
    "start_time": "2022-11-04T16:29:31.206Z"
   },
   {
    "duration": 18,
    "start_time": "2022-11-04T16:29:31.231Z"
   },
   {
    "duration": 120,
    "start_time": "2022-11-04T16:29:31.251Z"
   },
   {
    "duration": 6,
    "start_time": "2022-11-04T16:29:31.373Z"
   },
   {
    "duration": 11,
    "start_time": "2022-11-04T16:29:31.381Z"
   },
   {
    "duration": 17,
    "start_time": "2022-11-04T16:29:31.393Z"
   },
   {
    "duration": 159,
    "start_time": "2022-11-04T16:29:31.411Z"
   },
   {
    "duration": 25,
    "start_time": "2022-11-04T16:29:31.572Z"
   },
   {
    "duration": 8,
    "start_time": "2022-11-04T16:29:31.609Z"
   },
   {
    "duration": 6,
    "start_time": "2022-11-04T16:29:31.618Z"
   },
   {
    "duration": 6,
    "start_time": "2022-11-04T16:29:31.626Z"
   },
   {
    "duration": 10,
    "start_time": "2022-11-04T16:29:31.633Z"
   },
   {
    "duration": 4,
    "start_time": "2022-11-04T16:29:31.645Z"
   },
   {
    "duration": 8,
    "start_time": "2022-11-04T16:29:31.650Z"
   },
   {
    "duration": 7,
    "start_time": "2022-11-04T16:29:31.660Z"
   },
   {
    "duration": 51,
    "start_time": "2022-11-04T16:29:31.668Z"
   },
   {
    "duration": 23,
    "start_time": "2022-11-04T16:30:25.767Z"
   },
   {
    "duration": 53,
    "start_time": "2022-11-04T16:30:41.168Z"
   },
   {
    "duration": 51,
    "start_time": "2022-11-04T16:31:04.260Z"
   },
   {
    "duration": 45,
    "start_time": "2022-11-04T16:31:41.290Z"
   },
   {
    "duration": 775,
    "start_time": "2022-11-04T16:31:51.201Z"
   },
   {
    "duration": 684,
    "start_time": "2022-11-04T16:33:46.579Z"
   },
   {
    "duration": 14,
    "start_time": "2022-11-04T16:35:16.171Z"
   },
   {
    "duration": 13,
    "start_time": "2022-11-04T16:42:46.216Z"
   },
   {
    "duration": 15,
    "start_time": "2022-11-04T16:43:10.549Z"
   },
   {
    "duration": 13,
    "start_time": "2022-11-04T16:43:25.189Z"
   },
   {
    "duration": 13,
    "start_time": "2022-11-04T16:49:50.864Z"
   },
   {
    "duration": 13,
    "start_time": "2022-11-04T16:50:00.090Z"
   },
   {
    "duration": 729,
    "start_time": "2022-11-04T16:50:13.315Z"
   },
   {
    "duration": 171,
    "start_time": "2022-11-04T16:51:47.397Z"
   },
   {
    "duration": 157,
    "start_time": "2022-11-04T16:51:55.720Z"
   },
   {
    "duration": 650,
    "start_time": "2022-11-04T16:52:17.974Z"
   },
   {
    "duration": 8,
    "start_time": "2022-11-04T16:56:17.161Z"
   },
   {
    "duration": 5,
    "start_time": "2022-11-04T16:56:20.991Z"
   },
   {
    "duration": 22,
    "start_time": "2022-11-04T16:56:33.525Z"
   },
   {
    "duration": 4,
    "start_time": "2022-11-04T16:57:44.335Z"
   },
   {
    "duration": 25,
    "start_time": "2022-11-04T16:57:46.421Z"
   },
   {
    "duration": 3,
    "start_time": "2022-11-04T16:58:53.833Z"
   },
   {
    "duration": 10,
    "start_time": "2022-11-04T17:20:46.124Z"
   },
   {
    "duration": 13,
    "start_time": "2022-11-04T17:20:59.268Z"
   },
   {
    "duration": 638,
    "start_time": "2022-11-04T17:21:25.834Z"
   },
   {
    "duration": 12,
    "start_time": "2022-11-04T17:30:34.359Z"
   },
   {
    "duration": 12,
    "start_time": "2022-11-04T17:30:55.194Z"
   },
   {
    "duration": 10,
    "start_time": "2022-11-04T17:36:39.636Z"
   },
   {
    "duration": 40,
    "start_time": "2022-11-04T17:37:53.384Z"
   },
   {
    "duration": 91,
    "start_time": "2022-11-04T17:38:10.077Z"
   },
   {
    "duration": 18,
    "start_time": "2022-11-04T17:38:33.034Z"
   },
   {
    "duration": 10,
    "start_time": "2022-11-04T17:38:50.303Z"
   },
   {
    "duration": 6,
    "start_time": "2022-11-04T17:39:32.741Z"
   },
   {
    "duration": 657,
    "start_time": "2022-11-04T17:39:45.865Z"
   },
   {
    "duration": 910,
    "start_time": "2022-11-04T17:41:13.633Z"
   },
   {
    "duration": 44,
    "start_time": "2022-11-04T17:41:31.508Z"
   },
   {
    "duration": 15,
    "start_time": "2022-11-04T17:41:40.206Z"
   },
   {
    "duration": 467,
    "start_time": "2022-11-04T17:43:43.494Z"
   },
   {
    "duration": 30,
    "start_time": "2022-11-04T17:43:51.899Z"
   },
   {
    "duration": 10,
    "start_time": "2022-11-04T17:44:28.423Z"
   },
   {
    "duration": 39,
    "start_time": "2022-11-04T17:46:53.105Z"
   },
   {
    "duration": 791,
    "start_time": "2022-11-04T17:48:02.139Z"
   },
   {
    "duration": 16,
    "start_time": "2022-11-04T17:48:02.932Z"
   },
   {
    "duration": 1932,
    "start_time": "2022-11-04T17:48:02.949Z"
   },
   {
    "duration": 6,
    "start_time": "2022-11-04T17:48:04.884Z"
   },
   {
    "duration": 10,
    "start_time": "2022-11-04T17:48:04.891Z"
   },
   {
    "duration": 31,
    "start_time": "2022-11-04T17:48:04.902Z"
   },
   {
    "duration": 26,
    "start_time": "2022-11-04T17:48:04.935Z"
   },
   {
    "duration": 8,
    "start_time": "2022-11-04T17:48:04.963Z"
   },
   {
    "duration": 8,
    "start_time": "2022-11-04T17:48:04.973Z"
   },
   {
    "duration": 26,
    "start_time": "2022-11-04T17:48:04.983Z"
   },
   {
    "duration": 4,
    "start_time": "2022-11-04T17:48:05.011Z"
   },
   {
    "duration": 18,
    "start_time": "2022-11-04T17:48:05.017Z"
   },
   {
    "duration": 210,
    "start_time": "2022-11-04T17:48:05.037Z"
   },
   {
    "duration": 24,
    "start_time": "2022-11-04T17:48:05.248Z"
   },
   {
    "duration": 35,
    "start_time": "2022-11-04T17:48:05.273Z"
   },
   {
    "duration": 239,
    "start_time": "2022-11-04T17:48:05.310Z"
   },
   {
    "duration": 130,
    "start_time": "2022-11-04T17:48:05.551Z"
   },
   {
    "duration": 33,
    "start_time": "2022-11-04T17:48:05.683Z"
   },
   {
    "duration": 146,
    "start_time": "2022-11-04T17:48:05.718Z"
   },
   {
    "duration": 28,
    "start_time": "2022-11-04T17:48:05.865Z"
   },
   {
    "duration": 126,
    "start_time": "2022-11-04T17:48:05.894Z"
   },
   {
    "duration": 121,
    "start_time": "2022-11-04T17:48:06.022Z"
   },
   {
    "duration": 9,
    "start_time": "2022-11-04T17:48:06.145Z"
   },
   {
    "duration": 43,
    "start_time": "2022-11-04T17:48:06.156Z"
   },
   {
    "duration": 179,
    "start_time": "2022-11-04T17:48:06.200Z"
   },
   {
    "duration": 8,
    "start_time": "2022-11-04T17:48:06.380Z"
   },
   {
    "duration": 27,
    "start_time": "2022-11-04T17:48:06.389Z"
   },
   {
    "duration": 116,
    "start_time": "2022-11-04T17:48:06.420Z"
   },
   {
    "duration": 6,
    "start_time": "2022-11-04T17:48:06.537Z"
   },
   {
    "duration": 24,
    "start_time": "2022-11-04T17:48:06.544Z"
   },
   {
    "duration": 23,
    "start_time": "2022-11-04T17:48:06.570Z"
   },
   {
    "duration": 168,
    "start_time": "2022-11-04T17:48:06.595Z"
   },
   {
    "duration": 26,
    "start_time": "2022-11-04T17:48:06.765Z"
   },
   {
    "duration": 18,
    "start_time": "2022-11-04T17:48:06.792Z"
   },
   {
    "duration": 5,
    "start_time": "2022-11-04T17:48:06.812Z"
   },
   {
    "duration": 11,
    "start_time": "2022-11-04T17:48:06.819Z"
   },
   {
    "duration": 53,
    "start_time": "2022-11-04T17:48:06.832Z"
   },
   {
    "duration": 12,
    "start_time": "2022-11-04T17:48:06.887Z"
   },
   {
    "duration": 29,
    "start_time": "2022-11-04T17:48:06.901Z"
   },
   {
    "duration": 20,
    "start_time": "2022-11-04T17:48:06.932Z"
   },
   {
    "duration": 49,
    "start_time": "2022-11-04T17:48:06.953Z"
   },
   {
    "duration": 709,
    "start_time": "2022-11-04T17:48:07.004Z"
   },
   {
    "duration": 0,
    "start_time": "2022-11-04T17:48:07.715Z"
   },
   {
    "duration": 0,
    "start_time": "2022-11-04T17:48:07.716Z"
   },
   {
    "duration": 749,
    "start_time": "2022-11-04T17:48:42.808Z"
   },
   {
    "duration": 15,
    "start_time": "2022-11-04T17:48:43.559Z"
   },
   {
    "duration": 1885,
    "start_time": "2022-11-04T17:48:43.576Z"
   },
   {
    "duration": 5,
    "start_time": "2022-11-04T17:48:45.463Z"
   },
   {
    "duration": 8,
    "start_time": "2022-11-04T17:48:45.470Z"
   },
   {
    "duration": 29,
    "start_time": "2022-11-04T17:48:45.480Z"
   },
   {
    "duration": 26,
    "start_time": "2022-11-04T17:48:45.511Z"
   },
   {
    "duration": 8,
    "start_time": "2022-11-04T17:48:45.538Z"
   },
   {
    "duration": 7,
    "start_time": "2022-11-04T17:48:45.548Z"
   },
   {
    "duration": 7,
    "start_time": "2022-11-04T17:48:45.558Z"
   },
   {
    "duration": 4,
    "start_time": "2022-11-04T17:48:45.567Z"
   },
   {
    "duration": 41,
    "start_time": "2022-11-04T17:48:45.573Z"
   },
   {
    "duration": 179,
    "start_time": "2022-11-04T17:48:45.616Z"
   },
   {
    "duration": 29,
    "start_time": "2022-11-04T17:48:45.797Z"
   },
   {
    "duration": 24,
    "start_time": "2022-11-04T17:48:45.828Z"
   },
   {
    "duration": 231,
    "start_time": "2022-11-04T17:48:45.854Z"
   },
   {
    "duration": 133,
    "start_time": "2022-11-04T17:48:46.087Z"
   },
   {
    "duration": 25,
    "start_time": "2022-11-04T17:48:46.222Z"
   },
   {
    "duration": 154,
    "start_time": "2022-11-04T17:48:46.248Z"
   },
   {
    "duration": 31,
    "start_time": "2022-11-04T17:48:46.404Z"
   },
   {
    "duration": 134,
    "start_time": "2022-11-04T17:48:46.437Z"
   },
   {
    "duration": 116,
    "start_time": "2022-11-04T17:48:46.572Z"
   },
   {
    "duration": 21,
    "start_time": "2022-11-04T17:48:46.689Z"
   },
   {
    "duration": 15,
    "start_time": "2022-11-04T17:48:46.711Z"
   },
   {
    "duration": 207,
    "start_time": "2022-11-04T17:48:46.728Z"
   },
   {
    "duration": 8,
    "start_time": "2022-11-04T17:48:46.936Z"
   },
   {
    "duration": 10,
    "start_time": "2022-11-04T17:48:46.946Z"
   },
   {
    "duration": 126,
    "start_time": "2022-11-04T17:48:46.959Z"
   },
   {
    "duration": 4,
    "start_time": "2022-11-04T17:48:47.087Z"
   },
   {
    "duration": 16,
    "start_time": "2022-11-04T17:48:47.093Z"
   },
   {
    "duration": 6,
    "start_time": "2022-11-04T17:48:47.111Z"
   },
   {
    "duration": 164,
    "start_time": "2022-11-04T17:48:47.119Z"
   },
   {
    "duration": 35,
    "start_time": "2022-11-04T17:48:47.285Z"
   },
   {
    "duration": 8,
    "start_time": "2022-11-04T17:48:47.322Z"
   },
   {
    "duration": 5,
    "start_time": "2022-11-04T17:48:47.331Z"
   },
   {
    "duration": 6,
    "start_time": "2022-11-04T17:48:47.338Z"
   },
   {
    "duration": 15,
    "start_time": "2022-11-04T17:48:47.345Z"
   },
   {
    "duration": 4,
    "start_time": "2022-11-04T17:48:47.361Z"
   },
   {
    "duration": 7,
    "start_time": "2022-11-04T17:48:47.366Z"
   },
   {
    "duration": 37,
    "start_time": "2022-11-04T17:48:47.375Z"
   },
   {
    "duration": 34,
    "start_time": "2022-11-04T17:48:47.413Z"
   },
   {
    "duration": 3,
    "start_time": "2022-11-04T17:48:47.448Z"
   },
   {
    "duration": 10,
    "start_time": "2022-11-04T17:48:47.452Z"
   },
   {
    "duration": 47,
    "start_time": "2022-11-04T17:48:47.463Z"
   },
   {
    "duration": 676,
    "start_time": "2022-11-04T17:49:17.944Z"
   },
   {
    "duration": 15,
    "start_time": "2022-11-04T17:49:18.621Z"
   },
   {
    "duration": 1907,
    "start_time": "2022-11-04T17:49:18.638Z"
   },
   {
    "duration": 6,
    "start_time": "2022-11-04T17:49:20.547Z"
   },
   {
    "duration": 28,
    "start_time": "2022-11-04T17:49:20.554Z"
   },
   {
    "duration": 46,
    "start_time": "2022-11-04T17:49:20.583Z"
   },
   {
    "duration": 25,
    "start_time": "2022-11-04T17:49:20.631Z"
   },
   {
    "duration": 9,
    "start_time": "2022-11-04T17:49:20.657Z"
   },
   {
    "duration": 9,
    "start_time": "2022-11-04T17:49:20.667Z"
   },
   {
    "duration": 6,
    "start_time": "2022-11-04T17:49:20.679Z"
   },
   {
    "duration": 4,
    "start_time": "2022-11-04T17:49:20.686Z"
   },
   {
    "duration": 31,
    "start_time": "2022-11-04T17:49:20.691Z"
   },
   {
    "duration": 185,
    "start_time": "2022-11-04T17:49:20.724Z"
   },
   {
    "duration": 24,
    "start_time": "2022-11-04T17:49:20.910Z"
   },
   {
    "duration": 23,
    "start_time": "2022-11-04T17:49:20.936Z"
   },
   {
    "duration": 218,
    "start_time": "2022-11-04T17:49:20.961Z"
   },
   {
    "duration": 128,
    "start_time": "2022-11-04T17:49:21.181Z"
   },
   {
    "duration": 26,
    "start_time": "2022-11-04T17:49:21.310Z"
   },
   {
    "duration": 148,
    "start_time": "2022-11-04T17:49:21.337Z"
   },
   {
    "duration": 32,
    "start_time": "2022-11-04T17:49:21.486Z"
   },
   {
    "duration": 114,
    "start_time": "2022-11-04T17:49:21.519Z"
   },
   {
    "duration": 122,
    "start_time": "2022-11-04T17:49:21.634Z"
   },
   {
    "duration": 9,
    "start_time": "2022-11-04T17:49:21.758Z"
   },
   {
    "duration": 19,
    "start_time": "2022-11-04T17:49:21.769Z"
   },
   {
    "duration": 198,
    "start_time": "2022-11-04T17:49:21.790Z"
   },
   {
    "duration": 7,
    "start_time": "2022-11-04T17:49:21.990Z"
   },
   {
    "duration": 9,
    "start_time": "2022-11-04T17:49:22.008Z"
   },
   {
    "duration": 117,
    "start_time": "2022-11-04T17:49:22.020Z"
   },
   {
    "duration": 4,
    "start_time": "2022-11-04T17:49:22.139Z"
   },
   {
    "duration": 10,
    "start_time": "2022-11-04T17:49:22.144Z"
   },
   {
    "duration": 9,
    "start_time": "2022-11-04T17:49:22.155Z"
   },
   {
    "duration": 164,
    "start_time": "2022-11-04T17:49:22.165Z"
   },
   {
    "duration": 25,
    "start_time": "2022-11-04T17:49:22.330Z"
   },
   {
    "duration": 8,
    "start_time": "2022-11-04T17:49:22.357Z"
   },
   {
    "duration": 6,
    "start_time": "2022-11-04T17:49:22.366Z"
   },
   {
    "duration": 7,
    "start_time": "2022-11-04T17:49:22.373Z"
   },
   {
    "duration": 37,
    "start_time": "2022-11-04T17:49:22.381Z"
   },
   {
    "duration": 5,
    "start_time": "2022-11-04T17:49:22.419Z"
   },
   {
    "duration": 9,
    "start_time": "2022-11-04T17:49:22.425Z"
   },
   {
    "duration": 6,
    "start_time": "2022-11-04T17:49:22.436Z"
   },
   {
    "duration": 16466,
    "start_time": "2022-11-04T17:49:22.444Z"
   },
   {
    "duration": 3,
    "start_time": "2022-11-04T17:49:38.911Z"
   },
   {
    "duration": 10,
    "start_time": "2022-11-04T17:49:38.915Z"
   },
   {
    "duration": 23,
    "start_time": "2022-11-04T17:49:38.926Z"
   },
   {
    "duration": 756,
    "start_time": "2022-11-04T17:51:01.785Z"
   },
   {
    "duration": 18,
    "start_time": "2022-11-04T17:51:02.543Z"
   },
   {
    "duration": 1918,
    "start_time": "2022-11-04T17:51:02.563Z"
   },
   {
    "duration": 7,
    "start_time": "2022-11-04T17:51:04.483Z"
   },
   {
    "duration": 8,
    "start_time": "2022-11-04T17:51:04.491Z"
   },
   {
    "duration": 29,
    "start_time": "2022-11-04T17:51:04.501Z"
   },
   {
    "duration": 27,
    "start_time": "2022-11-04T17:51:04.532Z"
   },
   {
    "duration": 9,
    "start_time": "2022-11-04T17:51:04.561Z"
   },
   {
    "duration": 5,
    "start_time": "2022-11-04T17:51:04.572Z"
   },
   {
    "duration": 31,
    "start_time": "2022-11-04T17:51:04.581Z"
   },
   {
    "duration": 4,
    "start_time": "2022-11-04T17:51:04.614Z"
   },
   {
    "duration": 19,
    "start_time": "2022-11-04T17:51:04.620Z"
   },
   {
    "duration": 184,
    "start_time": "2022-11-04T17:51:04.640Z"
   },
   {
    "duration": 30,
    "start_time": "2022-11-04T17:51:04.826Z"
   },
   {
    "duration": 27,
    "start_time": "2022-11-04T17:51:04.857Z"
   },
   {
    "duration": 225,
    "start_time": "2022-11-04T17:51:04.886Z"
   },
   {
    "duration": 130,
    "start_time": "2022-11-04T17:51:05.112Z"
   },
   {
    "duration": 26,
    "start_time": "2022-11-04T17:51:05.243Z"
   },
   {
    "duration": 150,
    "start_time": "2022-11-04T17:51:05.271Z"
   },
   {
    "duration": 30,
    "start_time": "2022-11-04T17:51:05.423Z"
   },
   {
    "duration": 128,
    "start_time": "2022-11-04T17:51:05.454Z"
   },
   {
    "duration": 117,
    "start_time": "2022-11-04T17:51:05.583Z"
   },
   {
    "duration": 9,
    "start_time": "2022-11-04T17:51:05.708Z"
   },
   {
    "duration": 14,
    "start_time": "2022-11-04T17:51:05.718Z"
   },
   {
    "duration": 189,
    "start_time": "2022-11-04T17:51:05.734Z"
   },
   {
    "duration": 7,
    "start_time": "2022-11-04T17:51:05.925Z"
   },
   {
    "duration": 11,
    "start_time": "2022-11-04T17:51:05.934Z"
   },
   {
    "duration": 126,
    "start_time": "2022-11-04T17:51:05.949Z"
   },
   {
    "duration": 5,
    "start_time": "2022-11-04T17:51:06.077Z"
   },
   {
    "duration": 8,
    "start_time": "2022-11-04T17:51:06.084Z"
   },
   {
    "duration": 20,
    "start_time": "2022-11-04T17:51:06.093Z"
   },
   {
    "duration": 156,
    "start_time": "2022-11-04T17:51:06.115Z"
   },
   {
    "duration": 26,
    "start_time": "2022-11-04T17:51:06.272Z"
   },
   {
    "duration": 8,
    "start_time": "2022-11-04T17:51:06.309Z"
   },
   {
    "duration": 6,
    "start_time": "2022-11-04T17:51:06.318Z"
   },
   {
    "duration": 5,
    "start_time": "2022-11-04T17:51:06.325Z"
   },
   {
    "duration": 11,
    "start_time": "2022-11-04T17:51:06.332Z"
   },
   {
    "duration": 4,
    "start_time": "2022-11-04T17:51:06.344Z"
   },
   {
    "duration": 6,
    "start_time": "2022-11-04T17:51:06.350Z"
   },
   {
    "duration": 7,
    "start_time": "2022-11-04T17:51:06.357Z"
   },
   {
    "duration": 437,
    "start_time": "2022-11-04T17:51:06.365Z"
   },
   {
    "duration": 2,
    "start_time": "2022-11-04T17:51:06.809Z"
   },
   {
    "duration": 5,
    "start_time": "2022-11-04T17:51:06.813Z"
   },
   {
    "duration": 27,
    "start_time": "2022-11-04T17:51:06.819Z"
   },
   {
    "duration": 416,
    "start_time": "2022-11-04T17:51:51.730Z"
   },
   {
    "duration": 714,
    "start_time": "2022-11-04T17:52:31.600Z"
   },
   {
    "duration": 15,
    "start_time": "2022-11-04T17:52:32.315Z"
   },
   {
    "duration": 1894,
    "start_time": "2022-11-04T17:52:32.331Z"
   },
   {
    "duration": 6,
    "start_time": "2022-11-04T17:52:34.226Z"
   },
   {
    "duration": 8,
    "start_time": "2022-11-04T17:52:34.234Z"
   },
   {
    "duration": 33,
    "start_time": "2022-11-04T17:52:34.243Z"
   },
   {
    "duration": 26,
    "start_time": "2022-11-04T17:52:34.277Z"
   },
   {
    "duration": 9,
    "start_time": "2022-11-04T17:52:34.304Z"
   },
   {
    "duration": 10,
    "start_time": "2022-11-04T17:52:34.314Z"
   },
   {
    "duration": 8,
    "start_time": "2022-11-04T17:52:34.325Z"
   },
   {
    "duration": 11,
    "start_time": "2022-11-04T17:52:34.334Z"
   },
   {
    "duration": 20,
    "start_time": "2022-11-04T17:52:34.347Z"
   },
   {
    "duration": 181,
    "start_time": "2022-11-04T17:52:34.369Z"
   },
   {
    "duration": 27,
    "start_time": "2022-11-04T17:52:34.553Z"
   },
   {
    "duration": 37,
    "start_time": "2022-11-04T17:52:34.582Z"
   },
   {
    "duration": 209,
    "start_time": "2022-11-04T17:52:34.620Z"
   },
   {
    "duration": 139,
    "start_time": "2022-11-04T17:52:34.830Z"
   },
   {
    "duration": 24,
    "start_time": "2022-11-04T17:52:34.971Z"
   },
   {
    "duration": 132,
    "start_time": "2022-11-04T17:52:35.009Z"
   },
   {
    "duration": 26,
    "start_time": "2022-11-04T17:52:35.143Z"
   },
   {
    "duration": 122,
    "start_time": "2022-11-04T17:52:35.170Z"
   },
   {
    "duration": 122,
    "start_time": "2022-11-04T17:52:35.293Z"
   },
   {
    "duration": 9,
    "start_time": "2022-11-04T17:52:35.416Z"
   },
   {
    "duration": 22,
    "start_time": "2022-11-04T17:52:35.426Z"
   },
   {
    "duration": 190,
    "start_time": "2022-11-04T17:52:35.449Z"
   },
   {
    "duration": 8,
    "start_time": "2022-11-04T17:52:35.640Z"
   },
   {
    "duration": 10,
    "start_time": "2022-11-04T17:52:35.649Z"
   },
   {
    "duration": 122,
    "start_time": "2022-11-04T17:52:35.660Z"
   },
   {
    "duration": 5,
    "start_time": "2022-11-04T17:52:35.784Z"
   },
   {
    "duration": 19,
    "start_time": "2022-11-04T17:52:35.790Z"
   },
   {
    "duration": 9,
    "start_time": "2022-11-04T17:52:35.811Z"
   },
   {
    "duration": 159,
    "start_time": "2022-11-04T17:52:35.822Z"
   },
   {
    "duration": 36,
    "start_time": "2022-11-04T17:52:35.983Z"
   },
   {
    "duration": 10,
    "start_time": "2022-11-04T17:52:36.020Z"
   },
   {
    "duration": 5,
    "start_time": "2022-11-04T17:52:36.032Z"
   },
   {
    "duration": 14,
    "start_time": "2022-11-04T17:52:36.039Z"
   },
   {
    "duration": 12,
    "start_time": "2022-11-04T17:52:36.055Z"
   },
   {
    "duration": 5,
    "start_time": "2022-11-04T17:52:36.069Z"
   },
   {
    "duration": 14,
    "start_time": "2022-11-04T17:52:36.075Z"
   },
   {
    "duration": 24,
    "start_time": "2022-11-04T17:52:36.090Z"
   },
   {
    "duration": 433,
    "start_time": "2022-11-04T17:52:36.118Z"
   },
   {
    "duration": 2,
    "start_time": "2022-11-04T17:52:36.553Z"
   },
   {
    "duration": 7,
    "start_time": "2022-11-04T17:52:36.557Z"
   },
   {
    "duration": 24,
    "start_time": "2022-11-04T17:52:36.565Z"
   },
   {
    "duration": 441,
    "start_time": "2022-11-04T17:53:03.780Z"
   },
   {
    "duration": 716,
    "start_time": "2022-11-04T17:55:37.329Z"
   },
   {
    "duration": 18,
    "start_time": "2022-11-04T17:55:38.047Z"
   },
   {
    "duration": 1867,
    "start_time": "2022-11-04T17:55:38.066Z"
   },
   {
    "duration": 6,
    "start_time": "2022-11-04T17:55:39.935Z"
   },
   {
    "duration": 6,
    "start_time": "2022-11-04T17:55:39.942Z"
   },
   {
    "duration": 34,
    "start_time": "2022-11-04T17:55:39.950Z"
   },
   {
    "duration": 26,
    "start_time": "2022-11-04T17:55:39.985Z"
   },
   {
    "duration": 8,
    "start_time": "2022-11-04T17:55:40.012Z"
   },
   {
    "duration": 8,
    "start_time": "2022-11-04T17:55:40.021Z"
   },
   {
    "duration": 7,
    "start_time": "2022-11-04T17:55:40.031Z"
   },
   {
    "duration": 4,
    "start_time": "2022-11-04T17:55:40.039Z"
   },
   {
    "duration": 25,
    "start_time": "2022-11-04T17:55:40.044Z"
   },
   {
    "duration": 238,
    "start_time": "2022-11-04T17:55:40.071Z"
   },
   {
    "duration": 23,
    "start_time": "2022-11-04T17:55:40.310Z"
   },
   {
    "duration": 26,
    "start_time": "2022-11-04T17:55:40.335Z"
   },
   {
    "duration": 221,
    "start_time": "2022-11-04T17:55:40.362Z"
   },
   {
    "duration": 140,
    "start_time": "2022-11-04T17:55:40.585Z"
   },
   {
    "duration": 26,
    "start_time": "2022-11-04T17:55:40.727Z"
   },
   {
    "duration": 163,
    "start_time": "2022-11-04T17:55:40.755Z"
   },
   {
    "duration": 27,
    "start_time": "2022-11-04T17:55:40.920Z"
   },
   {
    "duration": 127,
    "start_time": "2022-11-04T17:55:40.949Z"
   },
   {
    "duration": 131,
    "start_time": "2022-11-04T17:55:41.078Z"
   },
   {
    "duration": 9,
    "start_time": "2022-11-04T17:55:41.210Z"
   },
   {
    "duration": 14,
    "start_time": "2022-11-04T17:55:41.221Z"
   },
   {
    "duration": 212,
    "start_time": "2022-11-04T17:55:41.237Z"
   },
   {
    "duration": 9,
    "start_time": "2022-11-04T17:55:41.451Z"
   },
   {
    "duration": 13,
    "start_time": "2022-11-04T17:55:41.462Z"
   },
   {
    "duration": 153,
    "start_time": "2022-11-04T17:55:41.480Z"
   },
   {
    "duration": 6,
    "start_time": "2022-11-04T17:55:41.634Z"
   },
   {
    "duration": 6,
    "start_time": "2022-11-04T17:55:41.642Z"
   },
   {
    "duration": 12,
    "start_time": "2022-11-04T17:55:41.650Z"
   },
   {
    "duration": 181,
    "start_time": "2022-11-04T17:55:41.663Z"
   },
   {
    "duration": 28,
    "start_time": "2022-11-04T17:55:41.846Z"
   },
   {
    "duration": 9,
    "start_time": "2022-11-04T17:55:41.876Z"
   },
   {
    "duration": 26,
    "start_time": "2022-11-04T17:55:41.886Z"
   },
   {
    "duration": 9,
    "start_time": "2022-11-04T17:55:41.914Z"
   },
   {
    "duration": 12,
    "start_time": "2022-11-04T17:55:41.924Z"
   },
   {
    "duration": 5,
    "start_time": "2022-11-04T17:55:41.938Z"
   },
   {
    "duration": 8,
    "start_time": "2022-11-04T17:55:41.945Z"
   },
   {
    "duration": 8,
    "start_time": "2022-11-04T17:55:41.955Z"
   },
   {
    "duration": 151,
    "start_time": "2022-11-04T17:55:41.965Z"
   },
   {
    "duration": 0,
    "start_time": "2022-11-04T17:55:42.118Z"
   },
   {
    "duration": 0,
    "start_time": "2022-11-04T17:55:42.120Z"
   },
   {
    "duration": 0,
    "start_time": "2022-11-04T17:55:42.121Z"
   },
   {
    "duration": 718,
    "start_time": "2022-11-04T17:55:58.112Z"
   },
   {
    "duration": 20,
    "start_time": "2022-11-04T17:55:58.832Z"
   },
   {
    "duration": 1836,
    "start_time": "2022-11-04T17:55:58.853Z"
   },
   {
    "duration": 6,
    "start_time": "2022-11-04T17:56:00.691Z"
   },
   {
    "duration": 21,
    "start_time": "2022-11-04T17:56:00.700Z"
   },
   {
    "duration": 44,
    "start_time": "2022-11-04T17:56:00.722Z"
   },
   {
    "duration": 27,
    "start_time": "2022-11-04T17:56:00.768Z"
   },
   {
    "duration": 8,
    "start_time": "2022-11-04T17:56:00.796Z"
   },
   {
    "duration": 36,
    "start_time": "2022-11-04T17:56:00.806Z"
   },
   {
    "duration": 26,
    "start_time": "2022-11-04T17:56:00.844Z"
   },
   {
    "duration": 10,
    "start_time": "2022-11-04T17:56:00.872Z"
   },
   {
    "duration": 38,
    "start_time": "2022-11-04T17:56:00.883Z"
   },
   {
    "duration": 181,
    "start_time": "2022-11-04T17:56:00.923Z"
   },
   {
    "duration": 24,
    "start_time": "2022-11-04T17:56:01.109Z"
   },
   {
    "duration": 42,
    "start_time": "2022-11-04T17:56:01.135Z"
   },
   {
    "duration": 205,
    "start_time": "2022-11-04T17:56:01.179Z"
   },
   {
    "duration": 137,
    "start_time": "2022-11-04T17:56:01.386Z"
   },
   {
    "duration": 25,
    "start_time": "2022-11-04T17:56:01.525Z"
   },
   {
    "duration": 161,
    "start_time": "2022-11-04T17:56:01.552Z"
   },
   {
    "duration": 32,
    "start_time": "2022-11-04T17:56:01.715Z"
   },
   {
    "duration": 132,
    "start_time": "2022-11-04T17:56:01.749Z"
   },
   {
    "duration": 127,
    "start_time": "2022-11-04T17:56:01.882Z"
   },
   {
    "duration": 9,
    "start_time": "2022-11-04T17:56:02.010Z"
   },
   {
    "duration": 33,
    "start_time": "2022-11-04T17:56:02.021Z"
   },
   {
    "duration": 182,
    "start_time": "2022-11-04T17:56:02.056Z"
   },
   {
    "duration": 7,
    "start_time": "2022-11-04T17:56:02.240Z"
   },
   {
    "duration": 11,
    "start_time": "2022-11-04T17:56:02.249Z"
   },
   {
    "duration": 122,
    "start_time": "2022-11-04T17:56:02.262Z"
   },
   {
    "duration": 5,
    "start_time": "2022-11-04T17:56:02.385Z"
   },
   {
    "duration": 19,
    "start_time": "2022-11-04T17:56:02.392Z"
   },
   {
    "duration": 20,
    "start_time": "2022-11-04T17:56:02.413Z"
   },
   {
    "duration": 184,
    "start_time": "2022-11-04T17:56:02.434Z"
   },
   {
    "duration": 35,
    "start_time": "2022-11-04T17:56:02.620Z"
   },
   {
    "duration": 10,
    "start_time": "2022-11-04T17:56:02.657Z"
   },
   {
    "duration": 15,
    "start_time": "2022-11-04T17:56:02.668Z"
   },
   {
    "duration": 26,
    "start_time": "2022-11-04T17:56:02.685Z"
   },
   {
    "duration": 25,
    "start_time": "2022-11-04T17:56:02.713Z"
   },
   {
    "duration": 5,
    "start_time": "2022-11-04T17:56:02.741Z"
   },
   {
    "duration": 18,
    "start_time": "2022-11-04T17:56:02.748Z"
   },
   {
    "duration": 19,
    "start_time": "2022-11-04T17:56:02.768Z"
   },
   {
    "duration": 403,
    "start_time": "2022-11-04T17:56:02.790Z"
   },
   {
    "duration": 2,
    "start_time": "2022-11-04T17:56:03.195Z"
   },
   {
    "duration": 5,
    "start_time": "2022-11-04T17:56:03.208Z"
   },
   {
    "duration": 27,
    "start_time": "2022-11-04T17:56:03.214Z"
   },
   {
    "duration": 345,
    "start_time": "2022-11-04T17:57:35.048Z"
   },
   {
    "duration": 750,
    "start_time": "2022-11-04T17:59:31.727Z"
   },
   {
    "duration": 15,
    "start_time": "2022-11-04T17:59:32.479Z"
   },
   {
    "duration": 1978,
    "start_time": "2022-11-04T17:59:32.495Z"
   },
   {
    "duration": 6,
    "start_time": "2022-11-04T17:59:34.475Z"
   },
   {
    "duration": 6,
    "start_time": "2022-11-04T17:59:34.482Z"
   },
   {
    "duration": 33,
    "start_time": "2022-11-04T17:59:34.489Z"
   },
   {
    "duration": 26,
    "start_time": "2022-11-04T17:59:34.524Z"
   },
   {
    "duration": 8,
    "start_time": "2022-11-04T17:59:34.552Z"
   },
   {
    "duration": 9,
    "start_time": "2022-11-04T17:59:34.563Z"
   },
   {
    "duration": 6,
    "start_time": "2022-11-04T17:59:34.575Z"
   },
   {
    "duration": 26,
    "start_time": "2022-11-04T17:59:34.583Z"
   },
   {
    "duration": 18,
    "start_time": "2022-11-04T17:59:34.610Z"
   },
   {
    "duration": 184,
    "start_time": "2022-11-04T17:59:34.630Z"
   },
   {
    "duration": 25,
    "start_time": "2022-11-04T17:59:34.815Z"
   },
   {
    "duration": 25,
    "start_time": "2022-11-04T17:59:34.841Z"
   },
   {
    "duration": 229,
    "start_time": "2022-11-04T17:59:34.868Z"
   },
   {
    "duration": 129,
    "start_time": "2022-11-04T17:59:35.099Z"
   },
   {
    "duration": 25,
    "start_time": "2022-11-04T17:59:35.230Z"
   },
   {
    "duration": 153,
    "start_time": "2022-11-04T17:59:35.256Z"
   },
   {
    "duration": 35,
    "start_time": "2022-11-04T17:59:35.411Z"
   },
   {
    "duration": 123,
    "start_time": "2022-11-04T17:59:35.448Z"
   },
   {
    "duration": 115,
    "start_time": "2022-11-04T17:59:35.573Z"
   },
   {
    "duration": 21,
    "start_time": "2022-11-04T17:59:35.690Z"
   },
   {
    "duration": 17,
    "start_time": "2022-11-04T17:59:35.713Z"
   },
   {
    "duration": 189,
    "start_time": "2022-11-04T17:59:35.733Z"
   },
   {
    "duration": 8,
    "start_time": "2022-11-04T17:59:35.924Z"
   },
   {
    "duration": 11,
    "start_time": "2022-11-04T17:59:35.933Z"
   },
   {
    "duration": 128,
    "start_time": "2022-11-04T17:59:35.946Z"
   },
   {
    "duration": 5,
    "start_time": "2022-11-04T17:59:36.075Z"
   },
   {
    "duration": 7,
    "start_time": "2022-11-04T17:59:36.081Z"
   },
   {
    "duration": 20,
    "start_time": "2022-11-04T17:59:36.089Z"
   },
   {
    "duration": 163,
    "start_time": "2022-11-04T17:59:36.111Z"
   },
   {
    "duration": 35,
    "start_time": "2022-11-04T17:59:36.276Z"
   },
   {
    "duration": 11,
    "start_time": "2022-11-04T17:59:36.313Z"
   },
   {
    "duration": 7,
    "start_time": "2022-11-04T17:59:36.325Z"
   },
   {
    "duration": 7,
    "start_time": "2022-11-04T17:59:36.334Z"
   },
   {
    "duration": 13,
    "start_time": "2022-11-04T17:59:36.343Z"
   },
   {
    "duration": 3,
    "start_time": "2022-11-04T17:59:36.357Z"
   },
   {
    "duration": 7,
    "start_time": "2022-11-04T17:59:36.362Z"
   },
   {
    "duration": 8,
    "start_time": "2022-11-04T17:59:36.370Z"
   },
   {
    "duration": 368,
    "start_time": "2022-11-04T17:59:36.410Z"
   },
   {
    "duration": 2,
    "start_time": "2022-11-04T17:59:36.780Z"
   },
   {
    "duration": 21,
    "start_time": "2022-11-04T17:59:36.784Z"
   },
   {
    "duration": 27,
    "start_time": "2022-11-04T17:59:36.806Z"
   },
   {
    "duration": 23,
    "start_time": "2022-11-04T18:05:03.952Z"
   },
   {
    "duration": 87,
    "start_time": "2022-11-04T18:05:38.374Z"
   },
   {
    "duration": 7,
    "start_time": "2022-11-04T18:06:16.060Z"
   },
   {
    "duration": 12,
    "start_time": "2022-11-04T18:09:11.211Z"
   },
   {
    "duration": 50,
    "start_time": "2022-11-04T18:09:29.792Z"
   },
   {
    "duration": 357,
    "start_time": "2022-11-04T18:09:33.945Z"
   },
   {
    "duration": 725,
    "start_time": "2022-11-04T18:09:47.690Z"
   },
   {
    "duration": 15,
    "start_time": "2022-11-04T18:09:48.416Z"
   },
   {
    "duration": 1840,
    "start_time": "2022-11-04T18:09:48.433Z"
   },
   {
    "duration": 6,
    "start_time": "2022-11-04T18:09:50.275Z"
   },
   {
    "duration": 19,
    "start_time": "2022-11-04T18:09:50.282Z"
   },
   {
    "duration": 32,
    "start_time": "2022-11-04T18:09:50.303Z"
   },
   {
    "duration": 26,
    "start_time": "2022-11-04T18:09:50.336Z"
   },
   {
    "duration": 8,
    "start_time": "2022-11-04T18:09:50.363Z"
   },
   {
    "duration": 7,
    "start_time": "2022-11-04T18:09:50.372Z"
   },
   {
    "duration": 6,
    "start_time": "2022-11-04T18:09:50.382Z"
   },
   {
    "duration": 22,
    "start_time": "2022-11-04T18:09:50.389Z"
   },
   {
    "duration": 23,
    "start_time": "2022-11-04T18:09:50.412Z"
   },
   {
    "duration": 179,
    "start_time": "2022-11-04T18:09:50.436Z"
   },
   {
    "duration": 23,
    "start_time": "2022-11-04T18:09:50.616Z"
   },
   {
    "duration": 31,
    "start_time": "2022-11-04T18:09:50.641Z"
   },
   {
    "duration": 217,
    "start_time": "2022-11-04T18:09:50.674Z"
   },
   {
    "duration": 131,
    "start_time": "2022-11-04T18:09:50.892Z"
   },
   {
    "duration": 24,
    "start_time": "2022-11-04T18:09:51.025Z"
   },
   {
    "duration": 145,
    "start_time": "2022-11-04T18:09:51.050Z"
   },
   {
    "duration": 36,
    "start_time": "2022-11-04T18:09:51.196Z"
   },
   {
    "duration": 119,
    "start_time": "2022-11-04T18:09:51.233Z"
   },
   {
    "duration": 115,
    "start_time": "2022-11-04T18:09:51.353Z"
   },
   {
    "duration": 10,
    "start_time": "2022-11-04T18:09:51.469Z"
   },
   {
    "duration": 29,
    "start_time": "2022-11-04T18:09:51.480Z"
   },
   {
    "duration": 177,
    "start_time": "2022-11-04T18:09:51.510Z"
   },
   {
    "duration": 21,
    "start_time": "2022-11-04T18:09:51.688Z"
   },
   {
    "duration": 10,
    "start_time": "2022-11-04T18:09:51.710Z"
   },
   {
    "duration": 150,
    "start_time": "2022-11-04T18:09:51.723Z"
   },
   {
    "duration": 5,
    "start_time": "2022-11-04T18:09:51.875Z"
   },
   {
    "duration": 9,
    "start_time": "2022-11-04T18:09:51.881Z"
   },
   {
    "duration": 19,
    "start_time": "2022-11-04T18:09:51.891Z"
   },
   {
    "duration": 172,
    "start_time": "2022-11-04T18:09:51.911Z"
   },
   {
    "duration": 36,
    "start_time": "2022-11-04T18:09:52.084Z"
   },
   {
    "duration": 8,
    "start_time": "2022-11-04T18:09:52.122Z"
   },
   {
    "duration": 5,
    "start_time": "2022-11-04T18:09:52.131Z"
   },
   {
    "duration": 10,
    "start_time": "2022-11-04T18:09:52.137Z"
   },
   {
    "duration": 13,
    "start_time": "2022-11-04T18:09:52.148Z"
   },
   {
    "duration": 9,
    "start_time": "2022-11-04T18:09:52.162Z"
   },
   {
    "duration": 8,
    "start_time": "2022-11-04T18:09:52.172Z"
   },
   {
    "duration": 16,
    "start_time": "2022-11-04T18:09:52.181Z"
   },
   {
    "duration": 380,
    "start_time": "2022-11-04T18:09:52.198Z"
   },
   {
    "duration": 4,
    "start_time": "2022-11-04T18:09:52.580Z"
   },
   {
    "duration": 52,
    "start_time": "2022-11-04T18:09:52.586Z"
   },
   {
    "duration": 5,
    "start_time": "2022-11-04T18:10:41.373Z"
   },
   {
    "duration": 16,
    "start_time": "2022-11-04T18:10:48.288Z"
   },
   {
    "duration": 34,
    "start_time": "2022-11-04T18:10:54.490Z"
   },
   {
    "duration": 14,
    "start_time": "2022-11-04T18:15:19.463Z"
   },
   {
    "duration": 5,
    "start_time": "2022-11-04T18:15:39.062Z"
   },
   {
    "duration": 3,
    "start_time": "2022-11-04T18:15:45.849Z"
   },
   {
    "duration": 4,
    "start_time": "2022-11-04T18:15:48.919Z"
   },
   {
    "duration": 8,
    "start_time": "2022-11-04T18:17:05.330Z"
   },
   {
    "duration": 17,
    "start_time": "2022-11-04T18:17:32.168Z"
   },
   {
    "duration": 13,
    "start_time": "2022-11-04T18:17:37.265Z"
   },
   {
    "duration": 739,
    "start_time": "2022-11-04T18:19:34.151Z"
   },
   {
    "duration": 27,
    "start_time": "2022-11-04T18:19:34.892Z"
   },
   {
    "duration": 1924,
    "start_time": "2022-11-04T18:19:34.921Z"
   },
   {
    "duration": 6,
    "start_time": "2022-11-04T18:19:36.848Z"
   },
   {
    "duration": 6,
    "start_time": "2022-11-04T18:19:36.856Z"
   },
   {
    "duration": 34,
    "start_time": "2022-11-04T18:19:36.864Z"
   },
   {
    "duration": 28,
    "start_time": "2022-11-04T18:19:36.900Z"
   },
   {
    "duration": 8,
    "start_time": "2022-11-04T18:19:36.930Z"
   },
   {
    "duration": 6,
    "start_time": "2022-11-04T18:19:36.940Z"
   },
   {
    "duration": 6,
    "start_time": "2022-11-04T18:19:36.949Z"
   },
   {
    "duration": 4,
    "start_time": "2022-11-04T18:19:36.957Z"
   },
   {
    "duration": 46,
    "start_time": "2022-11-04T18:19:36.963Z"
   },
   {
    "duration": 180,
    "start_time": "2022-11-04T18:19:37.011Z"
   },
   {
    "duration": 24,
    "start_time": "2022-11-04T18:19:37.192Z"
   },
   {
    "duration": 23,
    "start_time": "2022-11-04T18:19:37.217Z"
   },
   {
    "duration": 219,
    "start_time": "2022-11-04T18:19:37.241Z"
   },
   {
    "duration": 130,
    "start_time": "2022-11-04T18:19:37.462Z"
   },
   {
    "duration": 30,
    "start_time": "2022-11-04T18:19:37.594Z"
   },
   {
    "duration": 146,
    "start_time": "2022-11-04T18:19:37.625Z"
   },
   {
    "duration": 38,
    "start_time": "2022-11-04T18:19:37.773Z"
   },
   {
    "duration": 128,
    "start_time": "2022-11-04T18:19:37.813Z"
   },
   {
    "duration": 141,
    "start_time": "2022-11-04T18:19:37.942Z"
   },
   {
    "duration": 10,
    "start_time": "2022-11-04T18:19:38.084Z"
   },
   {
    "duration": 16,
    "start_time": "2022-11-04T18:19:38.109Z"
   },
   {
    "duration": 202,
    "start_time": "2022-11-04T18:19:38.127Z"
   },
   {
    "duration": 9,
    "start_time": "2022-11-04T18:19:38.331Z"
   },
   {
    "duration": 10,
    "start_time": "2022-11-04T18:19:38.342Z"
   },
   {
    "duration": 133,
    "start_time": "2022-11-04T18:19:38.355Z"
   },
   {
    "duration": 5,
    "start_time": "2022-11-04T18:19:38.489Z"
   },
   {
    "duration": 17,
    "start_time": "2022-11-04T18:19:38.495Z"
   },
   {
    "duration": 12,
    "start_time": "2022-11-04T18:19:38.513Z"
   },
   {
    "duration": 169,
    "start_time": "2022-11-04T18:19:38.526Z"
   },
   {
    "duration": 36,
    "start_time": "2022-11-04T18:19:38.696Z"
   },
   {
    "duration": 9,
    "start_time": "2022-11-04T18:19:38.734Z"
   },
   {
    "duration": 6,
    "start_time": "2022-11-04T18:19:38.744Z"
   },
   {
    "duration": 10,
    "start_time": "2022-11-04T18:19:38.752Z"
   },
   {
    "duration": 11,
    "start_time": "2022-11-04T18:19:38.763Z"
   },
   {
    "duration": 40,
    "start_time": "2022-11-04T18:19:38.776Z"
   },
   {
    "duration": 15,
    "start_time": "2022-11-04T18:19:38.817Z"
   },
   {
    "duration": 11,
    "start_time": "2022-11-04T18:19:38.833Z"
   },
   {
    "duration": 15,
    "start_time": "2022-11-04T18:19:38.846Z"
   },
   {
    "duration": 63,
    "start_time": "2022-11-04T18:19:38.862Z"
   },
   {
    "duration": 0,
    "start_time": "2022-11-04T18:19:38.927Z"
   },
   {
    "duration": 0,
    "start_time": "2022-11-04T18:19:38.928Z"
   },
   {
    "duration": 335,
    "start_time": "2022-11-04T18:20:25.236Z"
   },
   {
    "duration": 4,
    "start_time": "2022-11-04T18:20:27.993Z"
   },
   {
    "duration": 16,
    "start_time": "2022-11-04T18:20:28.940Z"
   },
   {
    "duration": 336,
    "start_time": "2022-11-04T18:21:39.151Z"
   },
   {
    "duration": 5,
    "start_time": "2022-11-04T18:21:41.516Z"
   },
   {
    "duration": 4,
    "start_time": "2022-11-04T18:21:55.843Z"
   },
   {
    "duration": 4,
    "start_time": "2022-11-04T18:22:40.718Z"
   },
   {
    "duration": 50,
    "start_time": "2022-11-06T05:48:33.839Z"
   },
   {
    "duration": 1107,
    "start_time": "2022-11-06T05:48:40.723Z"
   },
   {
    "duration": 22,
    "start_time": "2022-11-06T05:48:41.832Z"
   },
   {
    "duration": 2048,
    "start_time": "2022-11-06T05:48:41.856Z"
   },
   {
    "duration": 6,
    "start_time": "2022-11-06T05:48:43.906Z"
   },
   {
    "duration": 6,
    "start_time": "2022-11-06T05:48:43.914Z"
   },
   {
    "duration": 6,
    "start_time": "2022-11-06T05:48:43.921Z"
   },
   {
    "duration": 29,
    "start_time": "2022-11-06T05:48:43.929Z"
   },
   {
    "duration": 61,
    "start_time": "2022-11-06T05:48:43.960Z"
   },
   {
    "duration": 11,
    "start_time": "2022-11-06T05:48:44.023Z"
   },
   {
    "duration": 6,
    "start_time": "2022-11-06T05:48:44.036Z"
   },
   {
    "duration": 7,
    "start_time": "2022-11-06T05:48:44.043Z"
   },
   {
    "duration": 4,
    "start_time": "2022-11-06T05:48:44.051Z"
   },
   {
    "duration": 17,
    "start_time": "2022-11-06T05:48:44.056Z"
   },
   {
    "duration": 225,
    "start_time": "2022-11-06T05:48:44.077Z"
   },
   {
    "duration": 29,
    "start_time": "2022-11-06T05:48:44.303Z"
   },
   {
    "duration": 41,
    "start_time": "2022-11-06T05:48:44.334Z"
   },
   {
    "duration": 298,
    "start_time": "2022-11-06T05:48:44.377Z"
   },
   {
    "duration": 140,
    "start_time": "2022-11-06T05:48:44.677Z"
   },
   {
    "duration": 31,
    "start_time": "2022-11-06T05:48:44.819Z"
   },
   {
    "duration": 158,
    "start_time": "2022-11-06T05:48:44.852Z"
   },
   {
    "duration": 28,
    "start_time": "2022-11-06T05:48:45.012Z"
   },
   {
    "duration": 127,
    "start_time": "2022-11-06T05:48:45.042Z"
   },
   {
    "duration": 127,
    "start_time": "2022-11-06T05:48:45.171Z"
   },
   {
    "duration": 16,
    "start_time": "2022-11-06T05:48:45.299Z"
   },
   {
    "duration": 14,
    "start_time": "2022-11-06T05:48:45.316Z"
   },
   {
    "duration": 203,
    "start_time": "2022-11-06T05:48:45.332Z"
   },
   {
    "duration": 8,
    "start_time": "2022-11-06T05:48:45.537Z"
   },
   {
    "duration": 9,
    "start_time": "2022-11-06T05:48:45.547Z"
   },
   {
    "duration": 125,
    "start_time": "2022-11-06T05:48:45.557Z"
   },
   {
    "duration": 5,
    "start_time": "2022-11-06T05:48:45.683Z"
   },
   {
    "duration": 21,
    "start_time": "2022-11-06T05:48:45.689Z"
   },
   {
    "duration": 18,
    "start_time": "2022-11-06T05:48:45.711Z"
   },
   {
    "duration": 151,
    "start_time": "2022-11-06T05:48:45.730Z"
   },
   {
    "duration": 30,
    "start_time": "2022-11-06T05:48:45.882Z"
   },
   {
    "duration": 8,
    "start_time": "2022-11-06T05:48:45.913Z"
   },
   {
    "duration": 5,
    "start_time": "2022-11-06T05:48:45.923Z"
   },
   {
    "duration": 7,
    "start_time": "2022-11-06T05:48:45.929Z"
   },
   {
    "duration": 20,
    "start_time": "2022-11-06T05:48:45.937Z"
   },
   {
    "duration": 8,
    "start_time": "2022-11-06T05:48:45.959Z"
   },
   {
    "duration": 6,
    "start_time": "2022-11-06T05:48:45.969Z"
   },
   {
    "duration": 30,
    "start_time": "2022-11-06T05:48:45.979Z"
   },
   {
    "duration": 7,
    "start_time": "2022-11-06T05:48:46.011Z"
   },
   {
    "duration": 367,
    "start_time": "2022-11-06T05:48:46.020Z"
   },
   {
    "duration": 4,
    "start_time": "2022-11-06T05:48:46.389Z"
   },
   {
    "duration": 6,
    "start_time": "2022-11-06T05:49:40.633Z"
   },
   {
    "duration": 4,
    "start_time": "2022-11-06T05:49:48.937Z"
   },
   {
    "duration": 5,
    "start_time": "2022-11-06T05:52:31.310Z"
   },
   {
    "duration": 5,
    "start_time": "2022-11-06T05:52:47.242Z"
   },
   {
    "duration": 7,
    "start_time": "2022-11-06T05:55:50.314Z"
   },
   {
    "duration": 23,
    "start_time": "2022-11-06T05:55:59.184Z"
   },
   {
    "duration": 671,
    "start_time": "2022-11-06T05:56:17.566Z"
   },
   {
    "duration": 15,
    "start_time": "2022-11-06T05:56:18.239Z"
   },
   {
    "duration": 1817,
    "start_time": "2022-11-06T05:56:18.255Z"
   },
   {
    "duration": 6,
    "start_time": "2022-11-06T05:56:20.074Z"
   },
   {
    "duration": 15,
    "start_time": "2022-11-06T05:56:20.081Z"
   },
   {
    "duration": 30,
    "start_time": "2022-11-06T05:56:20.097Z"
   },
   {
    "duration": 25,
    "start_time": "2022-11-06T05:56:20.128Z"
   },
   {
    "duration": 3,
    "start_time": "2022-11-06T05:56:20.155Z"
   },
   {
    "duration": 10,
    "start_time": "2022-11-06T05:56:20.160Z"
   },
   {
    "duration": 9,
    "start_time": "2022-11-06T05:56:20.172Z"
   },
   {
    "duration": 7,
    "start_time": "2022-11-06T05:56:20.182Z"
   },
   {
    "duration": 20,
    "start_time": "2022-11-06T05:56:20.190Z"
   },
   {
    "duration": 17,
    "start_time": "2022-11-06T05:56:20.211Z"
   },
   {
    "duration": 177,
    "start_time": "2022-11-06T05:56:20.230Z"
   },
   {
    "duration": 23,
    "start_time": "2022-11-06T05:56:20.408Z"
   },
   {
    "duration": 25,
    "start_time": "2022-11-06T05:56:20.432Z"
   },
   {
    "duration": 218,
    "start_time": "2022-11-06T05:56:20.458Z"
   },
   {
    "duration": 123,
    "start_time": "2022-11-06T05:56:20.678Z"
   },
   {
    "duration": 29,
    "start_time": "2022-11-06T05:56:20.803Z"
   },
   {
    "duration": 148,
    "start_time": "2022-11-06T05:56:20.834Z"
   },
   {
    "duration": 38,
    "start_time": "2022-11-06T05:56:20.984Z"
   },
   {
    "duration": 41,
    "start_time": "2022-11-06T05:56:21.023Z"
   },
   {
    "duration": 122,
    "start_time": "2022-11-06T05:56:21.065Z"
   },
   {
    "duration": 122,
    "start_time": "2022-11-06T05:56:21.189Z"
   },
   {
    "duration": 8,
    "start_time": "2022-11-06T05:56:21.313Z"
   },
   {
    "duration": 14,
    "start_time": "2022-11-06T05:56:21.323Z"
   },
   {
    "duration": 195,
    "start_time": "2022-11-06T05:56:21.339Z"
   },
   {
    "duration": 8,
    "start_time": "2022-11-06T05:56:21.539Z"
   },
   {
    "duration": 11,
    "start_time": "2022-11-06T05:56:21.549Z"
   },
   {
    "duration": 134,
    "start_time": "2022-11-06T05:56:21.562Z"
   },
   {
    "duration": 15,
    "start_time": "2022-11-06T05:56:21.698Z"
   },
   {
    "duration": 19,
    "start_time": "2022-11-06T05:56:21.715Z"
   },
   {
    "duration": 6,
    "start_time": "2022-11-06T05:56:21.736Z"
   },
   {
    "duration": 156,
    "start_time": "2022-11-06T05:56:21.744Z"
   },
   {
    "duration": 30,
    "start_time": "2022-11-06T05:56:21.902Z"
   },
   {
    "duration": 8,
    "start_time": "2022-11-06T05:56:21.933Z"
   },
   {
    "duration": 5,
    "start_time": "2022-11-06T05:56:21.942Z"
   },
   {
    "duration": 5,
    "start_time": "2022-11-06T05:56:21.948Z"
   },
   {
    "duration": 9,
    "start_time": "2022-11-06T05:56:21.955Z"
   },
   {
    "duration": 8,
    "start_time": "2022-11-06T05:56:21.965Z"
   },
   {
    "duration": 7,
    "start_time": "2022-11-06T05:56:21.974Z"
   },
   {
    "duration": 5,
    "start_time": "2022-11-06T05:56:22.008Z"
   },
   {
    "duration": 6,
    "start_time": "2022-11-06T05:56:22.015Z"
   },
   {
    "duration": 351,
    "start_time": "2022-11-06T05:56:22.022Z"
   },
   {
    "duration": 4,
    "start_time": "2022-11-06T05:56:22.374Z"
   },
   {
    "duration": 23,
    "start_time": "2022-11-06T05:56:55.292Z"
   },
   {
    "duration": 19,
    "start_time": "2022-11-06T05:56:58.829Z"
   },
   {
    "duration": 26,
    "start_time": "2022-11-06T05:57:06.658Z"
   },
   {
    "duration": 26,
    "start_time": "2022-11-06T05:57:13.621Z"
   },
   {
    "duration": 7,
    "start_time": "2022-11-06T05:57:23.332Z"
   },
   {
    "duration": 49,
    "start_time": "2022-11-06T05:59:10.287Z"
   },
   {
    "duration": 7,
    "start_time": "2022-11-06T05:59:32.349Z"
   },
   {
    "duration": 131,
    "start_time": "2022-11-06T05:59:52.064Z"
   },
   {
    "duration": 7,
    "start_time": "2022-11-06T06:02:52.428Z"
   },
   {
    "duration": 5,
    "start_time": "2022-11-06T06:03:32.513Z"
   },
   {
    "duration": 97,
    "start_time": "2022-11-06T06:03:33.501Z"
   },
   {
    "duration": 4,
    "start_time": "2022-11-06T06:03:52.798Z"
   },
   {
    "duration": 103,
    "start_time": "2022-11-06T06:03:53.509Z"
   },
   {
    "duration": 15,
    "start_time": "2022-11-06T06:04:19.963Z"
   },
   {
    "duration": 720,
    "start_time": "2022-11-06T06:05:15.547Z"
   },
   {
    "duration": 19,
    "start_time": "2022-11-06T06:05:16.269Z"
   },
   {
    "duration": 1922,
    "start_time": "2022-11-06T06:05:16.290Z"
   },
   {
    "duration": 6,
    "start_time": "2022-11-06T06:05:18.215Z"
   },
   {
    "duration": 114,
    "start_time": "2022-11-06T06:05:18.222Z"
   },
   {
    "duration": 251,
    "start_time": "2022-11-06T06:05:18.338Z"
   },
   {
    "duration": 25,
    "start_time": "2022-11-06T06:05:18.590Z"
   },
   {
    "duration": 3,
    "start_time": "2022-11-06T06:05:18.617Z"
   },
   {
    "duration": 8,
    "start_time": "2022-11-06T06:05:18.622Z"
   },
   {
    "duration": 7,
    "start_time": "2022-11-06T06:05:18.632Z"
   },
   {
    "duration": 8,
    "start_time": "2022-11-06T06:05:18.640Z"
   },
   {
    "duration": 4,
    "start_time": "2022-11-06T06:05:18.649Z"
   },
   {
    "duration": 18,
    "start_time": "2022-11-06T06:05:18.654Z"
   },
   {
    "duration": 193,
    "start_time": "2022-11-06T06:05:18.674Z"
   },
   {
    "duration": 23,
    "start_time": "2022-11-06T06:05:18.868Z"
   },
   {
    "duration": 34,
    "start_time": "2022-11-06T06:05:18.892Z"
   },
   {
    "duration": 211,
    "start_time": "2022-11-06T06:05:18.928Z"
   },
   {
    "duration": 132,
    "start_time": "2022-11-06T06:05:19.141Z"
   },
   {
    "duration": 34,
    "start_time": "2022-11-06T06:05:19.275Z"
   },
   {
    "duration": 144,
    "start_time": "2022-11-06T06:05:19.311Z"
   },
   {
    "duration": 28,
    "start_time": "2022-11-06T06:05:19.457Z"
   },
   {
    "duration": 23,
    "start_time": "2022-11-06T06:05:19.486Z"
   },
   {
    "duration": 113,
    "start_time": "2022-11-06T06:05:19.510Z"
   },
   {
    "duration": 123,
    "start_time": "2022-11-06T06:05:19.625Z"
   },
   {
    "duration": 9,
    "start_time": "2022-11-06T06:05:19.750Z"
   },
   {
    "duration": 15,
    "start_time": "2022-11-06T06:05:19.760Z"
   },
   {
    "duration": 201,
    "start_time": "2022-11-06T06:05:19.776Z"
   },
   {
    "duration": 7,
    "start_time": "2022-11-06T06:05:19.981Z"
   },
   {
    "duration": 40,
    "start_time": "2022-11-06T06:05:19.990Z"
   },
   {
    "duration": 141,
    "start_time": "2022-11-06T06:05:20.033Z"
   },
   {
    "duration": 6,
    "start_time": "2022-11-06T06:05:20.176Z"
   },
   {
    "duration": 7,
    "start_time": "2022-11-06T06:05:20.183Z"
   },
   {
    "duration": 33,
    "start_time": "2022-11-06T06:05:20.192Z"
   },
   {
    "duration": 144,
    "start_time": "2022-11-06T06:05:20.228Z"
   },
   {
    "duration": 25,
    "start_time": "2022-11-06T06:05:20.373Z"
   },
   {
    "duration": 7,
    "start_time": "2022-11-06T06:05:20.410Z"
   },
   {
    "duration": 6,
    "start_time": "2022-11-06T06:05:20.418Z"
   },
   {
    "duration": 7,
    "start_time": "2022-11-06T06:05:20.426Z"
   },
   {
    "duration": 10,
    "start_time": "2022-11-06T06:05:20.434Z"
   },
   {
    "duration": 10,
    "start_time": "2022-11-06T06:05:20.446Z"
   },
   {
    "duration": 8,
    "start_time": "2022-11-06T06:05:20.458Z"
   },
   {
    "duration": 12,
    "start_time": "2022-11-06T06:05:20.467Z"
   },
   {
    "duration": 32,
    "start_time": "2022-11-06T06:05:20.480Z"
   },
   {
    "duration": 208,
    "start_time": "2022-11-06T06:05:20.514Z"
   },
   {
    "duration": 3,
    "start_time": "2022-11-06T06:05:20.724Z"
   },
   {
    "duration": 37,
    "start_time": "2022-11-06T06:06:14.145Z"
   },
   {
    "duration": 141,
    "start_time": "2022-11-06T06:07:56.703Z"
   },
   {
    "duration": 702,
    "start_time": "2022-11-06T06:09:52.935Z"
   },
   {
    "duration": 15,
    "start_time": "2022-11-06T06:09:53.639Z"
   },
   {
    "duration": 1845,
    "start_time": "2022-11-06T06:09:53.655Z"
   },
   {
    "duration": 6,
    "start_time": "2022-11-06T06:09:55.502Z"
   },
   {
    "duration": 10,
    "start_time": "2022-11-06T06:09:55.509Z"
   },
   {
    "duration": 34,
    "start_time": "2022-11-06T06:09:55.520Z"
   },
   {
    "duration": 26,
    "start_time": "2022-11-06T06:09:55.555Z"
   },
   {
    "duration": 3,
    "start_time": "2022-11-06T06:09:55.583Z"
   },
   {
    "duration": 21,
    "start_time": "2022-11-06T06:09:55.588Z"
   },
   {
    "duration": 5,
    "start_time": "2022-11-06T06:09:55.611Z"
   },
   {
    "duration": 9,
    "start_time": "2022-11-06T06:09:55.617Z"
   },
   {
    "duration": 5,
    "start_time": "2022-11-06T06:09:55.627Z"
   },
   {
    "duration": 17,
    "start_time": "2022-11-06T06:09:55.633Z"
   },
   {
    "duration": 200,
    "start_time": "2022-11-06T06:09:55.652Z"
   },
   {
    "duration": 23,
    "start_time": "2022-11-06T06:09:55.853Z"
   },
   {
    "duration": 38,
    "start_time": "2022-11-06T06:09:55.878Z"
   },
   {
    "duration": 215,
    "start_time": "2022-11-06T06:09:55.918Z"
   },
   {
    "duration": 137,
    "start_time": "2022-11-06T06:09:56.135Z"
   },
   {
    "duration": 35,
    "start_time": "2022-11-06T06:09:56.275Z"
   },
   {
    "duration": 147,
    "start_time": "2022-11-06T06:09:56.312Z"
   },
   {
    "duration": 37,
    "start_time": "2022-11-06T06:09:56.461Z"
   },
   {
    "duration": 9,
    "start_time": "2022-11-06T06:09:56.510Z"
   },
   {
    "duration": 125,
    "start_time": "2022-11-06T06:09:56.521Z"
   },
   {
    "duration": 123,
    "start_time": "2022-11-06T06:09:56.648Z"
   },
   {
    "duration": 8,
    "start_time": "2022-11-06T06:09:56.772Z"
   },
   {
    "duration": 27,
    "start_time": "2022-11-06T06:09:56.782Z"
   },
   {
    "duration": 178,
    "start_time": "2022-11-06T06:09:56.810Z"
   },
   {
    "duration": 6,
    "start_time": "2022-11-06T06:09:56.991Z"
   },
   {
    "duration": 40,
    "start_time": "2022-11-06T06:09:57.009Z"
   },
   {
    "duration": 142,
    "start_time": "2022-11-06T06:09:57.051Z"
   },
   {
    "duration": 5,
    "start_time": "2022-11-06T06:09:57.195Z"
   },
   {
    "duration": 5,
    "start_time": "2022-11-06T06:09:57.209Z"
   },
   {
    "duration": 9,
    "start_time": "2022-11-06T06:09:57.215Z"
   },
   {
    "duration": 158,
    "start_time": "2022-11-06T06:09:57.225Z"
   },
   {
    "duration": 29,
    "start_time": "2022-11-06T06:09:57.384Z"
   },
   {
    "duration": 6,
    "start_time": "2022-11-06T06:09:57.414Z"
   },
   {
    "duration": 5,
    "start_time": "2022-11-06T06:09:57.422Z"
   },
   {
    "duration": 11,
    "start_time": "2022-11-06T06:09:57.428Z"
   },
   {
    "duration": 9,
    "start_time": "2022-11-06T06:09:57.441Z"
   },
   {
    "duration": 4,
    "start_time": "2022-11-06T06:09:57.452Z"
   },
   {
    "duration": 9,
    "start_time": "2022-11-06T06:09:57.457Z"
   },
   {
    "duration": 3,
    "start_time": "2022-11-06T06:09:57.468Z"
   },
   {
    "duration": 4,
    "start_time": "2022-11-06T06:09:57.510Z"
   },
   {
    "duration": 7,
    "start_time": "2022-11-06T06:09:57.516Z"
   },
   {
    "duration": 222,
    "start_time": "2022-11-06T06:09:57.524Z"
   },
   {
    "duration": 5,
    "start_time": "2022-11-06T06:09:57.748Z"
   },
   {
    "duration": 8,
    "start_time": "2022-11-06T06:11:13.854Z"
   },
   {
    "duration": 48,
    "start_time": "2022-11-06T06:12:01.648Z"
   },
   {
    "duration": 38,
    "start_time": "2022-11-06T06:12:04.902Z"
   },
   {
    "duration": 53,
    "start_time": "2022-11-06T06:12:34.735Z"
   },
   {
    "duration": 7,
    "start_time": "2022-11-06T06:12:45.318Z"
   },
   {
    "duration": 728,
    "start_time": "2022-11-06T06:13:09.085Z"
   },
   {
    "duration": 15,
    "start_time": "2022-11-06T06:13:09.815Z"
   },
   {
    "duration": 1837,
    "start_time": "2022-11-06T06:13:09.832Z"
   },
   {
    "duration": 7,
    "start_time": "2022-11-06T06:13:11.671Z"
   },
   {
    "duration": 12,
    "start_time": "2022-11-06T06:13:11.680Z"
   },
   {
    "duration": 37,
    "start_time": "2022-11-06T06:13:11.694Z"
   },
   {
    "duration": 30,
    "start_time": "2022-11-06T06:13:11.733Z"
   },
   {
    "duration": 5,
    "start_time": "2022-11-06T06:13:11.765Z"
   },
   {
    "duration": 14,
    "start_time": "2022-11-06T06:13:11.771Z"
   },
   {
    "duration": 25,
    "start_time": "2022-11-06T06:13:11.787Z"
   },
   {
    "duration": 7,
    "start_time": "2022-11-06T06:13:11.814Z"
   },
   {
    "duration": 4,
    "start_time": "2022-11-06T06:13:11.822Z"
   },
   {
    "duration": 17,
    "start_time": "2022-11-06T06:13:11.827Z"
   },
   {
    "duration": 197,
    "start_time": "2022-11-06T06:13:11.847Z"
   },
   {
    "duration": 21,
    "start_time": "2022-11-06T06:13:12.046Z"
   },
   {
    "duration": 22,
    "start_time": "2022-11-06T06:13:12.068Z"
   },
   {
    "duration": 218,
    "start_time": "2022-11-06T06:13:12.092Z"
   },
   {
    "duration": 128,
    "start_time": "2022-11-06T06:13:12.312Z"
   },
   {
    "duration": 25,
    "start_time": "2022-11-06T06:13:12.442Z"
   },
   {
    "duration": 149,
    "start_time": "2022-11-06T06:13:12.469Z"
   },
   {
    "duration": 28,
    "start_time": "2022-11-06T06:13:12.620Z"
   },
   {
    "duration": 9,
    "start_time": "2022-11-06T06:13:12.649Z"
   },
   {
    "duration": 133,
    "start_time": "2022-11-06T06:13:12.659Z"
   },
   {
    "duration": 131,
    "start_time": "2022-11-06T06:13:12.794Z"
   },
   {
    "duration": 10,
    "start_time": "2022-11-06T06:13:12.926Z"
   },
   {
    "duration": 14,
    "start_time": "2022-11-06T06:13:12.937Z"
   },
   {
    "duration": 202,
    "start_time": "2022-11-06T06:13:12.952Z"
   },
   {
    "duration": 6,
    "start_time": "2022-11-06T06:13:13.155Z"
   },
   {
    "duration": 48,
    "start_time": "2022-11-06T06:13:13.163Z"
   },
   {
    "duration": 139,
    "start_time": "2022-11-06T06:13:13.212Z"
   },
   {
    "duration": 4,
    "start_time": "2022-11-06T06:13:13.353Z"
   },
   {
    "duration": 7,
    "start_time": "2022-11-06T06:13:13.358Z"
   },
   {
    "duration": 12,
    "start_time": "2022-11-06T06:13:13.366Z"
   },
   {
    "duration": 150,
    "start_time": "2022-11-06T06:13:13.380Z"
   },
   {
    "duration": 23,
    "start_time": "2022-11-06T06:13:13.532Z"
   },
   {
    "duration": 7,
    "start_time": "2022-11-06T06:13:13.556Z"
   },
   {
    "duration": 5,
    "start_time": "2022-11-06T06:13:13.564Z"
   },
   {
    "duration": 8,
    "start_time": "2022-11-06T06:13:13.570Z"
   },
   {
    "duration": 34,
    "start_time": "2022-11-06T06:13:13.580Z"
   },
   {
    "duration": 4,
    "start_time": "2022-11-06T06:13:13.616Z"
   },
   {
    "duration": 10,
    "start_time": "2022-11-06T06:13:13.623Z"
   },
   {
    "duration": 4,
    "start_time": "2022-11-06T06:13:13.634Z"
   },
   {
    "duration": 6,
    "start_time": "2022-11-06T06:13:13.639Z"
   },
   {
    "duration": 6,
    "start_time": "2022-11-06T06:13:13.646Z"
   },
   {
    "duration": 236,
    "start_time": "2022-11-06T06:13:13.653Z"
   },
   {
    "duration": 4,
    "start_time": "2022-11-06T06:13:13.891Z"
   },
   {
    "duration": 8,
    "start_time": "2022-11-06T06:14:43.055Z"
   },
   {
    "duration": 9,
    "start_time": "2022-11-06T06:14:46.344Z"
   },
   {
    "duration": 80,
    "start_time": "2022-11-06T06:19:59.710Z"
   },
   {
    "duration": 9,
    "start_time": "2022-11-06T06:20:27.197Z"
   },
   {
    "duration": 4,
    "start_time": "2022-11-06T06:21:03.576Z"
   },
   {
    "duration": 61,
    "start_time": "2022-11-06T06:22:05.113Z"
   },
   {
    "duration": 738,
    "start_time": "2022-11-06T06:22:16.943Z"
   },
   {
    "duration": 19,
    "start_time": "2022-11-06T06:22:17.682Z"
   },
   {
    "duration": 1833,
    "start_time": "2022-11-06T06:22:17.703Z"
   },
   {
    "duration": 8,
    "start_time": "2022-11-06T06:22:19.539Z"
   },
   {
    "duration": 14,
    "start_time": "2022-11-06T06:22:19.549Z"
   },
   {
    "duration": 37,
    "start_time": "2022-11-06T06:22:19.564Z"
   },
   {
    "duration": 29,
    "start_time": "2022-11-06T06:22:19.604Z"
   },
   {
    "duration": 5,
    "start_time": "2022-11-06T06:22:19.634Z"
   },
   {
    "duration": 14,
    "start_time": "2022-11-06T06:22:19.641Z"
   },
   {
    "duration": 6,
    "start_time": "2022-11-06T06:22:19.658Z"
   },
   {
    "duration": 7,
    "start_time": "2022-11-06T06:22:19.665Z"
   },
   {
    "duration": 7,
    "start_time": "2022-11-06T06:22:19.674Z"
   },
   {
    "duration": 42,
    "start_time": "2022-11-06T06:22:19.683Z"
   },
   {
    "duration": 180,
    "start_time": "2022-11-06T06:22:19.727Z"
   },
   {
    "duration": 23,
    "start_time": "2022-11-06T06:22:19.909Z"
   },
   {
    "duration": 24,
    "start_time": "2022-11-06T06:22:19.934Z"
   },
   {
    "duration": 231,
    "start_time": "2022-11-06T06:22:19.960Z"
   },
   {
    "duration": 146,
    "start_time": "2022-11-06T06:22:20.193Z"
   },
   {
    "duration": 27,
    "start_time": "2022-11-06T06:22:20.341Z"
   },
   {
    "duration": 161,
    "start_time": "2022-11-06T06:22:20.370Z"
   },
   {
    "duration": 46,
    "start_time": "2022-11-06T06:22:20.533Z"
   },
   {
    "duration": 30,
    "start_time": "2022-11-06T06:22:20.581Z"
   },
   {
    "duration": 117,
    "start_time": "2022-11-06T06:22:20.613Z"
   },
   {
    "duration": 129,
    "start_time": "2022-11-06T06:22:20.733Z"
   },
   {
    "duration": 10,
    "start_time": "2022-11-06T06:22:20.864Z"
   },
   {
    "duration": 18,
    "start_time": "2022-11-06T06:22:20.875Z"
   },
   {
    "duration": 212,
    "start_time": "2022-11-06T06:22:20.910Z"
   },
   {
    "duration": 7,
    "start_time": "2022-11-06T06:22:21.125Z"
   },
   {
    "duration": 42,
    "start_time": "2022-11-06T06:22:21.134Z"
   },
   {
    "duration": 212,
    "start_time": "2022-11-06T06:22:21.178Z"
   },
   {
    "duration": 21,
    "start_time": "2022-11-06T06:22:21.392Z"
   },
   {
    "duration": 5,
    "start_time": "2022-11-06T06:22:21.415Z"
   },
   {
    "duration": 8,
    "start_time": "2022-11-06T06:22:21.422Z"
   },
   {
    "duration": 6,
    "start_time": "2022-11-06T06:22:21.432Z"
   },
   {
    "duration": 9,
    "start_time": "2022-11-06T06:22:21.440Z"
   },
   {
    "duration": 183,
    "start_time": "2022-11-06T06:22:21.451Z"
   },
   {
    "duration": 26,
    "start_time": "2022-11-06T06:22:21.636Z"
   },
   {
    "duration": 8,
    "start_time": "2022-11-06T06:22:21.664Z"
   },
   {
    "duration": 14,
    "start_time": "2022-11-06T06:22:21.674Z"
   },
   {
    "duration": 31,
    "start_time": "2022-11-06T06:22:21.690Z"
   },
   {
    "duration": 22,
    "start_time": "2022-11-06T06:22:21.723Z"
   },
   {
    "duration": 8,
    "start_time": "2022-11-06T06:22:21.748Z"
   },
   {
    "duration": 11,
    "start_time": "2022-11-06T06:22:21.758Z"
   },
   {
    "duration": 10,
    "start_time": "2022-11-06T06:22:21.771Z"
   },
   {
    "duration": 220,
    "start_time": "2022-11-06T06:22:21.783Z"
   },
   {
    "duration": 6,
    "start_time": "2022-11-06T06:22:22.004Z"
   },
   {
    "duration": 6,
    "start_time": "2022-11-06T06:22:34.172Z"
   },
   {
    "duration": 108,
    "start_time": "2022-11-06T06:24:00.995Z"
   },
   {
    "duration": 892,
    "start_time": "2022-11-06T06:24:14.208Z"
   },
   {
    "duration": 24,
    "start_time": "2022-11-06T06:24:15.102Z"
   },
   {
    "duration": 1900,
    "start_time": "2022-11-06T06:24:15.128Z"
   },
   {
    "duration": 6,
    "start_time": "2022-11-06T06:24:17.030Z"
   },
   {
    "duration": 29,
    "start_time": "2022-11-06T06:24:17.037Z"
   },
   {
    "duration": 40,
    "start_time": "2022-11-06T06:24:17.068Z"
   },
   {
    "duration": 26,
    "start_time": "2022-11-06T06:24:17.110Z"
   },
   {
    "duration": 4,
    "start_time": "2022-11-06T06:24:17.137Z"
   },
   {
    "duration": 27,
    "start_time": "2022-11-06T06:24:17.142Z"
   },
   {
    "duration": 18,
    "start_time": "2022-11-06T06:24:17.171Z"
   },
   {
    "duration": 32,
    "start_time": "2022-11-06T06:24:17.190Z"
   },
   {
    "duration": 9,
    "start_time": "2022-11-06T06:24:17.223Z"
   },
   {
    "duration": 41,
    "start_time": "2022-11-06T06:24:17.234Z"
   },
   {
    "duration": 222,
    "start_time": "2022-11-06T06:24:17.277Z"
   },
   {
    "duration": 25,
    "start_time": "2022-11-06T06:24:17.500Z"
   },
   {
    "duration": 28,
    "start_time": "2022-11-06T06:24:17.527Z"
   },
   {
    "duration": 207,
    "start_time": "2022-11-06T06:24:17.557Z"
   },
   {
    "duration": 123,
    "start_time": "2022-11-06T06:24:17.766Z"
   },
   {
    "duration": 34,
    "start_time": "2022-11-06T06:24:17.890Z"
   },
   {
    "duration": 145,
    "start_time": "2022-11-06T06:24:17.925Z"
   },
   {
    "duration": 38,
    "start_time": "2022-11-06T06:24:18.072Z"
   },
   {
    "duration": 128,
    "start_time": "2022-11-06T06:24:18.111Z"
   },
   {
    "duration": 10,
    "start_time": "2022-11-06T06:24:18.240Z"
   },
   {
    "duration": 141,
    "start_time": "2022-11-06T06:24:18.252Z"
   },
   {
    "duration": 186,
    "start_time": "2022-11-06T06:24:18.395Z"
   },
   {
    "duration": 9,
    "start_time": "2022-11-06T06:24:18.583Z"
   },
   {
    "duration": 28,
    "start_time": "2022-11-06T06:24:18.594Z"
   },
   {
    "duration": 128,
    "start_time": "2022-11-06T06:24:18.626Z"
   },
   {
    "duration": 7,
    "start_time": "2022-11-06T06:24:18.756Z"
   },
   {
    "duration": 57,
    "start_time": "2022-11-06T06:24:18.764Z"
   },
   {
    "duration": 132,
    "start_time": "2022-11-06T06:24:18.822Z"
   },
   {
    "duration": 10,
    "start_time": "2022-11-06T06:24:18.955Z"
   },
   {
    "duration": 4,
    "start_time": "2022-11-06T06:24:18.967Z"
   },
   {
    "duration": 9,
    "start_time": "2022-11-06T06:24:18.972Z"
   },
   {
    "duration": 28,
    "start_time": "2022-11-06T06:24:18.982Z"
   },
   {
    "duration": 7,
    "start_time": "2022-11-06T06:24:19.012Z"
   },
   {
    "duration": 144,
    "start_time": "2022-11-06T06:24:19.020Z"
   },
   {
    "duration": 24,
    "start_time": "2022-11-06T06:24:19.166Z"
   },
   {
    "duration": 21,
    "start_time": "2022-11-06T06:24:19.192Z"
   },
   {
    "duration": 7,
    "start_time": "2022-11-06T06:24:19.214Z"
   },
   {
    "duration": 23,
    "start_time": "2022-11-06T06:24:19.223Z"
   },
   {
    "duration": 24,
    "start_time": "2022-11-06T06:24:19.248Z"
   },
   {
    "duration": 5,
    "start_time": "2022-11-06T06:24:19.273Z"
   },
   {
    "duration": 30,
    "start_time": "2022-11-06T06:24:19.280Z"
   },
   {
    "duration": 13,
    "start_time": "2022-11-06T06:24:19.312Z"
   },
   {
    "duration": 221,
    "start_time": "2022-11-06T06:24:19.326Z"
   },
   {
    "duration": 4,
    "start_time": "2022-11-06T06:24:19.549Z"
   },
   {
    "duration": 6,
    "start_time": "2022-11-06T06:25:43.922Z"
   },
   {
    "duration": 21,
    "start_time": "2022-11-06T06:25:52.829Z"
   },
   {
    "duration": 21,
    "start_time": "2022-11-06T06:26:04.330Z"
   },
   {
    "duration": 112,
    "start_time": "2022-11-06T06:27:50.734Z"
   },
   {
    "duration": 948,
    "start_time": "2022-11-06T06:28:04.509Z"
   },
   {
    "duration": 16,
    "start_time": "2022-11-06T06:28:05.459Z"
   },
   {
    "duration": 1867,
    "start_time": "2022-11-06T06:28:05.477Z"
   },
   {
    "duration": 6,
    "start_time": "2022-11-06T06:28:07.346Z"
   },
   {
    "duration": 6,
    "start_time": "2022-11-06T06:28:07.353Z"
   },
   {
    "duration": 30,
    "start_time": "2022-11-06T06:28:07.361Z"
   },
   {
    "duration": 27,
    "start_time": "2022-11-06T06:28:07.392Z"
   },
   {
    "duration": 4,
    "start_time": "2022-11-06T06:28:07.421Z"
   },
   {
    "duration": 9,
    "start_time": "2022-11-06T06:28:07.426Z"
   },
   {
    "duration": 5,
    "start_time": "2022-11-06T06:28:07.438Z"
   },
   {
    "duration": 6,
    "start_time": "2022-11-06T06:28:07.444Z"
   },
   {
    "duration": 4,
    "start_time": "2022-11-06T06:28:07.451Z"
   },
   {
    "duration": 18,
    "start_time": "2022-11-06T06:28:07.457Z"
   },
   {
    "duration": 193,
    "start_time": "2022-11-06T06:28:07.476Z"
   },
   {
    "duration": 23,
    "start_time": "2022-11-06T06:28:07.671Z"
   },
   {
    "duration": 32,
    "start_time": "2022-11-06T06:28:07.696Z"
   },
   {
    "duration": 205,
    "start_time": "2022-11-06T06:28:07.730Z"
   },
   {
    "duration": 127,
    "start_time": "2022-11-06T06:28:07.937Z"
   },
   {
    "duration": 24,
    "start_time": "2022-11-06T06:28:08.066Z"
   },
   {
    "duration": 150,
    "start_time": "2022-11-06T06:28:08.091Z"
   },
   {
    "duration": 28,
    "start_time": "2022-11-06T06:28:08.244Z"
   },
   {
    "duration": 141,
    "start_time": "2022-11-06T06:28:08.273Z"
   },
   {
    "duration": 8,
    "start_time": "2022-11-06T06:28:08.416Z"
   },
   {
    "duration": 119,
    "start_time": "2022-11-06T06:28:08.425Z"
   },
   {
    "duration": 176,
    "start_time": "2022-11-06T06:28:08.545Z"
   },
   {
    "duration": 9,
    "start_time": "2022-11-06T06:28:08.723Z"
   },
   {
    "duration": 14,
    "start_time": "2022-11-06T06:28:08.734Z"
   },
   {
    "duration": 139,
    "start_time": "2022-11-06T06:28:08.751Z"
   },
   {
    "duration": 7,
    "start_time": "2022-11-06T06:28:08.891Z"
   },
   {
    "duration": 41,
    "start_time": "2022-11-06T06:28:08.909Z"
   },
   {
    "duration": 146,
    "start_time": "2022-11-06T06:28:08.952Z"
   },
   {
    "duration": 9,
    "start_time": "2022-11-06T06:28:09.100Z"
   },
   {
    "duration": 2,
    "start_time": "2022-11-06T06:28:09.111Z"
   },
   {
    "duration": 5,
    "start_time": "2022-11-06T06:28:09.115Z"
   },
   {
    "duration": 4,
    "start_time": "2022-11-06T06:28:09.122Z"
   },
   {
    "duration": 6,
    "start_time": "2022-11-06T06:28:09.128Z"
   },
   {
    "duration": 163,
    "start_time": "2022-11-06T06:28:09.135Z"
   },
   {
    "duration": 29,
    "start_time": "2022-11-06T06:28:09.299Z"
   },
   {
    "duration": 7,
    "start_time": "2022-11-06T06:28:09.329Z"
   },
   {
    "duration": 6,
    "start_time": "2022-11-06T06:28:09.338Z"
   },
   {
    "duration": 6,
    "start_time": "2022-11-06T06:28:09.346Z"
   },
   {
    "duration": 11,
    "start_time": "2022-11-06T06:28:09.353Z"
   },
   {
    "duration": 4,
    "start_time": "2022-11-06T06:28:09.366Z"
   },
   {
    "duration": 38,
    "start_time": "2022-11-06T06:28:09.371Z"
   },
   {
    "duration": 7,
    "start_time": "2022-11-06T06:28:09.411Z"
   },
   {
    "duration": 213,
    "start_time": "2022-11-06T06:28:09.420Z"
   },
   {
    "duration": 4,
    "start_time": "2022-11-06T06:28:09.634Z"
   },
   {
    "duration": 16,
    "start_time": "2022-11-06T06:29:59.841Z"
   },
   {
    "duration": 46,
    "start_time": "2022-11-06T06:34:32.125Z"
   },
   {
    "duration": 21,
    "start_time": "2022-11-06T06:34:48.080Z"
   },
   {
    "duration": 656,
    "start_time": "2022-11-06T06:36:56.600Z"
   },
   {
    "duration": 745,
    "start_time": "2022-11-06T06:37:34.227Z"
   },
   {
    "duration": 671,
    "start_time": "2022-11-06T06:37:47.073Z"
   },
   {
    "duration": 12,
    "start_time": "2022-11-06T06:37:59.699Z"
   },
   {
    "duration": 702,
    "start_time": "2022-11-06T06:38:42.438Z"
   },
   {
    "duration": 14,
    "start_time": "2022-11-06T06:38:43.142Z"
   },
   {
    "duration": 1954,
    "start_time": "2022-11-06T06:38:43.158Z"
   },
   {
    "duration": 6,
    "start_time": "2022-11-06T06:38:45.114Z"
   },
   {
    "duration": 6,
    "start_time": "2022-11-06T06:38:45.121Z"
   },
   {
    "duration": 29,
    "start_time": "2022-11-06T06:38:45.129Z"
   },
   {
    "duration": 26,
    "start_time": "2022-11-06T06:38:45.159Z"
   },
   {
    "duration": 22,
    "start_time": "2022-11-06T06:38:45.187Z"
   },
   {
    "duration": 8,
    "start_time": "2022-11-06T06:38:45.210Z"
   },
   {
    "duration": 14,
    "start_time": "2022-11-06T06:38:45.222Z"
   },
   {
    "duration": 6,
    "start_time": "2022-11-06T06:38:45.238Z"
   },
   {
    "duration": 4,
    "start_time": "2022-11-06T06:38:45.246Z"
   },
   {
    "duration": 34,
    "start_time": "2022-11-06T06:38:45.252Z"
   },
   {
    "duration": 185,
    "start_time": "2022-11-06T06:38:45.288Z"
   },
   {
    "duration": 29,
    "start_time": "2022-11-06T06:38:45.474Z"
   },
   {
    "duration": 27,
    "start_time": "2022-11-06T06:38:45.509Z"
   },
   {
    "duration": 216,
    "start_time": "2022-11-06T06:38:45.537Z"
   },
   {
    "duration": 127,
    "start_time": "2022-11-06T06:38:45.754Z"
   },
   {
    "duration": 30,
    "start_time": "2022-11-06T06:38:45.882Z"
   },
   {
    "duration": 144,
    "start_time": "2022-11-06T06:38:45.914Z"
   },
   {
    "duration": 32,
    "start_time": "2022-11-06T06:38:46.060Z"
   },
   {
    "duration": 144,
    "start_time": "2022-11-06T06:38:46.108Z"
   },
   {
    "duration": 9,
    "start_time": "2022-11-06T06:38:46.253Z"
   },
   {
    "duration": 115,
    "start_time": "2022-11-06T06:38:46.263Z"
   },
   {
    "duration": 188,
    "start_time": "2022-11-06T06:38:46.380Z"
   },
   {
    "duration": 10,
    "start_time": "2022-11-06T06:38:46.570Z"
   },
   {
    "duration": 28,
    "start_time": "2022-11-06T06:38:46.581Z"
   },
   {
    "duration": 137,
    "start_time": "2022-11-06T06:38:46.613Z"
   },
   {
    "duration": 7,
    "start_time": "2022-11-06T06:38:46.751Z"
   },
   {
    "duration": 54,
    "start_time": "2022-11-06T06:38:46.760Z"
   },
   {
    "duration": 135,
    "start_time": "2022-11-06T06:38:46.816Z"
   },
   {
    "duration": 8,
    "start_time": "2022-11-06T06:38:46.952Z"
   },
   {
    "duration": 4,
    "start_time": "2022-11-06T06:38:46.961Z"
   },
   {
    "duration": 5,
    "start_time": "2022-11-06T06:38:46.966Z"
   },
   {
    "duration": 4,
    "start_time": "2022-11-06T06:38:46.973Z"
   },
   {
    "duration": 35,
    "start_time": "2022-11-06T06:38:46.979Z"
   },
   {
    "duration": 149,
    "start_time": "2022-11-06T06:38:47.016Z"
   },
   {
    "duration": 26,
    "start_time": "2022-11-06T06:38:47.166Z"
   },
   {
    "duration": 16,
    "start_time": "2022-11-06T06:38:47.194Z"
   },
   {
    "duration": 6,
    "start_time": "2022-11-06T06:38:47.212Z"
   },
   {
    "duration": 6,
    "start_time": "2022-11-06T06:38:47.219Z"
   },
   {
    "duration": 11,
    "start_time": "2022-11-06T06:38:47.226Z"
   },
   {
    "duration": 715,
    "start_time": "2022-11-06T06:38:47.238Z"
   },
   {
    "duration": 12,
    "start_time": "2022-11-06T06:38:47.955Z"
   },
   {
    "duration": 3,
    "start_time": "2022-11-06T06:38:47.969Z"
   },
   {
    "duration": 9,
    "start_time": "2022-11-06T06:38:47.974Z"
   },
   {
    "duration": 6,
    "start_time": "2022-11-06T06:38:47.985Z"
   },
   {
    "duration": 215,
    "start_time": "2022-11-06T06:38:48.009Z"
   },
   {
    "duration": 4,
    "start_time": "2022-11-06T06:38:48.226Z"
   },
   {
    "duration": 35,
    "start_time": "2022-11-06T06:39:19.997Z"
   },
   {
    "duration": 100,
    "start_time": "2022-11-06T06:40:04.055Z"
   },
   {
    "duration": 40,
    "start_time": "2022-11-06T06:40:26.047Z"
   },
   {
    "duration": 729,
    "start_time": "2022-11-06T06:45:38.292Z"
   },
   {
    "duration": 14,
    "start_time": "2022-11-06T06:45:39.023Z"
   },
   {
    "duration": 1822,
    "start_time": "2022-11-06T06:45:39.039Z"
   },
   {
    "duration": 6,
    "start_time": "2022-11-06T06:45:40.863Z"
   },
   {
    "duration": 4,
    "start_time": "2022-11-06T06:45:40.871Z"
   },
   {
    "duration": 31,
    "start_time": "2022-11-06T06:45:40.877Z"
   },
   {
    "duration": 26,
    "start_time": "2022-11-06T06:45:40.909Z"
   },
   {
    "duration": 4,
    "start_time": "2022-11-06T06:45:40.937Z"
   },
   {
    "duration": 11,
    "start_time": "2022-11-06T06:45:40.942Z"
   },
   {
    "duration": 14,
    "start_time": "2022-11-06T06:45:40.954Z"
   },
   {
    "duration": 16,
    "start_time": "2022-11-06T06:45:40.969Z"
   },
   {
    "duration": 4,
    "start_time": "2022-11-06T06:45:40.987Z"
   },
   {
    "duration": 28,
    "start_time": "2022-11-06T06:45:40.993Z"
   },
   {
    "duration": 187,
    "start_time": "2022-11-06T06:45:41.024Z"
   },
   {
    "duration": 23,
    "start_time": "2022-11-06T06:45:41.213Z"
   },
   {
    "duration": 29,
    "start_time": "2022-11-06T06:45:41.237Z"
   },
   {
    "duration": 229,
    "start_time": "2022-11-06T06:45:41.267Z"
   },
   {
    "duration": 144,
    "start_time": "2022-11-06T06:45:41.497Z"
   },
   {
    "duration": 28,
    "start_time": "2022-11-06T06:45:41.644Z"
   },
   {
    "duration": 158,
    "start_time": "2022-11-06T06:45:41.673Z"
   },
   {
    "duration": 28,
    "start_time": "2022-11-06T06:45:41.833Z"
   },
   {
    "duration": 136,
    "start_time": "2022-11-06T06:45:41.862Z"
   },
   {
    "duration": 8,
    "start_time": "2022-11-06T06:45:42.008Z"
   },
   {
    "duration": 120,
    "start_time": "2022-11-06T06:45:42.018Z"
   },
   {
    "duration": 180,
    "start_time": "2022-11-06T06:45:42.140Z"
   },
   {
    "duration": 9,
    "start_time": "2022-11-06T06:45:42.322Z"
   },
   {
    "duration": 15,
    "start_time": "2022-11-06T06:45:42.332Z"
   },
   {
    "duration": 140,
    "start_time": "2022-11-06T06:45:42.349Z"
   },
   {
    "duration": 7,
    "start_time": "2022-11-06T06:45:42.490Z"
   },
   {
    "duration": 44,
    "start_time": "2022-11-06T06:45:42.508Z"
   },
   {
    "duration": 146,
    "start_time": "2022-11-06T06:45:42.553Z"
   },
   {
    "duration": 16,
    "start_time": "2022-11-06T06:45:42.701Z"
   },
   {
    "duration": 4,
    "start_time": "2022-11-06T06:45:42.719Z"
   },
   {
    "duration": 10,
    "start_time": "2022-11-06T06:45:42.724Z"
   },
   {
    "duration": 5,
    "start_time": "2022-11-06T06:45:42.736Z"
   },
   {
    "duration": 11,
    "start_time": "2022-11-06T06:45:42.743Z"
   },
   {
    "duration": 171,
    "start_time": "2022-11-06T06:45:42.756Z"
   },
   {
    "duration": 24,
    "start_time": "2022-11-06T06:45:42.928Z"
   },
   {
    "duration": 5,
    "start_time": "2022-11-06T06:45:42.953Z"
   },
   {
    "duration": 11,
    "start_time": "2022-11-06T06:45:42.960Z"
   },
   {
    "duration": 5,
    "start_time": "2022-11-06T06:45:42.975Z"
   },
   {
    "duration": 27,
    "start_time": "2022-11-06T06:45:42.982Z"
   },
   {
    "duration": 595,
    "start_time": "2022-11-06T06:45:43.011Z"
   },
   {
    "duration": 36,
    "start_time": "2022-11-06T06:45:43.609Z"
   },
   {
    "duration": 12,
    "start_time": "2022-11-06T06:45:43.647Z"
   },
   {
    "duration": 3,
    "start_time": "2022-11-06T06:45:43.660Z"
   },
   {
    "duration": 6,
    "start_time": "2022-11-06T06:45:43.665Z"
   },
   {
    "duration": 36,
    "start_time": "2022-11-06T06:45:43.673Z"
   },
   {
    "duration": 218,
    "start_time": "2022-11-06T06:45:43.710Z"
   },
   {
    "duration": 4,
    "start_time": "2022-11-06T06:45:43.930Z"
   },
   {
    "duration": 592,
    "start_time": "2022-11-06T06:46:25.959Z"
   },
   {
    "duration": 34,
    "start_time": "2022-11-06T06:46:26.846Z"
   },
   {
    "duration": 594,
    "start_time": "2022-11-06T06:49:10.969Z"
   },
   {
    "duration": 34,
    "start_time": "2022-11-06T06:49:11.749Z"
   },
   {
    "duration": 23,
    "start_time": "2022-11-06T06:49:42.809Z"
   },
   {
    "duration": 13,
    "start_time": "2022-11-06T06:49:50.873Z"
   },
   {
    "duration": 3,
    "start_time": "2022-11-06T06:51:59.859Z"
   },
   {
    "duration": 10,
    "start_time": "2022-11-06T06:52:16.834Z"
   },
   {
    "duration": 125,
    "start_time": "2022-11-06T06:53:47.218Z"
   },
   {
    "duration": 4,
    "start_time": "2022-11-06T06:55:09.241Z"
   },
   {
    "duration": 5,
    "start_time": "2022-11-06T06:55:25.016Z"
   },
   {
    "duration": 6,
    "start_time": "2022-11-06T06:56:31.996Z"
   },
   {
    "duration": 6,
    "start_time": "2022-11-06T06:58:10.604Z"
   },
   {
    "duration": 37,
    "start_time": "2022-11-06T06:58:35.268Z"
   },
   {
    "duration": 46,
    "start_time": "2022-11-06T06:59:22.401Z"
   },
   {
    "duration": 113,
    "start_time": "2022-11-06T07:00:57.346Z"
   },
   {
    "duration": 111,
    "start_time": "2022-11-06T07:02:03.048Z"
   },
   {
    "duration": 108,
    "start_time": "2022-11-06T07:02:17.214Z"
   },
   {
    "duration": 122,
    "start_time": "2022-11-06T07:02:30.261Z"
   },
   {
    "duration": 777,
    "start_time": "2022-11-06T07:02:41.597Z"
   },
   {
    "duration": 16,
    "start_time": "2022-11-06T07:02:42.376Z"
   },
   {
    "duration": 1955,
    "start_time": "2022-11-06T07:02:42.393Z"
   },
   {
    "duration": 6,
    "start_time": "2022-11-06T07:02:44.350Z"
   },
   {
    "duration": 21,
    "start_time": "2022-11-06T07:02:44.358Z"
   },
   {
    "duration": 45,
    "start_time": "2022-11-06T07:02:44.381Z"
   },
   {
    "duration": 34,
    "start_time": "2022-11-06T07:02:44.428Z"
   },
   {
    "duration": 4,
    "start_time": "2022-11-06T07:02:44.465Z"
   },
   {
    "duration": 20,
    "start_time": "2022-11-06T07:02:44.471Z"
   },
   {
    "duration": 14,
    "start_time": "2022-11-06T07:02:44.495Z"
   },
   {
    "duration": 20,
    "start_time": "2022-11-06T07:02:44.511Z"
   },
   {
    "duration": 31,
    "start_time": "2022-11-06T07:02:44.532Z"
   },
   {
    "duration": 30,
    "start_time": "2022-11-06T07:02:44.566Z"
   },
   {
    "duration": 215,
    "start_time": "2022-11-06T07:02:44.598Z"
   },
   {
    "duration": 23,
    "start_time": "2022-11-06T07:02:44.815Z"
   },
   {
    "duration": 23,
    "start_time": "2022-11-06T07:02:44.839Z"
   },
   {
    "duration": 332,
    "start_time": "2022-11-06T07:02:44.909Z"
   },
   {
    "duration": 144,
    "start_time": "2022-11-06T07:02:45.243Z"
   },
   {
    "duration": 33,
    "start_time": "2022-11-06T07:02:45.389Z"
   },
   {
    "duration": 171,
    "start_time": "2022-11-06T07:02:45.424Z"
   },
   {
    "duration": 40,
    "start_time": "2022-11-06T07:02:45.596Z"
   },
   {
    "duration": 135,
    "start_time": "2022-11-06T07:02:45.638Z"
   },
   {
    "duration": 9,
    "start_time": "2022-11-06T07:02:45.775Z"
   },
   {
    "duration": 149,
    "start_time": "2022-11-06T07:02:45.809Z"
   },
   {
    "duration": 205,
    "start_time": "2022-11-06T07:02:45.960Z"
   },
   {
    "duration": 11,
    "start_time": "2022-11-06T07:02:46.166Z"
   },
   {
    "duration": 31,
    "start_time": "2022-11-06T07:02:46.179Z"
   },
   {
    "duration": 178,
    "start_time": "2022-11-06T07:02:46.214Z"
   },
   {
    "duration": 15,
    "start_time": "2022-11-06T07:02:46.394Z"
   },
   {
    "duration": 45,
    "start_time": "2022-11-06T07:02:46.411Z"
   },
   {
    "duration": 170,
    "start_time": "2022-11-06T07:02:46.457Z"
   },
   {
    "duration": 9,
    "start_time": "2022-11-06T07:02:46.630Z"
   },
   {
    "duration": 16,
    "start_time": "2022-11-06T07:02:46.641Z"
   },
   {
    "duration": 12,
    "start_time": "2022-11-06T07:02:46.659Z"
   },
   {
    "duration": 8,
    "start_time": "2022-11-06T07:02:46.672Z"
   },
   {
    "duration": 11,
    "start_time": "2022-11-06T07:02:46.682Z"
   },
   {
    "duration": 181,
    "start_time": "2022-11-06T07:02:46.695Z"
   },
   {
    "duration": 35,
    "start_time": "2022-11-06T07:02:46.878Z"
   },
   {
    "duration": 7,
    "start_time": "2022-11-06T07:02:46.914Z"
   },
   {
    "duration": 5,
    "start_time": "2022-11-06T07:02:46.923Z"
   },
   {
    "duration": 7,
    "start_time": "2022-11-06T07:02:46.930Z"
   },
   {
    "duration": 10,
    "start_time": "2022-11-06T07:02:46.938Z"
   },
   {
    "duration": 643,
    "start_time": "2022-11-06T07:02:46.949Z"
   },
   {
    "duration": 15,
    "start_time": "2022-11-06T07:02:47.594Z"
   },
   {
    "duration": 128,
    "start_time": "2022-11-06T07:02:47.610Z"
   },
   {
    "duration": 7,
    "start_time": "2022-11-06T07:02:47.741Z"
   },
   {
    "duration": 7,
    "start_time": "2022-11-06T07:02:47.750Z"
   },
   {
    "duration": 6,
    "start_time": "2022-11-06T07:02:47.759Z"
   },
   {
    "duration": 7,
    "start_time": "2022-11-06T07:02:47.766Z"
   },
   {
    "duration": 242,
    "start_time": "2022-11-06T07:02:47.775Z"
   },
   {
    "duration": 5,
    "start_time": "2022-11-06T07:02:48.018Z"
   },
   {
    "duration": 568,
    "start_time": "2022-11-06T07:08:10.119Z"
   },
   {
    "duration": 868,
    "start_time": "2022-11-06T07:08:33.699Z"
   },
   {
    "duration": 776,
    "start_time": "2022-11-06T07:08:42.161Z"
   },
   {
    "duration": 60,
    "start_time": "2022-11-06T07:08:54.519Z"
   },
   {
    "duration": 141,
    "start_time": "2022-11-06T07:12:30.039Z"
   },
   {
    "duration": 23,
    "start_time": "2022-11-06T07:12:42.063Z"
   },
   {
    "duration": 768,
    "start_time": "2022-11-06T07:12:52.935Z"
   },
   {
    "duration": 16,
    "start_time": "2022-11-06T07:12:53.708Z"
   },
   {
    "duration": 1935,
    "start_time": "2022-11-06T07:12:53.725Z"
   },
   {
    "duration": 6,
    "start_time": "2022-11-06T07:12:55.662Z"
   },
   {
    "duration": 14,
    "start_time": "2022-11-06T07:12:55.671Z"
   },
   {
    "duration": 31,
    "start_time": "2022-11-06T07:12:55.687Z"
   },
   {
    "duration": 31,
    "start_time": "2022-11-06T07:12:55.720Z"
   },
   {
    "duration": 5,
    "start_time": "2022-11-06T07:12:55.753Z"
   },
   {
    "duration": 18,
    "start_time": "2022-11-06T07:12:55.760Z"
   },
   {
    "duration": 5,
    "start_time": "2022-11-06T07:12:55.781Z"
   },
   {
    "duration": 6,
    "start_time": "2022-11-06T07:12:55.809Z"
   },
   {
    "duration": 4,
    "start_time": "2022-11-06T07:12:55.817Z"
   },
   {
    "duration": 19,
    "start_time": "2022-11-06T07:12:55.822Z"
   },
   {
    "duration": 206,
    "start_time": "2022-11-06T07:12:55.843Z"
   },
   {
    "duration": 24,
    "start_time": "2022-11-06T07:12:56.051Z"
   },
   {
    "duration": 38,
    "start_time": "2022-11-06T07:12:56.077Z"
   },
   {
    "duration": 256,
    "start_time": "2022-11-06T07:12:56.117Z"
   },
   {
    "duration": 134,
    "start_time": "2022-11-06T07:12:56.375Z"
   },
   {
    "duration": 153,
    "start_time": "2022-11-06T07:12:56.511Z"
   },
   {
    "duration": 25,
    "start_time": "2022-11-06T07:12:56.665Z"
   },
   {
    "duration": 160,
    "start_time": "2022-11-06T07:12:56.691Z"
   },
   {
    "duration": 27,
    "start_time": "2022-11-06T07:12:56.853Z"
   },
   {
    "duration": 145,
    "start_time": "2022-11-06T07:12:56.882Z"
   },
   {
    "duration": 9,
    "start_time": "2022-11-06T07:12:57.029Z"
   },
   {
    "duration": 192,
    "start_time": "2022-11-06T07:12:57.039Z"
   },
   {
    "duration": 113,
    "start_time": "2022-11-06T07:12:57.233Z"
   },
   {
    "duration": 10,
    "start_time": "2022-11-06T07:12:57.348Z"
   },
   {
    "duration": 16,
    "start_time": "2022-11-06T07:12:57.362Z"
   },
   {
    "duration": 159,
    "start_time": "2022-11-06T07:12:57.380Z"
   },
   {
    "duration": 8,
    "start_time": "2022-11-06T07:12:57.541Z"
   },
   {
    "duration": 44,
    "start_time": "2022-11-06T07:12:57.550Z"
   },
   {
    "duration": 155,
    "start_time": "2022-11-06T07:12:57.610Z"
   },
   {
    "duration": 10,
    "start_time": "2022-11-06T07:12:57.767Z"
   },
   {
    "duration": 4,
    "start_time": "2022-11-06T07:12:57.780Z"
   },
   {
    "duration": 25,
    "start_time": "2022-11-06T07:12:57.787Z"
   },
   {
    "duration": 5,
    "start_time": "2022-11-06T07:12:57.814Z"
   },
   {
    "duration": 7,
    "start_time": "2022-11-06T07:12:57.821Z"
   },
   {
    "duration": 153,
    "start_time": "2022-11-06T07:12:57.829Z"
   },
   {
    "duration": 42,
    "start_time": "2022-11-06T07:12:57.983Z"
   },
   {
    "duration": 8,
    "start_time": "2022-11-06T07:12:58.026Z"
   },
   {
    "duration": 6,
    "start_time": "2022-11-06T07:12:58.036Z"
   },
   {
    "duration": 6,
    "start_time": "2022-11-06T07:12:58.044Z"
   },
   {
    "duration": 13,
    "start_time": "2022-11-06T07:12:58.052Z"
   },
   {
    "duration": 608,
    "start_time": "2022-11-06T07:12:58.066Z"
   },
   {
    "duration": 11,
    "start_time": "2022-11-06T07:12:58.675Z"
   },
   {
    "duration": 151,
    "start_time": "2022-11-06T07:12:58.688Z"
   },
   {
    "duration": 6,
    "start_time": "2022-11-06T07:12:58.841Z"
   },
   {
    "duration": 9,
    "start_time": "2022-11-06T07:12:58.849Z"
   },
   {
    "duration": 5,
    "start_time": "2022-11-06T07:12:58.860Z"
   },
   {
    "duration": 8,
    "start_time": "2022-11-06T07:12:58.866Z"
   },
   {
    "duration": 238,
    "start_time": "2022-11-06T07:12:58.875Z"
   },
   {
    "duration": 4,
    "start_time": "2022-11-06T07:12:59.114Z"
   },
   {
    "duration": 23,
    "start_time": "2022-11-06T07:14:27.868Z"
   },
   {
    "duration": 15,
    "start_time": "2022-11-06T07:14:52.577Z"
   },
   {
    "duration": 15,
    "start_time": "2022-11-06T07:15:03.930Z"
   },
   {
    "duration": 13,
    "start_time": "2022-11-06T07:15:31.856Z"
   },
   {
    "duration": 9,
    "start_time": "2022-11-06T07:18:02.642Z"
   },
   {
    "duration": 7,
    "start_time": "2022-11-06T07:18:22.834Z"
   },
   {
    "duration": 8,
    "start_time": "2022-11-06T07:18:30.708Z"
   },
   {
    "duration": 731,
    "start_time": "2022-11-06T07:20:09.308Z"
   },
   {
    "duration": 15,
    "start_time": "2022-11-06T07:20:10.041Z"
   },
   {
    "duration": 1823,
    "start_time": "2022-11-06T07:20:10.057Z"
   },
   {
    "duration": 7,
    "start_time": "2022-11-06T07:20:11.882Z"
   },
   {
    "duration": 6,
    "start_time": "2022-11-06T07:20:11.890Z"
   },
   {
    "duration": 29,
    "start_time": "2022-11-06T07:20:11.898Z"
   },
   {
    "duration": 26,
    "start_time": "2022-11-06T07:20:11.928Z"
   },
   {
    "duration": 4,
    "start_time": "2022-11-06T07:20:11.955Z"
   },
   {
    "duration": 9,
    "start_time": "2022-11-06T07:20:11.961Z"
   },
   {
    "duration": 6,
    "start_time": "2022-11-06T07:20:11.972Z"
   },
   {
    "duration": 6,
    "start_time": "2022-11-06T07:20:11.980Z"
   },
   {
    "duration": 24,
    "start_time": "2022-11-06T07:20:11.987Z"
   },
   {
    "duration": 18,
    "start_time": "2022-11-06T07:20:12.013Z"
   },
   {
    "duration": 185,
    "start_time": "2022-11-06T07:20:12.033Z"
   },
   {
    "duration": 23,
    "start_time": "2022-11-06T07:20:12.220Z"
   },
   {
    "duration": 23,
    "start_time": "2022-11-06T07:20:12.244Z"
   },
   {
    "duration": 213,
    "start_time": "2022-11-06T07:20:12.269Z"
   },
   {
    "duration": 127,
    "start_time": "2022-11-06T07:20:12.484Z"
   },
   {
    "duration": 120,
    "start_time": "2022-11-06T07:20:12.612Z"
   },
   {
    "duration": 26,
    "start_time": "2022-11-06T07:20:12.734Z"
   },
   {
    "duration": 163,
    "start_time": "2022-11-06T07:20:12.761Z"
   },
   {
    "duration": 29,
    "start_time": "2022-11-06T07:20:12.926Z"
   },
   {
    "duration": 126,
    "start_time": "2022-11-06T07:20:12.957Z"
   },
   {
    "duration": 8,
    "start_time": "2022-11-06T07:20:13.084Z"
   },
   {
    "duration": 162,
    "start_time": "2022-11-06T07:20:13.108Z"
   },
   {
    "duration": 112,
    "start_time": "2022-11-06T07:20:13.272Z"
   },
   {
    "duration": 9,
    "start_time": "2022-11-06T07:20:13.385Z"
   },
   {
    "duration": 14,
    "start_time": "2022-11-06T07:20:13.408Z"
   },
   {
    "duration": 128,
    "start_time": "2022-11-06T07:20:13.424Z"
   },
   {
    "duration": 7,
    "start_time": "2022-11-06T07:20:13.553Z"
   },
   {
    "duration": 53,
    "start_time": "2022-11-06T07:20:13.561Z"
   },
   {
    "duration": 147,
    "start_time": "2022-11-06T07:20:13.615Z"
   },
   {
    "duration": 8,
    "start_time": "2022-11-06T07:20:13.764Z"
   },
   {
    "duration": 4,
    "start_time": "2022-11-06T07:20:13.773Z"
   },
   {
    "duration": 6,
    "start_time": "2022-11-06T07:20:13.778Z"
   },
   {
    "duration": 24,
    "start_time": "2022-11-06T07:20:13.786Z"
   },
   {
    "duration": 7,
    "start_time": "2022-11-06T07:20:13.811Z"
   },
   {
    "duration": 147,
    "start_time": "2022-11-06T07:20:13.819Z"
   },
   {
    "duration": 24,
    "start_time": "2022-11-06T07:20:13.968Z"
   },
   {
    "duration": 19,
    "start_time": "2022-11-06T07:20:13.994Z"
   },
   {
    "duration": 10,
    "start_time": "2022-11-06T07:20:14.014Z"
   },
   {
    "duration": 11,
    "start_time": "2022-11-06T07:20:14.025Z"
   },
   {
    "duration": 26,
    "start_time": "2022-11-06T07:20:14.038Z"
   },
   {
    "duration": 6,
    "start_time": "2022-11-06T07:20:14.065Z"
   },
   {
    "duration": 13,
    "start_time": "2022-11-06T07:20:14.072Z"
   },
   {
    "duration": 8,
    "start_time": "2022-11-06T07:20:14.086Z"
   },
   {
    "duration": 124,
    "start_time": "2022-11-06T07:20:14.096Z"
   },
   {
    "duration": 5,
    "start_time": "2022-11-06T07:20:14.222Z"
   },
   {
    "duration": 6,
    "start_time": "2022-11-06T07:20:14.229Z"
   },
   {
    "duration": 5,
    "start_time": "2022-11-06T07:20:14.236Z"
   },
   {
    "duration": 9,
    "start_time": "2022-11-06T07:20:14.242Z"
   },
   {
    "duration": 249,
    "start_time": "2022-11-06T07:20:14.253Z"
   },
   {
    "duration": 7,
    "start_time": "2022-11-06T07:20:14.504Z"
   },
   {
    "duration": 4,
    "start_time": "2022-11-06T07:20:34.770Z"
   },
   {
    "duration": 9,
    "start_time": "2022-11-06T07:20:45.771Z"
   },
   {
    "duration": 5,
    "start_time": "2022-11-06T07:20:47.191Z"
   },
   {
    "duration": 6,
    "start_time": "2022-11-06T07:21:15.596Z"
   },
   {
    "duration": 8,
    "start_time": "2022-11-06T07:22:55.206Z"
   },
   {
    "duration": 4,
    "start_time": "2022-11-06T07:23:10.994Z"
   },
   {
    "duration": 6,
    "start_time": "2022-11-06T07:23:19.122Z"
   },
   {
    "duration": 5,
    "start_time": "2022-11-06T07:23:28.251Z"
   },
   {
    "duration": 3,
    "start_time": "2022-11-06T07:23:29.035Z"
   },
   {
    "duration": 6,
    "start_time": "2022-11-06T07:23:29.856Z"
   },
   {
    "duration": 4,
    "start_time": "2022-11-06T07:23:38.794Z"
   },
   {
    "duration": 709,
    "start_time": "2022-11-06T07:24:31.163Z"
   },
   {
    "duration": 15,
    "start_time": "2022-11-06T07:24:31.874Z"
   },
   {
    "duration": 1842,
    "start_time": "2022-11-06T07:24:31.890Z"
   },
   {
    "duration": 5,
    "start_time": "2022-11-06T07:24:33.734Z"
   },
   {
    "duration": 6,
    "start_time": "2022-11-06T07:24:33.740Z"
   },
   {
    "duration": 29,
    "start_time": "2022-11-06T07:24:33.747Z"
   },
   {
    "duration": 26,
    "start_time": "2022-11-06T07:24:33.778Z"
   },
   {
    "duration": 6,
    "start_time": "2022-11-06T07:24:33.805Z"
   },
   {
    "duration": 11,
    "start_time": "2022-11-06T07:24:33.813Z"
   },
   {
    "duration": 6,
    "start_time": "2022-11-06T07:24:33.827Z"
   },
   {
    "duration": 7,
    "start_time": "2022-11-06T07:24:33.835Z"
   },
   {
    "duration": 4,
    "start_time": "2022-11-06T07:24:33.844Z"
   },
   {
    "duration": 26,
    "start_time": "2022-11-06T07:24:33.849Z"
   },
   {
    "duration": 219,
    "start_time": "2022-11-06T07:24:33.876Z"
   },
   {
    "duration": 29,
    "start_time": "2022-11-06T07:24:34.097Z"
   },
   {
    "duration": 23,
    "start_time": "2022-11-06T07:24:34.127Z"
   },
   {
    "duration": 218,
    "start_time": "2022-11-06T07:24:34.152Z"
   },
   {
    "duration": 162,
    "start_time": "2022-11-06T07:24:34.371Z"
   },
   {
    "duration": 140,
    "start_time": "2022-11-06T07:24:34.535Z"
   },
   {
    "duration": 38,
    "start_time": "2022-11-06T07:24:34.676Z"
   },
   {
    "duration": 147,
    "start_time": "2022-11-06T07:24:34.716Z"
   },
   {
    "duration": 27,
    "start_time": "2022-11-06T07:24:34.865Z"
   },
   {
    "duration": 142,
    "start_time": "2022-11-06T07:24:34.894Z"
   },
   {
    "duration": 8,
    "start_time": "2022-11-06T07:24:35.038Z"
   },
   {
    "duration": 176,
    "start_time": "2022-11-06T07:24:35.048Z"
   },
   {
    "duration": 110,
    "start_time": "2022-11-06T07:24:35.226Z"
   },
   {
    "duration": 9,
    "start_time": "2022-11-06T07:24:35.337Z"
   },
   {
    "duration": 15,
    "start_time": "2022-11-06T07:24:35.349Z"
   },
   {
    "duration": 147,
    "start_time": "2022-11-06T07:24:35.365Z"
   },
   {
    "duration": 6,
    "start_time": "2022-11-06T07:24:35.514Z"
   },
   {
    "duration": 41,
    "start_time": "2022-11-06T07:24:35.522Z"
   },
   {
    "duration": 149,
    "start_time": "2022-11-06T07:24:35.564Z"
   },
   {
    "duration": 8,
    "start_time": "2022-11-06T07:24:35.715Z"
   },
   {
    "duration": 9,
    "start_time": "2022-11-06T07:24:35.724Z"
   },
   {
    "duration": 12,
    "start_time": "2022-11-06T07:24:35.734Z"
   },
   {
    "duration": 6,
    "start_time": "2022-11-06T07:24:35.748Z"
   },
   {
    "duration": 13,
    "start_time": "2022-11-06T07:24:35.756Z"
   },
   {
    "duration": 147,
    "start_time": "2022-11-06T07:24:35.770Z"
   },
   {
    "duration": 27,
    "start_time": "2022-11-06T07:24:35.919Z"
   },
   {
    "duration": 8,
    "start_time": "2022-11-06T07:24:35.948Z"
   },
   {
    "duration": 23,
    "start_time": "2022-11-06T07:24:35.957Z"
   },
   {
    "duration": 17,
    "start_time": "2022-11-06T07:24:35.982Z"
   },
   {
    "duration": 26,
    "start_time": "2022-11-06T07:24:36.000Z"
   },
   {
    "duration": 18,
    "start_time": "2022-11-06T07:24:36.028Z"
   },
   {
    "duration": 5,
    "start_time": "2022-11-06T07:24:36.047Z"
   },
   {
    "duration": 13,
    "start_time": "2022-11-06T07:24:36.054Z"
   },
   {
    "duration": 17,
    "start_time": "2022-11-06T07:24:36.069Z"
   },
   {
    "duration": 140,
    "start_time": "2022-11-06T07:24:36.087Z"
   },
   {
    "duration": 6,
    "start_time": "2022-11-06T07:24:36.229Z"
   },
   {
    "duration": 8,
    "start_time": "2022-11-06T07:24:36.237Z"
   },
   {
    "duration": 8,
    "start_time": "2022-11-06T07:24:36.247Z"
   },
   {
    "duration": 12,
    "start_time": "2022-11-06T07:24:36.257Z"
   },
   {
    "duration": 229,
    "start_time": "2022-11-06T07:24:36.271Z"
   },
   {
    "duration": 7,
    "start_time": "2022-11-06T07:24:36.502Z"
   },
   {
    "duration": 86,
    "start_time": "2022-11-06T07:27:11.929Z"
   },
   {
    "duration": 117,
    "start_time": "2022-11-06T07:30:49.846Z"
   },
   {
    "duration": 132,
    "start_time": "2022-11-06T07:31:06.687Z"
   },
   {
    "duration": 9,
    "start_time": "2022-11-06T07:31:25.715Z"
   },
   {
    "duration": 7,
    "start_time": "2022-11-06T07:35:36.065Z"
   },
   {
    "duration": 5,
    "start_time": "2022-11-06T07:35:39.563Z"
   },
   {
    "duration": 186,
    "start_time": "2022-11-06T07:36:34.506Z"
   },
   {
    "duration": 192,
    "start_time": "2022-11-06T07:36:54.408Z"
   },
   {
    "duration": 143,
    "start_time": "2022-11-06T07:39:07.041Z"
   },
   {
    "duration": 665,
    "start_time": "2022-11-06T07:40:53.607Z"
   },
   {
    "duration": 148,
    "start_time": "2022-11-06T07:41:13.875Z"
   },
   {
    "duration": 25,
    "start_time": "2022-11-06T07:41:21.480Z"
   },
   {
    "duration": 169,
    "start_time": "2022-11-06T07:41:41.833Z"
   },
   {
    "duration": 144,
    "start_time": "2022-11-06T07:41:51.263Z"
   },
   {
    "duration": 157,
    "start_time": "2022-11-06T07:41:56.594Z"
   },
   {
    "duration": 132,
    "start_time": "2022-11-06T07:42:02.086Z"
   },
   {
    "duration": 161,
    "start_time": "2022-11-06T07:42:06.300Z"
   },
   {
    "duration": 9,
    "start_time": "2022-11-06T07:42:40.040Z"
   },
   {
    "duration": 4,
    "start_time": "2022-11-06T07:42:49.526Z"
   },
   {
    "duration": 196,
    "start_time": "2022-11-06T07:43:51.229Z"
   },
   {
    "duration": 209,
    "start_time": "2022-11-06T07:44:10.110Z"
   },
   {
    "duration": 235,
    "start_time": "2022-11-06T07:44:19.540Z"
   },
   {
    "duration": 144,
    "start_time": "2022-11-06T07:44:48.718Z"
   },
   {
    "duration": 144,
    "start_time": "2022-11-06T07:44:53.793Z"
   },
   {
    "duration": 156,
    "start_time": "2022-11-06T07:45:00.312Z"
   },
   {
    "duration": 141,
    "start_time": "2022-11-06T07:45:12.739Z"
   },
   {
    "duration": 145,
    "start_time": "2022-11-06T07:45:47.044Z"
   },
   {
    "duration": 136,
    "start_time": "2022-11-06T07:46:01.018Z"
   },
   {
    "duration": 160,
    "start_time": "2022-11-06T07:46:19.719Z"
   },
   {
    "duration": 136,
    "start_time": "2022-11-06T07:46:38.395Z"
   },
   {
    "duration": 51,
    "start_time": "2022-11-06T07:47:24.304Z"
   },
   {
    "duration": 110,
    "start_time": "2022-11-06T07:48:01.154Z"
   },
   {
    "duration": 169,
    "start_time": "2022-11-06T07:48:24.517Z"
   },
   {
    "duration": 151,
    "start_time": "2022-11-06T07:48:35.020Z"
   },
   {
    "duration": 144,
    "start_time": "2022-11-06T07:49:18.080Z"
   },
   {
    "duration": 258,
    "start_time": "2022-11-06T07:50:16.182Z"
   },
   {
    "duration": 153,
    "start_time": "2022-11-06T07:50:31.336Z"
   },
   {
    "duration": 151,
    "start_time": "2022-11-06T07:50:42.010Z"
   },
   {
    "duration": 179,
    "start_time": "2022-11-06T07:51:03.869Z"
   },
   {
    "duration": 155,
    "start_time": "2022-11-06T07:51:46.768Z"
   },
   {
    "duration": 139,
    "start_time": "2022-11-06T07:51:57.747Z"
   },
   {
    "duration": 181,
    "start_time": "2022-11-06T07:52:52.744Z"
   },
   {
    "duration": 118,
    "start_time": "2022-11-06T07:53:30.978Z"
   },
   {
    "duration": 157,
    "start_time": "2022-11-06T07:53:48.198Z"
   },
   {
    "duration": 5,
    "start_time": "2022-11-06T07:54:11.135Z"
   },
   {
    "duration": 144,
    "start_time": "2022-11-06T07:55:39.242Z"
   },
   {
    "duration": 117,
    "start_time": "2022-11-06T07:55:45.210Z"
   },
   {
    "duration": 132,
    "start_time": "2022-11-06T07:56:58.245Z"
   },
   {
    "duration": 147,
    "start_time": "2022-11-06T07:57:34.258Z"
   },
   {
    "duration": 140,
    "start_time": "2022-11-06T07:58:49.274Z"
   },
   {
    "duration": 752,
    "start_time": "2022-11-06T07:59:35.758Z"
   },
   {
    "duration": 137,
    "start_time": "2022-11-06T07:59:45.900Z"
   },
   {
    "duration": 135,
    "start_time": "2022-11-06T08:00:55.548Z"
   },
   {
    "duration": 143,
    "start_time": "2022-11-06T08:01:08.501Z"
   },
   {
    "duration": 641,
    "start_time": "2022-11-06T08:04:16.196Z"
   },
   {
    "duration": 649,
    "start_time": "2022-11-06T08:04:19.327Z"
   },
   {
    "duration": 12,
    "start_time": "2022-11-06T08:04:53.965Z"
   },
   {
    "duration": 264,
    "start_time": "2022-11-06T08:05:06.429Z"
   },
   {
    "duration": 137,
    "start_time": "2022-11-06T08:06:52.624Z"
   },
   {
    "duration": 15,
    "start_time": "2022-11-06T08:08:11.207Z"
   },
   {
    "duration": 139,
    "start_time": "2022-11-06T08:09:02.000Z"
   },
   {
    "duration": 126,
    "start_time": "2022-11-06T08:09:06.497Z"
   },
   {
    "duration": 111,
    "start_time": "2022-11-06T08:09:11.824Z"
   },
   {
    "duration": 162,
    "start_time": "2022-11-06T08:09:14.920Z"
   },
   {
    "duration": 113,
    "start_time": "2022-11-06T08:09:17.687Z"
   },
   {
    "duration": 115,
    "start_time": "2022-11-06T08:09:20.594Z"
   },
   {
    "duration": 166,
    "start_time": "2022-11-06T08:10:26.507Z"
   },
   {
    "duration": 6,
    "start_time": "2022-11-06T08:13:49.520Z"
   },
   {
    "duration": 3,
    "start_time": "2022-11-06T08:15:42.055Z"
   },
   {
    "duration": 3,
    "start_time": "2022-11-06T08:16:23.634Z"
   },
   {
    "duration": 6,
    "start_time": "2022-11-06T08:17:25.740Z"
   },
   {
    "duration": 211,
    "start_time": "2022-11-06T08:18:11.846Z"
   },
   {
    "duration": 162,
    "start_time": "2022-11-06T08:18:48.144Z"
   },
   {
    "duration": 5,
    "start_time": "2022-11-06T08:19:06.693Z"
   },
   {
    "duration": 4,
    "start_time": "2022-11-06T08:19:22.399Z"
   },
   {
    "duration": 5,
    "start_time": "2022-11-06T08:19:42.949Z"
   },
   {
    "duration": 49,
    "start_time": "2022-11-06T08:19:54.524Z"
   },
   {
    "duration": 50,
    "start_time": "2022-11-06T08:19:58.918Z"
   },
   {
    "duration": 5,
    "start_time": "2022-11-06T08:20:05.757Z"
   },
   {
    "duration": 163,
    "start_time": "2022-11-06T08:20:22.725Z"
   },
   {
    "duration": 168,
    "start_time": "2022-11-06T08:21:16.015Z"
   },
   {
    "duration": 328,
    "start_time": "2022-11-06T08:21:25.704Z"
   },
   {
    "duration": 131,
    "start_time": "2022-11-06T08:21:31.530Z"
   },
   {
    "duration": 133,
    "start_time": "2022-11-06T08:21:35.917Z"
   },
   {
    "duration": 136,
    "start_time": "2022-11-06T08:21:47.309Z"
   },
   {
    "duration": 52,
    "start_time": "2022-11-06T08:21:53.930Z"
   },
   {
    "duration": 129,
    "start_time": "2022-11-06T08:21:58.656Z"
   },
   {
    "duration": 101,
    "start_time": "2022-11-06T08:22:23.538Z"
   },
   {
    "duration": 279,
    "start_time": "2022-11-06T08:22:33.504Z"
   },
   {
    "duration": 143,
    "start_time": "2022-11-06T08:22:44.452Z"
   },
   {
    "duration": 110,
    "start_time": "2022-11-06T08:22:51.686Z"
   },
   {
    "duration": 133,
    "start_time": "2022-11-06T08:23:00.315Z"
   },
   {
    "duration": 138,
    "start_time": "2022-11-06T08:23:07.270Z"
   },
   {
    "duration": 186,
    "start_time": "2022-11-06T08:23:11.483Z"
   },
   {
    "duration": 152,
    "start_time": "2022-11-06T08:23:44.895Z"
   },
   {
    "duration": 167,
    "start_time": "2022-11-06T08:24:06.325Z"
   },
   {
    "duration": 168,
    "start_time": "2022-11-06T08:24:19.767Z"
   },
   {
    "duration": 185,
    "start_time": "2022-11-06T08:24:48.359Z"
   },
   {
    "duration": 260,
    "start_time": "2022-11-06T08:24:54.351Z"
   },
   {
    "duration": 149,
    "start_time": "2022-11-06T08:25:00.608Z"
   },
   {
    "duration": 155,
    "start_time": "2022-11-06T08:25:07.313Z"
   },
   {
    "duration": 171,
    "start_time": "2022-11-06T08:25:34.018Z"
   },
   {
    "duration": 3,
    "start_time": "2022-11-06T08:28:26.673Z"
   },
   {
    "duration": 155,
    "start_time": "2022-11-06T08:34:07.289Z"
   },
   {
    "duration": 216,
    "start_time": "2022-11-06T08:34:29.624Z"
   },
   {
    "duration": 208,
    "start_time": "2022-11-06T08:36:29.259Z"
   },
   {
    "duration": 205,
    "start_time": "2022-11-06T08:37:09.808Z"
   },
   {
    "duration": 204,
    "start_time": "2022-11-06T08:37:15.709Z"
   },
   {
    "duration": 279,
    "start_time": "2022-11-06T08:37:19.166Z"
   },
   {
    "duration": 187,
    "start_time": "2022-11-06T08:37:43.894Z"
   },
   {
    "duration": 193,
    "start_time": "2022-11-06T08:37:50.502Z"
   },
   {
    "duration": 164,
    "start_time": "2022-11-06T08:38:23.925Z"
   },
   {
    "duration": 168,
    "start_time": "2022-11-06T08:40:37.843Z"
   },
   {
    "duration": 168,
    "start_time": "2022-11-06T08:41:24.854Z"
   },
   {
    "duration": 385,
    "start_time": "2022-11-06T08:42:31.772Z"
   },
   {
    "duration": 6,
    "start_time": "2022-11-06T08:43:44.267Z"
   },
   {
    "duration": 169,
    "start_time": "2022-11-06T08:45:37.756Z"
   },
   {
    "duration": 1150,
    "start_time": "2022-11-06T09:00:19.256Z"
   },
   {
    "duration": 5,
    "start_time": "2022-11-06T09:00:23.796Z"
   },
   {
    "duration": 169,
    "start_time": "2022-11-06T09:01:15.443Z"
   },
   {
    "duration": 6,
    "start_time": "2022-11-06T09:02:43.744Z"
   },
   {
    "duration": 154,
    "start_time": "2022-11-06T09:04:01.771Z"
   },
   {
    "duration": 146,
    "start_time": "2022-11-06T09:04:12.846Z"
   },
   {
    "duration": 178,
    "start_time": "2022-11-06T09:04:27.895Z"
   },
   {
    "duration": 202,
    "start_time": "2022-11-06T09:04:41.223Z"
   },
   {
    "duration": 161,
    "start_time": "2022-11-06T09:05:10.946Z"
   },
   {
    "duration": 187,
    "start_time": "2022-11-06T09:05:21.220Z"
   },
   {
    "duration": 253,
    "start_time": "2022-11-06T09:05:41.422Z"
   },
   {
    "duration": 197,
    "start_time": "2022-11-06T09:05:56.044Z"
   },
   {
    "duration": 405,
    "start_time": "2022-11-06T09:06:04.743Z"
   },
   {
    "duration": 240,
    "start_time": "2022-11-06T09:06:11.206Z"
   },
   {
    "duration": 244,
    "start_time": "2022-11-06T09:06:14.842Z"
   },
   {
    "duration": 274,
    "start_time": "2022-11-06T09:06:32.086Z"
   },
   {
    "duration": 171,
    "start_time": "2022-11-06T09:09:02.752Z"
   },
   {
    "duration": 164,
    "start_time": "2022-11-06T09:09:13.476Z"
   },
   {
    "duration": 155,
    "start_time": "2022-11-06T09:09:21.810Z"
   },
   {
    "duration": 163,
    "start_time": "2022-11-06T09:09:26.837Z"
   },
   {
    "duration": 149,
    "start_time": "2022-11-06T09:09:31.362Z"
   },
   {
    "duration": 143,
    "start_time": "2022-11-06T09:09:35.842Z"
   },
   {
    "duration": 140,
    "start_time": "2022-11-06T09:09:39.701Z"
   },
   {
    "duration": 172,
    "start_time": "2022-11-06T09:09:42.154Z"
   },
   {
    "duration": 167,
    "start_time": "2022-11-06T09:09:57.777Z"
   },
   {
    "duration": 167,
    "start_time": "2022-11-06T09:10:07.737Z"
   },
   {
    "duration": 4,
    "start_time": "2022-11-06T09:11:24.180Z"
   },
   {
    "duration": 151,
    "start_time": "2022-11-06T09:13:26.961Z"
   },
   {
    "duration": 169,
    "start_time": "2022-11-06T09:14:24.621Z"
   },
   {
    "duration": 432,
    "start_time": "2022-11-06T09:14:50.777Z"
   },
   {
    "duration": 183,
    "start_time": "2022-11-06T09:15:29.173Z"
   },
   {
    "duration": 26,
    "start_time": "2022-11-06T09:15:45.966Z"
   },
   {
    "duration": 182,
    "start_time": "2022-11-06T09:15:57.021Z"
   },
   {
    "duration": 26,
    "start_time": "2022-11-06T09:16:16.922Z"
   },
   {
    "duration": 192,
    "start_time": "2022-11-06T09:16:30.243Z"
   },
   {
    "duration": 14,
    "start_time": "2022-11-06T09:23:29.025Z"
   },
   {
    "duration": 515,
    "start_time": "2022-11-06T09:23:42.469Z"
   },
   {
    "duration": 24,
    "start_time": "2022-11-06T09:24:03.010Z"
   },
   {
    "duration": 240,
    "start_time": "2022-11-06T09:24:10.664Z"
   },
   {
    "duration": 250,
    "start_time": "2022-11-06T09:24:25.854Z"
   },
   {
    "duration": 250,
    "start_time": "2022-11-06T09:25:20.547Z"
   },
   {
    "duration": 275,
    "start_time": "2022-11-06T09:25:35.959Z"
   },
   {
    "duration": 287,
    "start_time": "2022-11-06T09:27:20.288Z"
   },
   {
    "duration": 15,
    "start_time": "2022-11-06T09:36:45.977Z"
   },
   {
    "duration": 12,
    "start_time": "2022-11-06T09:36:55.348Z"
   },
   {
    "duration": 165,
    "start_time": "2022-11-06T09:37:02.829Z"
   },
   {
    "duration": 867,
    "start_time": "2022-11-06T09:37:58.442Z"
   },
   {
    "duration": 152,
    "start_time": "2022-11-06T09:38:20.900Z"
   },
   {
    "duration": 153,
    "start_time": "2022-11-06T09:38:49.221Z"
   },
   {
    "duration": 153,
    "start_time": "2022-11-06T09:39:01.621Z"
   },
   {
    "duration": 154,
    "start_time": "2022-11-06T09:39:10.866Z"
   },
   {
    "duration": 14,
    "start_time": "2022-11-06T09:40:15.162Z"
   },
   {
    "duration": 17,
    "start_time": "2022-11-06T09:40:17.787Z"
   },
   {
    "duration": 159,
    "start_time": "2022-11-06T09:40:31.075Z"
   },
   {
    "duration": 163,
    "start_time": "2022-11-06T09:40:35.312Z"
   },
   {
    "duration": 161,
    "start_time": "2022-11-06T09:40:51.281Z"
   },
   {
    "duration": 161,
    "start_time": "2022-11-06T09:41:20.572Z"
   },
   {
    "duration": 159,
    "start_time": "2022-11-06T09:41:28.090Z"
   },
   {
    "duration": 128,
    "start_time": "2022-11-06T09:43:16.865Z"
   },
   {
    "duration": 205,
    "start_time": "2022-11-06T09:43:30.301Z"
   },
   {
    "duration": 15,
    "start_time": "2022-11-06T09:43:41.078Z"
   },
   {
    "duration": 14,
    "start_time": "2022-11-06T09:44:02.024Z"
   },
   {
    "duration": 149,
    "start_time": "2022-11-06T09:44:06.258Z"
   },
   {
    "duration": 144,
    "start_time": "2022-11-06T09:44:32.942Z"
   },
   {
    "duration": 6,
    "start_time": "2022-11-06T09:45:44.473Z"
   },
   {
    "duration": 6,
    "start_time": "2022-11-06T09:45:57.484Z"
   },
   {
    "duration": 142,
    "start_time": "2022-11-06T09:47:13.859Z"
   },
   {
    "duration": 41,
    "start_time": "2022-11-06T09:48:00.040Z"
   },
   {
    "duration": 5,
    "start_time": "2022-11-06T09:48:03.843Z"
   },
   {
    "duration": 128,
    "start_time": "2022-11-06T09:49:04.078Z"
   },
   {
    "duration": 135,
    "start_time": "2022-11-06T09:49:28.558Z"
   },
   {
    "duration": 5,
    "start_time": "2022-11-06T09:51:09.362Z"
   },
   {
    "duration": 6,
    "start_time": "2022-11-06T09:51:29.946Z"
   },
   {
    "duration": 5,
    "start_time": "2022-11-06T09:54:13.327Z"
   },
   {
    "duration": 12,
    "start_time": "2022-11-06T10:34:14.043Z"
   },
   {
    "duration": 7,
    "start_time": "2022-11-06T10:34:22.893Z"
   },
   {
    "duration": 9,
    "start_time": "2022-11-06T10:34:30.426Z"
   },
   {
    "duration": 8,
    "start_time": "2022-11-06T10:34:38.903Z"
   },
   {
    "duration": 25,
    "start_time": "2022-11-06T10:35:39.550Z"
   },
   {
    "duration": 4,
    "start_time": "2022-11-06T10:36:10.248Z"
   },
   {
    "duration": 37,
    "start_time": "2022-11-06T10:36:12.536Z"
   },
   {
    "duration": 8,
    "start_time": "2022-11-06T10:37:16.821Z"
   },
   {
    "duration": 7,
    "start_time": "2022-11-06T10:43:02.638Z"
   },
   {
    "duration": 13,
    "start_time": "2022-11-06T10:43:06.596Z"
   },
   {
    "duration": 16,
    "start_time": "2022-11-06T10:43:24.604Z"
   },
   {
    "duration": 14,
    "start_time": "2022-11-06T10:43:30.667Z"
   },
   {
    "duration": 14,
    "start_time": "2022-11-06T10:43:45.312Z"
   },
   {
    "duration": 14,
    "start_time": "2022-11-06T10:44:00.740Z"
   },
   {
    "duration": 14,
    "start_time": "2022-11-06T10:44:12.312Z"
   },
   {
    "duration": 21,
    "start_time": "2022-11-06T10:45:20.697Z"
   },
   {
    "duration": 7,
    "start_time": "2022-11-06T10:47:52.221Z"
   },
   {
    "duration": 9,
    "start_time": "2022-11-06T10:48:03.433Z"
   },
   {
    "duration": 16,
    "start_time": "2022-11-06T10:48:04.678Z"
   },
   {
    "duration": 22,
    "start_time": "2022-11-06T10:48:44.238Z"
   },
   {
    "duration": 9,
    "start_time": "2022-11-06T10:49:11.994Z"
   },
   {
    "duration": 9,
    "start_time": "2022-11-06T10:49:30.915Z"
   },
   {
    "duration": 36,
    "start_time": "2022-11-06T10:50:07.072Z"
   },
   {
    "duration": 8,
    "start_time": "2022-11-06T10:50:23.622Z"
   },
   {
    "duration": 4,
    "start_time": "2022-11-06T10:50:36.059Z"
   },
   {
    "duration": 5,
    "start_time": "2022-11-06T10:50:45.362Z"
   },
   {
    "duration": 739,
    "start_time": "2022-11-06T10:50:55.172Z"
   },
   {
    "duration": 16,
    "start_time": "2022-11-06T10:50:55.913Z"
   },
   {
    "duration": 1954,
    "start_time": "2022-11-06T10:50:55.930Z"
   },
   {
    "duration": 6,
    "start_time": "2022-11-06T10:50:57.887Z"
   },
   {
    "duration": 11,
    "start_time": "2022-11-06T10:50:57.894Z"
   },
   {
    "duration": 33,
    "start_time": "2022-11-06T10:50:57.906Z"
   },
   {
    "duration": 27,
    "start_time": "2022-11-06T10:50:57.941Z"
   },
   {
    "duration": 3,
    "start_time": "2022-11-06T10:50:57.970Z"
   },
   {
    "duration": 10,
    "start_time": "2022-11-06T10:50:57.975Z"
   },
   {
    "duration": 25,
    "start_time": "2022-11-06T10:50:57.987Z"
   },
   {
    "duration": 8,
    "start_time": "2022-11-06T10:50:58.014Z"
   },
   {
    "duration": 4,
    "start_time": "2022-11-06T10:50:58.024Z"
   },
   {
    "duration": 20,
    "start_time": "2022-11-06T10:50:58.029Z"
   },
   {
    "duration": 219,
    "start_time": "2022-11-06T10:50:58.050Z"
   },
   {
    "duration": 24,
    "start_time": "2022-11-06T10:50:58.270Z"
   },
   {
    "duration": 34,
    "start_time": "2022-11-06T10:50:58.296Z"
   },
   {
    "duration": 219,
    "start_time": "2022-11-06T10:50:58.331Z"
   },
   {
    "duration": 132,
    "start_time": "2022-11-06T10:50:58.552Z"
   },
   {
    "duration": 130,
    "start_time": "2022-11-06T10:50:58.686Z"
   },
   {
    "duration": 32,
    "start_time": "2022-11-06T10:50:58.818Z"
   },
   {
    "duration": 159,
    "start_time": "2022-11-06T10:50:58.852Z"
   },
   {
    "duration": 30,
    "start_time": "2022-11-06T10:50:59.012Z"
   },
   {
    "duration": 155,
    "start_time": "2022-11-06T10:50:59.045Z"
   },
   {
    "duration": 15,
    "start_time": "2022-11-06T10:50:59.202Z"
   },
   {
    "duration": 193,
    "start_time": "2022-11-06T10:50:59.218Z"
   },
   {
    "duration": 124,
    "start_time": "2022-11-06T10:50:59.412Z"
   },
   {
    "duration": 10,
    "start_time": "2022-11-06T10:50:59.538Z"
   },
   {
    "duration": 20,
    "start_time": "2022-11-06T10:50:59.553Z"
   },
   {
    "duration": 137,
    "start_time": "2022-11-06T10:50:59.575Z"
   },
   {
    "duration": 8,
    "start_time": "2022-11-06T10:50:59.715Z"
   },
   {
    "duration": 53,
    "start_time": "2022-11-06T10:50:59.725Z"
   },
   {
    "duration": 145,
    "start_time": "2022-11-06T10:50:59.780Z"
   },
   {
    "duration": 9,
    "start_time": "2022-11-06T10:50:59.926Z"
   },
   {
    "duration": 4,
    "start_time": "2022-11-06T10:50:59.937Z"
   },
   {
    "duration": 17,
    "start_time": "2022-11-06T10:50:59.942Z"
   },
   {
    "duration": 16,
    "start_time": "2022-11-06T10:50:59.961Z"
   },
   {
    "duration": 18,
    "start_time": "2022-11-06T10:50:59.979Z"
   },
   {
    "duration": 153,
    "start_time": "2022-11-06T10:50:59.999Z"
   },
   {
    "duration": 26,
    "start_time": "2022-11-06T10:51:00.154Z"
   },
   {
    "duration": 7,
    "start_time": "2022-11-06T10:51:00.182Z"
   },
   {
    "duration": 6,
    "start_time": "2022-11-06T10:51:00.209Z"
   },
   {
    "duration": 30,
    "start_time": "2022-11-06T10:51:00.217Z"
   },
   {
    "duration": 45,
    "start_time": "2022-11-06T10:51:00.248Z"
   },
   {
    "duration": 21,
    "start_time": "2022-11-06T10:51:00.295Z"
   },
   {
    "duration": 30,
    "start_time": "2022-11-06T10:51:00.318Z"
   },
   {
    "duration": 27,
    "start_time": "2022-11-06T10:51:00.350Z"
   },
   {
    "duration": 134,
    "start_time": "2022-11-06T10:51:00.379Z"
   },
   {
    "duration": 7,
    "start_time": "2022-11-06T10:51:00.515Z"
   },
   {
    "duration": 14,
    "start_time": "2022-11-06T10:51:00.523Z"
   },
   {
    "duration": 13,
    "start_time": "2022-11-06T10:51:00.539Z"
   },
   {
    "duration": 16,
    "start_time": "2022-11-06T10:51:00.554Z"
   },
   {
    "duration": 258,
    "start_time": "2022-11-06T10:51:00.572Z"
   },
   {
    "duration": 4,
    "start_time": "2022-11-06T10:51:00.831Z"
   },
   {
    "duration": 154,
    "start_time": "2022-11-06T10:51:00.837Z"
   },
   {
    "duration": 152,
    "start_time": "2022-11-06T10:51:00.992Z"
   },
   {
    "duration": 179,
    "start_time": "2022-11-06T10:51:01.147Z"
   },
   {
    "duration": 190,
    "start_time": "2022-11-06T10:51:01.327Z"
   },
   {
    "duration": 229,
    "start_time": "2022-11-06T10:51:01.518Z"
   },
   {
    "duration": 202,
    "start_time": "2022-11-06T10:51:01.749Z"
   },
   {
    "duration": 164,
    "start_time": "2022-11-06T10:51:01.953Z"
   },
   {
    "duration": 113,
    "start_time": "2022-11-06T10:51:02.119Z"
   },
   {
    "duration": 140,
    "start_time": "2022-11-06T10:51:02.234Z"
   },
   {
    "duration": 154,
    "start_time": "2022-11-06T10:51:02.376Z"
   },
   {
    "duration": 151,
    "start_time": "2022-11-06T10:51:02.532Z"
   },
   {
    "duration": 150,
    "start_time": "2022-11-06T10:51:02.685Z"
   },
   {
    "duration": 121,
    "start_time": "2022-11-06T10:51:02.837Z"
   },
   {
    "duration": 141,
    "start_time": "2022-11-06T10:51:02.959Z"
   },
   {
    "duration": 201,
    "start_time": "2022-11-06T10:51:03.101Z"
   },
   {
    "duration": 162,
    "start_time": "2022-11-06T10:51:03.309Z"
   },
   {
    "duration": 5,
    "start_time": "2022-11-06T10:51:03.472Z"
   },
   {
    "duration": 169,
    "start_time": "2022-11-06T10:51:03.478Z"
   },
   {
    "duration": 6,
    "start_time": "2022-11-06T10:51:03.649Z"
   },
   {
    "duration": 254,
    "start_time": "2022-11-06T10:51:03.657Z"
   },
   {
    "duration": 5,
    "start_time": "2022-11-06T10:51:03.912Z"
   },
   {
    "duration": 148,
    "start_time": "2022-11-06T10:51:03.918Z"
   },
   {
    "duration": 150,
    "start_time": "2022-11-06T10:51:04.068Z"
   },
   {
    "duration": 5,
    "start_time": "2022-11-06T10:51:04.222Z"
   },
   {
    "duration": 172,
    "start_time": "2022-11-06T10:51:04.229Z"
   },
   {
    "duration": 6,
    "start_time": "2022-11-06T10:51:04.409Z"
   },
   {
    "duration": 185,
    "start_time": "2022-11-06T10:51:04.416Z"
   },
   {
    "duration": 9,
    "start_time": "2022-11-06T10:51:04.603Z"
   },
   {
    "duration": 7,
    "start_time": "2022-11-06T10:51:04.619Z"
   },
   {
    "duration": 33,
    "start_time": "2022-11-06T10:51:04.628Z"
   },
   {
    "duration": 43,
    "start_time": "2022-11-06T10:53:00.869Z"
   },
   {
    "duration": 47,
    "start_time": "2022-11-06T10:53:12.221Z"
   },
   {
    "duration": 38,
    "start_time": "2022-11-06T10:53:47.510Z"
   },
   {
    "duration": 36,
    "start_time": "2022-11-06T10:54:08.399Z"
   },
   {
    "duration": 44,
    "start_time": "2022-11-06T10:55:01.292Z"
   },
   {
    "duration": 6,
    "start_time": "2022-11-06T10:55:45.266Z"
   },
   {
    "duration": 8,
    "start_time": "2022-11-06T10:55:50.482Z"
   },
   {
    "duration": 40,
    "start_time": "2022-11-06T10:59:36.121Z"
   },
   {
    "duration": 7,
    "start_time": "2022-11-06T10:59:40.733Z"
   },
   {
    "duration": 8,
    "start_time": "2022-11-06T11:01:31.235Z"
   },
   {
    "duration": 13,
    "start_time": "2022-11-06T11:01:36.810Z"
   },
   {
    "duration": 90,
    "start_time": "2022-11-06T11:01:50.839Z"
   },
   {
    "duration": 5,
    "start_time": "2022-11-06T11:02:05.836Z"
   },
   {
    "duration": 2,
    "start_time": "2022-11-06T11:02:16.675Z"
   },
   {
    "duration": 4,
    "start_time": "2022-11-06T11:02:24.874Z"
   },
   {
    "duration": 10,
    "start_time": "2022-11-06T11:03:44.140Z"
   },
   {
    "duration": 10,
    "start_time": "2022-11-06T11:04:53.408Z"
   },
   {
    "duration": 7,
    "start_time": "2022-11-06T11:04:58.465Z"
   },
   {
    "duration": 3,
    "start_time": "2022-11-06T11:08:58.816Z"
   },
   {
    "duration": 12,
    "start_time": "2022-11-06T11:10:20.768Z"
   },
   {
    "duration": 38,
    "start_time": "2022-11-06T11:10:31.612Z"
   },
   {
    "duration": 691,
    "start_time": "2022-11-06T11:11:29.122Z"
   },
   {
    "duration": 38,
    "start_time": "2022-11-06T11:11:41.314Z"
   },
   {
    "duration": 38,
    "start_time": "2022-11-06T11:12:00.574Z"
   },
   {
    "duration": 818,
    "start_time": "2022-11-06T11:12:04.946Z"
   },
   {
    "duration": 791,
    "start_time": "2022-11-06T11:12:40.370Z"
   },
   {
    "duration": 38,
    "start_time": "2022-11-06T11:12:58.580Z"
   },
   {
    "duration": 7,
    "start_time": "2022-11-06T11:13:27.168Z"
   },
   {
    "duration": 40,
    "start_time": "2022-11-06T11:13:35.390Z"
   },
   {
    "duration": 10,
    "start_time": "2022-11-06T11:13:43.954Z"
   },
   {
    "duration": 14,
    "start_time": "2022-11-06T11:15:41.044Z"
   },
   {
    "duration": 699,
    "start_time": "2022-11-06T11:16:22.544Z"
   },
   {
    "duration": 17,
    "start_time": "2022-11-06T11:16:23.245Z"
   },
   {
    "duration": 1908,
    "start_time": "2022-11-06T11:16:23.264Z"
   },
   {
    "duration": 6,
    "start_time": "2022-11-06T11:16:25.174Z"
   },
   {
    "duration": 5,
    "start_time": "2022-11-06T11:16:25.181Z"
   },
   {
    "duration": 28,
    "start_time": "2022-11-06T11:16:25.188Z"
   },
   {
    "duration": 25,
    "start_time": "2022-11-06T11:16:25.218Z"
   },
   {
    "duration": 4,
    "start_time": "2022-11-06T11:16:25.244Z"
   },
   {
    "duration": 11,
    "start_time": "2022-11-06T11:16:25.250Z"
   },
   {
    "duration": 7,
    "start_time": "2022-11-06T11:16:25.264Z"
   },
   {
    "duration": 12,
    "start_time": "2022-11-06T11:16:25.273Z"
   },
   {
    "duration": 22,
    "start_time": "2022-11-06T11:16:25.287Z"
   },
   {
    "duration": 19,
    "start_time": "2022-11-06T11:16:25.311Z"
   },
   {
    "duration": 185,
    "start_time": "2022-11-06T11:16:25.332Z"
   },
   {
    "duration": 23,
    "start_time": "2022-11-06T11:16:25.518Z"
   },
   {
    "duration": 24,
    "start_time": "2022-11-06T11:16:25.543Z"
   },
   {
    "duration": 227,
    "start_time": "2022-11-06T11:16:25.569Z"
   },
   {
    "duration": 140,
    "start_time": "2022-11-06T11:16:25.798Z"
   },
   {
    "duration": 116,
    "start_time": "2022-11-06T11:16:25.940Z"
   },
   {
    "duration": 24,
    "start_time": "2022-11-06T11:16:26.057Z"
   },
   {
    "duration": 155,
    "start_time": "2022-11-06T11:16:26.082Z"
   },
   {
    "duration": 38,
    "start_time": "2022-11-06T11:16:26.239Z"
   },
   {
    "duration": 135,
    "start_time": "2022-11-06T11:16:26.278Z"
   },
   {
    "duration": 8,
    "start_time": "2022-11-06T11:16:26.415Z"
   },
   {
    "duration": 187,
    "start_time": "2022-11-06T11:16:26.424Z"
   },
   {
    "duration": 114,
    "start_time": "2022-11-06T11:16:26.613Z"
   },
   {
    "duration": 8,
    "start_time": "2022-11-06T11:16:26.728Z"
   },
   {
    "duration": 14,
    "start_time": "2022-11-06T11:16:26.741Z"
   },
   {
    "duration": 142,
    "start_time": "2022-11-06T11:16:26.757Z"
   },
   {
    "duration": 14,
    "start_time": "2022-11-06T11:16:26.901Z"
   },
   {
    "duration": 42,
    "start_time": "2022-11-06T11:16:26.917Z"
   },
   {
    "duration": 152,
    "start_time": "2022-11-06T11:16:26.961Z"
   },
   {
    "duration": 7,
    "start_time": "2022-11-06T11:16:27.115Z"
   },
   {
    "duration": 3,
    "start_time": "2022-11-06T11:16:27.124Z"
   },
   {
    "duration": 6,
    "start_time": "2022-11-06T11:16:27.128Z"
   },
   {
    "duration": 4,
    "start_time": "2022-11-06T11:16:27.136Z"
   },
   {
    "duration": 7,
    "start_time": "2022-11-06T11:16:27.142Z"
   },
   {
    "duration": 171,
    "start_time": "2022-11-06T11:16:27.150Z"
   },
   {
    "duration": 24,
    "start_time": "2022-11-06T11:16:27.323Z"
   },
   {
    "duration": 6,
    "start_time": "2022-11-06T11:16:27.348Z"
   },
   {
    "duration": 5,
    "start_time": "2022-11-06T11:16:27.356Z"
   },
   {
    "duration": 8,
    "start_time": "2022-11-06T11:16:27.363Z"
   },
   {
    "duration": 40,
    "start_time": "2022-11-06T11:16:27.373Z"
   },
   {
    "duration": 8,
    "start_time": "2022-11-06T11:16:27.415Z"
   },
   {
    "duration": 3,
    "start_time": "2022-11-06T11:16:27.425Z"
   },
   {
    "duration": 10,
    "start_time": "2022-11-06T11:16:27.429Z"
   },
   {
    "duration": 146,
    "start_time": "2022-11-06T11:16:27.440Z"
   },
   {
    "duration": 6,
    "start_time": "2022-11-06T11:16:27.587Z"
   },
   {
    "duration": 19,
    "start_time": "2022-11-06T11:16:27.595Z"
   },
   {
    "duration": 5,
    "start_time": "2022-11-06T11:16:27.615Z"
   },
   {
    "duration": 6,
    "start_time": "2022-11-06T11:16:27.621Z"
   },
   {
    "duration": 228,
    "start_time": "2022-11-06T11:16:27.628Z"
   },
   {
    "duration": 5,
    "start_time": "2022-11-06T11:16:27.857Z"
   },
   {
    "duration": 159,
    "start_time": "2022-11-06T11:16:27.864Z"
   },
   {
    "duration": 159,
    "start_time": "2022-11-06T11:16:28.025Z"
   },
   {
    "duration": 165,
    "start_time": "2022-11-06T11:16:28.185Z"
   },
   {
    "duration": 165,
    "start_time": "2022-11-06T11:16:28.352Z"
   },
   {
    "duration": 215,
    "start_time": "2022-11-06T11:16:28.518Z"
   },
   {
    "duration": 161,
    "start_time": "2022-11-06T11:16:28.735Z"
   },
   {
    "duration": 159,
    "start_time": "2022-11-06T11:16:28.898Z"
   },
   {
    "duration": 109,
    "start_time": "2022-11-06T11:16:29.059Z"
   },
   {
    "duration": 153,
    "start_time": "2022-11-06T11:16:29.170Z"
   },
   {
    "duration": 142,
    "start_time": "2022-11-06T11:16:29.325Z"
   },
   {
    "duration": 134,
    "start_time": "2022-11-06T11:16:29.469Z"
   },
   {
    "duration": 157,
    "start_time": "2022-11-06T11:16:29.609Z"
   },
   {
    "duration": 128,
    "start_time": "2022-11-06T11:16:29.767Z"
   },
   {
    "duration": 143,
    "start_time": "2022-11-06T11:16:29.897Z"
   },
   {
    "duration": 178,
    "start_time": "2022-11-06T11:16:30.041Z"
   },
   {
    "duration": 160,
    "start_time": "2022-11-06T11:16:30.221Z"
   },
   {
    "duration": 4,
    "start_time": "2022-11-06T11:16:30.383Z"
   },
   {
    "duration": 185,
    "start_time": "2022-11-06T11:16:30.389Z"
   },
   {
    "duration": 5,
    "start_time": "2022-11-06T11:16:30.575Z"
   },
   {
    "duration": 257,
    "start_time": "2022-11-06T11:16:30.581Z"
   },
   {
    "duration": 5,
    "start_time": "2022-11-06T11:16:30.839Z"
   },
   {
    "duration": 132,
    "start_time": "2022-11-06T11:16:30.845Z"
   },
   {
    "duration": 152,
    "start_time": "2022-11-06T11:16:30.979Z"
   },
   {
    "duration": 5,
    "start_time": "2022-11-06T11:16:31.133Z"
   },
   {
    "duration": 155,
    "start_time": "2022-11-06T11:16:31.139Z"
   },
   {
    "duration": 6,
    "start_time": "2022-11-06T11:16:31.295Z"
   },
   {
    "duration": 146,
    "start_time": "2022-11-06T11:16:31.309Z"
   },
   {
    "duration": 5,
    "start_time": "2022-11-06T11:16:31.457Z"
   },
   {
    "duration": 11,
    "start_time": "2022-11-06T11:16:31.466Z"
   },
   {
    "duration": 6,
    "start_time": "2022-11-06T11:16:31.478Z"
   },
   {
    "duration": 34,
    "start_time": "2022-11-06T11:16:31.485Z"
   },
   {
    "duration": 50,
    "start_time": "2022-11-06T11:17:50.787Z"
   },
   {
    "duration": 22,
    "start_time": "2022-11-06T11:18:35.010Z"
   },
   {
    "duration": 51,
    "start_time": "2022-11-06T11:19:01.474Z"
   },
   {
    "duration": 29,
    "start_time": "2022-11-06T11:19:53.698Z"
   },
   {
    "duration": 100,
    "start_time": "2022-11-06T11:20:08.168Z"
   },
   {
    "duration": 31,
    "start_time": "2022-11-06T11:20:23.062Z"
   },
   {
    "duration": 30,
    "start_time": "2022-11-06T11:24:50.174Z"
   },
   {
    "duration": 30,
    "start_time": "2022-11-06T11:24:56.718Z"
   },
   {
    "duration": 15,
    "start_time": "2022-11-06T11:29:43.406Z"
   },
   {
    "duration": 14,
    "start_time": "2022-11-06T11:29:53.770Z"
   },
   {
    "duration": 16,
    "start_time": "2022-11-06T11:30:05.748Z"
   },
   {
    "duration": 30,
    "start_time": "2022-11-06T11:30:19.382Z"
   },
   {
    "duration": 34,
    "start_time": "2022-11-06T11:33:31.864Z"
   },
   {
    "duration": 7,
    "start_time": "2022-11-06T11:33:50.050Z"
   },
   {
    "duration": 39,
    "start_time": "2022-11-06T11:33:53.320Z"
   },
   {
    "duration": 38,
    "start_time": "2022-11-06T11:34:48.248Z"
   },
   {
    "duration": 10,
    "start_time": "2022-11-06T11:35:35.069Z"
   },
   {
    "duration": 10,
    "start_time": "2022-11-06T11:35:59.995Z"
   },
   {
    "duration": 8,
    "start_time": "2022-11-06T11:36:08.961Z"
   },
   {
    "duration": 8,
    "start_time": "2022-11-06T11:37:39.862Z"
   },
   {
    "duration": 14,
    "start_time": "2022-11-06T11:37:52.052Z"
   },
   {
    "duration": 8,
    "start_time": "2022-11-06T11:38:00.814Z"
   },
   {
    "duration": 10,
    "start_time": "2022-11-06T11:38:21.212Z"
   },
   {
    "duration": 24,
    "start_time": "2022-11-06T11:38:52.612Z"
   },
   {
    "duration": 4,
    "start_time": "2022-11-06T11:39:07.457Z"
   },
   {
    "duration": 11,
    "start_time": "2022-11-06T11:39:22.782Z"
   },
   {
    "duration": 9,
    "start_time": "2022-11-06T11:44:10.256Z"
   },
   {
    "duration": 705,
    "start_time": "2022-11-06T11:47:46.650Z"
   },
   {
    "duration": 16,
    "start_time": "2022-11-06T11:47:47.356Z"
   },
   {
    "duration": 1871,
    "start_time": "2022-11-06T11:47:47.373Z"
   },
   {
    "duration": 6,
    "start_time": "2022-11-06T11:47:49.246Z"
   },
   {
    "duration": 7,
    "start_time": "2022-11-06T11:47:49.254Z"
   },
   {
    "duration": 51,
    "start_time": "2022-11-06T11:47:49.263Z"
   },
   {
    "duration": 27,
    "start_time": "2022-11-06T11:47:49.316Z"
   },
   {
    "duration": 3,
    "start_time": "2022-11-06T11:47:49.345Z"
   },
   {
    "duration": 10,
    "start_time": "2022-11-06T11:47:49.349Z"
   },
   {
    "duration": 8,
    "start_time": "2022-11-06T11:47:49.360Z"
   },
   {
    "duration": 6,
    "start_time": "2022-11-06T11:47:49.370Z"
   },
   {
    "duration": 3,
    "start_time": "2022-11-06T11:47:49.378Z"
   },
   {
    "duration": 40,
    "start_time": "2022-11-06T11:47:49.383Z"
   },
   {
    "duration": 209,
    "start_time": "2022-11-06T11:47:49.426Z"
   },
   {
    "duration": 29,
    "start_time": "2022-11-06T11:47:49.637Z"
   },
   {
    "duration": 24,
    "start_time": "2022-11-06T11:47:49.668Z"
   },
   {
    "duration": 201,
    "start_time": "2022-11-06T11:47:49.709Z"
   },
   {
    "duration": 127,
    "start_time": "2022-11-06T11:47:49.912Z"
   },
   {
    "duration": 118,
    "start_time": "2022-11-06T11:47:50.041Z"
   },
   {
    "duration": 24,
    "start_time": "2022-11-06T11:47:50.161Z"
   },
   {
    "duration": 151,
    "start_time": "2022-11-06T11:47:50.187Z"
   },
   {
    "duration": 28,
    "start_time": "2022-11-06T11:47:50.339Z"
   },
   {
    "duration": 141,
    "start_time": "2022-11-06T11:47:50.369Z"
   },
   {
    "duration": 8,
    "start_time": "2022-11-06T11:47:50.512Z"
   },
   {
    "duration": 191,
    "start_time": "2022-11-06T11:47:50.521Z"
   },
   {
    "duration": 110,
    "start_time": "2022-11-06T11:47:50.713Z"
   },
   {
    "duration": 9,
    "start_time": "2022-11-06T11:47:50.825Z"
   },
   {
    "duration": 15,
    "start_time": "2022-11-06T11:47:50.835Z"
   },
   {
    "duration": 138,
    "start_time": "2022-11-06T11:47:50.851Z"
   },
   {
    "duration": 7,
    "start_time": "2022-11-06T11:47:50.991Z"
   },
   {
    "duration": 41,
    "start_time": "2022-11-06T11:47:51.009Z"
   },
   {
    "duration": 151,
    "start_time": "2022-11-06T11:47:51.051Z"
   },
   {
    "duration": 11,
    "start_time": "2022-11-06T11:47:51.204Z"
   },
   {
    "duration": 4,
    "start_time": "2022-11-06T11:47:51.216Z"
   },
   {
    "duration": 8,
    "start_time": "2022-11-06T11:47:51.221Z"
   },
   {
    "duration": 6,
    "start_time": "2022-11-06T11:47:51.231Z"
   },
   {
    "duration": 7,
    "start_time": "2022-11-06T11:47:51.238Z"
   },
   {
    "duration": 164,
    "start_time": "2022-11-06T11:47:51.247Z"
   },
   {
    "duration": 26,
    "start_time": "2022-11-06T11:47:51.413Z"
   },
   {
    "duration": 7,
    "start_time": "2022-11-06T11:47:51.441Z"
   },
   {
    "duration": 6,
    "start_time": "2022-11-06T11:47:51.453Z"
   },
   {
    "duration": 8,
    "start_time": "2022-11-06T11:47:51.460Z"
   },
   {
    "duration": 42,
    "start_time": "2022-11-06T11:47:51.470Z"
   },
   {
    "duration": 9,
    "start_time": "2022-11-06T11:47:51.514Z"
   },
   {
    "duration": 2,
    "start_time": "2022-11-06T11:47:51.525Z"
   },
   {
    "duration": 16,
    "start_time": "2022-11-06T11:47:51.529Z"
   },
   {
    "duration": 139,
    "start_time": "2022-11-06T11:47:51.547Z"
   },
   {
    "duration": 5,
    "start_time": "2022-11-06T11:47:51.688Z"
   },
   {
    "duration": 17,
    "start_time": "2022-11-06T11:47:51.694Z"
   },
   {
    "duration": 6,
    "start_time": "2022-11-06T11:47:51.713Z"
   },
   {
    "duration": 6,
    "start_time": "2022-11-06T11:47:51.720Z"
   },
   {
    "duration": 228,
    "start_time": "2022-11-06T11:47:51.727Z"
   },
   {
    "duration": 4,
    "start_time": "2022-11-06T11:47:51.957Z"
   },
   {
    "duration": 149,
    "start_time": "2022-11-06T11:47:51.963Z"
   },
   {
    "duration": 155,
    "start_time": "2022-11-06T11:47:52.113Z"
   },
   {
    "duration": 160,
    "start_time": "2022-11-06T11:47:52.269Z"
   },
   {
    "duration": 170,
    "start_time": "2022-11-06T11:47:52.431Z"
   },
   {
    "duration": 201,
    "start_time": "2022-11-06T11:47:52.602Z"
   },
   {
    "duration": 165,
    "start_time": "2022-11-06T11:47:52.804Z"
   },
   {
    "duration": 159,
    "start_time": "2022-11-06T11:47:52.971Z"
   },
   {
    "duration": 105,
    "start_time": "2022-11-06T11:47:53.131Z"
   },
   {
    "duration": 152,
    "start_time": "2022-11-06T11:47:53.238Z"
   },
   {
    "duration": 142,
    "start_time": "2022-11-06T11:47:53.392Z"
   },
   {
    "duration": 145,
    "start_time": "2022-11-06T11:47:53.535Z"
   },
   {
    "duration": 153,
    "start_time": "2022-11-06T11:47:53.682Z"
   },
   {
    "duration": 120,
    "start_time": "2022-11-06T11:47:53.837Z"
   },
   {
    "duration": 131,
    "start_time": "2022-11-06T11:47:53.959Z"
   },
   {
    "duration": 175,
    "start_time": "2022-11-06T11:47:54.092Z"
   },
   {
    "duration": 171,
    "start_time": "2022-11-06T11:47:54.269Z"
   },
   {
    "duration": 7,
    "start_time": "2022-11-06T11:47:54.442Z"
   },
   {
    "duration": 196,
    "start_time": "2022-11-06T11:47:54.451Z"
   },
   {
    "duration": 4,
    "start_time": "2022-11-06T11:47:54.649Z"
   },
   {
    "duration": 243,
    "start_time": "2022-11-06T11:47:54.655Z"
   },
   {
    "duration": 9,
    "start_time": "2022-11-06T11:47:54.900Z"
   },
   {
    "duration": 134,
    "start_time": "2022-11-06T11:47:54.911Z"
   },
   {
    "duration": 146,
    "start_time": "2022-11-06T11:47:55.046Z"
   },
   {
    "duration": 4,
    "start_time": "2022-11-06T11:47:55.194Z"
   },
   {
    "duration": 157,
    "start_time": "2022-11-06T11:47:55.200Z"
   },
   {
    "duration": 5,
    "start_time": "2022-11-06T11:47:55.359Z"
   },
   {
    "duration": 145,
    "start_time": "2022-11-06T11:47:55.365Z"
   },
   {
    "duration": 4,
    "start_time": "2022-11-06T11:47:55.512Z"
   },
   {
    "duration": 10,
    "start_time": "2022-11-06T11:47:55.518Z"
   },
   {
    "duration": 3,
    "start_time": "2022-11-06T11:47:55.529Z"
   },
   {
    "duration": 35,
    "start_time": "2022-11-06T11:47:55.533Z"
   },
   {
    "duration": 14,
    "start_time": "2022-11-06T11:47:55.569Z"
   },
   {
    "duration": 30,
    "start_time": "2022-11-06T11:47:55.584Z"
   },
   {
    "duration": 710,
    "start_time": "2022-11-06T12:04:13.659Z"
   },
   {
    "duration": 18,
    "start_time": "2022-11-06T12:04:14.371Z"
   },
   {
    "duration": 1905,
    "start_time": "2022-11-06T12:04:14.391Z"
   },
   {
    "duration": 10,
    "start_time": "2022-11-06T12:04:16.299Z"
   },
   {
    "duration": 7,
    "start_time": "2022-11-06T12:04:16.310Z"
   },
   {
    "duration": 10,
    "start_time": "2022-11-06T12:04:16.318Z"
   },
   {
    "duration": 33,
    "start_time": "2022-11-06T12:04:16.330Z"
   },
   {
    "duration": 27,
    "start_time": "2022-11-06T12:04:16.365Z"
   },
   {
    "duration": 16,
    "start_time": "2022-11-06T12:04:16.394Z"
   },
   {
    "duration": 8,
    "start_time": "2022-11-06T12:04:16.413Z"
   },
   {
    "duration": 10,
    "start_time": "2022-11-06T12:04:16.422Z"
   },
   {
    "duration": 7,
    "start_time": "2022-11-06T12:04:16.434Z"
   },
   {
    "duration": 4,
    "start_time": "2022-11-06T12:04:16.443Z"
   },
   {
    "duration": 19,
    "start_time": "2022-11-06T12:04:16.448Z"
   },
   {
    "duration": 60,
    "start_time": "2022-11-06T12:04:16.469Z"
   },
   {
    "duration": 216,
    "start_time": "2022-11-06T12:04:16.531Z"
   },
   {
    "duration": 27,
    "start_time": "2022-11-06T12:04:16.749Z"
   },
   {
    "duration": 44,
    "start_time": "2022-11-06T12:04:16.778Z"
   },
   {
    "duration": 245,
    "start_time": "2022-11-06T12:04:16.824Z"
   },
   {
    "duration": 139,
    "start_time": "2022-11-06T12:04:17.072Z"
   },
   {
    "duration": 139,
    "start_time": "2022-11-06T12:04:17.213Z"
   },
   {
    "duration": 26,
    "start_time": "2022-11-06T12:04:17.354Z"
   },
   {
    "duration": 154,
    "start_time": "2022-11-06T12:04:17.381Z"
   },
   {
    "duration": 30,
    "start_time": "2022-11-06T12:04:17.537Z"
   },
   {
    "duration": 157,
    "start_time": "2022-11-06T12:04:17.569Z"
   },
   {
    "duration": 9,
    "start_time": "2022-11-06T12:04:17.728Z"
   },
   {
    "duration": 199,
    "start_time": "2022-11-06T12:04:17.739Z"
   },
   {
    "duration": 112,
    "start_time": "2022-11-06T12:04:17.943Z"
   },
   {
    "duration": 132,
    "start_time": "2022-11-06T12:04:18.056Z"
   },
   {
    "duration": 15,
    "start_time": "2022-11-06T12:04:18.189Z"
   },
   {
    "duration": 125,
    "start_time": "2022-11-06T12:04:18.205Z"
   },
   {
    "duration": 6,
    "start_time": "2022-11-06T12:04:18.332Z"
   },
   {
    "duration": 83,
    "start_time": "2022-11-06T12:04:18.340Z"
   },
   {
    "duration": 150,
    "start_time": "2022-11-06T12:04:18.425Z"
   },
   {
    "duration": 9,
    "start_time": "2022-11-06T12:04:18.577Z"
   },
   {
    "duration": 4,
    "start_time": "2022-11-06T12:04:18.587Z"
   },
   {
    "duration": 5,
    "start_time": "2022-11-06T12:04:18.610Z"
   },
   {
    "duration": 6,
    "start_time": "2022-11-06T12:04:18.616Z"
   },
   {
    "duration": 7,
    "start_time": "2022-11-06T12:04:18.624Z"
   },
   {
    "duration": 183,
    "start_time": "2022-11-06T12:04:18.633Z"
   },
   {
    "duration": 25,
    "start_time": "2022-11-06T12:04:18.818Z"
   },
   {
    "duration": 7,
    "start_time": "2022-11-06T12:04:18.845Z"
   },
   {
    "duration": 5,
    "start_time": "2022-11-06T12:04:18.853Z"
   },
   {
    "duration": 8,
    "start_time": "2022-11-06T12:04:18.860Z"
   },
   {
    "duration": 41,
    "start_time": "2022-11-06T12:04:18.869Z"
   },
   {
    "duration": 10,
    "start_time": "2022-11-06T12:04:18.912Z"
   },
   {
    "duration": 4,
    "start_time": "2022-11-06T12:04:18.924Z"
   },
   {
    "duration": 14,
    "start_time": "2022-11-06T12:04:18.929Z"
   },
   {
    "duration": 153,
    "start_time": "2022-11-06T12:04:18.945Z"
   },
   {
    "duration": 14,
    "start_time": "2022-11-06T12:04:19.099Z"
   },
   {
    "duration": 11,
    "start_time": "2022-11-06T12:04:19.115Z"
   },
   {
    "duration": 6,
    "start_time": "2022-11-06T12:04:19.128Z"
   },
   {
    "duration": 7,
    "start_time": "2022-11-06T12:04:19.136Z"
   },
   {
    "duration": 257,
    "start_time": "2022-11-06T12:04:19.145Z"
   },
   {
    "duration": 6,
    "start_time": "2022-11-06T12:04:19.404Z"
   },
   {
    "duration": 155,
    "start_time": "2022-11-06T12:04:19.411Z"
   },
   {
    "duration": 144,
    "start_time": "2022-11-06T12:04:19.568Z"
   },
   {
    "duration": 263,
    "start_time": "2022-11-06T12:04:19.714Z"
   },
   {
    "duration": 163,
    "start_time": "2022-11-06T12:04:19.979Z"
   },
   {
    "duration": 217,
    "start_time": "2022-11-06T12:04:20.144Z"
   },
   {
    "duration": 162,
    "start_time": "2022-11-06T12:04:20.362Z"
   },
   {
    "duration": 160,
    "start_time": "2022-11-06T12:04:20.526Z"
   },
   {
    "duration": 104,
    "start_time": "2022-11-06T12:04:20.688Z"
   },
   {
    "duration": 151,
    "start_time": "2022-11-06T12:04:20.793Z"
   },
   {
    "duration": 145,
    "start_time": "2022-11-06T12:04:20.945Z"
   },
   {
    "duration": 147,
    "start_time": "2022-11-06T12:04:21.092Z"
   },
   {
    "duration": 162,
    "start_time": "2022-11-06T12:04:21.240Z"
   },
   {
    "duration": 125,
    "start_time": "2022-11-06T12:04:21.409Z"
   },
   {
    "duration": 143,
    "start_time": "2022-11-06T12:04:21.536Z"
   },
   {
    "duration": 202,
    "start_time": "2022-11-06T12:04:21.681Z"
   },
   {
    "duration": 170,
    "start_time": "2022-11-06T12:04:21.885Z"
   },
   {
    "duration": 5,
    "start_time": "2022-11-06T12:04:22.057Z"
   },
   {
    "duration": 172,
    "start_time": "2022-11-06T12:04:22.063Z"
   },
   {
    "duration": 5,
    "start_time": "2022-11-06T12:04:22.237Z"
   },
   {
    "duration": 255,
    "start_time": "2022-11-06T12:04:22.243Z"
   },
   {
    "duration": 12,
    "start_time": "2022-11-06T12:04:22.500Z"
   },
   {
    "duration": 143,
    "start_time": "2022-11-06T12:04:22.514Z"
   },
   {
    "duration": 173,
    "start_time": "2022-11-06T12:04:22.659Z"
   },
   {
    "duration": 5,
    "start_time": "2022-11-06T12:04:22.834Z"
   },
   {
    "duration": 175,
    "start_time": "2022-11-06T12:04:22.841Z"
   },
   {
    "duration": 5,
    "start_time": "2022-11-06T12:04:23.018Z"
   },
   {
    "duration": 149,
    "start_time": "2022-11-06T12:04:23.028Z"
   },
   {
    "duration": 5,
    "start_time": "2022-11-06T12:04:23.179Z"
   },
   {
    "duration": 38,
    "start_time": "2022-11-06T12:04:23.186Z"
   },
   {
    "duration": 4,
    "start_time": "2022-11-06T12:04:23.226Z"
   },
   {
    "duration": 52,
    "start_time": "2022-11-06T12:04:23.232Z"
   },
   {
    "duration": 34,
    "start_time": "2022-11-06T12:04:23.286Z"
   },
   {
    "duration": 25,
    "start_time": "2022-11-06T12:04:23.322Z"
   },
   {
    "duration": 22,
    "start_time": "2022-11-06T12:05:05.312Z"
   },
   {
    "duration": 22,
    "start_time": "2022-11-06T12:05:56.233Z"
   },
   {
    "duration": 10,
    "start_time": "2022-11-06T12:06:29.235Z"
   },
   {
    "duration": 17,
    "start_time": "2022-11-06T12:08:20.491Z"
   },
   {
    "duration": 107,
    "start_time": "2022-11-06T12:08:27.345Z"
   },
   {
    "duration": 17,
    "start_time": "2022-11-06T12:08:29.433Z"
   },
   {
    "duration": 22,
    "start_time": "2022-11-06T12:09:32.038Z"
   },
   {
    "duration": 7,
    "start_time": "2022-11-06T12:13:48.896Z"
   },
   {
    "duration": 4,
    "start_time": "2022-11-06T12:29:27.232Z"
   },
   {
    "duration": 5,
    "start_time": "2022-11-06T12:29:37.006Z"
   },
   {
    "duration": 30,
    "start_time": "2022-11-06T12:30:19.369Z"
   },
   {
    "duration": 4,
    "start_time": "2022-11-06T12:30:52.339Z"
   },
   {
    "duration": 9,
    "start_time": "2022-11-06T12:31:08.473Z"
   },
   {
    "duration": 12,
    "start_time": "2022-11-06T12:31:20.389Z"
   },
   {
    "duration": 819,
    "start_time": "2022-11-06T12:31:27.907Z"
   },
   {
    "duration": 15,
    "start_time": "2022-11-06T12:31:28.728Z"
   },
   {
    "duration": 1860,
    "start_time": "2022-11-06T12:31:28.744Z"
   },
   {
    "duration": 9,
    "start_time": "2022-11-06T12:31:30.606Z"
   },
   {
    "duration": 17,
    "start_time": "2022-11-06T12:31:30.618Z"
   },
   {
    "duration": 27,
    "start_time": "2022-11-06T12:31:30.636Z"
   },
   {
    "duration": 50,
    "start_time": "2022-11-06T12:31:30.664Z"
   },
   {
    "duration": 26,
    "start_time": "2022-11-06T12:31:30.716Z"
   },
   {
    "duration": 8,
    "start_time": "2022-11-06T12:31:30.743Z"
   },
   {
    "duration": 10,
    "start_time": "2022-11-06T12:31:30.753Z"
   },
   {
    "duration": 18,
    "start_time": "2022-11-06T12:31:30.764Z"
   },
   {
    "duration": 19,
    "start_time": "2022-11-06T12:31:30.783Z"
   },
   {
    "duration": 15,
    "start_time": "2022-11-06T12:31:30.804Z"
   },
   {
    "duration": 21,
    "start_time": "2022-11-06T12:31:30.820Z"
   },
   {
    "duration": 25,
    "start_time": "2022-11-06T12:31:30.843Z"
   },
   {
    "duration": 185,
    "start_time": "2022-11-06T12:31:30.870Z"
   },
   {
    "duration": 23,
    "start_time": "2022-11-06T12:31:31.057Z"
   },
   {
    "duration": 37,
    "start_time": "2022-11-06T12:31:31.082Z"
   },
   {
    "duration": 207,
    "start_time": "2022-11-06T12:31:31.121Z"
   },
   {
    "duration": 137,
    "start_time": "2022-11-06T12:31:31.329Z"
   },
   {
    "duration": 116,
    "start_time": "2022-11-06T12:31:31.468Z"
   },
   {
    "duration": 36,
    "start_time": "2022-11-06T12:31:31.585Z"
   },
   {
    "duration": 154,
    "start_time": "2022-11-06T12:31:31.622Z"
   },
   {
    "duration": 32,
    "start_time": "2022-11-06T12:31:31.778Z"
   },
   {
    "duration": 124,
    "start_time": "2022-11-06T12:31:31.812Z"
   },
   {
    "duration": 9,
    "start_time": "2022-11-06T12:31:31.937Z"
   },
   {
    "duration": 179,
    "start_time": "2022-11-06T12:31:31.947Z"
   },
   {
    "duration": 110,
    "start_time": "2022-11-06T12:31:32.130Z"
   },
   {
    "duration": 8,
    "start_time": "2022-11-06T12:31:32.242Z"
   },
   {
    "duration": 16,
    "start_time": "2022-11-06T12:31:32.251Z"
   },
   {
    "duration": 140,
    "start_time": "2022-11-06T12:31:32.269Z"
   },
   {
    "duration": 7,
    "start_time": "2022-11-06T12:31:32.410Z"
   },
   {
    "duration": 41,
    "start_time": "2022-11-06T12:31:32.418Z"
   },
   {
    "duration": 156,
    "start_time": "2022-11-06T12:31:32.460Z"
   },
   {
    "duration": 9,
    "start_time": "2022-11-06T12:31:32.617Z"
   },
   {
    "duration": 5,
    "start_time": "2022-11-06T12:31:32.628Z"
   },
   {
    "duration": 6,
    "start_time": "2022-11-06T12:31:32.634Z"
   },
   {
    "duration": 9,
    "start_time": "2022-11-06T12:31:32.642Z"
   },
   {
    "duration": 8,
    "start_time": "2022-11-06T12:31:32.653Z"
   },
   {
    "duration": 165,
    "start_time": "2022-11-06T12:31:32.663Z"
   },
   {
    "duration": 25,
    "start_time": "2022-11-06T12:31:32.830Z"
   },
   {
    "duration": 6,
    "start_time": "2022-11-06T12:31:32.857Z"
   },
   {
    "duration": 10,
    "start_time": "2022-11-06T12:31:32.865Z"
   },
   {
    "duration": 19,
    "start_time": "2022-11-06T12:31:32.877Z"
   },
   {
    "duration": 26,
    "start_time": "2022-11-06T12:31:32.897Z"
   },
   {
    "duration": 14,
    "start_time": "2022-11-06T12:31:32.924Z"
   },
   {
    "duration": 6,
    "start_time": "2022-11-06T12:31:32.939Z"
   },
   {
    "duration": 10,
    "start_time": "2022-11-06T12:31:32.947Z"
   },
   {
    "duration": 125,
    "start_time": "2022-11-06T12:31:32.958Z"
   },
   {
    "duration": 6,
    "start_time": "2022-11-06T12:31:33.085Z"
   },
   {
    "duration": 20,
    "start_time": "2022-11-06T12:31:33.092Z"
   },
   {
    "duration": 14,
    "start_time": "2022-11-06T12:31:33.114Z"
   },
   {
    "duration": 20,
    "start_time": "2022-11-06T12:31:33.129Z"
   },
   {
    "duration": 205,
    "start_time": "2022-11-06T12:31:33.150Z"
   },
   {
    "duration": 4,
    "start_time": "2022-11-06T12:31:33.356Z"
   },
   {
    "duration": 149,
    "start_time": "2022-11-06T12:31:33.362Z"
   },
   {
    "duration": 145,
    "start_time": "2022-11-06T12:31:33.512Z"
   },
   {
    "duration": 158,
    "start_time": "2022-11-06T12:31:33.659Z"
   },
   {
    "duration": 158,
    "start_time": "2022-11-06T12:31:33.819Z"
   },
   {
    "duration": 214,
    "start_time": "2022-11-06T12:31:33.978Z"
   },
   {
    "duration": 163,
    "start_time": "2022-11-06T12:31:34.194Z"
   },
   {
    "duration": 190,
    "start_time": "2022-11-06T12:31:34.358Z"
   },
   {
    "duration": 144,
    "start_time": "2022-11-06T12:31:34.550Z"
   },
   {
    "duration": 173,
    "start_time": "2022-11-06T12:31:34.696Z"
   },
   {
    "duration": 147,
    "start_time": "2022-11-06T12:31:34.871Z"
   },
   {
    "duration": 137,
    "start_time": "2022-11-06T12:31:35.020Z"
   },
   {
    "duration": 153,
    "start_time": "2022-11-06T12:31:35.158Z"
   },
   {
    "duration": 122,
    "start_time": "2022-11-06T12:31:35.312Z"
   },
   {
    "duration": 142,
    "start_time": "2022-11-06T12:31:35.435Z"
   },
   {
    "duration": 189,
    "start_time": "2022-11-06T12:31:35.579Z"
   },
   {
    "duration": 159,
    "start_time": "2022-11-06T12:31:35.769Z"
   },
   {
    "duration": 5,
    "start_time": "2022-11-06T12:31:35.929Z"
   },
   {
    "duration": 166,
    "start_time": "2022-11-06T12:31:35.935Z"
   },
   {
    "duration": 8,
    "start_time": "2022-11-06T12:31:36.103Z"
   },
   {
    "duration": 251,
    "start_time": "2022-11-06T12:31:36.113Z"
   },
   {
    "duration": 5,
    "start_time": "2022-11-06T12:31:36.365Z"
   },
   {
    "duration": 145,
    "start_time": "2022-11-06T12:31:36.371Z"
   },
   {
    "duration": 150,
    "start_time": "2022-11-06T12:31:36.517Z"
   },
   {
    "duration": 5,
    "start_time": "2022-11-06T12:31:36.669Z"
   },
   {
    "duration": 157,
    "start_time": "2022-11-06T12:31:36.676Z"
   },
   {
    "duration": 5,
    "start_time": "2022-11-06T12:31:36.834Z"
   },
   {
    "duration": 146,
    "start_time": "2022-11-06T12:31:36.844Z"
   },
   {
    "duration": 5,
    "start_time": "2022-11-06T12:31:36.992Z"
   },
   {
    "duration": 9,
    "start_time": "2022-11-06T12:31:37.008Z"
   },
   {
    "duration": 3,
    "start_time": "2022-11-06T12:31:37.018Z"
   },
   {
    "duration": 31,
    "start_time": "2022-11-06T12:31:37.023Z"
   },
   {
    "duration": 14,
    "start_time": "2022-11-06T12:31:37.055Z"
   },
   {
    "duration": 9,
    "start_time": "2022-11-06T12:31:37.071Z"
   },
   {
    "duration": 11,
    "start_time": "2022-11-06T12:32:46.299Z"
   },
   {
    "duration": 10,
    "start_time": "2022-11-06T12:32:56.425Z"
   },
   {
    "duration": 10,
    "start_time": "2022-11-06T12:33:40.924Z"
   },
   {
    "duration": 11,
    "start_time": "2022-11-06T12:33:54.605Z"
   },
   {
    "duration": 10,
    "start_time": "2022-11-06T12:33:57.404Z"
   },
   {
    "duration": 10,
    "start_time": "2022-11-06T12:34:02.486Z"
   },
   {
    "duration": 9,
    "start_time": "2022-11-06T12:34:15.589Z"
   },
   {
    "duration": 9,
    "start_time": "2022-11-06T12:34:20.378Z"
   },
   {
    "duration": 731,
    "start_time": "2022-11-06T12:53:28.542Z"
   },
   {
    "duration": 18,
    "start_time": "2022-11-06T12:53:29.275Z"
   },
   {
    "duration": 1865,
    "start_time": "2022-11-06T12:53:29.295Z"
   },
   {
    "duration": 9,
    "start_time": "2022-11-06T12:53:31.162Z"
   },
   {
    "duration": 7,
    "start_time": "2022-11-06T12:53:31.173Z"
   },
   {
    "duration": 23,
    "start_time": "2022-11-06T12:53:31.182Z"
   },
   {
    "duration": 68,
    "start_time": "2022-11-06T12:53:31.207Z"
   },
   {
    "duration": 28,
    "start_time": "2022-11-06T12:53:31.277Z"
   },
   {
    "duration": 8,
    "start_time": "2022-11-06T12:53:31.307Z"
   },
   {
    "duration": 8,
    "start_time": "2022-11-06T12:53:31.317Z"
   },
   {
    "duration": 16,
    "start_time": "2022-11-06T12:53:31.326Z"
   },
   {
    "duration": 16,
    "start_time": "2022-11-06T12:53:31.343Z"
   },
   {
    "duration": 12,
    "start_time": "2022-11-06T12:53:31.361Z"
   },
   {
    "duration": 9,
    "start_time": "2022-11-06T12:53:31.374Z"
   },
   {
    "duration": 26,
    "start_time": "2022-11-06T12:53:31.384Z"
   },
   {
    "duration": 173,
    "start_time": "2022-11-06T12:53:31.411Z"
   },
   {
    "duration": 30,
    "start_time": "2022-11-06T12:53:31.585Z"
   },
   {
    "duration": 24,
    "start_time": "2022-11-06T12:53:31.616Z"
   },
   {
    "duration": 213,
    "start_time": "2022-11-06T12:53:31.642Z"
   },
   {
    "duration": 129,
    "start_time": "2022-11-06T12:53:31.857Z"
   },
   {
    "duration": 123,
    "start_time": "2022-11-06T12:53:31.988Z"
   },
   {
    "duration": 29,
    "start_time": "2022-11-06T12:53:32.112Z"
   },
   {
    "duration": 156,
    "start_time": "2022-11-06T12:53:32.142Z"
   },
   {
    "duration": 31,
    "start_time": "2022-11-06T12:53:32.300Z"
   },
   {
    "duration": 128,
    "start_time": "2022-11-06T12:53:32.333Z"
   },
   {
    "duration": 8,
    "start_time": "2022-11-06T12:53:32.463Z"
   },
   {
    "duration": 183,
    "start_time": "2022-11-06T12:53:32.472Z"
   },
   {
    "duration": 117,
    "start_time": "2022-11-06T12:53:32.659Z"
   },
   {
    "duration": 10,
    "start_time": "2022-11-06T12:53:32.778Z"
   },
   {
    "duration": 29,
    "start_time": "2022-11-06T12:53:32.789Z"
   },
   {
    "duration": 129,
    "start_time": "2022-11-06T12:53:32.820Z"
   },
   {
    "duration": 7,
    "start_time": "2022-11-06T12:53:32.950Z"
   },
   {
    "duration": 57,
    "start_time": "2022-11-06T12:53:32.958Z"
   },
   {
    "duration": 147,
    "start_time": "2022-11-06T12:53:33.016Z"
   },
   {
    "duration": 8,
    "start_time": "2022-11-06T12:53:33.164Z"
   },
   {
    "duration": 7,
    "start_time": "2022-11-06T12:53:33.174Z"
   },
   {
    "duration": 7,
    "start_time": "2022-11-06T12:53:33.182Z"
   },
   {
    "duration": 17,
    "start_time": "2022-11-06T12:53:33.191Z"
   },
   {
    "duration": 6,
    "start_time": "2022-11-06T12:53:33.210Z"
   },
   {
    "duration": 161,
    "start_time": "2022-11-06T12:53:33.218Z"
   },
   {
    "duration": 35,
    "start_time": "2022-11-06T12:53:33.381Z"
   },
   {
    "duration": 6,
    "start_time": "2022-11-06T12:53:33.417Z"
   },
   {
    "duration": 5,
    "start_time": "2022-11-06T12:53:33.424Z"
   },
   {
    "duration": 10,
    "start_time": "2022-11-06T12:53:33.431Z"
   },
   {
    "duration": 11,
    "start_time": "2022-11-06T12:53:33.442Z"
   },
   {
    "duration": 7,
    "start_time": "2022-11-06T12:53:33.454Z"
   },
   {
    "duration": 3,
    "start_time": "2022-11-06T12:53:33.463Z"
   },
   {
    "duration": 11,
    "start_time": "2022-11-06T12:53:33.467Z"
   },
   {
    "duration": 160,
    "start_time": "2022-11-06T12:53:33.479Z"
   },
   {
    "duration": 6,
    "start_time": "2022-11-06T12:53:33.640Z"
   },
   {
    "duration": 8,
    "start_time": "2022-11-06T12:53:33.648Z"
   },
   {
    "duration": 5,
    "start_time": "2022-11-06T12:53:33.657Z"
   },
   {
    "duration": 5,
    "start_time": "2022-11-06T12:53:33.664Z"
   },
   {
    "duration": 224,
    "start_time": "2022-11-06T12:53:33.671Z"
   },
   {
    "duration": 4,
    "start_time": "2022-11-06T12:53:33.897Z"
   },
   {
    "duration": 144,
    "start_time": "2022-11-06T12:53:33.909Z"
   },
   {
    "duration": 157,
    "start_time": "2022-11-06T12:53:34.055Z"
   },
   {
    "duration": 149,
    "start_time": "2022-11-06T12:53:34.214Z"
   },
   {
    "duration": 191,
    "start_time": "2022-11-06T12:53:34.365Z"
   },
   {
    "duration": 218,
    "start_time": "2022-11-06T12:53:34.558Z"
   },
   {
    "duration": 165,
    "start_time": "2022-11-06T12:53:34.777Z"
   },
   {
    "duration": 150,
    "start_time": "2022-11-06T12:53:34.944Z"
   },
   {
    "duration": 102,
    "start_time": "2022-11-06T12:53:35.095Z"
   },
   {
    "duration": 155,
    "start_time": "2022-11-06T12:53:35.199Z"
   },
   {
    "duration": 145,
    "start_time": "2022-11-06T12:53:35.355Z"
   },
   {
    "duration": 132,
    "start_time": "2022-11-06T12:53:35.502Z"
   },
   {
    "duration": 144,
    "start_time": "2022-11-06T12:53:35.635Z"
   },
   {
    "duration": 129,
    "start_time": "2022-11-06T12:53:35.780Z"
   },
   {
    "duration": 134,
    "start_time": "2022-11-06T12:53:35.910Z"
   },
   {
    "duration": 187,
    "start_time": "2022-11-06T12:53:36.046Z"
   },
   {
    "duration": 169,
    "start_time": "2022-11-06T12:53:36.235Z"
   },
   {
    "duration": 7,
    "start_time": "2022-11-06T12:53:36.406Z"
   },
   {
    "duration": 189,
    "start_time": "2022-11-06T12:53:36.415Z"
   },
   {
    "duration": 7,
    "start_time": "2022-11-06T12:53:36.606Z"
   },
   {
    "duration": 279,
    "start_time": "2022-11-06T12:53:36.615Z"
   },
   {
    "duration": 15,
    "start_time": "2022-11-06T12:53:36.895Z"
   },
   {
    "duration": 134,
    "start_time": "2022-11-06T12:53:36.911Z"
   },
   {
    "duration": 145,
    "start_time": "2022-11-06T12:53:37.047Z"
   },
   {
    "duration": 5,
    "start_time": "2022-11-06T12:53:37.193Z"
   },
   {
    "duration": 170,
    "start_time": "2022-11-06T12:53:37.199Z"
   },
   {
    "duration": 4,
    "start_time": "2022-11-06T12:53:37.371Z"
   },
   {
    "duration": 141,
    "start_time": "2022-11-06T12:53:37.380Z"
   },
   {
    "duration": 5,
    "start_time": "2022-11-06T12:53:37.523Z"
   },
   {
    "duration": 13,
    "start_time": "2022-11-06T12:53:37.529Z"
   },
   {
    "duration": 3,
    "start_time": "2022-11-06T12:53:37.543Z"
   },
   {
    "duration": 31,
    "start_time": "2022-11-06T12:53:37.547Z"
   },
   {
    "duration": 43,
    "start_time": "2022-11-06T12:53:37.579Z"
   },
   {
    "duration": 9,
    "start_time": "2022-11-06T12:53:37.623Z"
   },
   {
    "duration": 11,
    "start_time": "2022-11-06T16:35:32.129Z"
   },
   {
    "duration": 12,
    "start_time": "2022-11-06T16:35:47.176Z"
   },
   {
    "duration": 10,
    "start_time": "2022-11-06T16:36:24.915Z"
   },
   {
    "duration": 9,
    "start_time": "2022-11-06T16:36:39.420Z"
   },
   {
    "duration": 12,
    "start_time": "2022-11-06T16:36:44.410Z"
   },
   {
    "duration": 10,
    "start_time": "2022-11-06T16:37:03.307Z"
   },
   {
    "duration": 4,
    "start_time": "2022-11-06T16:39:40.864Z"
   },
   {
    "duration": 6,
    "start_time": "2022-11-06T16:39:47.860Z"
   },
   {
    "duration": 6,
    "start_time": "2022-11-06T16:39:57.045Z"
   },
   {
    "duration": 82,
    "start_time": "2022-11-06T16:40:03.776Z"
   },
   {
    "duration": 7,
    "start_time": "2022-11-06T16:40:08.391Z"
   },
   {
    "duration": 8,
    "start_time": "2022-11-06T16:40:43.928Z"
   },
   {
    "duration": 9,
    "start_time": "2022-11-06T16:41:16.721Z"
   },
   {
    "duration": 743,
    "start_time": "2022-11-06T16:41:53.115Z"
   },
   {
    "duration": 15,
    "start_time": "2022-11-06T16:41:53.860Z"
   },
   {
    "duration": 1883,
    "start_time": "2022-11-06T16:41:53.877Z"
   },
   {
    "duration": 9,
    "start_time": "2022-11-06T16:41:55.762Z"
   },
   {
    "duration": 14,
    "start_time": "2022-11-06T16:41:55.773Z"
   },
   {
    "duration": 12,
    "start_time": "2022-11-06T16:41:55.789Z"
   },
   {
    "duration": 41,
    "start_time": "2022-11-06T16:41:55.802Z"
   },
   {
    "duration": 25,
    "start_time": "2022-11-06T16:41:55.844Z"
   },
   {
    "duration": 7,
    "start_time": "2022-11-06T16:41:55.870Z"
   },
   {
    "duration": 16,
    "start_time": "2022-11-06T16:41:55.881Z"
   },
   {
    "duration": 34,
    "start_time": "2022-11-06T16:41:55.899Z"
   },
   {
    "duration": 9,
    "start_time": "2022-11-06T16:41:55.935Z"
   },
   {
    "duration": 9,
    "start_time": "2022-11-06T16:41:55.945Z"
   },
   {
    "duration": 4,
    "start_time": "2022-11-06T16:41:55.955Z"
   },
   {
    "duration": 19,
    "start_time": "2022-11-06T16:41:55.961Z"
   },
   {
    "duration": 182,
    "start_time": "2022-11-06T16:41:55.982Z"
   },
   {
    "duration": 45,
    "start_time": "2022-11-06T16:41:56.166Z"
   },
   {
    "duration": 23,
    "start_time": "2022-11-06T16:41:56.213Z"
   },
   {
    "duration": 223,
    "start_time": "2022-11-06T16:41:56.238Z"
   },
   {
    "duration": 151,
    "start_time": "2022-11-06T16:41:56.463Z"
   },
   {
    "duration": 116,
    "start_time": "2022-11-06T16:41:56.616Z"
   },
   {
    "duration": 25,
    "start_time": "2022-11-06T16:41:56.734Z"
   },
   {
    "duration": 154,
    "start_time": "2022-11-06T16:41:56.761Z"
   },
   {
    "duration": 29,
    "start_time": "2022-11-06T16:41:56.916Z"
   },
   {
    "duration": 132,
    "start_time": "2022-11-06T16:41:56.946Z"
   },
   {
    "duration": 8,
    "start_time": "2022-11-06T16:41:57.080Z"
   },
   {
    "duration": 196,
    "start_time": "2022-11-06T16:41:57.089Z"
   },
   {
    "duration": 106,
    "start_time": "2022-11-06T16:41:57.289Z"
   },
   {
    "duration": 19,
    "start_time": "2022-11-06T16:41:57.397Z"
   },
   {
    "duration": 14,
    "start_time": "2022-11-06T16:41:57.418Z"
   },
   {
    "duration": 131,
    "start_time": "2022-11-06T16:41:57.433Z"
   },
   {
    "duration": 7,
    "start_time": "2022-11-06T16:41:57.565Z"
   },
   {
    "duration": 57,
    "start_time": "2022-11-06T16:41:57.573Z"
   },
   {
    "duration": 139,
    "start_time": "2022-11-06T16:41:57.631Z"
   },
   {
    "duration": 8,
    "start_time": "2022-11-06T16:41:57.771Z"
   },
   {
    "duration": 4,
    "start_time": "2022-11-06T16:41:57.780Z"
   },
   {
    "duration": 24,
    "start_time": "2022-11-06T16:41:57.785Z"
   },
   {
    "duration": 3,
    "start_time": "2022-11-06T16:41:57.811Z"
   },
   {
    "duration": 7,
    "start_time": "2022-11-06T16:41:57.816Z"
   },
   {
    "duration": 152,
    "start_time": "2022-11-06T16:41:57.824Z"
   },
   {
    "duration": 31,
    "start_time": "2022-11-06T16:41:57.978Z"
   },
   {
    "duration": 6,
    "start_time": "2022-11-06T16:41:58.011Z"
   },
   {
    "duration": 5,
    "start_time": "2022-11-06T16:41:58.019Z"
   },
   {
    "duration": 6,
    "start_time": "2022-11-06T16:41:58.025Z"
   },
   {
    "duration": 11,
    "start_time": "2022-11-06T16:41:58.032Z"
   },
   {
    "duration": 8,
    "start_time": "2022-11-06T16:41:58.044Z"
   },
   {
    "duration": 3,
    "start_time": "2022-11-06T16:41:58.053Z"
   },
   {
    "duration": 14,
    "start_time": "2022-11-06T16:41:58.057Z"
   },
   {
    "duration": 168,
    "start_time": "2022-11-06T16:41:58.072Z"
   },
   {
    "duration": 6,
    "start_time": "2022-11-06T16:41:58.242Z"
   },
   {
    "duration": 7,
    "start_time": "2022-11-06T16:41:58.250Z"
   },
   {
    "duration": 5,
    "start_time": "2022-11-06T16:41:58.259Z"
   },
   {
    "duration": 7,
    "start_time": "2022-11-06T16:41:58.266Z"
   },
   {
    "duration": 237,
    "start_time": "2022-11-06T16:41:58.275Z"
   },
   {
    "duration": 4,
    "start_time": "2022-11-06T16:41:58.514Z"
   },
   {
    "duration": 157,
    "start_time": "2022-11-06T16:41:58.519Z"
   },
   {
    "duration": 151,
    "start_time": "2022-11-06T16:41:58.677Z"
   },
   {
    "duration": 152,
    "start_time": "2022-11-06T16:41:58.830Z"
   },
   {
    "duration": 164,
    "start_time": "2022-11-06T16:41:58.984Z"
   },
   {
    "duration": 220,
    "start_time": "2022-11-06T16:41:59.151Z"
   },
   {
    "duration": 173,
    "start_time": "2022-11-06T16:41:59.372Z"
   },
   {
    "duration": 184,
    "start_time": "2022-11-06T16:41:59.547Z"
   },
   {
    "duration": 114,
    "start_time": "2022-11-06T16:41:59.732Z"
   },
   {
    "duration": 149,
    "start_time": "2022-11-06T16:41:59.847Z"
   },
   {
    "duration": 156,
    "start_time": "2022-11-06T16:41:59.998Z"
   },
   {
    "duration": 156,
    "start_time": "2022-11-06T16:42:00.155Z"
   },
   {
    "duration": 155,
    "start_time": "2022-11-06T16:42:00.313Z"
   },
   {
    "duration": 129,
    "start_time": "2022-11-06T16:42:00.469Z"
   },
   {
    "duration": 156,
    "start_time": "2022-11-06T16:42:00.600Z"
   },
   {
    "duration": 202,
    "start_time": "2022-11-06T16:42:00.758Z"
   },
   {
    "duration": 169,
    "start_time": "2022-11-06T16:42:00.962Z"
   },
   {
    "duration": 5,
    "start_time": "2022-11-06T16:42:01.133Z"
   },
   {
    "duration": 180,
    "start_time": "2022-11-06T16:42:01.140Z"
   },
   {
    "duration": 6,
    "start_time": "2022-11-06T16:42:01.321Z"
   },
   {
    "duration": 261,
    "start_time": "2022-11-06T16:42:01.329Z"
   },
   {
    "duration": 7,
    "start_time": "2022-11-06T16:42:01.592Z"
   },
   {
    "duration": 147,
    "start_time": "2022-11-06T16:42:01.608Z"
   },
   {
    "duration": 164,
    "start_time": "2022-11-06T16:42:01.757Z"
   },
   {
    "duration": 5,
    "start_time": "2022-11-06T16:42:01.923Z"
   },
   {
    "duration": 170,
    "start_time": "2022-11-06T16:42:01.930Z"
   },
   {
    "duration": 9,
    "start_time": "2022-11-06T16:42:02.101Z"
   },
   {
    "duration": 152,
    "start_time": "2022-11-06T16:42:02.115Z"
   },
   {
    "duration": 5,
    "start_time": "2022-11-06T16:42:02.268Z"
   },
   {
    "duration": 18,
    "start_time": "2022-11-06T16:42:02.274Z"
   },
   {
    "duration": 15,
    "start_time": "2022-11-06T16:42:02.294Z"
   },
   {
    "duration": 38,
    "start_time": "2022-11-06T16:42:02.310Z"
   },
   {
    "duration": 15,
    "start_time": "2022-11-06T16:42:02.349Z"
   },
   {
    "duration": 19,
    "start_time": "2022-11-06T16:42:02.366Z"
   },
   {
    "duration": 697,
    "start_time": "2022-11-06T17:06:57.067Z"
   },
   {
    "duration": 14,
    "start_time": "2022-11-06T17:06:57.766Z"
   },
   {
    "duration": 1871,
    "start_time": "2022-11-06T17:06:57.781Z"
   },
   {
    "duration": 9,
    "start_time": "2022-11-06T17:06:59.654Z"
   },
   {
    "duration": 7,
    "start_time": "2022-11-06T17:06:59.664Z"
   },
   {
    "duration": 7,
    "start_time": "2022-11-06T17:06:59.672Z"
   },
   {
    "duration": 46,
    "start_time": "2022-11-06T17:06:59.680Z"
   },
   {
    "duration": 28,
    "start_time": "2022-11-06T17:06:59.728Z"
   },
   {
    "duration": 7,
    "start_time": "2022-11-06T17:06:59.757Z"
   },
   {
    "duration": 4,
    "start_time": "2022-11-06T17:06:59.767Z"
   },
   {
    "duration": 8,
    "start_time": "2022-11-06T17:06:59.773Z"
   },
   {
    "duration": 7,
    "start_time": "2022-11-06T17:06:59.782Z"
   },
   {
    "duration": 6,
    "start_time": "2022-11-06T17:06:59.790Z"
   },
   {
    "duration": 4,
    "start_time": "2022-11-06T17:06:59.821Z"
   },
   {
    "duration": 22,
    "start_time": "2022-11-06T17:06:59.827Z"
   },
   {
    "duration": 159,
    "start_time": "2022-11-06T17:06:59.851Z"
   },
   {
    "duration": 26,
    "start_time": "2022-11-06T17:07:00.012Z"
   },
   {
    "duration": 24,
    "start_time": "2022-11-06T17:07:00.039Z"
   },
   {
    "duration": 219,
    "start_time": "2022-11-06T17:07:00.065Z"
   },
   {
    "duration": 123,
    "start_time": "2022-11-06T17:07:00.286Z"
   },
   {
    "duration": 119,
    "start_time": "2022-11-06T17:07:00.411Z"
   },
   {
    "duration": 25,
    "start_time": "2022-11-06T17:07:00.532Z"
   },
   {
    "duration": 146,
    "start_time": "2022-11-06T17:07:00.559Z"
   },
   {
    "duration": 35,
    "start_time": "2022-11-06T17:07:00.707Z"
   },
   {
    "duration": 124,
    "start_time": "2022-11-06T17:07:00.743Z"
   },
   {
    "duration": 7,
    "start_time": "2022-11-06T17:07:00.869Z"
   },
   {
    "duration": 180,
    "start_time": "2022-11-06T17:07:00.878Z"
   },
   {
    "duration": 111,
    "start_time": "2022-11-06T17:07:01.063Z"
   },
   {
    "duration": 9,
    "start_time": "2022-11-06T17:07:01.176Z"
   },
   {
    "duration": 36,
    "start_time": "2022-11-06T17:07:01.186Z"
   },
   {
    "duration": 138,
    "start_time": "2022-11-06T17:07:01.224Z"
   },
   {
    "duration": 7,
    "start_time": "2022-11-06T17:07:01.363Z"
   },
   {
    "duration": 103,
    "start_time": "2022-11-06T17:07:01.372Z"
   },
   {
    "duration": 136,
    "start_time": "2022-11-06T17:07:01.477Z"
   },
   {
    "duration": 10,
    "start_time": "2022-11-06T17:07:01.614Z"
   },
   {
    "duration": 17,
    "start_time": "2022-11-06T17:07:01.626Z"
   },
   {
    "duration": 36,
    "start_time": "2022-11-06T17:07:01.645Z"
   },
   {
    "duration": 32,
    "start_time": "2022-11-06T17:07:01.683Z"
   },
   {
    "duration": 24,
    "start_time": "2022-11-06T17:07:01.717Z"
   },
   {
    "duration": 164,
    "start_time": "2022-11-06T17:07:01.743Z"
   },
   {
    "duration": 31,
    "start_time": "2022-11-06T17:07:01.909Z"
   },
   {
    "duration": 8,
    "start_time": "2022-11-06T17:07:01.941Z"
   },
   {
    "duration": 23,
    "start_time": "2022-11-06T17:07:01.950Z"
   },
   {
    "duration": 19,
    "start_time": "2022-11-06T17:07:01.975Z"
   },
   {
    "duration": 21,
    "start_time": "2022-11-06T17:07:01.996Z"
   },
   {
    "duration": 9,
    "start_time": "2022-11-06T17:07:02.018Z"
   },
   {
    "duration": 4,
    "start_time": "2022-11-06T17:07:02.029Z"
   },
   {
    "duration": 13,
    "start_time": "2022-11-06T17:07:02.034Z"
   },
   {
    "duration": 128,
    "start_time": "2022-11-06T17:07:02.048Z"
   },
   {
    "duration": 6,
    "start_time": "2022-11-06T17:07:02.177Z"
   },
   {
    "duration": 8,
    "start_time": "2022-11-06T17:07:02.185Z"
   },
   {
    "duration": 8,
    "start_time": "2022-11-06T17:07:02.195Z"
   },
   {
    "duration": 17,
    "start_time": "2022-11-06T17:07:02.205Z"
   },
   {
    "duration": 184,
    "start_time": "2022-11-06T17:07:02.224Z"
   },
   {
    "duration": 4,
    "start_time": "2022-11-06T17:07:02.410Z"
   },
   {
    "duration": 151,
    "start_time": "2022-11-06T17:07:02.422Z"
   },
   {
    "duration": 147,
    "start_time": "2022-11-06T17:07:02.575Z"
   },
   {
    "duration": 149,
    "start_time": "2022-11-06T17:07:02.724Z"
   },
   {
    "duration": 167,
    "start_time": "2022-11-06T17:07:02.874Z"
   },
   {
    "duration": 214,
    "start_time": "2022-11-06T17:07:03.042Z"
   },
   {
    "duration": 158,
    "start_time": "2022-11-06T17:07:03.257Z"
   },
   {
    "duration": 151,
    "start_time": "2022-11-06T17:07:03.422Z"
   },
   {
    "duration": 104,
    "start_time": "2022-11-06T17:07:03.575Z"
   },
   {
    "duration": 152,
    "start_time": "2022-11-06T17:07:03.680Z"
   },
   {
    "duration": 140,
    "start_time": "2022-11-06T17:07:03.834Z"
   },
   {
    "duration": 132,
    "start_time": "2022-11-06T17:07:03.975Z"
   },
   {
    "duration": 146,
    "start_time": "2022-11-06T17:07:04.109Z"
   },
   {
    "duration": 117,
    "start_time": "2022-11-06T17:07:04.257Z"
   },
   {
    "duration": 132,
    "start_time": "2022-11-06T17:07:04.375Z"
   },
   {
    "duration": 174,
    "start_time": "2022-11-06T17:07:04.508Z"
   },
   {
    "duration": 164,
    "start_time": "2022-11-06T17:07:04.684Z"
   },
   {
    "duration": 6,
    "start_time": "2022-11-06T17:07:04.850Z"
   },
   {
    "duration": 161,
    "start_time": "2022-11-06T17:07:04.857Z"
   },
   {
    "duration": 5,
    "start_time": "2022-11-06T17:07:05.019Z"
   },
   {
    "duration": 254,
    "start_time": "2022-11-06T17:07:05.025Z"
   },
   {
    "duration": 5,
    "start_time": "2022-11-06T17:07:05.281Z"
   },
   {
    "duration": 135,
    "start_time": "2022-11-06T17:07:05.287Z"
   },
   {
    "duration": 134,
    "start_time": "2022-11-06T17:07:05.423Z"
   },
   {
    "duration": 5,
    "start_time": "2022-11-06T17:07:05.558Z"
   },
   {
    "duration": 160,
    "start_time": "2022-11-06T17:07:05.564Z"
   },
   {
    "duration": 6,
    "start_time": "2022-11-06T17:07:05.726Z"
   },
   {
    "duration": 146,
    "start_time": "2022-11-06T17:07:05.738Z"
   },
   {
    "duration": 4,
    "start_time": "2022-11-06T17:07:05.886Z"
   },
   {
    "duration": 32,
    "start_time": "2022-11-06T17:07:05.892Z"
   },
   {
    "duration": 21,
    "start_time": "2022-11-06T17:07:05.925Z"
   },
   {
    "duration": 34,
    "start_time": "2022-11-06T17:07:05.947Z"
   },
   {
    "duration": 20,
    "start_time": "2022-11-06T17:07:05.982Z"
   },
   {
    "duration": 8,
    "start_time": "2022-11-06T17:07:06.003Z"
   },
   {
    "duration": 718,
    "start_time": "2022-11-06T17:07:36.322Z"
   },
   {
    "duration": 22,
    "start_time": "2022-11-06T17:07:37.042Z"
   },
   {
    "duration": 1875,
    "start_time": "2022-11-06T17:07:37.066Z"
   },
   {
    "duration": 13,
    "start_time": "2022-11-06T17:07:38.944Z"
   },
   {
    "duration": 427,
    "start_time": "2022-11-06T17:07:38.958Z"
   },
   {
    "duration": 9,
    "start_time": "2022-11-06T17:07:39.387Z"
   },
   {
    "duration": 35,
    "start_time": "2022-11-06T17:07:39.397Z"
   },
   {
    "duration": 27,
    "start_time": "2022-11-06T17:07:39.433Z"
   },
   {
    "duration": 8,
    "start_time": "2022-11-06T17:07:39.461Z"
   },
   {
    "duration": 4,
    "start_time": "2022-11-06T17:07:39.472Z"
   },
   {
    "duration": 8,
    "start_time": "2022-11-06T17:07:39.477Z"
   },
   {
    "duration": 9,
    "start_time": "2022-11-06T17:07:39.487Z"
   },
   {
    "duration": 28,
    "start_time": "2022-11-06T17:07:39.497Z"
   },
   {
    "duration": 6,
    "start_time": "2022-11-06T17:07:39.527Z"
   },
   {
    "duration": 19,
    "start_time": "2022-11-06T17:07:39.535Z"
   },
   {
    "duration": 183,
    "start_time": "2022-11-06T17:07:39.555Z"
   },
   {
    "duration": 22,
    "start_time": "2022-11-06T17:07:39.740Z"
   },
   {
    "duration": 22,
    "start_time": "2022-11-06T17:07:39.764Z"
   },
   {
    "duration": 229,
    "start_time": "2022-11-06T17:07:39.787Z"
   },
   {
    "duration": 158,
    "start_time": "2022-11-06T17:07:40.017Z"
   },
   {
    "duration": 118,
    "start_time": "2022-11-06T17:07:40.177Z"
   },
   {
    "duration": 41,
    "start_time": "2022-11-06T17:07:40.297Z"
   },
   {
    "duration": 143,
    "start_time": "2022-11-06T17:07:40.340Z"
   },
   {
    "duration": 26,
    "start_time": "2022-11-06T17:07:40.485Z"
   },
   {
    "duration": 134,
    "start_time": "2022-11-06T17:07:40.522Z"
   },
   {
    "duration": 9,
    "start_time": "2022-11-06T17:07:40.657Z"
   },
   {
    "duration": 197,
    "start_time": "2022-11-06T17:07:40.668Z"
   },
   {
    "duration": 109,
    "start_time": "2022-11-06T17:07:40.870Z"
   },
   {
    "duration": 9,
    "start_time": "2022-11-06T17:07:40.980Z"
   },
   {
    "duration": 19,
    "start_time": "2022-11-06T17:07:40.991Z"
   },
   {
    "duration": 132,
    "start_time": "2022-11-06T17:07:41.023Z"
   },
   {
    "duration": 8,
    "start_time": "2022-11-06T17:07:41.157Z"
   },
   {
    "duration": 72,
    "start_time": "2022-11-06T17:07:41.167Z"
   },
   {
    "duration": 146,
    "start_time": "2022-11-06T17:07:41.241Z"
   },
   {
    "duration": 8,
    "start_time": "2022-11-06T17:07:41.389Z"
   },
   {
    "duration": 5,
    "start_time": "2022-11-06T17:07:41.399Z"
   },
   {
    "duration": 20,
    "start_time": "2022-11-06T17:07:41.405Z"
   },
   {
    "duration": 11,
    "start_time": "2022-11-06T17:07:41.426Z"
   },
   {
    "duration": 15,
    "start_time": "2022-11-06T17:07:41.439Z"
   },
   {
    "duration": 150,
    "start_time": "2022-11-06T17:07:41.456Z"
   },
   {
    "duration": 37,
    "start_time": "2022-11-06T17:07:41.608Z"
   },
   {
    "duration": 7,
    "start_time": "2022-11-06T17:07:41.646Z"
   },
   {
    "duration": 16,
    "start_time": "2022-11-06T17:07:41.655Z"
   },
   {
    "duration": 12,
    "start_time": "2022-11-06T17:07:41.673Z"
   },
   {
    "duration": 15,
    "start_time": "2022-11-06T17:07:41.686Z"
   },
   {
    "duration": 20,
    "start_time": "2022-11-06T17:07:41.703Z"
   },
   {
    "duration": 7,
    "start_time": "2022-11-06T17:07:41.725Z"
   },
   {
    "duration": 16,
    "start_time": "2022-11-06T17:07:41.734Z"
   },
   {
    "duration": 126,
    "start_time": "2022-11-06T17:07:41.752Z"
   },
   {
    "duration": 6,
    "start_time": "2022-11-06T17:07:41.880Z"
   },
   {
    "duration": 14,
    "start_time": "2022-11-06T17:07:41.888Z"
   },
   {
    "duration": 19,
    "start_time": "2022-11-06T17:07:41.903Z"
   },
   {
    "duration": 7,
    "start_time": "2022-11-06T17:07:41.924Z"
   },
   {
    "duration": 212,
    "start_time": "2022-11-06T17:07:41.932Z"
   },
   {
    "duration": 5,
    "start_time": "2022-11-06T17:07:42.146Z"
   },
   {
    "duration": 156,
    "start_time": "2022-11-06T17:07:42.152Z"
   },
   {
    "duration": 154,
    "start_time": "2022-11-06T17:07:42.310Z"
   },
   {
    "duration": 166,
    "start_time": "2022-11-06T17:07:42.465Z"
   },
   {
    "duration": 159,
    "start_time": "2022-11-06T17:07:42.632Z"
   },
   {
    "duration": 215,
    "start_time": "2022-11-06T17:07:42.793Z"
   },
   {
    "duration": 169,
    "start_time": "2022-11-06T17:07:43.009Z"
   },
   {
    "duration": 151,
    "start_time": "2022-11-06T17:07:43.179Z"
   },
   {
    "duration": 102,
    "start_time": "2022-11-06T17:07:43.331Z"
   },
   {
    "duration": 141,
    "start_time": "2022-11-06T17:07:43.434Z"
   },
   {
    "duration": 147,
    "start_time": "2022-11-06T17:07:43.577Z"
   },
   {
    "duration": 140,
    "start_time": "2022-11-06T17:07:43.725Z"
   },
   {
    "duration": 144,
    "start_time": "2022-11-06T17:07:43.866Z"
   },
   {
    "duration": 118,
    "start_time": "2022-11-06T17:07:44.012Z"
   },
   {
    "duration": 132,
    "start_time": "2022-11-06T17:07:44.132Z"
   },
   {
    "duration": 169,
    "start_time": "2022-11-06T17:07:44.265Z"
   },
   {
    "duration": 165,
    "start_time": "2022-11-06T17:07:44.435Z"
   },
   {
    "duration": 5,
    "start_time": "2022-11-06T17:07:44.602Z"
   },
   {
    "duration": 153,
    "start_time": "2022-11-06T17:07:44.609Z"
   },
   {
    "duration": 5,
    "start_time": "2022-11-06T17:07:44.763Z"
   },
   {
    "duration": 247,
    "start_time": "2022-11-06T17:07:44.770Z"
   },
   {
    "duration": 5,
    "start_time": "2022-11-06T17:07:45.021Z"
   },
   {
    "duration": 145,
    "start_time": "2022-11-06T17:07:45.028Z"
   },
   {
    "duration": 148,
    "start_time": "2022-11-06T17:07:45.174Z"
   },
   {
    "duration": 5,
    "start_time": "2022-11-06T17:07:45.323Z"
   },
   {
    "duration": 163,
    "start_time": "2022-11-06T17:07:45.329Z"
   },
   {
    "duration": 4,
    "start_time": "2022-11-06T17:07:45.494Z"
   },
   {
    "duration": 145,
    "start_time": "2022-11-06T17:07:45.503Z"
   },
   {
    "duration": 7,
    "start_time": "2022-11-06T17:07:45.649Z"
   },
   {
    "duration": 26,
    "start_time": "2022-11-06T17:07:45.657Z"
   },
   {
    "duration": 20,
    "start_time": "2022-11-06T17:07:45.685Z"
   },
   {
    "duration": 56,
    "start_time": "2022-11-06T17:07:45.707Z"
   },
   {
    "duration": 14,
    "start_time": "2022-11-06T17:07:45.765Z"
   },
   {
    "duration": 8,
    "start_time": "2022-11-06T17:07:45.781Z"
   },
   {
    "duration": 1129,
    "start_time": "2022-11-07T05:49:33.217Z"
   },
   {
    "duration": 15,
    "start_time": "2022-11-07T05:49:34.348Z"
   },
   {
    "duration": 1891,
    "start_time": "2022-11-07T05:49:34.365Z"
   },
   {
    "duration": 13,
    "start_time": "2022-11-07T05:49:36.258Z"
   },
   {
    "duration": 20,
    "start_time": "2022-11-07T05:49:36.274Z"
   },
   {
    "duration": 21,
    "start_time": "2022-11-07T05:49:36.296Z"
   },
   {
    "duration": 48,
    "start_time": "2022-11-07T05:49:36.319Z"
   },
   {
    "duration": 26,
    "start_time": "2022-11-07T05:49:36.370Z"
   },
   {
    "duration": 8,
    "start_time": "2022-11-07T05:49:36.398Z"
   },
   {
    "duration": 16,
    "start_time": "2022-11-07T05:49:36.407Z"
   },
   {
    "duration": 35,
    "start_time": "2022-11-07T05:49:36.425Z"
   },
   {
    "duration": 20,
    "start_time": "2022-11-07T05:49:36.461Z"
   },
   {
    "duration": 33,
    "start_time": "2022-11-07T05:49:36.483Z"
   },
   {
    "duration": 52,
    "start_time": "2022-11-07T05:49:36.520Z"
   },
   {
    "duration": 33,
    "start_time": "2022-11-07T05:49:36.573Z"
   },
   {
    "duration": 198,
    "start_time": "2022-11-07T05:49:36.608Z"
   },
   {
    "duration": 25,
    "start_time": "2022-11-07T05:49:36.809Z"
   },
   {
    "duration": 25,
    "start_time": "2022-11-07T05:49:36.836Z"
   },
   {
    "duration": 229,
    "start_time": "2022-11-07T05:49:36.862Z"
   },
   {
    "duration": 131,
    "start_time": "2022-11-07T05:49:37.093Z"
   },
   {
    "duration": 131,
    "start_time": "2022-11-07T05:49:37.226Z"
   },
   {
    "duration": 24,
    "start_time": "2022-11-07T05:49:37.359Z"
   },
   {
    "duration": 155,
    "start_time": "2022-11-07T05:49:37.385Z"
   },
   {
    "duration": 30,
    "start_time": "2022-11-07T05:49:37.541Z"
   },
   {
    "duration": 137,
    "start_time": "2022-11-07T05:49:37.572Z"
   },
   {
    "duration": 8,
    "start_time": "2022-11-07T05:49:37.710Z"
   },
   {
    "duration": 175,
    "start_time": "2022-11-07T05:49:37.720Z"
   },
   {
    "duration": 113,
    "start_time": "2022-11-07T05:49:37.897Z"
   },
   {
    "duration": 9,
    "start_time": "2022-11-07T05:49:38.012Z"
   },
   {
    "duration": 15,
    "start_time": "2022-11-07T05:49:38.022Z"
   },
   {
    "duration": 138,
    "start_time": "2022-11-07T05:49:38.039Z"
   },
   {
    "duration": 8,
    "start_time": "2022-11-07T05:49:38.178Z"
   },
   {
    "duration": 61,
    "start_time": "2022-11-07T05:49:38.187Z"
   },
   {
    "duration": 137,
    "start_time": "2022-11-07T05:49:38.250Z"
   },
   {
    "duration": 8,
    "start_time": "2022-11-07T05:49:38.389Z"
   },
   {
    "duration": 4,
    "start_time": "2022-11-07T05:49:38.409Z"
   },
   {
    "duration": 7,
    "start_time": "2022-11-07T05:49:38.415Z"
   },
   {
    "duration": 5,
    "start_time": "2022-11-07T05:49:38.424Z"
   },
   {
    "duration": 9,
    "start_time": "2022-11-07T05:49:38.430Z"
   },
   {
    "duration": 161,
    "start_time": "2022-11-07T05:49:38.440Z"
   },
   {
    "duration": 25,
    "start_time": "2022-11-07T05:49:38.611Z"
   },
   {
    "duration": 6,
    "start_time": "2022-11-07T05:49:38.637Z"
   },
   {
    "duration": 11,
    "start_time": "2022-11-07T05:49:38.645Z"
   },
   {
    "duration": 6,
    "start_time": "2022-11-07T05:49:38.658Z"
   },
   {
    "duration": 10,
    "start_time": "2022-11-07T05:49:38.666Z"
   },
   {
    "duration": 35,
    "start_time": "2022-11-07T05:49:38.677Z"
   },
   {
    "duration": 4,
    "start_time": "2022-11-07T05:49:38.714Z"
   },
   {
    "duration": 12,
    "start_time": "2022-11-07T05:49:38.719Z"
   },
   {
    "duration": 148,
    "start_time": "2022-11-07T05:49:38.732Z"
   },
   {
    "duration": 6,
    "start_time": "2022-11-07T05:49:38.881Z"
   },
   {
    "duration": 20,
    "start_time": "2022-11-07T05:49:38.889Z"
   },
   {
    "duration": 5,
    "start_time": "2022-11-07T05:49:38.910Z"
   },
   {
    "duration": 11,
    "start_time": "2022-11-07T05:49:38.916Z"
   },
   {
    "duration": 216,
    "start_time": "2022-11-07T05:49:38.929Z"
   },
   {
    "duration": 4,
    "start_time": "2022-11-07T05:49:39.147Z"
   },
   {
    "duration": 165,
    "start_time": "2022-11-07T05:49:39.152Z"
   },
   {
    "duration": 154,
    "start_time": "2022-11-07T05:49:39.318Z"
   },
   {
    "duration": 151,
    "start_time": "2022-11-07T05:49:39.474Z"
   },
   {
    "duration": 159,
    "start_time": "2022-11-07T05:49:39.627Z"
   },
   {
    "duration": 204,
    "start_time": "2022-11-07T05:49:39.788Z"
   },
   {
    "duration": 161,
    "start_time": "2022-11-07T05:49:39.994Z"
   },
   {
    "duration": 156,
    "start_time": "2022-11-07T05:49:40.156Z"
   },
   {
    "duration": 111,
    "start_time": "2022-11-07T05:49:40.314Z"
   },
   {
    "duration": 148,
    "start_time": "2022-11-07T05:49:40.427Z"
   },
   {
    "duration": 141,
    "start_time": "2022-11-07T05:49:40.577Z"
   },
   {
    "duration": 136,
    "start_time": "2022-11-07T05:49:40.720Z"
   },
   {
    "duration": 152,
    "start_time": "2022-11-07T05:49:40.858Z"
   },
   {
    "duration": 124,
    "start_time": "2022-11-07T05:49:41.012Z"
   },
   {
    "duration": 148,
    "start_time": "2022-11-07T05:49:41.138Z"
   },
   {
    "duration": 175,
    "start_time": "2022-11-07T05:49:41.290Z"
   },
   {
    "duration": 175,
    "start_time": "2022-11-07T05:49:41.467Z"
   },
   {
    "duration": 5,
    "start_time": "2022-11-07T05:49:41.643Z"
   },
   {
    "duration": 170,
    "start_time": "2022-11-07T05:49:41.650Z"
   },
   {
    "duration": 5,
    "start_time": "2022-11-07T05:49:41.822Z"
   },
   {
    "duration": 244,
    "start_time": "2022-11-07T05:49:41.828Z"
   },
   {
    "duration": 4,
    "start_time": "2022-11-07T05:49:42.074Z"
   },
   {
    "duration": 146,
    "start_time": "2022-11-07T05:49:42.079Z"
   },
   {
    "duration": 144,
    "start_time": "2022-11-07T05:49:42.227Z"
   },
   {
    "duration": 5,
    "start_time": "2022-11-07T05:49:42.373Z"
   },
   {
    "duration": 155,
    "start_time": "2022-11-07T05:49:42.379Z"
   },
   {
    "duration": 4,
    "start_time": "2022-11-07T05:49:42.536Z"
   },
   {
    "duration": 146,
    "start_time": "2022-11-07T05:49:42.542Z"
   },
   {
    "duration": 5,
    "start_time": "2022-11-07T05:49:42.690Z"
   },
   {
    "duration": 18,
    "start_time": "2022-11-07T05:49:42.697Z"
   },
   {
    "duration": 3,
    "start_time": "2022-11-07T05:49:42.717Z"
   },
   {
    "duration": 30,
    "start_time": "2022-11-07T05:49:42.721Z"
   },
   {
    "duration": 15,
    "start_time": "2022-11-07T05:49:42.753Z"
   },
   {
    "duration": 8,
    "start_time": "2022-11-07T05:49:42.769Z"
   },
   {
    "duration": 737,
    "start_time": "2022-11-07T06:12:05.155Z"
   },
   {
    "duration": 21,
    "start_time": "2022-11-07T06:12:05.894Z"
   },
   {
    "duration": 2748,
    "start_time": "2022-11-07T06:12:05.916Z"
   },
   {
    "duration": 10,
    "start_time": "2022-11-07T06:12:08.666Z"
   },
   {
    "duration": 6,
    "start_time": "2022-11-07T06:12:08.677Z"
   },
   {
    "duration": 9,
    "start_time": "2022-11-07T06:12:08.684Z"
   },
   {
    "duration": 41,
    "start_time": "2022-11-07T06:12:08.694Z"
   },
   {
    "duration": 29,
    "start_time": "2022-11-07T06:12:08.737Z"
   },
   {
    "duration": 7,
    "start_time": "2022-11-07T06:12:08.768Z"
   },
   {
    "duration": 4,
    "start_time": "2022-11-07T06:12:08.778Z"
   },
   {
    "duration": 32,
    "start_time": "2022-11-07T06:12:08.783Z"
   },
   {
    "duration": 7,
    "start_time": "2022-11-07T06:12:08.816Z"
   },
   {
    "duration": 6,
    "start_time": "2022-11-07T06:12:08.824Z"
   },
   {
    "duration": 3,
    "start_time": "2022-11-07T06:12:08.832Z"
   },
   {
    "duration": 18,
    "start_time": "2022-11-07T06:12:08.837Z"
   },
   {
    "duration": 228,
    "start_time": "2022-11-07T06:12:08.856Z"
   },
   {
    "duration": 30,
    "start_time": "2022-11-07T06:12:09.086Z"
   },
   {
    "duration": 23,
    "start_time": "2022-11-07T06:12:09.117Z"
   },
   {
    "duration": 234,
    "start_time": "2022-11-07T06:12:09.141Z"
   },
   {
    "duration": 136,
    "start_time": "2022-11-07T06:12:09.377Z"
   },
   {
    "duration": 142,
    "start_time": "2022-11-07T06:12:09.514Z"
   },
   {
    "duration": 26,
    "start_time": "2022-11-07T06:12:09.657Z"
   },
   {
    "duration": 144,
    "start_time": "2022-11-07T06:12:09.684Z"
   },
   {
    "duration": 27,
    "start_time": "2022-11-07T06:12:09.829Z"
   },
   {
    "duration": 138,
    "start_time": "2022-11-07T06:12:09.858Z"
   },
   {
    "duration": 16,
    "start_time": "2022-11-07T06:12:09.998Z"
   },
   {
    "duration": 193,
    "start_time": "2022-11-07T06:12:10.016Z"
   },
   {
    "duration": 135,
    "start_time": "2022-11-07T06:12:10.213Z"
   },
   {
    "duration": 10,
    "start_time": "2022-11-07T06:12:10.350Z"
   },
   {
    "duration": 16,
    "start_time": "2022-11-07T06:12:10.362Z"
   },
   {
    "duration": 156,
    "start_time": "2022-11-07T06:12:10.380Z"
   },
   {
    "duration": 7,
    "start_time": "2022-11-07T06:12:10.538Z"
   },
   {
    "duration": 41,
    "start_time": "2022-11-07T06:12:10.547Z"
   },
   {
    "duration": 161,
    "start_time": "2022-11-07T06:12:10.589Z"
   },
   {
    "duration": 8,
    "start_time": "2022-11-07T06:12:10.751Z"
   },
   {
    "duration": 3,
    "start_time": "2022-11-07T06:12:10.760Z"
   },
   {
    "duration": 8,
    "start_time": "2022-11-07T06:12:10.765Z"
   },
   {
    "duration": 8,
    "start_time": "2022-11-07T06:12:10.774Z"
   },
   {
    "duration": 26,
    "start_time": "2022-11-07T06:12:10.784Z"
   },
   {
    "duration": 157,
    "start_time": "2022-11-07T06:12:10.812Z"
   },
   {
    "duration": 26,
    "start_time": "2022-11-07T06:12:10.970Z"
   },
   {
    "duration": 7,
    "start_time": "2022-11-07T06:12:11.009Z"
   },
   {
    "duration": 9,
    "start_time": "2022-11-07T06:12:11.018Z"
   },
   {
    "duration": 8,
    "start_time": "2022-11-07T06:12:11.029Z"
   },
   {
    "duration": 11,
    "start_time": "2022-11-07T06:12:11.038Z"
   },
   {
    "duration": 9,
    "start_time": "2022-11-07T06:12:11.051Z"
   },
   {
    "duration": 4,
    "start_time": "2022-11-07T06:12:11.061Z"
   },
   {
    "duration": 44,
    "start_time": "2022-11-07T06:12:11.067Z"
   },
   {
    "duration": 133,
    "start_time": "2022-11-07T06:12:11.112Z"
   },
   {
    "duration": 6,
    "start_time": "2022-11-07T06:12:11.246Z"
   },
   {
    "duration": 22,
    "start_time": "2022-11-07T06:12:11.254Z"
   },
   {
    "duration": 8,
    "start_time": "2022-11-07T06:12:11.279Z"
   },
   {
    "duration": 13,
    "start_time": "2022-11-07T06:12:11.289Z"
   },
   {
    "duration": 219,
    "start_time": "2022-11-07T06:12:11.304Z"
   },
   {
    "duration": 4,
    "start_time": "2022-11-07T06:12:11.525Z"
   },
   {
    "duration": 166,
    "start_time": "2022-11-07T06:12:11.531Z"
   },
   {
    "duration": 151,
    "start_time": "2022-11-07T06:12:11.699Z"
   },
   {
    "duration": 151,
    "start_time": "2022-11-07T06:12:11.851Z"
   },
   {
    "duration": 162,
    "start_time": "2022-11-07T06:12:12.008Z"
   },
   {
    "duration": 210,
    "start_time": "2022-11-07T06:12:12.172Z"
   },
   {
    "duration": 163,
    "start_time": "2022-11-07T06:12:12.384Z"
   },
   {
    "duration": 151,
    "start_time": "2022-11-07T06:12:12.548Z"
   },
   {
    "duration": 123,
    "start_time": "2022-11-07T06:12:12.700Z"
   },
   {
    "duration": 149,
    "start_time": "2022-11-07T06:12:12.825Z"
   },
   {
    "duration": 140,
    "start_time": "2022-11-07T06:12:12.976Z"
   },
   {
    "duration": 137,
    "start_time": "2022-11-07T06:12:13.118Z"
   },
   {
    "duration": 171,
    "start_time": "2022-11-07T06:12:13.257Z"
   },
   {
    "duration": 123,
    "start_time": "2022-11-07T06:12:13.430Z"
   },
   {
    "duration": 136,
    "start_time": "2022-11-07T06:12:13.555Z"
   },
   {
    "duration": 179,
    "start_time": "2022-11-07T06:12:13.693Z"
   },
   {
    "duration": 169,
    "start_time": "2022-11-07T06:12:13.874Z"
   },
   {
    "duration": 5,
    "start_time": "2022-11-07T06:12:14.045Z"
   },
   {
    "duration": 168,
    "start_time": "2022-11-07T06:12:14.052Z"
   },
   {
    "duration": 6,
    "start_time": "2022-11-07T06:12:14.222Z"
   },
   {
    "duration": 281,
    "start_time": "2022-11-07T06:12:14.230Z"
   },
   {
    "duration": 6,
    "start_time": "2022-11-07T06:12:14.513Z"
   },
   {
    "duration": 211,
    "start_time": "2022-11-07T06:12:14.521Z"
   },
   {
    "duration": 151,
    "start_time": "2022-11-07T06:12:14.734Z"
   },
   {
    "duration": 4,
    "start_time": "2022-11-07T06:12:14.887Z"
   },
   {
    "duration": 157,
    "start_time": "2022-11-07T06:12:14.893Z"
   },
   {
    "duration": 5,
    "start_time": "2022-11-07T06:12:15.052Z"
   },
   {
    "duration": 148,
    "start_time": "2022-11-07T06:12:15.062Z"
   },
   {
    "duration": 5,
    "start_time": "2022-11-07T06:12:15.212Z"
   },
   {
    "duration": 12,
    "start_time": "2022-11-07T06:12:15.218Z"
   },
   {
    "duration": 8,
    "start_time": "2022-11-07T06:12:15.231Z"
   },
   {
    "duration": 39,
    "start_time": "2022-11-07T06:12:15.241Z"
   },
   {
    "duration": 40,
    "start_time": "2022-11-07T06:12:15.281Z"
   },
   {
    "duration": 12,
    "start_time": "2022-11-07T06:12:15.323Z"
   },
   {
    "duration": 285,
    "start_time": "2022-11-07T06:12:19.055Z"
   },
   {
    "duration": 142,
    "start_time": "2022-11-07T06:12:24.071Z"
   },
   {
    "duration": 84,
    "start_time": "2022-11-07T06:16:39.385Z"
   },
   {
    "duration": 9,
    "start_time": "2022-11-07T06:16:52.749Z"
   },
   {
    "duration": 203,
    "start_time": "2022-11-07T06:17:26.908Z"
   },
   {
    "duration": 3,
    "start_time": "2022-11-07T06:20:25.219Z"
   },
   {
    "duration": 764,
    "start_time": "2022-11-07T06:20:30.173Z"
   },
   {
    "duration": 15,
    "start_time": "2022-11-07T06:20:30.939Z"
   },
   {
    "duration": 2792,
    "start_time": "2022-11-07T06:20:30.956Z"
   },
   {
    "duration": 9,
    "start_time": "2022-11-07T06:20:33.751Z"
   },
   {
    "duration": 10,
    "start_time": "2022-11-07T06:20:33.762Z"
   },
   {
    "duration": 5,
    "start_time": "2022-11-07T06:20:33.773Z"
   },
   {
    "duration": 29,
    "start_time": "2022-11-07T06:20:33.779Z"
   },
   {
    "duration": 27,
    "start_time": "2022-11-07T06:20:33.809Z"
   },
   {
    "duration": 8,
    "start_time": "2022-11-07T06:20:33.837Z"
   },
   {
    "duration": 4,
    "start_time": "2022-11-07T06:20:33.848Z"
   },
   {
    "duration": 10,
    "start_time": "2022-11-07T06:20:33.853Z"
   },
   {
    "duration": 7,
    "start_time": "2022-11-07T06:20:33.864Z"
   },
   {
    "duration": 10,
    "start_time": "2022-11-07T06:20:33.873Z"
   },
   {
    "duration": 28,
    "start_time": "2022-11-07T06:20:33.885Z"
   },
   {
    "duration": 22,
    "start_time": "2022-11-07T06:20:33.914Z"
   },
   {
    "duration": 192,
    "start_time": "2022-11-07T06:20:33.937Z"
   },
   {
    "duration": 24,
    "start_time": "2022-11-07T06:20:34.131Z"
   },
   {
    "duration": 23,
    "start_time": "2022-11-07T06:20:34.156Z"
   },
   {
    "duration": 239,
    "start_time": "2022-11-07T06:20:34.181Z"
   },
   {
    "duration": 163,
    "start_time": "2022-11-07T06:20:34.422Z"
   },
   {
    "duration": 137,
    "start_time": "2022-11-07T06:20:34.587Z"
   },
   {
    "duration": 25,
    "start_time": "2022-11-07T06:20:34.725Z"
   },
   {
    "duration": 149,
    "start_time": "2022-11-07T06:20:34.752Z"
   },
   {
    "duration": 30,
    "start_time": "2022-11-07T06:20:34.902Z"
   },
   {
    "duration": 140,
    "start_time": "2022-11-07T06:20:34.933Z"
   },
   {
    "duration": 8,
    "start_time": "2022-11-07T06:20:35.075Z"
   },
   {
    "duration": 184,
    "start_time": "2022-11-07T06:20:35.085Z"
   },
   {
    "duration": 107,
    "start_time": "2022-11-07T06:20:35.274Z"
   },
   {
    "duration": 9,
    "start_time": "2022-11-07T06:20:35.383Z"
   },
   {
    "duration": 26,
    "start_time": "2022-11-07T06:20:35.394Z"
   },
   {
    "duration": 128,
    "start_time": "2022-11-07T06:20:35.422Z"
   },
   {
    "duration": 6,
    "start_time": "2022-11-07T06:20:35.552Z"
   },
   {
    "duration": 50,
    "start_time": "2022-11-07T06:20:35.560Z"
   },
   {
    "duration": 140,
    "start_time": "2022-11-07T06:20:35.611Z"
   },
   {
    "duration": 9,
    "start_time": "2022-11-07T06:20:35.752Z"
   },
   {
    "duration": 5,
    "start_time": "2022-11-07T06:20:35.762Z"
   },
   {
    "duration": 10,
    "start_time": "2022-11-07T06:20:35.768Z"
   },
   {
    "duration": 8,
    "start_time": "2022-11-07T06:20:35.779Z"
   },
   {
    "duration": 24,
    "start_time": "2022-11-07T06:20:35.789Z"
   },
   {
    "duration": 146,
    "start_time": "2022-11-07T06:20:35.815Z"
   },
   {
    "duration": 25,
    "start_time": "2022-11-07T06:20:35.963Z"
   },
   {
    "duration": 22,
    "start_time": "2022-11-07T06:20:35.990Z"
   },
   {
    "duration": 7,
    "start_time": "2022-11-07T06:20:36.014Z"
   },
   {
    "duration": 9,
    "start_time": "2022-11-07T06:20:36.022Z"
   },
   {
    "duration": 10,
    "start_time": "2022-11-07T06:20:36.033Z"
   },
   {
    "duration": 8,
    "start_time": "2022-11-07T06:20:36.044Z"
   },
   {
    "duration": 2,
    "start_time": "2022-11-07T06:20:36.054Z"
   },
   {
    "duration": 12,
    "start_time": "2022-11-07T06:20:36.057Z"
   },
   {
    "duration": 154,
    "start_time": "2022-11-07T06:20:36.071Z"
   },
   {
    "duration": 5,
    "start_time": "2022-11-07T06:20:36.227Z"
   },
   {
    "duration": 8,
    "start_time": "2022-11-07T06:20:36.234Z"
   },
   {
    "duration": 6,
    "start_time": "2022-11-07T06:20:36.244Z"
   },
   {
    "duration": 11,
    "start_time": "2022-11-07T06:20:36.253Z"
   },
   {
    "duration": 230,
    "start_time": "2022-11-07T06:20:36.265Z"
   },
   {
    "duration": 4,
    "start_time": "2022-11-07T06:20:36.497Z"
   },
   {
    "duration": 159,
    "start_time": "2022-11-07T06:20:36.503Z"
   },
   {
    "duration": 148,
    "start_time": "2022-11-07T06:20:36.663Z"
   },
   {
    "duration": 153,
    "start_time": "2022-11-07T06:20:36.812Z"
   },
   {
    "duration": 179,
    "start_time": "2022-11-07T06:20:36.967Z"
   },
   {
    "duration": 230,
    "start_time": "2022-11-07T06:20:37.148Z"
   },
   {
    "duration": 171,
    "start_time": "2022-11-07T06:20:37.379Z"
   },
   {
    "duration": 163,
    "start_time": "2022-11-07T06:20:37.552Z"
   },
   {
    "duration": 105,
    "start_time": "2022-11-07T06:20:37.717Z"
   },
   {
    "duration": 155,
    "start_time": "2022-11-07T06:20:37.824Z"
   },
   {
    "duration": 151,
    "start_time": "2022-11-07T06:20:37.981Z"
   },
   {
    "duration": 144,
    "start_time": "2022-11-07T06:20:38.135Z"
   },
   {
    "duration": 143,
    "start_time": "2022-11-07T06:20:38.281Z"
   },
   {
    "duration": 121,
    "start_time": "2022-11-07T06:20:38.426Z"
   },
   {
    "duration": 145,
    "start_time": "2022-11-07T06:20:38.549Z"
   },
   {
    "duration": 163,
    "start_time": "2022-11-07T06:20:38.696Z"
   },
   {
    "duration": 306,
    "start_time": "2022-11-07T06:20:38.861Z"
   },
   {
    "duration": 153,
    "start_time": "2022-11-07T06:20:39.168Z"
   },
   {
    "duration": 5,
    "start_time": "2022-11-07T06:20:39.322Z"
   },
   {
    "duration": 164,
    "start_time": "2022-11-07T06:20:39.329Z"
   },
   {
    "duration": 5,
    "start_time": "2022-11-07T06:20:39.494Z"
   },
   {
    "duration": 159,
    "start_time": "2022-11-07T06:20:39.509Z"
   },
   {
    "duration": 6,
    "start_time": "2022-11-07T06:20:39.669Z"
   },
   {
    "duration": 137,
    "start_time": "2022-11-07T06:20:39.676Z"
   },
   {
    "duration": 149,
    "start_time": "2022-11-07T06:20:39.815Z"
   },
   {
    "duration": 6,
    "start_time": "2022-11-07T06:20:39.966Z"
   },
   {
    "duration": 160,
    "start_time": "2022-11-07T06:20:39.973Z"
   },
   {
    "duration": 5,
    "start_time": "2022-11-07T06:20:40.139Z"
   },
   {
    "duration": 151,
    "start_time": "2022-11-07T06:20:40.146Z"
   },
   {
    "duration": 10,
    "start_time": "2022-11-07T06:20:40.299Z"
   },
   {
    "duration": 18,
    "start_time": "2022-11-07T06:20:40.311Z"
   },
   {
    "duration": 13,
    "start_time": "2022-11-07T06:20:40.331Z"
   },
   {
    "duration": 51,
    "start_time": "2022-11-07T06:20:40.346Z"
   },
   {
    "duration": 19,
    "start_time": "2022-11-07T06:20:40.399Z"
   },
   {
    "duration": 13,
    "start_time": "2022-11-07T06:20:40.420Z"
   },
   {
    "duration": 796,
    "start_time": "2022-11-07T06:23:35.511Z"
   },
   {
    "duration": 15,
    "start_time": "2022-11-07T06:23:36.309Z"
   },
   {
    "duration": 1879,
    "start_time": "2022-11-07T06:23:36.325Z"
   },
   {
    "duration": 9,
    "start_time": "2022-11-07T06:23:38.207Z"
   },
   {
    "duration": 5,
    "start_time": "2022-11-07T06:23:38.218Z"
   },
   {
    "duration": 8,
    "start_time": "2022-11-07T06:23:38.224Z"
   },
   {
    "duration": 39,
    "start_time": "2022-11-07T06:23:38.234Z"
   },
   {
    "duration": 37,
    "start_time": "2022-11-07T06:23:38.275Z"
   },
   {
    "duration": 8,
    "start_time": "2022-11-07T06:23:38.313Z"
   },
   {
    "duration": 4,
    "start_time": "2022-11-07T06:23:38.323Z"
   },
   {
    "duration": 11,
    "start_time": "2022-11-07T06:23:38.328Z"
   },
   {
    "duration": 7,
    "start_time": "2022-11-07T06:23:38.340Z"
   },
   {
    "duration": 5,
    "start_time": "2022-11-07T06:23:38.349Z"
   },
   {
    "duration": 8,
    "start_time": "2022-11-07T06:23:38.357Z"
   },
   {
    "duration": 18,
    "start_time": "2022-11-07T06:23:38.366Z"
   },
   {
    "duration": 193,
    "start_time": "2022-11-07T06:23:38.386Z"
   },
   {
    "duration": 33,
    "start_time": "2022-11-07T06:23:38.580Z"
   },
   {
    "duration": 23,
    "start_time": "2022-11-07T06:23:38.615Z"
   },
   {
    "duration": 215,
    "start_time": "2022-11-07T06:23:38.640Z"
   },
   {
    "duration": 132,
    "start_time": "2022-11-07T06:23:38.856Z"
   },
   {
    "duration": 128,
    "start_time": "2022-11-07T06:23:38.989Z"
   },
   {
    "duration": 25,
    "start_time": "2022-11-07T06:23:39.119Z"
   },
   {
    "duration": 153,
    "start_time": "2022-11-07T06:23:39.145Z"
   },
   {
    "duration": 33,
    "start_time": "2022-11-07T06:23:39.299Z"
   },
   {
    "duration": 135,
    "start_time": "2022-11-07T06:23:39.335Z"
   },
   {
    "duration": 8,
    "start_time": "2022-11-07T06:23:39.472Z"
   },
   {
    "duration": 183,
    "start_time": "2022-11-07T06:23:39.481Z"
   },
   {
    "duration": 117,
    "start_time": "2022-11-07T06:23:39.666Z"
   },
   {
    "duration": 11,
    "start_time": "2022-11-07T06:23:39.786Z"
   },
   {
    "duration": 16,
    "start_time": "2022-11-07T06:23:39.808Z"
   },
   {
    "duration": 136,
    "start_time": "2022-11-07T06:23:39.825Z"
   },
   {
    "duration": 7,
    "start_time": "2022-11-07T06:23:39.963Z"
   },
   {
    "duration": 55,
    "start_time": "2022-11-07T06:23:39.972Z"
   },
   {
    "duration": 148,
    "start_time": "2022-11-07T06:23:40.028Z"
   },
   {
    "duration": 8,
    "start_time": "2022-11-07T06:23:40.178Z"
   },
   {
    "duration": 3,
    "start_time": "2022-11-07T06:23:40.187Z"
   },
   {
    "duration": 17,
    "start_time": "2022-11-07T06:23:40.192Z"
   },
   {
    "duration": 4,
    "start_time": "2022-11-07T06:23:40.211Z"
   },
   {
    "duration": 10,
    "start_time": "2022-11-07T06:23:40.216Z"
   },
   {
    "duration": 157,
    "start_time": "2022-11-07T06:23:40.227Z"
   },
   {
    "duration": 35,
    "start_time": "2022-11-07T06:23:40.389Z"
   },
   {
    "duration": 10,
    "start_time": "2022-11-07T06:23:40.425Z"
   },
   {
    "duration": 5,
    "start_time": "2022-11-07T06:23:40.436Z"
   },
   {
    "duration": 8,
    "start_time": "2022-11-07T06:23:40.443Z"
   },
   {
    "duration": 13,
    "start_time": "2022-11-07T06:23:40.452Z"
   },
   {
    "duration": 8,
    "start_time": "2022-11-07T06:23:40.467Z"
   },
   {
    "duration": 6,
    "start_time": "2022-11-07T06:23:40.477Z"
   },
   {
    "duration": 30,
    "start_time": "2022-11-07T06:23:40.484Z"
   },
   {
    "duration": 151,
    "start_time": "2022-11-07T06:23:40.516Z"
   },
   {
    "duration": 7,
    "start_time": "2022-11-07T06:23:40.669Z"
   },
   {
    "duration": 8,
    "start_time": "2022-11-07T06:23:40.677Z"
   },
   {
    "duration": 22,
    "start_time": "2022-11-07T06:23:40.687Z"
   },
   {
    "duration": 5,
    "start_time": "2022-11-07T06:23:40.711Z"
   },
   {
    "duration": 215,
    "start_time": "2022-11-07T06:23:40.718Z"
   },
   {
    "duration": 4,
    "start_time": "2022-11-07T06:23:40.935Z"
   },
   {
    "duration": 154,
    "start_time": "2022-11-07T06:23:40.941Z"
   },
   {
    "duration": 152,
    "start_time": "2022-11-07T06:23:41.096Z"
   },
   {
    "duration": 167,
    "start_time": "2022-11-07T06:23:41.249Z"
   },
   {
    "duration": 158,
    "start_time": "2022-11-07T06:23:41.417Z"
   },
   {
    "duration": 198,
    "start_time": "2022-11-07T06:23:41.577Z"
   },
   {
    "duration": 170,
    "start_time": "2022-11-07T06:23:41.777Z"
   },
   {
    "duration": 184,
    "start_time": "2022-11-07T06:23:41.948Z"
   },
   {
    "duration": 104,
    "start_time": "2022-11-07T06:23:42.135Z"
   },
   {
    "duration": 145,
    "start_time": "2022-11-07T06:23:42.241Z"
   },
   {
    "duration": 143,
    "start_time": "2022-11-07T06:23:42.387Z"
   },
   {
    "duration": 137,
    "start_time": "2022-11-07T06:23:42.531Z"
   },
   {
    "duration": 147,
    "start_time": "2022-11-07T06:23:42.670Z"
   },
   {
    "duration": 126,
    "start_time": "2022-11-07T06:23:42.819Z"
   },
   {
    "duration": 137,
    "start_time": "2022-11-07T06:23:42.946Z"
   },
   {
    "duration": 213,
    "start_time": "2022-11-07T06:23:43.085Z"
   },
   {
    "duration": 314,
    "start_time": "2022-11-07T06:23:43.300Z"
   },
   {
    "duration": 160,
    "start_time": "2022-11-07T06:23:43.615Z"
   },
   {
    "duration": 4,
    "start_time": "2022-11-07T06:23:43.777Z"
   },
   {
    "duration": 160,
    "start_time": "2022-11-07T06:23:43.782Z"
   },
   {
    "duration": 4,
    "start_time": "2022-11-07T06:23:43.944Z"
   },
   {
    "duration": 161,
    "start_time": "2022-11-07T06:23:43.949Z"
   },
   {
    "duration": 6,
    "start_time": "2022-11-07T06:23:44.112Z"
   },
   {
    "duration": 145,
    "start_time": "2022-11-07T06:23:44.120Z"
   },
   {
    "duration": 151,
    "start_time": "2022-11-07T06:23:44.266Z"
   },
   {
    "duration": 6,
    "start_time": "2022-11-07T06:23:44.420Z"
   },
   {
    "duration": 194,
    "start_time": "2022-11-07T06:23:44.428Z"
   },
   {
    "duration": 6,
    "start_time": "2022-11-07T06:23:44.624Z"
   },
   {
    "duration": 143,
    "start_time": "2022-11-07T06:23:44.631Z"
   },
   {
    "duration": 4,
    "start_time": "2022-11-07T06:23:44.776Z"
   },
   {
    "duration": 8,
    "start_time": "2022-11-07T06:23:44.782Z"
   },
   {
    "duration": 17,
    "start_time": "2022-11-07T06:23:44.792Z"
   },
   {
    "duration": 30,
    "start_time": "2022-11-07T06:23:44.810Z"
   },
   {
    "duration": 15,
    "start_time": "2022-11-07T06:23:44.841Z"
   },
   {
    "duration": 9,
    "start_time": "2022-11-07T06:23:44.857Z"
   },
   {
    "duration": 34,
    "start_time": "2022-11-07T06:41:04.452Z"
   },
   {
    "duration": 753,
    "start_time": "2022-11-07T06:41:18.446Z"
   },
   {
    "duration": 18,
    "start_time": "2022-11-07T06:41:19.201Z"
   },
   {
    "duration": 3143,
    "start_time": "2022-11-07T06:41:19.221Z"
   },
   {
    "duration": 9,
    "start_time": "2022-11-07T06:41:22.366Z"
   },
   {
    "duration": 7,
    "start_time": "2022-11-07T06:41:22.377Z"
   },
   {
    "duration": 16,
    "start_time": "2022-11-07T06:41:22.385Z"
   },
   {
    "duration": 44,
    "start_time": "2022-11-07T06:41:22.402Z"
   },
   {
    "duration": 27,
    "start_time": "2022-11-07T06:41:22.448Z"
   },
   {
    "duration": 7,
    "start_time": "2022-11-07T06:41:22.477Z"
   },
   {
    "duration": 4,
    "start_time": "2022-11-07T06:41:22.487Z"
   },
   {
    "duration": 22,
    "start_time": "2022-11-07T06:41:22.493Z"
   },
   {
    "duration": 5,
    "start_time": "2022-11-07T06:41:22.516Z"
   },
   {
    "duration": 11,
    "start_time": "2022-11-07T06:41:22.523Z"
   },
   {
    "duration": 4,
    "start_time": "2022-11-07T06:41:22.535Z"
   },
   {
    "duration": 22,
    "start_time": "2022-11-07T06:41:22.540Z"
   },
   {
    "duration": 190,
    "start_time": "2022-11-07T06:41:22.564Z"
   },
   {
    "duration": 24,
    "start_time": "2022-11-07T06:41:22.756Z"
   },
   {
    "duration": 42,
    "start_time": "2022-11-07T06:41:22.782Z"
   },
   {
    "duration": 219,
    "start_time": "2022-11-07T06:41:22.826Z"
   },
   {
    "duration": 130,
    "start_time": "2022-11-07T06:41:23.047Z"
   },
   {
    "duration": 174,
    "start_time": "2022-11-07T06:41:23.178Z"
   },
   {
    "duration": 23,
    "start_time": "2022-11-07T06:41:23.354Z"
   },
   {
    "duration": 150,
    "start_time": "2022-11-07T06:41:23.379Z"
   },
   {
    "duration": 30,
    "start_time": "2022-11-07T06:41:23.531Z"
   },
   {
    "duration": 164,
    "start_time": "2022-11-07T06:41:23.563Z"
   },
   {
    "duration": 8,
    "start_time": "2022-11-07T06:41:23.729Z"
   },
   {
    "duration": 324,
    "start_time": "2022-11-07T06:41:23.738Z"
   },
   {
    "duration": 149,
    "start_time": "2022-11-07T06:41:24.066Z"
   },
   {
    "duration": 10,
    "start_time": "2022-11-07T06:41:24.216Z"
   },
   {
    "duration": 15,
    "start_time": "2022-11-07T06:41:24.228Z"
   },
   {
    "duration": 140,
    "start_time": "2022-11-07T06:41:24.244Z"
   },
   {
    "duration": 9,
    "start_time": "2022-11-07T06:41:24.385Z"
   },
   {
    "duration": 61,
    "start_time": "2022-11-07T06:41:24.396Z"
   },
   {
    "duration": 180,
    "start_time": "2022-11-07T06:41:24.460Z"
   },
   {
    "duration": 10,
    "start_time": "2022-11-07T06:41:24.642Z"
   },
   {
    "duration": 4,
    "start_time": "2022-11-07T06:41:24.654Z"
   },
   {
    "duration": 9,
    "start_time": "2022-11-07T06:41:24.660Z"
   },
   {
    "duration": 5,
    "start_time": "2022-11-07T06:41:24.672Z"
   },
   {
    "duration": 45,
    "start_time": "2022-11-07T06:41:24.679Z"
   },
   {
    "duration": 200,
    "start_time": "2022-11-07T06:41:24.726Z"
   },
   {
    "duration": 29,
    "start_time": "2022-11-07T06:41:24.928Z"
   },
   {
    "duration": 8,
    "start_time": "2022-11-07T06:41:24.958Z"
   },
   {
    "duration": 23,
    "start_time": "2022-11-07T06:41:24.967Z"
   },
   {
    "duration": 6,
    "start_time": "2022-11-07T06:41:24.992Z"
   },
   {
    "duration": 23,
    "start_time": "2022-11-07T06:41:25.000Z"
   },
   {
    "duration": 11,
    "start_time": "2022-11-07T06:41:25.025Z"
   },
   {
    "duration": 3,
    "start_time": "2022-11-07T06:41:25.038Z"
   },
   {
    "duration": 11,
    "start_time": "2022-11-07T06:41:25.042Z"
   },
   {
    "duration": 145,
    "start_time": "2022-11-07T06:41:25.055Z"
   },
   {
    "duration": 18,
    "start_time": "2022-11-07T06:41:25.202Z"
   },
   {
    "duration": 15,
    "start_time": "2022-11-07T06:41:25.221Z"
   },
   {
    "duration": 17,
    "start_time": "2022-11-07T06:41:25.238Z"
   },
   {
    "duration": 40,
    "start_time": "2022-11-07T06:41:25.257Z"
   },
   {
    "duration": 239,
    "start_time": "2022-11-07T06:41:25.298Z"
   },
   {
    "duration": 4,
    "start_time": "2022-11-07T06:41:25.539Z"
   },
   {
    "duration": 181,
    "start_time": "2022-11-07T06:41:25.544Z"
   },
   {
    "duration": 156,
    "start_time": "2022-11-07T06:41:25.727Z"
   },
   {
    "duration": 171,
    "start_time": "2022-11-07T06:41:25.884Z"
   },
   {
    "duration": 175,
    "start_time": "2022-11-07T06:41:26.057Z"
   },
   {
    "duration": 224,
    "start_time": "2022-11-07T06:41:26.234Z"
   },
   {
    "duration": 211,
    "start_time": "2022-11-07T06:41:26.459Z"
   },
   {
    "duration": 158,
    "start_time": "2022-11-07T06:41:26.672Z"
   },
   {
    "duration": 100,
    "start_time": "2022-11-07T06:41:26.831Z"
   },
   {
    "duration": 148,
    "start_time": "2022-11-07T06:41:26.933Z"
   },
   {
    "duration": 155,
    "start_time": "2022-11-07T06:41:27.082Z"
   },
   {
    "duration": 148,
    "start_time": "2022-11-07T06:41:27.239Z"
   },
   {
    "duration": 158,
    "start_time": "2022-11-07T06:41:27.389Z"
   },
   {
    "duration": 132,
    "start_time": "2022-11-07T06:41:27.549Z"
   },
   {
    "duration": 145,
    "start_time": "2022-11-07T06:41:27.683Z"
   },
   {
    "duration": 171,
    "start_time": "2022-11-07T06:41:27.830Z"
   },
   {
    "duration": 161,
    "start_time": "2022-11-07T06:41:28.002Z"
   },
   {
    "duration": 6,
    "start_time": "2022-11-07T06:41:28.164Z"
   },
   {
    "duration": 180,
    "start_time": "2022-11-07T06:41:28.172Z"
   },
   {
    "duration": 5,
    "start_time": "2022-11-07T06:41:28.353Z"
   },
   {
    "duration": 262,
    "start_time": "2022-11-07T06:41:28.360Z"
   },
   {
    "duration": 6,
    "start_time": "2022-11-07T06:41:28.624Z"
   },
   {
    "duration": 143,
    "start_time": "2022-11-07T06:41:28.631Z"
   },
   {
    "duration": 154,
    "start_time": "2022-11-07T06:41:28.776Z"
   },
   {
    "duration": 6,
    "start_time": "2022-11-07T06:41:28.931Z"
   },
   {
    "duration": 163,
    "start_time": "2022-11-07T06:41:28.938Z"
   },
   {
    "duration": 22,
    "start_time": "2022-11-07T06:41:29.102Z"
   },
   {
    "duration": 197,
    "start_time": "2022-11-07T06:41:29.130Z"
   },
   {
    "duration": 4,
    "start_time": "2022-11-07T06:41:29.329Z"
   },
   {
    "duration": 31,
    "start_time": "2022-11-07T06:41:29.335Z"
   },
   {
    "duration": 4,
    "start_time": "2022-11-07T06:41:29.368Z"
   },
   {
    "duration": 31,
    "start_time": "2022-11-07T06:41:29.373Z"
   },
   {
    "duration": 44,
    "start_time": "2022-11-07T06:41:29.407Z"
   },
   {
    "duration": 16,
    "start_time": "2022-11-07T06:41:29.453Z"
   },
   {
    "duration": 10,
    "start_time": "2022-11-07T06:41:29.471Z"
   },
   {
    "duration": 27,
    "start_time": "2022-11-07T06:41:58.898Z"
   },
   {
    "duration": 719,
    "start_time": "2022-11-07T06:42:05.034Z"
   },
   {
    "duration": 15,
    "start_time": "2022-11-07T06:42:05.754Z"
   },
   {
    "duration": 1842,
    "start_time": "2022-11-07T06:42:05.770Z"
   },
   {
    "duration": 9,
    "start_time": "2022-11-07T06:42:07.614Z"
   },
   {
    "duration": 8,
    "start_time": "2022-11-07T06:42:07.624Z"
   },
   {
    "duration": 13,
    "start_time": "2022-11-07T06:42:07.633Z"
   },
   {
    "duration": 35,
    "start_time": "2022-11-07T06:42:07.647Z"
   },
   {
    "duration": 33,
    "start_time": "2022-11-07T06:42:07.683Z"
   },
   {
    "duration": 8,
    "start_time": "2022-11-07T06:42:07.718Z"
   },
   {
    "duration": 7,
    "start_time": "2022-11-07T06:42:07.729Z"
   },
   {
    "duration": 18,
    "start_time": "2022-11-07T06:42:07.737Z"
   },
   {
    "duration": 8,
    "start_time": "2022-11-07T06:42:07.757Z"
   },
   {
    "duration": 7,
    "start_time": "2022-11-07T06:42:07.766Z"
   },
   {
    "duration": 17,
    "start_time": "2022-11-07T06:42:07.775Z"
   },
   {
    "duration": 20,
    "start_time": "2022-11-07T06:42:07.794Z"
   },
   {
    "duration": 194,
    "start_time": "2022-11-07T06:42:07.816Z"
   },
   {
    "duration": 24,
    "start_time": "2022-11-07T06:42:08.012Z"
   },
   {
    "duration": 24,
    "start_time": "2022-11-07T06:42:08.037Z"
   },
   {
    "duration": 216,
    "start_time": "2022-11-07T06:42:08.062Z"
   },
   {
    "duration": 136,
    "start_time": "2022-11-07T06:42:08.280Z"
   },
   {
    "duration": 122,
    "start_time": "2022-11-07T06:42:08.418Z"
   },
   {
    "duration": 24,
    "start_time": "2022-11-07T06:42:08.542Z"
   },
   {
    "duration": 155,
    "start_time": "2022-11-07T06:42:08.568Z"
   },
   {
    "duration": 26,
    "start_time": "2022-11-07T06:42:08.725Z"
   },
   {
    "duration": 143,
    "start_time": "2022-11-07T06:42:08.753Z"
   },
   {
    "duration": 16,
    "start_time": "2022-11-07T06:42:08.898Z"
   },
   {
    "duration": 198,
    "start_time": "2022-11-07T06:42:08.916Z"
   },
   {
    "duration": 108,
    "start_time": "2022-11-07T06:42:09.120Z"
   },
   {
    "duration": 10,
    "start_time": "2022-11-07T06:42:09.230Z"
   },
   {
    "duration": 28,
    "start_time": "2022-11-07T06:42:09.241Z"
   },
   {
    "duration": 133,
    "start_time": "2022-11-07T06:42:09.271Z"
   },
   {
    "duration": 6,
    "start_time": "2022-11-07T06:42:09.409Z"
   },
   {
    "duration": 73,
    "start_time": "2022-11-07T06:42:09.417Z"
   },
   {
    "duration": 133,
    "start_time": "2022-11-07T06:42:09.492Z"
   },
   {
    "duration": 8,
    "start_time": "2022-11-07T06:42:09.626Z"
   },
   {
    "duration": 25,
    "start_time": "2022-11-07T06:42:09.635Z"
   },
   {
    "duration": 23,
    "start_time": "2022-11-07T06:42:09.661Z"
   },
   {
    "duration": 21,
    "start_time": "2022-11-07T06:42:09.685Z"
   },
   {
    "duration": 17,
    "start_time": "2022-11-07T06:42:09.708Z"
   },
   {
    "duration": 158,
    "start_time": "2022-11-07T06:42:09.726Z"
   },
   {
    "duration": 28,
    "start_time": "2022-11-07T06:42:09.886Z"
   },
   {
    "duration": 7,
    "start_time": "2022-11-07T06:42:09.916Z"
   },
   {
    "duration": 27,
    "start_time": "2022-11-07T06:42:09.924Z"
   },
   {
    "duration": 15,
    "start_time": "2022-11-07T06:42:09.952Z"
   },
   {
    "duration": 9,
    "start_time": "2022-11-07T06:42:09.968Z"
   },
   {
    "duration": 21,
    "start_time": "2022-11-07T06:42:09.979Z"
   },
   {
    "duration": 4,
    "start_time": "2022-11-07T06:42:10.002Z"
   },
   {
    "duration": 24,
    "start_time": "2022-11-07T06:42:10.007Z"
   },
   {
    "duration": 120,
    "start_time": "2022-11-07T06:42:10.033Z"
   },
   {
    "duration": 6,
    "start_time": "2022-11-07T06:42:10.154Z"
   },
   {
    "duration": 8,
    "start_time": "2022-11-07T06:42:10.162Z"
   },
   {
    "duration": 20,
    "start_time": "2022-11-07T06:42:10.171Z"
   },
   {
    "duration": 25,
    "start_time": "2022-11-07T06:42:10.192Z"
   },
   {
    "duration": 221,
    "start_time": "2022-11-07T06:42:10.218Z"
   },
   {
    "duration": 4,
    "start_time": "2022-11-07T06:42:10.441Z"
   },
   {
    "duration": 164,
    "start_time": "2022-11-07T06:42:10.446Z"
   },
   {
    "duration": 144,
    "start_time": "2022-11-07T06:42:10.612Z"
   },
   {
    "duration": 182,
    "start_time": "2022-11-07T06:42:10.758Z"
   },
   {
    "duration": 169,
    "start_time": "2022-11-07T06:42:10.942Z"
   },
   {
    "duration": 212,
    "start_time": "2022-11-07T06:42:11.113Z"
   },
   {
    "duration": 158,
    "start_time": "2022-11-07T06:42:11.326Z"
   },
   {
    "duration": 157,
    "start_time": "2022-11-07T06:42:11.486Z"
   },
   {
    "duration": 118,
    "start_time": "2022-11-07T06:42:11.645Z"
   },
   {
    "duration": 137,
    "start_time": "2022-11-07T06:42:11.765Z"
   },
   {
    "duration": 141,
    "start_time": "2022-11-07T06:42:11.909Z"
   },
   {
    "duration": 133,
    "start_time": "2022-11-07T06:42:12.051Z"
   },
   {
    "duration": 144,
    "start_time": "2022-11-07T06:42:12.186Z"
   },
   {
    "duration": 119,
    "start_time": "2022-11-07T06:42:12.331Z"
   },
   {
    "duration": 137,
    "start_time": "2022-11-07T06:42:12.452Z"
   },
   {
    "duration": 178,
    "start_time": "2022-11-07T06:42:12.591Z"
   },
   {
    "duration": 154,
    "start_time": "2022-11-07T06:42:12.771Z"
   },
   {
    "duration": 6,
    "start_time": "2022-11-07T06:42:12.926Z"
   },
   {
    "duration": 171,
    "start_time": "2022-11-07T06:42:12.933Z"
   },
   {
    "duration": 8,
    "start_time": "2022-11-07T06:42:13.105Z"
   },
   {
    "duration": 258,
    "start_time": "2022-11-07T06:42:13.114Z"
   },
   {
    "duration": 6,
    "start_time": "2022-11-07T06:42:13.373Z"
   },
   {
    "duration": 144,
    "start_time": "2022-11-07T06:42:13.380Z"
   },
   {
    "duration": 194,
    "start_time": "2022-11-07T06:42:13.526Z"
   },
   {
    "duration": 5,
    "start_time": "2022-11-07T06:42:13.721Z"
   },
   {
    "duration": 300,
    "start_time": "2022-11-07T06:42:13.728Z"
   },
   {
    "duration": 6,
    "start_time": "2022-11-07T06:42:14.029Z"
   },
   {
    "duration": 304,
    "start_time": "2022-11-07T06:42:14.040Z"
   },
   {
    "duration": 5,
    "start_time": "2022-11-07T06:42:14.345Z"
   },
   {
    "duration": 67,
    "start_time": "2022-11-07T06:42:14.352Z"
   },
   {
    "duration": 7,
    "start_time": "2022-11-07T06:42:14.421Z"
   },
   {
    "duration": 83,
    "start_time": "2022-11-07T06:42:14.430Z"
   },
   {
    "duration": 96,
    "start_time": "2022-11-07T06:42:14.515Z"
   },
   {
    "duration": 25,
    "start_time": "2022-11-07T06:42:14.613Z"
   },
   {
    "duration": 12,
    "start_time": "2022-11-07T06:42:14.640Z"
   },
   {
    "duration": 752,
    "start_time": "2022-11-07T06:45:50.320Z"
   },
   {
    "duration": 15,
    "start_time": "2022-11-07T06:45:51.073Z"
   },
   {
    "duration": 1886,
    "start_time": "2022-11-07T06:45:51.090Z"
   },
   {
    "duration": 9,
    "start_time": "2022-11-07T06:45:52.978Z"
   },
   {
    "duration": 5,
    "start_time": "2022-11-07T06:45:52.989Z"
   },
   {
    "duration": 6,
    "start_time": "2022-11-07T06:45:52.996Z"
   },
   {
    "duration": 32,
    "start_time": "2022-11-07T06:45:53.004Z"
   },
   {
    "duration": 27,
    "start_time": "2022-11-07T06:45:53.038Z"
   },
   {
    "duration": 9,
    "start_time": "2022-11-07T06:45:53.067Z"
   },
   {
    "duration": 4,
    "start_time": "2022-11-07T06:45:53.078Z"
   },
   {
    "duration": 30,
    "start_time": "2022-11-07T06:45:53.083Z"
   },
   {
    "duration": 7,
    "start_time": "2022-11-07T06:45:53.114Z"
   },
   {
    "duration": 7,
    "start_time": "2022-11-07T06:45:53.123Z"
   },
   {
    "duration": 6,
    "start_time": "2022-11-07T06:45:53.132Z"
   },
   {
    "duration": 27,
    "start_time": "2022-11-07T06:45:53.140Z"
   },
   {
    "duration": 195,
    "start_time": "2022-11-07T06:45:53.169Z"
   },
   {
    "duration": 44,
    "start_time": "2022-11-07T06:45:53.366Z"
   },
   {
    "duration": 26,
    "start_time": "2022-11-07T06:45:53.412Z"
   },
   {
    "duration": 225,
    "start_time": "2022-11-07T06:45:53.439Z"
   },
   {
    "duration": 136,
    "start_time": "2022-11-07T06:45:53.666Z"
   },
   {
    "duration": 118,
    "start_time": "2022-11-07T06:45:53.809Z"
   },
   {
    "duration": 26,
    "start_time": "2022-11-07T06:45:53.929Z"
   },
   {
    "duration": 155,
    "start_time": "2022-11-07T06:45:53.957Z"
   },
   {
    "duration": 30,
    "start_time": "2022-11-07T06:45:54.113Z"
   },
   {
    "duration": 141,
    "start_time": "2022-11-07T06:45:54.145Z"
   },
   {
    "duration": 9,
    "start_time": "2022-11-07T06:45:54.288Z"
   },
   {
    "duration": 213,
    "start_time": "2022-11-07T06:45:54.308Z"
   },
   {
    "duration": 141,
    "start_time": "2022-11-07T06:45:54.527Z"
   },
   {
    "duration": 9,
    "start_time": "2022-11-07T06:45:54.670Z"
   },
   {
    "duration": 28,
    "start_time": "2022-11-07T06:45:54.681Z"
   },
   {
    "duration": 133,
    "start_time": "2022-11-07T06:45:54.711Z"
   },
   {
    "duration": 7,
    "start_time": "2022-11-07T06:45:54.846Z"
   },
   {
    "duration": 42,
    "start_time": "2022-11-07T06:45:54.854Z"
   },
   {
    "duration": 138,
    "start_time": "2022-11-07T06:45:54.909Z"
   },
   {
    "duration": 8,
    "start_time": "2022-11-07T06:45:55.048Z"
   },
   {
    "duration": 4,
    "start_time": "2022-11-07T06:45:55.058Z"
   },
   {
    "duration": 10,
    "start_time": "2022-11-07T06:45:55.063Z"
   },
   {
    "duration": 7,
    "start_time": "2022-11-07T06:45:55.074Z"
   },
   {
    "duration": 28,
    "start_time": "2022-11-07T06:45:55.082Z"
   },
   {
    "duration": 145,
    "start_time": "2022-11-07T06:45:55.111Z"
   },
   {
    "duration": 32,
    "start_time": "2022-11-07T06:45:55.258Z"
   },
   {
    "duration": 17,
    "start_time": "2022-11-07T06:45:55.293Z"
   },
   {
    "duration": 6,
    "start_time": "2022-11-07T06:45:55.312Z"
   },
   {
    "duration": 10,
    "start_time": "2022-11-07T06:45:55.319Z"
   },
   {
    "duration": 14,
    "start_time": "2022-11-07T06:45:55.330Z"
   },
   {
    "duration": 9,
    "start_time": "2022-11-07T06:45:55.346Z"
   },
   {
    "duration": 3,
    "start_time": "2022-11-07T06:45:55.356Z"
   },
   {
    "duration": 12,
    "start_time": "2022-11-07T06:45:55.361Z"
   },
   {
    "duration": 135,
    "start_time": "2022-11-07T06:45:55.410Z"
   },
   {
    "duration": 5,
    "start_time": "2022-11-07T06:45:55.547Z"
   },
   {
    "duration": 11,
    "start_time": "2022-11-07T06:45:55.554Z"
   },
   {
    "duration": 6,
    "start_time": "2022-11-07T06:45:55.566Z"
   },
   {
    "duration": 6,
    "start_time": "2022-11-07T06:45:55.573Z"
   },
   {
    "duration": 227,
    "start_time": "2022-11-07T06:45:55.580Z"
   },
   {
    "duration": 5,
    "start_time": "2022-11-07T06:45:55.808Z"
   },
   {
    "duration": 151,
    "start_time": "2022-11-07T06:45:55.814Z"
   },
   {
    "duration": 143,
    "start_time": "2022-11-07T06:45:55.967Z"
   },
   {
    "duration": 167,
    "start_time": "2022-11-07T06:45:56.113Z"
   },
   {
    "duration": 162,
    "start_time": "2022-11-07T06:45:56.282Z"
   },
   {
    "duration": 223,
    "start_time": "2022-11-07T06:45:56.446Z"
   },
   {
    "duration": 165,
    "start_time": "2022-11-07T06:45:56.671Z"
   },
   {
    "duration": 157,
    "start_time": "2022-11-07T06:45:56.838Z"
   },
   {
    "duration": 112,
    "start_time": "2022-11-07T06:45:56.997Z"
   },
   {
    "duration": 143,
    "start_time": "2022-11-07T06:45:57.110Z"
   },
   {
    "duration": 158,
    "start_time": "2022-11-07T06:45:57.254Z"
   },
   {
    "duration": 149,
    "start_time": "2022-11-07T06:45:57.414Z"
   },
   {
    "duration": 151,
    "start_time": "2022-11-07T06:45:57.564Z"
   },
   {
    "duration": 121,
    "start_time": "2022-11-07T06:45:57.717Z"
   },
   {
    "duration": 139,
    "start_time": "2022-11-07T06:45:57.840Z"
   },
   {
    "duration": 176,
    "start_time": "2022-11-07T06:45:57.980Z"
   },
   {
    "duration": 166,
    "start_time": "2022-11-07T06:45:58.157Z"
   },
   {
    "duration": 5,
    "start_time": "2022-11-07T06:45:58.325Z"
   },
   {
    "duration": 171,
    "start_time": "2022-11-07T06:45:58.332Z"
   },
   {
    "duration": 7,
    "start_time": "2022-11-07T06:45:58.505Z"
   },
   {
    "duration": 241,
    "start_time": "2022-11-07T06:45:58.514Z"
   },
   {
    "duration": 5,
    "start_time": "2022-11-07T06:45:58.756Z"
   },
   {
    "duration": 134,
    "start_time": "2022-11-07T06:45:58.762Z"
   },
   {
    "duration": 152,
    "start_time": "2022-11-07T06:45:58.898Z"
   },
   {
    "duration": 5,
    "start_time": "2022-11-07T06:45:59.052Z"
   },
   {
    "duration": 151,
    "start_time": "2022-11-07T06:45:59.058Z"
   },
   {
    "duration": 6,
    "start_time": "2022-11-07T06:45:59.210Z"
   },
   {
    "duration": 149,
    "start_time": "2022-11-07T06:45:59.223Z"
   },
   {
    "duration": 6,
    "start_time": "2022-11-07T06:45:59.373Z"
   },
   {
    "duration": 9,
    "start_time": "2022-11-07T06:45:59.380Z"
   },
   {
    "duration": 18,
    "start_time": "2022-11-07T06:45:59.391Z"
   },
   {
    "duration": 30,
    "start_time": "2022-11-07T06:45:59.411Z"
   },
   {
    "duration": 14,
    "start_time": "2022-11-07T06:45:59.443Z"
   },
   {
    "duration": 8,
    "start_time": "2022-11-07T06:45:59.459Z"
   },
   {
    "duration": 1089,
    "start_time": "2022-11-08T11:13:37.501Z"
   },
   {
    "duration": 17,
    "start_time": "2022-11-08T11:13:38.949Z"
   },
   {
    "duration": 1942,
    "start_time": "2022-11-08T11:13:43.731Z"
   },
   {
    "duration": 15,
    "start_time": "2022-11-08T11:13:47.302Z"
   },
   {
    "duration": 75,
    "start_time": "2022-11-08T11:13:54.362Z"
   },
   {
    "duration": 54,
    "start_time": "2022-11-08T11:14:00.536Z"
   },
   {
    "duration": 7,
    "start_time": "2022-11-08T11:15:58.557Z"
   },
   {
    "duration": 4,
    "start_time": "2022-11-08T11:16:01.217Z"
   },
   {
    "duration": 31,
    "start_time": "2022-11-08T11:16:08.921Z"
   },
   {
    "duration": 30,
    "start_time": "2022-11-08T11:16:11.468Z"
   },
   {
    "duration": 31,
    "start_time": "2022-11-08T11:16:14.505Z"
   },
   {
    "duration": 13,
    "start_time": "2022-11-08T11:16:16.663Z"
   },
   {
    "duration": 5,
    "start_time": "2022-11-08T11:16:22.281Z"
   },
   {
    "duration": 75,
    "start_time": "2022-11-08T11:19:17.553Z"
   },
   {
    "duration": 6,
    "start_time": "2022-11-08T11:24:46.976Z"
   },
   {
    "duration": 22,
    "start_time": "2022-11-08T11:24:58.205Z"
   },
   {
    "duration": 17,
    "start_time": "2022-11-08T11:25:05.919Z"
   },
   {
    "duration": 12,
    "start_time": "2022-11-08T11:25:22.088Z"
   },
   {
    "duration": 5,
    "start_time": "2022-11-08T11:25:43.878Z"
   },
   {
    "duration": 10,
    "start_time": "2022-11-08T11:25:53.367Z"
   },
   {
    "duration": 60,
    "start_time": "2022-11-08T11:26:09.669Z"
   },
   {
    "duration": 9,
    "start_time": "2022-11-08T11:26:15.886Z"
   },
   {
    "duration": 10,
    "start_time": "2022-11-08T11:26:20.017Z"
   },
   {
    "duration": 9,
    "start_time": "2022-11-08T11:27:11.675Z"
   },
   {
    "duration": 12,
    "start_time": "2022-11-08T11:27:32.709Z"
   },
   {
    "duration": 12,
    "start_time": "2022-11-08T11:27:45.719Z"
   },
   {
    "duration": 11,
    "start_time": "2022-11-08T11:27:49.584Z"
   },
   {
    "duration": 14,
    "start_time": "2022-11-08T11:27:54.749Z"
   },
   {
    "duration": 14,
    "start_time": "2022-11-08T11:28:02.496Z"
   },
   {
    "duration": 21,
    "start_time": "2022-11-08T11:28:09.858Z"
   },
   {
    "duration": 15,
    "start_time": "2022-11-08T11:28:23.682Z"
   },
   {
    "duration": 753,
    "start_time": "2022-11-08T11:28:49.146Z"
   },
   {
    "duration": 17,
    "start_time": "2022-11-08T11:28:50.201Z"
   },
   {
    "duration": 2218,
    "start_time": "2022-11-08T11:28:53.491Z"
   },
   {
    "duration": 11,
    "start_time": "2022-11-08T11:29:01.399Z"
   },
   {
    "duration": 57,
    "start_time": "2022-11-08T11:29:04.463Z"
   },
   {
    "duration": 99,
    "start_time": "2022-11-08T11:29:43.725Z"
   },
   {
    "duration": 7,
    "start_time": "2022-11-08T11:30:02.022Z"
   },
   {
    "duration": 4,
    "start_time": "2022-11-08T11:30:03.530Z"
   },
   {
    "duration": 33,
    "start_time": "2022-11-08T11:30:05.149Z"
   },
   {
    "duration": 41,
    "start_time": "2022-11-08T11:30:09.926Z"
   },
   {
    "duration": 11,
    "start_time": "2022-11-08T11:30:14.665Z"
   },
   {
    "duration": 8,
    "start_time": "2022-11-08T11:30:16.982Z"
   },
   {
    "duration": 16,
    "start_time": "2022-11-08T11:30:25.327Z"
   },
   {
    "duration": 16,
    "start_time": "2022-11-08T11:30:35.740Z"
   },
   {
    "duration": 6,
    "start_time": "2022-11-08T11:31:01.775Z"
   },
   {
    "duration": 6,
    "start_time": "2022-11-08T11:31:08.381Z"
   },
   {
    "duration": 9,
    "start_time": "2022-11-08T11:31:19.859Z"
   },
   {
    "duration": 5,
    "start_time": "2022-11-08T11:32:10.917Z"
   },
   {
    "duration": 5,
    "start_time": "2022-11-08T11:32:13.481Z"
   },
   {
    "duration": 785,
    "start_time": "2022-11-08T11:34:52.584Z"
   },
   {
    "duration": 23,
    "start_time": "2022-11-08T11:34:53.659Z"
   },
   {
    "duration": 9,
    "start_time": "2022-11-08T11:34:59.681Z"
   },
   {
    "duration": 6,
    "start_time": "2022-11-08T11:35:03.154Z"
   },
   {
    "duration": 4,
    "start_time": "2022-11-08T11:35:04.758Z"
   },
   {
    "duration": 37,
    "start_time": "2022-11-08T11:35:06.278Z"
   },
   {
    "duration": 30,
    "start_time": "2022-11-08T11:35:07.565Z"
   },
   {
    "duration": 10,
    "start_time": "2022-11-08T11:35:10.149Z"
   },
   {
    "duration": 9,
    "start_time": "2022-11-08T11:35:12.031Z"
   },
   {
    "duration": 5,
    "start_time": "2022-11-08T11:35:14.050Z"
   },
   {
    "duration": 14,
    "start_time": "2022-11-08T11:35:14.919Z"
   },
   {
    "duration": 14,
    "start_time": "2022-11-08T11:36:39.009Z"
   },
   {
    "duration": 57,
    "start_time": "2022-11-08T11:37:58.604Z"
   },
   {
    "duration": 50,
    "start_time": "2022-11-08T11:42:13.310Z"
   },
   {
    "duration": 13,
    "start_time": "2022-11-08T11:42:31.030Z"
   },
   {
    "duration": 7,
    "start_time": "2022-11-08T11:42:34.592Z"
   },
   {
    "duration": 12,
    "start_time": "2022-11-08T11:42:40.600Z"
   },
   {
    "duration": 6,
    "start_time": "2022-11-08T11:42:41.685Z"
   },
   {
    "duration": 30,
    "start_time": "2022-11-08T11:42:44.582Z"
   },
   {
    "duration": 220,
    "start_time": "2022-11-08T11:42:47.138Z"
   },
   {
    "duration": 97,
    "start_time": "2022-11-08T11:44:01.437Z"
   },
   {
    "duration": 27,
    "start_time": "2022-11-08T11:44:05.292Z"
   },
   {
    "duration": 21,
    "start_time": "2022-11-08T11:44:12.256Z"
   },
   {
    "duration": 44,
    "start_time": "2022-11-08T11:44:44.720Z"
   },
   {
    "duration": 46,
    "start_time": "2022-11-08T11:44:46.288Z"
   },
   {
    "duration": 28,
    "start_time": "2022-11-08T11:44:48.998Z"
   },
   {
    "duration": 6,
    "start_time": "2022-11-08T11:45:13.842Z"
   },
   {
    "duration": 9,
    "start_time": "2022-11-08T11:45:42.418Z"
   },
   {
    "duration": 7,
    "start_time": "2022-11-08T11:45:49.337Z"
   },
   {
    "duration": 11,
    "start_time": "2022-11-08T11:46:03.645Z"
   },
   {
    "duration": 755,
    "start_time": "2022-11-08T11:47:25.179Z"
   },
   {
    "duration": 18,
    "start_time": "2022-11-08T11:47:25.935Z"
   },
   {
    "duration": 2327,
    "start_time": "2022-11-08T11:47:25.954Z"
   },
   {
    "duration": 11,
    "start_time": "2022-11-08T11:47:28.284Z"
   },
   {
    "duration": 55,
    "start_time": "2022-11-08T11:47:28.296Z"
   },
   {
    "duration": 6,
    "start_time": "2022-11-08T11:47:28.353Z"
   },
   {
    "duration": 31,
    "start_time": "2022-11-08T11:47:28.360Z"
   },
   {
    "duration": 40,
    "start_time": "2022-11-08T11:47:28.392Z"
   },
   {
    "duration": 32,
    "start_time": "2022-11-08T11:47:28.434Z"
   },
   {
    "duration": 9,
    "start_time": "2022-11-08T11:47:28.469Z"
   },
   {
    "duration": 12,
    "start_time": "2022-11-08T11:47:28.480Z"
   },
   {
    "duration": 36,
    "start_time": "2022-11-08T11:47:28.496Z"
   },
   {
    "duration": 13,
    "start_time": "2022-11-08T11:47:28.535Z"
   },
   {
    "duration": 15,
    "start_time": "2022-11-08T11:47:28.550Z"
   },
   {
    "duration": 34,
    "start_time": "2022-11-08T11:47:28.568Z"
   },
   {
    "duration": 5,
    "start_time": "2022-11-08T11:47:28.605Z"
   },
   {
    "duration": 35,
    "start_time": "2022-11-08T11:47:28.612Z"
   },
   {
    "duration": 29,
    "start_time": "2022-11-08T11:47:28.649Z"
   },
   {
    "duration": 183,
    "start_time": "2022-11-08T11:47:28.680Z"
   },
   {
    "duration": 26,
    "start_time": "2022-11-08T11:47:28.865Z"
   },
   {
    "duration": 56,
    "start_time": "2022-11-08T11:47:28.893Z"
   },
   {
    "duration": 256,
    "start_time": "2022-11-08T11:47:28.952Z"
   },
   {
    "duration": 137,
    "start_time": "2022-11-08T11:47:29.209Z"
   },
   {
    "duration": 130,
    "start_time": "2022-11-08T11:47:29.348Z"
   },
   {
    "duration": 30,
    "start_time": "2022-11-08T11:47:29.479Z"
   },
   {
    "duration": 170,
    "start_time": "2022-11-08T11:47:29.510Z"
   },
   {
    "duration": 51,
    "start_time": "2022-11-08T11:47:29.682Z"
   },
   {
    "duration": 217,
    "start_time": "2022-11-08T11:47:29.737Z"
   },
   {
    "duration": 11,
    "start_time": "2022-11-08T11:47:29.956Z"
   },
   {
    "duration": 147,
    "start_time": "2022-11-08T11:47:29.969Z"
   },
   {
    "duration": 128,
    "start_time": "2022-11-08T11:47:30.118Z"
   },
   {
    "duration": 10,
    "start_time": "2022-11-08T11:47:30.248Z"
   },
   {
    "duration": 43,
    "start_time": "2022-11-08T11:47:30.260Z"
   },
   {
    "duration": 154,
    "start_time": "2022-11-08T11:47:30.305Z"
   },
   {
    "duration": 8,
    "start_time": "2022-11-08T11:47:30.462Z"
   },
   {
    "duration": 67,
    "start_time": "2022-11-08T11:47:30.472Z"
   },
   {
    "duration": 163,
    "start_time": "2022-11-08T11:47:30.541Z"
   },
   {
    "duration": 11,
    "start_time": "2022-11-08T11:47:30.706Z"
   },
   {
    "duration": 29,
    "start_time": "2022-11-08T11:47:30.733Z"
   },
   {
    "duration": 44,
    "start_time": "2022-11-08T11:47:30.765Z"
   },
   {
    "duration": 41,
    "start_time": "2022-11-08T11:47:30.811Z"
   },
   {
    "duration": 42,
    "start_time": "2022-11-08T11:47:30.854Z"
   },
   {
    "duration": 241,
    "start_time": "2022-11-08T11:47:30.898Z"
   },
   {
    "duration": 29,
    "start_time": "2022-11-08T11:47:31.141Z"
   },
   {
    "duration": 13,
    "start_time": "2022-11-08T11:47:31.172Z"
   },
   {
    "duration": 36,
    "start_time": "2022-11-08T11:47:31.186Z"
   },
   {
    "duration": 97,
    "start_time": "2022-11-08T11:47:31.224Z"
   },
   {
    "duration": 41,
    "start_time": "2022-11-08T11:47:31.323Z"
   },
   {
    "duration": 26,
    "start_time": "2022-11-08T11:47:31.366Z"
   },
   {
    "duration": 18,
    "start_time": "2022-11-08T11:47:31.394Z"
   },
   {
    "duration": 42,
    "start_time": "2022-11-08T11:47:31.414Z"
   },
   {
    "duration": 189,
    "start_time": "2022-11-08T11:47:31.458Z"
   },
   {
    "duration": 6,
    "start_time": "2022-11-08T11:47:31.649Z"
   },
   {
    "duration": 12,
    "start_time": "2022-11-08T11:47:31.657Z"
   },
   {
    "duration": 6,
    "start_time": "2022-11-08T11:47:31.671Z"
   },
   {
    "duration": 10,
    "start_time": "2022-11-08T11:47:31.679Z"
   },
   {
    "duration": 316,
    "start_time": "2022-11-08T11:47:31.691Z"
   },
   {
    "duration": 5,
    "start_time": "2022-11-08T11:47:32.009Z"
   },
   {
    "duration": 176,
    "start_time": "2022-11-08T11:47:32.016Z"
   },
   {
    "duration": 168,
    "start_time": "2022-11-08T11:47:32.194Z"
   },
   {
    "duration": 178,
    "start_time": "2022-11-08T11:47:32.364Z"
   },
   {
    "duration": 188,
    "start_time": "2022-11-08T11:47:32.544Z"
   },
   {
    "duration": 238,
    "start_time": "2022-11-08T11:47:32.734Z"
   },
   {
    "duration": 185,
    "start_time": "2022-11-08T11:47:32.974Z"
   },
   {
    "duration": 201,
    "start_time": "2022-11-08T11:47:33.161Z"
   },
   {
    "duration": 121,
    "start_time": "2022-11-08T11:47:33.364Z"
   },
   {
    "duration": 177,
    "start_time": "2022-11-08T11:47:33.487Z"
   },
   {
    "duration": 168,
    "start_time": "2022-11-08T11:47:33.666Z"
   },
   {
    "duration": 171,
    "start_time": "2022-11-08T11:47:33.836Z"
   },
   {
    "duration": 173,
    "start_time": "2022-11-08T11:47:34.009Z"
   },
   {
    "duration": 142,
    "start_time": "2022-11-08T11:47:34.183Z"
   },
   {
    "duration": 171,
    "start_time": "2022-11-08T11:47:34.327Z"
   },
   {
    "duration": 232,
    "start_time": "2022-11-08T11:47:34.500Z"
   },
   {
    "duration": 188,
    "start_time": "2022-11-08T11:47:34.734Z"
   },
   {
    "duration": 11,
    "start_time": "2022-11-08T11:47:34.924Z"
   },
   {
    "duration": 169,
    "start_time": "2022-11-08T11:47:34.937Z"
   },
   {
    "duration": 6,
    "start_time": "2022-11-08T11:47:35.108Z"
   },
   {
    "duration": 285,
    "start_time": "2022-11-08T11:47:35.116Z"
   },
   {
    "duration": 6,
    "start_time": "2022-11-08T11:47:35.403Z"
   },
   {
    "duration": 161,
    "start_time": "2022-11-08T11:47:35.410Z"
   },
   {
    "duration": 174,
    "start_time": "2022-11-08T11:47:35.573Z"
   },
   {
    "duration": 6,
    "start_time": "2022-11-08T11:47:35.752Z"
   },
   {
    "duration": 176,
    "start_time": "2022-11-08T11:47:35.760Z"
   },
   {
    "duration": 8,
    "start_time": "2022-11-08T11:47:35.938Z"
   },
   {
    "duration": 159,
    "start_time": "2022-11-08T11:47:35.948Z"
   },
   {
    "duration": 7,
    "start_time": "2022-11-08T11:47:36.109Z"
   },
   {
    "duration": 25,
    "start_time": "2022-11-08T11:47:36.118Z"
   },
   {
    "duration": 4,
    "start_time": "2022-11-08T11:47:36.145Z"
   },
   {
    "duration": 34,
    "start_time": "2022-11-08T11:47:36.150Z"
   },
   {
    "duration": 15,
    "start_time": "2022-11-08T11:47:36.186Z"
   },
   {
    "duration": 31,
    "start_time": "2022-11-08T11:47:36.203Z"
   },
   {
    "duration": 43,
    "start_time": "2022-11-08T11:53:58.317Z"
   },
   {
    "duration": 150,
    "start_time": "2022-11-08T12:08:26.866Z"
   },
   {
    "duration": 154,
    "start_time": "2022-11-08T12:08:32.165Z"
   },
   {
    "duration": 176,
    "start_time": "2022-11-08T12:08:47.234Z"
   },
   {
    "duration": 153,
    "start_time": "2022-11-08T12:09:01.465Z"
   },
   {
    "duration": 181,
    "start_time": "2022-11-08T12:09:43.477Z"
   },
   {
    "duration": 166,
    "start_time": "2022-11-08T12:12:45.895Z"
   },
   {
    "duration": 188,
    "start_time": "2022-11-08T12:12:54.568Z"
   },
   {
    "duration": 197,
    "start_time": "2022-11-08T12:13:07.860Z"
   },
   {
    "duration": 209,
    "start_time": "2022-11-08T12:14:46.989Z"
   },
   {
    "duration": 18,
    "start_time": "2022-11-08T12:15:27.827Z"
   },
   {
    "duration": 5,
    "start_time": "2022-11-08T12:16:05.969Z"
   },
   {
    "duration": 78,
    "start_time": "2022-11-08T12:17:16.153Z"
   },
   {
    "duration": 10,
    "start_time": "2022-11-08T12:17:22.946Z"
   },
   {
    "duration": 317,
    "start_time": "2022-11-08T12:27:29.930Z"
   },
   {
    "duration": 118,
    "start_time": "2022-11-08T12:31:31.348Z"
   },
   {
    "duration": 62,
    "start_time": "2022-11-08T12:31:54.316Z"
   },
   {
    "duration": 89,
    "start_time": "2022-11-08T12:32:30.068Z"
   },
   {
    "duration": 177,
    "start_time": "2022-11-08T12:33:39.000Z"
   },
   {
    "duration": 183,
    "start_time": "2022-11-08T12:34:01.711Z"
   },
   {
    "duration": 171,
    "start_time": "2022-11-08T12:34:09.532Z"
   },
   {
    "duration": 152,
    "start_time": "2022-11-08T12:34:15.878Z"
   },
   {
    "duration": 160,
    "start_time": "2022-11-08T12:34:53.121Z"
   },
   {
    "duration": 145,
    "start_time": "2022-11-08T12:35:01.539Z"
   },
   {
    "duration": 17,
    "start_time": "2022-11-08T12:38:56.937Z"
   },
   {
    "duration": 137,
    "start_time": "2022-11-08T12:39:03.929Z"
   },
   {
    "duration": 131,
    "start_time": "2022-11-08T12:41:48.277Z"
   },
   {
    "duration": 1023,
    "start_time": "2022-11-08T12:43:25.628Z"
   },
   {
    "duration": 20,
    "start_time": "2022-11-08T12:43:26.654Z"
   },
   {
    "duration": 2301,
    "start_time": "2022-11-08T12:43:26.676Z"
   },
   {
    "duration": 9,
    "start_time": "2022-11-08T12:43:28.979Z"
   },
   {
    "duration": 59,
    "start_time": "2022-11-08T12:43:28.990Z"
   },
   {
    "duration": 6,
    "start_time": "2022-11-08T12:43:29.050Z"
   },
   {
    "duration": 6,
    "start_time": "2022-11-08T12:43:29.058Z"
   },
   {
    "duration": 37,
    "start_time": "2022-11-08T12:43:29.066Z"
   },
   {
    "duration": 43,
    "start_time": "2022-11-08T12:43:29.104Z"
   },
   {
    "duration": 7,
    "start_time": "2022-11-08T12:43:29.150Z"
   },
   {
    "duration": 21,
    "start_time": "2022-11-08T12:43:29.159Z"
   },
   {
    "duration": 15,
    "start_time": "2022-11-08T12:43:29.181Z"
   },
   {
    "duration": 10,
    "start_time": "2022-11-08T12:43:29.197Z"
   },
   {
    "duration": 19,
    "start_time": "2022-11-08T12:43:29.208Z"
   },
   {
    "duration": 27,
    "start_time": "2022-11-08T12:43:29.229Z"
   },
   {
    "duration": 19,
    "start_time": "2022-11-08T12:43:29.259Z"
   },
   {
    "duration": 39,
    "start_time": "2022-11-08T12:43:29.280Z"
   },
   {
    "duration": 18,
    "start_time": "2022-11-08T12:43:29.321Z"
   },
   {
    "duration": 167,
    "start_time": "2022-11-08T12:43:29.341Z"
   },
   {
    "duration": 30,
    "start_time": "2022-11-08T12:43:29.509Z"
   },
   {
    "duration": 24,
    "start_time": "2022-11-08T12:43:29.541Z"
   },
   {
    "duration": 252,
    "start_time": "2022-11-08T12:43:29.567Z"
   },
   {
    "duration": 144,
    "start_time": "2022-11-08T12:43:29.821Z"
   },
   {
    "duration": 126,
    "start_time": "2022-11-08T12:43:29.967Z"
   },
   {
    "duration": 42,
    "start_time": "2022-11-08T12:43:30.095Z"
   },
   {
    "duration": 165,
    "start_time": "2022-11-08T12:43:30.139Z"
   },
   {
    "duration": 42,
    "start_time": "2022-11-08T12:43:30.306Z"
   },
   {
    "duration": 233,
    "start_time": "2022-11-08T12:43:30.353Z"
   },
   {
    "duration": 8,
    "start_time": "2022-11-08T12:43:30.588Z"
   },
   {
    "duration": 150,
    "start_time": "2022-11-08T12:43:30.597Z"
   },
   {
    "duration": 132,
    "start_time": "2022-11-08T12:43:30.749Z"
   },
   {
    "duration": 12,
    "start_time": "2022-11-08T12:43:30.883Z"
   },
   {
    "duration": 37,
    "start_time": "2022-11-08T12:43:30.897Z"
   },
   {
    "duration": 168,
    "start_time": "2022-11-08T12:43:30.936Z"
   },
   {
    "duration": 9,
    "start_time": "2022-11-08T12:43:31.106Z"
   },
   {
    "duration": 61,
    "start_time": "2022-11-08T12:43:31.117Z"
   },
   {
    "duration": 162,
    "start_time": "2022-11-08T12:43:31.180Z"
   },
   {
    "duration": 12,
    "start_time": "2022-11-08T12:43:31.344Z"
   },
   {
    "duration": 24,
    "start_time": "2022-11-08T12:43:31.357Z"
   },
   {
    "duration": 25,
    "start_time": "2022-11-08T12:43:31.382Z"
   },
   {
    "duration": 11,
    "start_time": "2022-11-08T12:43:31.409Z"
   },
   {
    "duration": 12,
    "start_time": "2022-11-08T12:43:31.422Z"
   },
   {
    "duration": 150,
    "start_time": "2022-11-08T12:43:31.436Z"
   },
   {
    "duration": 27,
    "start_time": "2022-11-08T12:43:31.588Z"
   },
   {
    "duration": 19,
    "start_time": "2022-11-08T12:43:31.617Z"
   },
   {
    "duration": 7,
    "start_time": "2022-11-08T12:43:31.638Z"
   },
   {
    "duration": 10,
    "start_time": "2022-11-08T12:43:31.647Z"
   },
   {
    "duration": 12,
    "start_time": "2022-11-08T12:43:31.659Z"
   },
   {
    "duration": 11,
    "start_time": "2022-11-08T12:43:31.673Z"
   },
   {
    "duration": 153,
    "start_time": "2022-11-08T12:43:31.686Z"
   },
   {
    "duration": 6,
    "start_time": "2022-11-08T12:43:31.842Z"
   },
   {
    "duration": 11,
    "start_time": "2022-11-08T12:43:31.850Z"
   },
   {
    "duration": 6,
    "start_time": "2022-11-08T12:43:31.863Z"
   },
   {
    "duration": 8,
    "start_time": "2022-11-08T12:43:31.871Z"
   },
   {
    "duration": 242,
    "start_time": "2022-11-08T12:43:31.881Z"
   },
   {
    "duration": 9,
    "start_time": "2022-11-08T12:43:32.125Z"
   },
   {
    "duration": 179,
    "start_time": "2022-11-08T12:43:32.135Z"
   },
   {
    "duration": 166,
    "start_time": "2022-11-08T12:43:32.316Z"
   },
   {
    "duration": 183,
    "start_time": "2022-11-08T12:43:32.484Z"
   },
   {
    "duration": 218,
    "start_time": "2022-11-08T12:43:32.669Z"
   },
   {
    "duration": 9,
    "start_time": "2022-11-08T12:43:32.888Z"
   },
   {
    "duration": 239,
    "start_time": "2022-11-08T12:43:32.898Z"
   },
   {
    "duration": 182,
    "start_time": "2022-11-08T12:43:33.139Z"
   },
   {
    "duration": 173,
    "start_time": "2022-11-08T12:43:33.322Z"
   },
   {
    "duration": 113,
    "start_time": "2022-11-08T12:43:33.497Z"
   },
   {
    "duration": 183,
    "start_time": "2022-11-08T12:43:33.612Z"
   },
   {
    "duration": 161,
    "start_time": "2022-11-08T12:43:33.797Z"
   },
   {
    "duration": 173,
    "start_time": "2022-11-08T12:43:33.960Z"
   },
   {
    "duration": 164,
    "start_time": "2022-11-08T12:43:34.134Z"
   },
   {
    "duration": 138,
    "start_time": "2022-11-08T12:43:34.300Z"
   },
   {
    "duration": 158,
    "start_time": "2022-11-08T12:43:34.440Z"
   },
   {
    "duration": 162,
    "start_time": "2022-11-08T12:43:34.599Z"
   },
   {
    "duration": 170,
    "start_time": "2022-11-08T12:43:34.763Z"
   },
   {
    "duration": 5,
    "start_time": "2022-11-08T12:43:34.935Z"
   },
   {
    "duration": 175,
    "start_time": "2022-11-08T12:43:34.941Z"
   },
   {
    "duration": 5,
    "start_time": "2022-11-08T12:43:35.117Z"
   },
   {
    "duration": 177,
    "start_time": "2022-11-08T12:43:35.124Z"
   },
   {
    "duration": 5,
    "start_time": "2022-11-08T12:43:35.303Z"
   },
   {
    "duration": 259,
    "start_time": "2022-11-08T12:43:35.309Z"
   },
   {
    "duration": 159,
    "start_time": "2022-11-08T12:43:35.569Z"
   },
   {
    "duration": 6,
    "start_time": "2022-11-08T12:43:35.733Z"
   },
   {
    "duration": 184,
    "start_time": "2022-11-08T12:43:35.745Z"
   },
   {
    "duration": 6,
    "start_time": "2022-11-08T12:43:35.931Z"
   },
   {
    "duration": 160,
    "start_time": "2022-11-08T12:43:35.939Z"
   },
   {
    "duration": 138,
    "start_time": "2022-11-08T12:43:36.101Z"
   },
   {
    "duration": 5,
    "start_time": "2022-11-08T12:43:36.241Z"
   },
   {
    "duration": 31,
    "start_time": "2022-11-08T12:43:36.247Z"
   },
   {
    "duration": 28,
    "start_time": "2022-11-08T12:43:36.281Z"
   },
   {
    "duration": 56,
    "start_time": "2022-11-08T12:43:36.311Z"
   },
   {
    "duration": 22,
    "start_time": "2022-11-08T12:43:36.369Z"
   },
   {
    "duration": 23,
    "start_time": "2022-11-08T12:43:36.393Z"
   },
   {
    "duration": 1249,
    "start_time": "2022-11-08T13:04:23.039Z"
   },
   {
    "duration": 18,
    "start_time": "2022-11-08T13:04:24.290Z"
   },
   {
    "duration": 2276,
    "start_time": "2022-11-08T13:04:24.310Z"
   },
   {
    "duration": 14,
    "start_time": "2022-11-08T13:04:26.589Z"
   },
   {
    "duration": 69,
    "start_time": "2022-11-08T13:04:26.605Z"
   },
   {
    "duration": 8,
    "start_time": "2022-11-08T13:04:26.676Z"
   },
   {
    "duration": 14,
    "start_time": "2022-11-08T13:04:26.686Z"
   },
   {
    "duration": 40,
    "start_time": "2022-11-08T13:04:26.702Z"
   },
   {
    "duration": 34,
    "start_time": "2022-11-08T13:04:26.744Z"
   },
   {
    "duration": 36,
    "start_time": "2022-11-08T13:04:26.784Z"
   },
   {
    "duration": 7,
    "start_time": "2022-11-08T13:04:26.823Z"
   },
   {
    "duration": 17,
    "start_time": "2022-11-08T13:04:26.831Z"
   },
   {
    "duration": 9,
    "start_time": "2022-11-08T13:04:26.850Z"
   },
   {
    "duration": 14,
    "start_time": "2022-11-08T13:04:26.860Z"
   },
   {
    "duration": 7,
    "start_time": "2022-11-08T13:04:26.876Z"
   },
   {
    "duration": 35,
    "start_time": "2022-11-08T13:04:26.885Z"
   },
   {
    "duration": 24,
    "start_time": "2022-11-08T13:04:26.922Z"
   },
   {
    "duration": 20,
    "start_time": "2022-11-08T13:04:26.948Z"
   },
   {
    "duration": 203,
    "start_time": "2022-11-08T13:04:26.970Z"
   },
   {
    "duration": 27,
    "start_time": "2022-11-08T13:04:27.174Z"
   },
   {
    "duration": 39,
    "start_time": "2022-11-08T13:04:27.204Z"
   },
   {
    "duration": 274,
    "start_time": "2022-11-08T13:04:27.245Z"
   },
   {
    "duration": 198,
    "start_time": "2022-11-08T13:04:27.522Z"
   },
   {
    "duration": 303,
    "start_time": "2022-11-08T13:04:27.723Z"
   },
   {
    "duration": 31,
    "start_time": "2022-11-08T13:04:28.029Z"
   },
   {
    "duration": 370,
    "start_time": "2022-11-08T13:04:28.061Z"
   },
   {
    "duration": 88,
    "start_time": "2022-11-08T13:04:28.433Z"
   },
   {
    "duration": 503,
    "start_time": "2022-11-08T13:04:28.525Z"
   },
   {
    "duration": 9,
    "start_time": "2022-11-08T13:04:29.030Z"
   },
   {
    "duration": 414,
    "start_time": "2022-11-08T13:04:29.041Z"
   },
   {
    "duration": 276,
    "start_time": "2022-11-08T13:04:29.457Z"
   },
   {
    "duration": 12,
    "start_time": "2022-11-08T13:04:29.735Z"
   },
   {
    "duration": 17,
    "start_time": "2022-11-08T13:04:29.749Z"
   },
   {
    "duration": 209,
    "start_time": "2022-11-08T13:04:29.768Z"
   },
   {
    "duration": 9,
    "start_time": "2022-11-08T13:04:29.978Z"
   },
   {
    "duration": 68,
    "start_time": "2022-11-08T13:04:29.988Z"
   },
   {
    "duration": 188,
    "start_time": "2022-11-08T13:04:30.059Z"
   },
   {
    "duration": 10,
    "start_time": "2022-11-08T13:04:30.249Z"
   },
   {
    "duration": 52,
    "start_time": "2022-11-08T13:04:30.260Z"
   },
   {
    "duration": 22,
    "start_time": "2022-11-08T13:04:30.314Z"
   },
   {
    "duration": 49,
    "start_time": "2022-11-08T13:04:30.337Z"
   },
   {
    "duration": 32,
    "start_time": "2022-11-08T13:04:30.388Z"
   },
   {
    "duration": 174,
    "start_time": "2022-11-08T13:04:30.422Z"
   },
   {
    "duration": 37,
    "start_time": "2022-11-08T13:04:30.598Z"
   },
   {
    "duration": 7,
    "start_time": "2022-11-08T13:04:30.637Z"
   },
   {
    "duration": 28,
    "start_time": "2022-11-08T13:04:30.646Z"
   },
   {
    "duration": 31,
    "start_time": "2022-11-08T13:04:30.676Z"
   },
   {
    "duration": 22,
    "start_time": "2022-11-08T13:04:30.709Z"
   },
   {
    "duration": 18,
    "start_time": "2022-11-08T13:04:30.733Z"
   },
   {
    "duration": 157,
    "start_time": "2022-11-08T13:04:30.753Z"
   },
   {
    "duration": 9,
    "start_time": "2022-11-08T13:04:30.918Z"
   },
   {
    "duration": 62,
    "start_time": "2022-11-08T13:04:30.930Z"
   },
   {
    "duration": 33,
    "start_time": "2022-11-08T13:04:30.995Z"
   },
   {
    "duration": 38,
    "start_time": "2022-11-08T13:04:31.032Z"
   },
   {
    "duration": 244,
    "start_time": "2022-11-08T13:04:31.073Z"
   },
   {
    "duration": 5,
    "start_time": "2022-11-08T13:04:31.319Z"
   },
   {
    "duration": 182,
    "start_time": "2022-11-08T13:04:31.326Z"
   },
   {
    "duration": 200,
    "start_time": "2022-11-08T13:04:31.510Z"
   },
   {
    "duration": 210,
    "start_time": "2022-11-08T13:04:31.712Z"
   },
   {
    "duration": 241,
    "start_time": "2022-11-08T13:04:31.925Z"
   },
   {
    "duration": 11,
    "start_time": "2022-11-08T13:04:32.168Z"
   },
   {
    "duration": 272,
    "start_time": "2022-11-08T13:04:32.181Z"
   },
   {
    "duration": 209,
    "start_time": "2022-11-08T13:04:32.455Z"
   },
   {
    "duration": 191,
    "start_time": "2022-11-08T13:04:32.666Z"
   },
   {
    "duration": 136,
    "start_time": "2022-11-08T13:04:32.859Z"
   },
   {
    "duration": 182,
    "start_time": "2022-11-08T13:04:32.998Z"
   },
   {
    "duration": 177,
    "start_time": "2022-11-08T13:04:33.182Z"
   },
   {
    "duration": 197,
    "start_time": "2022-11-08T13:04:33.361Z"
   },
   {
    "duration": 189,
    "start_time": "2022-11-08T13:04:33.559Z"
   },
   {
    "duration": 156,
    "start_time": "2022-11-08T13:04:33.750Z"
   },
   {
    "duration": 181,
    "start_time": "2022-11-08T13:04:33.909Z"
   },
   {
    "duration": 180,
    "start_time": "2022-11-08T13:04:34.092Z"
   },
   {
    "duration": 192,
    "start_time": "2022-11-08T13:04:34.274Z"
   },
   {
    "duration": 6,
    "start_time": "2022-11-08T13:04:34.468Z"
   },
   {
    "duration": 195,
    "start_time": "2022-11-08T13:04:34.475Z"
   },
   {
    "duration": 7,
    "start_time": "2022-11-08T13:04:34.672Z"
   },
   {
    "duration": 226,
    "start_time": "2022-11-08T13:04:34.681Z"
   },
   {
    "duration": 11,
    "start_time": "2022-11-08T13:04:34.909Z"
   },
   {
    "duration": 301,
    "start_time": "2022-11-08T13:04:34.923Z"
   },
   {
    "duration": 177,
    "start_time": "2022-11-08T13:04:35.226Z"
   },
   {
    "duration": 16,
    "start_time": "2022-11-08T13:04:35.405Z"
   },
   {
    "duration": 195,
    "start_time": "2022-11-08T13:04:35.426Z"
   },
   {
    "duration": 6,
    "start_time": "2022-11-08T13:04:35.623Z"
   },
   {
    "duration": 182,
    "start_time": "2022-11-08T13:04:35.630Z"
   },
   {
    "duration": 161,
    "start_time": "2022-11-08T13:04:35.819Z"
   },
   {
    "duration": 5,
    "start_time": "2022-11-08T13:04:35.982Z"
   },
   {
    "duration": 33,
    "start_time": "2022-11-08T13:04:35.989Z"
   },
   {
    "duration": 3,
    "start_time": "2022-11-08T13:04:36.024Z"
   },
   {
    "duration": 37,
    "start_time": "2022-11-08T13:04:36.029Z"
   },
   {
    "duration": 18,
    "start_time": "2022-11-08T13:04:36.068Z"
   },
   {
    "duration": 10,
    "start_time": "2022-11-08T13:04:36.120Z"
   }
  ],
  "kernelspec": {
   "display_name": "Python 3 (ipykernel)",
   "language": "python",
   "name": "python3"
  },
  "language_info": {
   "codemirror_mode": {
    "name": "ipython",
    "version": 3
   },
   "file_extension": ".py",
   "mimetype": "text/x-python",
   "name": "python",
   "nbconvert_exporter": "python",
   "pygments_lexer": "ipython3",
   "version": "3.9.12"
  },
  "toc": {
   "base_numbering": 1,
   "nav_menu": {},
   "number_sections": true,
   "sideBar": true,
   "skip_h1_title": true,
   "title_cell": "Table of Contents",
   "title_sidebar": "Contents",
   "toc_cell": false,
   "toc_position": {
    "height": "calc(100% - 180px)",
    "left": "10px",
    "top": "150px",
    "width": "178.438px"
   },
   "toc_section_display": true,
   "toc_window_display": true
  }
 },
 "nbformat": 4,
 "nbformat_minor": 2
}
