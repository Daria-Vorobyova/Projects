{
 "cells": [
  {
   "cell_type": "markdown",
   "metadata": {},
   "source": [
    "# Исследование рынка игр\n",
    "\n",
    "Интернет-магазин \"Стримчик\" продает компьютерные игры по всему миру. Из открытых источников доступны исторические данные о продажах игр, оценки пользователей и экспертов, жанры и платформы (например, Xbox или PlayStation).\n",
    "\n",
    "Целью проекта является определение закономерностей, влияющих на успешность игры. Это позволит сделать ставку на потенциально популярный продукт и спланировать рекламные кампании.\n",
    "\n",
    "В проекте используются данные до 2016 года. <br>\n",
    "В наборе данных попадается аббревиатура ESRB (Entertainment Software Rating Board) — это ассоциация, определяющая возрастной рейтинг компьютерных игр. ESRB оценивает игровой контент и присваивает ему подходящую возрастную категорию, например, «Для взрослых», «Для детей младшего возраста» или «Для подростков».\n",
    "\n",
    "Описание данных\n",
    "   - Name — название игры\n",
    "   - Platform — платформа\n",
    "   - Year_of_Release — год выпуска\n",
    "   - Genre — жанр игры\n",
    "   - NA_sales — продажи в Северной Америке (миллионы долларов)\n",
    "   - EU_sales — продажи в Европе (миллионы долларов)\n",
    "   - JP_sales — продажи в Японии (миллионы долларов)\n",
    "   - Other_sales — продажи в других странах (миллионы долларов)\n",
    "   - Critic_Score — оценка критиков (максимум 100)\n",
    "   - User_Score — оценка пользователей (максимум 10)\n",
    "   - Rating — рейтинг от организации ESRB (англ. Entertainment Software Rating Board). Эта ассоциация определяет рейтинг компьютерных игр и присваивает им подходящую возрастную категорию.\n",
    "\n",
    "Данные за 2016 год могут быть неполными."
   ]
  },
  {
   "cell_type": "markdown",
   "metadata": {},
   "source": [
    "## Шаг 1. Общая информация о датасете\n",
    "Импортируем необходимые библиотеки и откроем файл с данными для изучения.\n"
   ]
  },
  {
   "cell_type": "code",
   "execution_count": 1,
   "metadata": {},
   "outputs": [],
   "source": [
    "# импортируем библиотеки\n",
    "import pandas as pd\n",
    "import numpy as np\n",
    "import matplotlib.pyplot as plt\n",
    "from scipy import stats as st\n",
    "import seaborn as sns"
   ]
  },
  {
   "cell_type": "code",
   "execution_count": 2,
   "metadata": {},
   "outputs": [
    {
     "data": {
      "text/html": [
       "<div>\n",
       "<style scoped>\n",
       "    .dataframe tbody tr th:only-of-type {\n",
       "        vertical-align: middle;\n",
       "    }\n",
       "\n",
       "    .dataframe tbody tr th {\n",
       "        vertical-align: top;\n",
       "    }\n",
       "\n",
       "    .dataframe thead th {\n",
       "        text-align: right;\n",
       "    }\n",
       "</style>\n",
       "<table border=\"1\" class=\"dataframe\">\n",
       "  <thead>\n",
       "    <tr style=\"text-align: right;\">\n",
       "      <th></th>\n",
       "      <th>Name</th>\n",
       "      <th>Platform</th>\n",
       "      <th>Year_of_Release</th>\n",
       "      <th>Genre</th>\n",
       "      <th>NA_sales</th>\n",
       "      <th>EU_sales</th>\n",
       "      <th>JP_sales</th>\n",
       "      <th>Other_sales</th>\n",
       "      <th>Critic_Score</th>\n",
       "      <th>User_Score</th>\n",
       "      <th>Rating</th>\n",
       "    </tr>\n",
       "  </thead>\n",
       "  <tbody>\n",
       "    <tr>\n",
       "      <th>0</th>\n",
       "      <td>Wii Sports</td>\n",
       "      <td>Wii</td>\n",
       "      <td>2006.0</td>\n",
       "      <td>Sports</td>\n",
       "      <td>41.36</td>\n",
       "      <td>28.96</td>\n",
       "      <td>3.77</td>\n",
       "      <td>8.45</td>\n",
       "      <td>76.0</td>\n",
       "      <td>8</td>\n",
       "      <td>E</td>\n",
       "    </tr>\n",
       "    <tr>\n",
       "      <th>1</th>\n",
       "      <td>Super Mario Bros.</td>\n",
       "      <td>NES</td>\n",
       "      <td>1985.0</td>\n",
       "      <td>Platform</td>\n",
       "      <td>29.08</td>\n",
       "      <td>3.58</td>\n",
       "      <td>6.81</td>\n",
       "      <td>0.77</td>\n",
       "      <td>NaN</td>\n",
       "      <td>NaN</td>\n",
       "      <td>NaN</td>\n",
       "    </tr>\n",
       "    <tr>\n",
       "      <th>2</th>\n",
       "      <td>Mario Kart Wii</td>\n",
       "      <td>Wii</td>\n",
       "      <td>2008.0</td>\n",
       "      <td>Racing</td>\n",
       "      <td>15.68</td>\n",
       "      <td>12.76</td>\n",
       "      <td>3.79</td>\n",
       "      <td>3.29</td>\n",
       "      <td>82.0</td>\n",
       "      <td>8.3</td>\n",
       "      <td>E</td>\n",
       "    </tr>\n",
       "    <tr>\n",
       "      <th>3</th>\n",
       "      <td>Wii Sports Resort</td>\n",
       "      <td>Wii</td>\n",
       "      <td>2009.0</td>\n",
       "      <td>Sports</td>\n",
       "      <td>15.61</td>\n",
       "      <td>10.93</td>\n",
       "      <td>3.28</td>\n",
       "      <td>2.95</td>\n",
       "      <td>80.0</td>\n",
       "      <td>8</td>\n",
       "      <td>E</td>\n",
       "    </tr>\n",
       "    <tr>\n",
       "      <th>4</th>\n",
       "      <td>Pokemon Red/Pokemon Blue</td>\n",
       "      <td>GB</td>\n",
       "      <td>1996.0</td>\n",
       "      <td>Role-Playing</td>\n",
       "      <td>11.27</td>\n",
       "      <td>8.89</td>\n",
       "      <td>10.22</td>\n",
       "      <td>1.00</td>\n",
       "      <td>NaN</td>\n",
       "      <td>NaN</td>\n",
       "      <td>NaN</td>\n",
       "    </tr>\n",
       "  </tbody>\n",
       "</table>\n",
       "</div>"
      ],
      "text/plain": [
       "                       Name Platform  Year_of_Release         Genre  NA_sales  \\\n",
       "0                Wii Sports      Wii           2006.0        Sports     41.36   \n",
       "1         Super Mario Bros.      NES           1985.0      Platform     29.08   \n",
       "2            Mario Kart Wii      Wii           2008.0        Racing     15.68   \n",
       "3         Wii Sports Resort      Wii           2009.0        Sports     15.61   \n",
       "4  Pokemon Red/Pokemon Blue       GB           1996.0  Role-Playing     11.27   \n",
       "\n",
       "   EU_sales  JP_sales  Other_sales  Critic_Score User_Score Rating  \n",
       "0     28.96      3.77         8.45          76.0          8      E  \n",
       "1      3.58      6.81         0.77           NaN        NaN    NaN  \n",
       "2     12.76      3.79         3.29          82.0        8.3      E  \n",
       "3     10.93      3.28         2.95          80.0          8      E  \n",
       "4      8.89     10.22         1.00           NaN        NaN    NaN  "
      ]
     },
     "execution_count": 2,
     "metadata": {},
     "output_type": "execute_result"
    }
   ],
   "source": [
    "# объявим переменную data и запишем в нее таблицу с данными. Просмотрим первые 5 строк.\n",
    "try:\n",
    "    data = pd.read_csv('/datasets/games.csv')\n",
    "except:\n",
    "    data = pd.read_csv('games.csv')\n",
    "data.head()"
   ]
  },
  {
   "cell_type": "markdown",
   "metadata": {},
   "source": [
    "Посмотрим общую информацию о датафрейме."
   ]
  },
  {
   "cell_type": "code",
   "execution_count": 3,
   "metadata": {},
   "outputs": [
    {
     "name": "stdout",
     "output_type": "stream",
     "text": [
      "<class 'pandas.core.frame.DataFrame'>\n",
      "RangeIndex: 16715 entries, 0 to 16714\n",
      "Data columns (total 11 columns):\n",
      " #   Column           Non-Null Count  Dtype  \n",
      "---  ------           --------------  -----  \n",
      " 0   Name             16713 non-null  object \n",
      " 1   Platform         16715 non-null  object \n",
      " 2   Year_of_Release  16446 non-null  float64\n",
      " 3   Genre            16713 non-null  object \n",
      " 4   NA_sales         16715 non-null  float64\n",
      " 5   EU_sales         16715 non-null  float64\n",
      " 6   JP_sales         16715 non-null  float64\n",
      " 7   Other_sales      16715 non-null  float64\n",
      " 8   Critic_Score     8137 non-null   float64\n",
      " 9   User_Score       10014 non-null  object \n",
      " 10  Rating           9949 non-null   object \n",
      "dtypes: float64(6), object(5)\n",
      "memory usage: 1.4+ MB\n"
     ]
    }
   ],
   "source": [
    "data.info() # общая информация"
   ]
  },
  {
   "cell_type": "markdown",
   "metadata": {},
   "source": [
    "**Промежуточный вывод:**\n",
    "Таблица содержит 16715 строк и 11 столбцов с данными. В 6 столбцах есть пропущенные значения. Некоторые типы данных не соответствуют данным в столбце. "
   ]
  },
  {
   "cell_type": "markdown",
   "metadata": {},
   "source": [
    "## Шаг 2. Предобработка данных"
   ]
  },
  {
   "cell_type": "markdown",
   "metadata": {},
   "source": [
    "Выполним предобработку данных. <br>\n",
    "1. Заменим названия столбцов\n",
    "2. Преобразуем типы данных\n",
    "3. Обработаем пропуски\n",
    "4. Посчитаем суммарные продажи\n",
    "5. Дубликаты"
   ]
  },
  {
   "cell_type": "markdown",
   "metadata": {},
   "source": [
    "### Замена названий\n",
    "Столбцы содержат заглавные буквы. Избавимся от них с помощью метода str.lower()"
   ]
  },
  {
   "cell_type": "code",
   "execution_count": 4,
   "metadata": {},
   "outputs": [
    {
     "data": {
      "text/plain": [
       "Index(['name', 'platform', 'year_of_release', 'genre', 'na_sales', 'eu_sales',\n",
       "       'jp_sales', 'other_sales', 'critic_score', 'user_score', 'rating'],\n",
       "      dtype='object')"
      ]
     },
     "execution_count": 4,
     "metadata": {},
     "output_type": "execute_result"
    }
   ],
   "source": [
    "data.columns = data.columns.str.lower() # приведем названия столбцов к нижнему регистру\n",
    "data.columns # выведем названия столбцов"
   ]
  },
  {
   "cell_type": "markdown",
   "metadata": {},
   "source": [
    "### Типы данных"
   ]
  },
  {
   "cell_type": "markdown",
   "metadata": {},
   "source": [
    " Столбец `year_of_release` содержит тип данных float64, хотя в самом столбце - год выпуска, год не может быть не целым числом. Заменим тип данных на int."
   ]
  },
  {
   "cell_type": "code",
   "execution_count": 5,
   "metadata": {},
   "outputs": [
    {
     "data": {
      "text/plain": [
       "0        2006\n",
       "1        1985\n",
       "2        2008\n",
       "3        2009\n",
       "4        1996\n",
       "         ... \n",
       "16710    2016\n",
       "16711    2006\n",
       "16712    2016\n",
       "16713    2003\n",
       "16714    2016\n",
       "Name: year_of_release, Length: 16715, dtype: Int64"
      ]
     },
     "execution_count": 5,
     "metadata": {},
     "output_type": "execute_result"
    }
   ],
   "source": [
    "data['year_of_release'] = data['year_of_release'].astype('Int64') #поменяем тип данных\n",
    "data['year_of_release'] #выведем столбец"
   ]
  },
  {
   "cell_type": "markdown",
   "metadata": {},
   "source": [
    "### Обработка пропусков\n",
    "Для начала посмотрим, сколько пропусков в каждом столбце."
   ]
  },
  {
   "cell_type": "code",
   "execution_count": 6,
   "metadata": {},
   "outputs": [
    {
     "data": {
      "text/plain": [
       "name                  2\n",
       "platform              0\n",
       "year_of_release     269\n",
       "genre                 2\n",
       "na_sales              0\n",
       "eu_sales              0\n",
       "jp_sales              0\n",
       "other_sales           0\n",
       "critic_score       8578\n",
       "user_score         6701\n",
       "rating             6766\n",
       "dtype: int64"
      ]
     },
     "execution_count": 6,
     "metadata": {},
     "output_type": "execute_result"
    }
   ],
   "source": [
    "data.isna().sum() #посчитаем, сколько пропущенных значений"
   ]
  },
  {
   "cell_type": "markdown",
   "metadata": {},
   "source": [
    "Пропуски есть в столбцах `name`, `year_of_release`, `genre`, `critic_score`, `user_score`, `rating`. \n",
    "\n",
    "Пропуски в столбце с рейтингом ESRB скорее всего связаны с тем, что большинство игр было выпущено до того, как начала существовать организация, а также с тем, что эта организация Американская, и не все игры попадают в ее поле зрения и получают оценку.\n",
    "\n",
    "Так как строки с пропусками в столбцах `name`, `year_of_release`, `genre` составляют всего 1,6%, было принято решение удалить их из датафрейма.\n",
    "На дальнейшее исследование они не повлияют.\n"
   ]
  },
  {
   "cell_type": "code",
   "execution_count": 7,
   "metadata": {},
   "outputs": [
    {
     "data": {
      "text/plain": [
       "(16715, 11)"
      ]
     },
     "execution_count": 7,
     "metadata": {},
     "output_type": "execute_result"
    }
   ],
   "source": [
    "data.shape"
   ]
  },
  {
   "cell_type": "code",
   "execution_count": 8,
   "metadata": {},
   "outputs": [
    {
     "data": {
      "text/plain": [
       "name                  0\n",
       "platform              0\n",
       "year_of_release       0\n",
       "genre                 0\n",
       "na_sales              0\n",
       "eu_sales              0\n",
       "jp_sales              0\n",
       "other_sales           0\n",
       "critic_score       8461\n",
       "user_score         6605\n",
       "rating             6676\n",
       "dtype: int64"
      ]
     },
     "execution_count": 8,
     "metadata": {},
     "output_type": "execute_result"
    }
   ],
   "source": [
    "data = data.dropna(subset=['name','year_of_release','genre']) #удалим пропуски в конкретных столбцах\n",
    "data.isna().sum() #снова посчитаем пропуски"
   ]
  },
  {
   "cell_type": "code",
   "execution_count": 9,
   "metadata": {},
   "outputs": [
    {
     "data": {
      "text/plain": [
       "(16444, 11)"
      ]
     },
     "execution_count": 9,
     "metadata": {},
     "output_type": "execute_result"
    }
   ],
   "source": [
    "data.shape"
   ]
  },
  {
   "cell_type": "markdown",
   "metadata": {},
   "source": [
    "Размер таблицы изменился ровно на то количество строк, которое удаляли"
   ]
  },
  {
   "cell_type": "markdown",
   "metadata": {},
   "source": [
    "Посмотрим столбец `rating`. Здесь находятся оценки от ESRB."
   ]
  },
  {
   "cell_type": "code",
   "execution_count": 10,
   "metadata": {},
   "outputs": [
    {
     "data": {
      "text/plain": [
       "array(['E', nan, 'M', 'T', 'E10+', 'K-A', 'AO', 'EC', 'RP'], dtype=object)"
      ]
     },
     "execution_count": 10,
     "metadata": {},
     "output_type": "execute_result"
    }
   ],
   "source": [
    "data['rating'].unique() #уникальные значения столбца"
   ]
  },
  {
   "cell_type": "markdown",
   "metadata": {},
   "source": [
    "По информации https://ru.wikipedia.org/wiki/Entertainment_Software_Rating_Board, обозначения в рейтинге означают:<br>\n",
    "    «EC» («Early childhood») — «Для детей младшего возраста» <br>\n",
    "    «E» («Everyone») — «Для всех»<br>\n",
    "    «E10+» («Everyone 10 and older») — «Для всех от 10 лет и старше»<br>\n",
    "    «T» («Teen») — «Подросткам»<br>\n",
    "    «M» («Mature») — «Для взрослых»<br>\n",
    "    «AO» («Adults Only 18+») — «Только для взрослых»<br>\n",
    "    «RP» («Rating Pending») — «Рейтинг ожидается»<br>\n",
    "    «RP 17+» («Rating Pending») — «Рейтинг ожидается - примерно 17+<br>\n",
    "    \n",
    "В нашем столбце есть и другие значения.<br>\n",
    "«K-A» («Kids to Adults»)— «Для детей и взрослых». Этот рейтинг был заменён на «Everyone» 1 января 1998 года. В соответствии с этим заменим все \"К-А\" на \"Е\".<br>\n",
    "\n",
    "Также заменим все пропущенные значения на 'RP' - рейтинг ожидается."
   ]
  },
  {
   "cell_type": "code",
   "execution_count": 11,
   "metadata": {},
   "outputs": [
    {
     "data": {
      "text/plain": [
       "array(['E', 'RP', 'M', 'T', 'E10+', 'AO', 'EC'], dtype=object)"
      ]
     },
     "execution_count": 11,
     "metadata": {},
     "output_type": "execute_result"
    }
   ],
   "source": [
    "data['rating'] = data['rating'].replace('K-A', 'E') #заменим все \"K-A\" на \"E\"\n",
    "data['rating'] = data['rating'].fillna('RP') #заменим пропуски на \"RP\"\n",
    "data['rating'].unique()"
   ]
  },
  {
   "cell_type": "markdown",
   "metadata": {},
   "source": [
    "Пропуски в столбцах `critic_score`, `user_score` пока оставим без изменения. Удалять такие пропуски нельзя - потеряем почти половину датасета."
   ]
  },
  {
   "cell_type": "markdown",
   "metadata": {},
   "source": [
    "Обратим внимание на столбец `user_score`. В нем содержатся оценки пользователей: дробные числа, пропущенные значения и аббревиатура \"tbd\". "
   ]
  },
  {
   "cell_type": "code",
   "execution_count": 12,
   "metadata": {},
   "outputs": [
    {
     "data": {
      "text/plain": [
       "array(['8', nan, '8.3', '8.5', '6.6', '8.4', '8.6', '7.7', '6.3', '7.4',\n",
       "       '8.2', '9', '7.9', '8.1', '8.7', '7.1', '3.4', '5.3', '4.8', '3.2',\n",
       "       '8.9', '6.4', '7.8', '7.5', '2.6', '7.2', '9.2', '7', '7.3', '4.3',\n",
       "       '7.6', '5.7', '5', '9.1', '6.5', 'tbd', '8.8', '6.9', '9.4', '6.8',\n",
       "       '6.1', '6.7', '5.4', '4', '4.9', '4.5', '9.3', '6.2', '4.2', '6',\n",
       "       '3.7', '4.1', '5.8', '5.6', '5.5', '4.4', '4.6', '5.9', '3.9',\n",
       "       '3.1', '2.9', '5.2', '3.3', '4.7', '5.1', '3.5', '2.5', '1.9', '3',\n",
       "       '2.7', '2.2', '2', '9.5', '2.1', '3.6', '2.8', '1.8', '3.8', '0',\n",
       "       '1.6', '9.6', '2.4', '1.7', '1.1', '0.3', '1.5', '0.7', '1.2',\n",
       "       '2.3', '0.5', '1.3', '0.2', '0.6', '1.4', '0.9', '1', '9.7'],\n",
       "      dtype=object)"
      ]
     },
     "execution_count": 12,
     "metadata": {},
     "output_type": "execute_result"
    }
   ],
   "source": [
    "data['user_score'].unique() #посмотрим уникальные значения"
   ]
  },
  {
   "cell_type": "markdown",
   "metadata": {},
   "source": [
    "\n",
    "**TBD** - аббревиатура от английского To Be Determined (будет определено) или To Be Decided (будет решено). Используется, если какая-то информация еще не определена или решение по вопросу не принято. Акроним служит для отметки неясностей или пропусков, которые надо заполнить, в информации требований.\n",
    "\n",
    "В связи в этим можно заменить значения \"tbd\" в `user_score` на пропуск - игра еще не вышла, рейтинга пользователей еще нет."
   ]
  },
  {
   "cell_type": "code",
   "execution_count": 13,
   "metadata": {},
   "outputs": [
    {
     "data": {
      "text/plain": [
       "array(['8', nan, '8.3', '8.5', '6.6', '8.4', '8.6', '7.7', '6.3', '7.4',\n",
       "       '8.2', '9', '7.9', '8.1', '8.7', '7.1', '3.4', '5.3', '4.8', '3.2',\n",
       "       '8.9', '6.4', '7.8', '7.5', '2.6', '7.2', '9.2', '7', '7.3', '4.3',\n",
       "       '7.6', '5.7', '5', '9.1', '6.5', '8.8', '6.9', '9.4', '6.8', '6.1',\n",
       "       '6.7', '5.4', '4', '4.9', '4.5', '9.3', '6.2', '4.2', '6', '3.7',\n",
       "       '4.1', '5.8', '5.6', '5.5', '4.4', '4.6', '5.9', '3.9', '3.1',\n",
       "       '2.9', '5.2', '3.3', '4.7', '5.1', '3.5', '2.5', '1.9', '3', '2.7',\n",
       "       '2.2', '2', '9.5', '2.1', '3.6', '2.8', '1.8', '3.8', '0', '1.6',\n",
       "       '9.6', '2.4', '1.7', '1.1', '0.3', '1.5', '0.7', '1.2', '2.3',\n",
       "       '0.5', '1.3', '0.2', '0.6', '1.4', '0.9', '1', '9.7'], dtype=object)"
      ]
     },
     "execution_count": 13,
     "metadata": {},
     "output_type": "execute_result"
    }
   ],
   "source": [
    "data['user_score'] = data['user_score'].replace('tbd', np.NaN ) #заменим все \"tbd\" на пропуск\n",
    "data['user_score'].unique() #посмотрим уникальные значения, убедимся, что замена произошла"
   ]
  },
  {
   "cell_type": "markdown",
   "metadata": {},
   "source": [
    "Теперь можно поменять тип столбца с `object` на `float`."
   ]
  },
  {
   "cell_type": "code",
   "execution_count": 14,
   "metadata": {},
   "outputs": [
    {
     "data": {
      "text/plain": [
       "0        8.0\n",
       "1        NaN\n",
       "2        8.3\n",
       "3        8.0\n",
       "4        NaN\n",
       "        ... \n",
       "16710    NaN\n",
       "16711    NaN\n",
       "16712    NaN\n",
       "16713    NaN\n",
       "16714    NaN\n",
       "Name: user_score, Length: 16444, dtype: float64"
      ]
     },
     "execution_count": 14,
     "metadata": {},
     "output_type": "execute_result"
    }
   ],
   "source": [
    "data['user_score'] = data['user_score'].astype('float64') #поменяем тип\n",
    "data['user_score'] #посмотрим столбец"
   ]
  },
  {
   "cell_type": "markdown",
   "metadata": {},
   "source": [
    "**Откуда взялись пропуски?** <br>\n",
    "Вероятно, есть несколько возможных причин:\n",
    "- Человеческий фактор: при заполнении таблицы случайно пропущены некоторые значения (например, год выпуска пропускали, если год выпуска равен текущему году)\n",
    "- Технический фактор: при выгрузке таблицы произошел сбой\n",
    "- ESRB еще не успела оценить игру, либо ее оценила другая организация, соответственно, значение пропущено\n",
    "- Игра еще слишком малоизвестна - у нее нет рейтинга пользователей и оценки экспертов\n",
    "- Дело во времени: ранее не было сервисов, которые собирали бы рейтинги игроков и рейтинги экспертов. Сюда же можно отнести и пропуски в ESRB.\n"
   ]
  },
  {
   "cell_type": "markdown",
   "metadata": {},
   "source": [
    "### Суммарные продажи\n",
    "Посчитаем все продажи по каждой игре и запишем их в отдельный столбец"
   ]
  },
  {
   "cell_type": "code",
   "execution_count": 15,
   "metadata": {},
   "outputs": [
    {
     "data": {
      "text/html": [
       "<div>\n",
       "<style scoped>\n",
       "    .dataframe tbody tr th:only-of-type {\n",
       "        vertical-align: middle;\n",
       "    }\n",
       "\n",
       "    .dataframe tbody tr th {\n",
       "        vertical-align: top;\n",
       "    }\n",
       "\n",
       "    .dataframe thead th {\n",
       "        text-align: right;\n",
       "    }\n",
       "</style>\n",
       "<table border=\"1\" class=\"dataframe\">\n",
       "  <thead>\n",
       "    <tr style=\"text-align: right;\">\n",
       "      <th></th>\n",
       "      <th>name</th>\n",
       "      <th>platform</th>\n",
       "      <th>year_of_release</th>\n",
       "      <th>genre</th>\n",
       "      <th>na_sales</th>\n",
       "      <th>eu_sales</th>\n",
       "      <th>jp_sales</th>\n",
       "      <th>other_sales</th>\n",
       "      <th>critic_score</th>\n",
       "      <th>user_score</th>\n",
       "      <th>rating</th>\n",
       "      <th>total_sales</th>\n",
       "    </tr>\n",
       "  </thead>\n",
       "  <tbody>\n",
       "    <tr>\n",
       "      <th>0</th>\n",
       "      <td>Wii Sports</td>\n",
       "      <td>Wii</td>\n",
       "      <td>2006</td>\n",
       "      <td>Sports</td>\n",
       "      <td>41.36</td>\n",
       "      <td>28.96</td>\n",
       "      <td>3.77</td>\n",
       "      <td>8.45</td>\n",
       "      <td>76.0</td>\n",
       "      <td>8.0</td>\n",
       "      <td>E</td>\n",
       "      <td>82.54</td>\n",
       "    </tr>\n",
       "    <tr>\n",
       "      <th>1</th>\n",
       "      <td>Super Mario Bros.</td>\n",
       "      <td>NES</td>\n",
       "      <td>1985</td>\n",
       "      <td>Platform</td>\n",
       "      <td>29.08</td>\n",
       "      <td>3.58</td>\n",
       "      <td>6.81</td>\n",
       "      <td>0.77</td>\n",
       "      <td>NaN</td>\n",
       "      <td>NaN</td>\n",
       "      <td>RP</td>\n",
       "      <td>40.24</td>\n",
       "    </tr>\n",
       "    <tr>\n",
       "      <th>2</th>\n",
       "      <td>Mario Kart Wii</td>\n",
       "      <td>Wii</td>\n",
       "      <td>2008</td>\n",
       "      <td>Racing</td>\n",
       "      <td>15.68</td>\n",
       "      <td>12.76</td>\n",
       "      <td>3.79</td>\n",
       "      <td>3.29</td>\n",
       "      <td>82.0</td>\n",
       "      <td>8.3</td>\n",
       "      <td>E</td>\n",
       "      <td>35.52</td>\n",
       "    </tr>\n",
       "    <tr>\n",
       "      <th>3</th>\n",
       "      <td>Wii Sports Resort</td>\n",
       "      <td>Wii</td>\n",
       "      <td>2009</td>\n",
       "      <td>Sports</td>\n",
       "      <td>15.61</td>\n",
       "      <td>10.93</td>\n",
       "      <td>3.28</td>\n",
       "      <td>2.95</td>\n",
       "      <td>80.0</td>\n",
       "      <td>8.0</td>\n",
       "      <td>E</td>\n",
       "      <td>32.77</td>\n",
       "    </tr>\n",
       "    <tr>\n",
       "      <th>4</th>\n",
       "      <td>Pokemon Red/Pokemon Blue</td>\n",
       "      <td>GB</td>\n",
       "      <td>1996</td>\n",
       "      <td>Role-Playing</td>\n",
       "      <td>11.27</td>\n",
       "      <td>8.89</td>\n",
       "      <td>10.22</td>\n",
       "      <td>1.00</td>\n",
       "      <td>NaN</td>\n",
       "      <td>NaN</td>\n",
       "      <td>RP</td>\n",
       "      <td>31.38</td>\n",
       "    </tr>\n",
       "  </tbody>\n",
       "</table>\n",
       "</div>"
      ],
      "text/plain": [
       "                       name platform  year_of_release         genre  na_sales  \\\n",
       "0                Wii Sports      Wii             2006        Sports     41.36   \n",
       "1         Super Mario Bros.      NES             1985      Platform     29.08   \n",
       "2            Mario Kart Wii      Wii             2008        Racing     15.68   \n",
       "3         Wii Sports Resort      Wii             2009        Sports     15.61   \n",
       "4  Pokemon Red/Pokemon Blue       GB             1996  Role-Playing     11.27   \n",
       "\n",
       "   eu_sales  jp_sales  other_sales  critic_score  user_score rating  \\\n",
       "0     28.96      3.77         8.45          76.0         8.0      E   \n",
       "1      3.58      6.81         0.77           NaN         NaN     RP   \n",
       "2     12.76      3.79         3.29          82.0         8.3      E   \n",
       "3     10.93      3.28         2.95          80.0         8.0      E   \n",
       "4      8.89     10.22         1.00           NaN         NaN     RP   \n",
       "\n",
       "   total_sales  \n",
       "0        82.54  \n",
       "1        40.24  \n",
       "2        35.52  \n",
       "3        32.77  \n",
       "4        31.38  "
      ]
     },
     "execution_count": 15,
     "metadata": {},
     "output_type": "execute_result"
    }
   ],
   "source": [
    "#Объявим отдельный столбец \"total_sales\" и запишем в него сумму столбцов с продажами по регионам\n",
    "data['total_sales'] = data['na_sales'] + data['eu_sales'] + data['jp_sales'] + data['other_sales'] \n",
    "data.head() # посмотрим таблицу"
   ]
  },
  {
   "cell_type": "markdown",
   "metadata": {},
   "source": [
    "### Дубликаты\n",
    "Проверим датафрейм на явные и неявные дубликаты"
   ]
  },
  {
   "cell_type": "code",
   "execution_count": 16,
   "metadata": {},
   "outputs": [
    {
     "data": {
      "text/plain": [
       "0"
      ]
     },
     "execution_count": 16,
     "metadata": {},
     "output_type": "execute_result"
    }
   ],
   "source": [
    "data.duplicated().sum() #проверка на дубликаты строк"
   ]
  },
  {
   "cell_type": "markdown",
   "metadata": {},
   "source": [
    "В таблице нет явных дубликатов строк.\n",
    "\n",
    "Проверим неявные дубликаты в столбцах \"genre\", \"platform\""
   ]
  },
  {
   "cell_type": "code",
   "execution_count": 17,
   "metadata": {},
   "outputs": [
    {
     "data": {
      "text/plain": [
       "array(['Sports', 'Platform', 'Racing', 'Role-Playing', 'Puzzle', 'Misc',\n",
       "       'Shooter', 'Simulation', 'Action', 'Fighting', 'Adventure',\n",
       "       'Strategy'], dtype=object)"
      ]
     },
     "execution_count": 17,
     "metadata": {},
     "output_type": "execute_result"
    }
   ],
   "source": [
    "data['genre'].unique()"
   ]
  },
  {
   "cell_type": "code",
   "execution_count": 18,
   "metadata": {},
   "outputs": [
    {
     "data": {
      "text/plain": [
       "array(['Wii', 'NES', 'GB', 'DS', 'X360', 'PS3', 'PS2', 'SNES', 'GBA',\n",
       "       'PS4', '3DS', 'N64', 'PS', 'XB', 'PC', '2600', 'PSP', 'XOne',\n",
       "       'WiiU', 'GC', 'GEN', 'DC', 'PSV', 'SAT', 'SCD', 'WS', 'NG', 'TG16',\n",
       "       '3DO', 'GG', 'PCFX'], dtype=object)"
      ]
     },
     "execution_count": 18,
     "metadata": {},
     "output_type": "execute_result"
    }
   ],
   "source": [
    "data['platform'].unique()"
   ]
  },
  {
   "cell_type": "markdown",
   "metadata": {},
   "source": [
    "В столбцах нет неявных дубликатов."
   ]
  },
  {
   "cell_type": "code",
   "execution_count": 19,
   "metadata": {},
   "outputs": [
    {
     "data": {
      "text/html": [
       "<div>\n",
       "<style scoped>\n",
       "    .dataframe tbody tr th:only-of-type {\n",
       "        vertical-align: middle;\n",
       "    }\n",
       "\n",
       "    .dataframe tbody tr th {\n",
       "        vertical-align: top;\n",
       "    }\n",
       "\n",
       "    .dataframe thead th {\n",
       "        text-align: right;\n",
       "    }\n",
       "</style>\n",
       "<table border=\"1\" class=\"dataframe\">\n",
       "  <thead>\n",
       "    <tr style=\"text-align: right;\">\n",
       "      <th></th>\n",
       "      <th>name</th>\n",
       "      <th>platform</th>\n",
       "      <th>year_of_release</th>\n",
       "      <th>genre</th>\n",
       "      <th>na_sales</th>\n",
       "      <th>eu_sales</th>\n",
       "      <th>jp_sales</th>\n",
       "      <th>other_sales</th>\n",
       "      <th>critic_score</th>\n",
       "      <th>user_score</th>\n",
       "      <th>rating</th>\n",
       "      <th>total_sales</th>\n",
       "    </tr>\n",
       "  </thead>\n",
       "  <tbody>\n",
       "    <tr>\n",
       "      <th>1591</th>\n",
       "      <td>Need for Speed: Most Wanted</td>\n",
       "      <td>X360</td>\n",
       "      <td>2005</td>\n",
       "      <td>Racing</td>\n",
       "      <td>1.0</td>\n",
       "      <td>0.13</td>\n",
       "      <td>0.02</td>\n",
       "      <td>0.10</td>\n",
       "      <td>83.0</td>\n",
       "      <td>8.5</td>\n",
       "      <td>T</td>\n",
       "      <td>1.25</td>\n",
       "    </tr>\n",
       "    <tr>\n",
       "      <th>11715</th>\n",
       "      <td>Need for Speed: Most Wanted</td>\n",
       "      <td>PC</td>\n",
       "      <td>2012</td>\n",
       "      <td>Racing</td>\n",
       "      <td>0.0</td>\n",
       "      <td>0.06</td>\n",
       "      <td>0.00</td>\n",
       "      <td>0.02</td>\n",
       "      <td>82.0</td>\n",
       "      <td>8.5</td>\n",
       "      <td>T</td>\n",
       "      <td>0.08</td>\n",
       "    </tr>\n",
       "    <tr>\n",
       "      <th>16230</th>\n",
       "      <td>Madden NFL 13</td>\n",
       "      <td>PS3</td>\n",
       "      <td>2012</td>\n",
       "      <td>Sports</td>\n",
       "      <td>0.0</td>\n",
       "      <td>0.01</td>\n",
       "      <td>0.00</td>\n",
       "      <td>0.00</td>\n",
       "      <td>83.0</td>\n",
       "      <td>5.5</td>\n",
       "      <td>E</td>\n",
       "      <td>0.01</td>\n",
       "    </tr>\n",
       "  </tbody>\n",
       "</table>\n",
       "</div>"
      ],
      "text/plain": [
       "                              name platform  year_of_release   genre  \\\n",
       "1591   Need for Speed: Most Wanted     X360             2005  Racing   \n",
       "11715  Need for Speed: Most Wanted       PC             2012  Racing   \n",
       "16230                Madden NFL 13      PS3             2012  Sports   \n",
       "\n",
       "       na_sales  eu_sales  jp_sales  other_sales  critic_score  user_score  \\\n",
       "1591        1.0      0.13      0.02         0.10          83.0         8.5   \n",
       "11715       0.0      0.06      0.00         0.02          82.0         8.5   \n",
       "16230       0.0      0.01      0.00         0.00          83.0         5.5   \n",
       "\n",
       "      rating  total_sales  \n",
       "1591       T         1.25  \n",
       "11715      T         0.08  \n",
       "16230      E         0.01  "
      ]
     },
     "execution_count": 19,
     "metadata": {},
     "output_type": "execute_result"
    }
   ],
   "source": [
    "data[data[['name', 'platform']].duplicated()] #проверка на дубликаты имя+платформа"
   ]
  },
  {
   "cell_type": "markdown",
   "metadata": {},
   "source": [
    "На первый взгляд есть 3 дубликата. Посмотрим конкретно игру Madden NFL 13."
   ]
  },
  {
   "cell_type": "code",
   "execution_count": 20,
   "metadata": {},
   "outputs": [
    {
     "data": {
      "text/html": [
       "<div>\n",
       "<style scoped>\n",
       "    .dataframe tbody tr th:only-of-type {\n",
       "        vertical-align: middle;\n",
       "    }\n",
       "\n",
       "    .dataframe tbody tr th {\n",
       "        vertical-align: top;\n",
       "    }\n",
       "\n",
       "    .dataframe thead th {\n",
       "        text-align: right;\n",
       "    }\n",
       "</style>\n",
       "<table border=\"1\" class=\"dataframe\">\n",
       "  <thead>\n",
       "    <tr style=\"text-align: right;\">\n",
       "      <th></th>\n",
       "      <th>name</th>\n",
       "      <th>platform</th>\n",
       "      <th>year_of_release</th>\n",
       "      <th>genre</th>\n",
       "      <th>na_sales</th>\n",
       "      <th>eu_sales</th>\n",
       "      <th>jp_sales</th>\n",
       "      <th>other_sales</th>\n",
       "      <th>critic_score</th>\n",
       "      <th>user_score</th>\n",
       "      <th>rating</th>\n",
       "      <th>total_sales</th>\n",
       "    </tr>\n",
       "  </thead>\n",
       "  <tbody>\n",
       "    <tr>\n",
       "      <th>604</th>\n",
       "      <td>Madden NFL 13</td>\n",
       "      <td>PS3</td>\n",
       "      <td>2012</td>\n",
       "      <td>Sports</td>\n",
       "      <td>2.11</td>\n",
       "      <td>0.22</td>\n",
       "      <td>0.0</td>\n",
       "      <td>0.23</td>\n",
       "      <td>83.0</td>\n",
       "      <td>5.5</td>\n",
       "      <td>E</td>\n",
       "      <td>2.56</td>\n",
       "    </tr>\n",
       "    <tr>\n",
       "      <th>16230</th>\n",
       "      <td>Madden NFL 13</td>\n",
       "      <td>PS3</td>\n",
       "      <td>2012</td>\n",
       "      <td>Sports</td>\n",
       "      <td>0.00</td>\n",
       "      <td>0.01</td>\n",
       "      <td>0.0</td>\n",
       "      <td>0.00</td>\n",
       "      <td>83.0</td>\n",
       "      <td>5.5</td>\n",
       "      <td>E</td>\n",
       "      <td>0.01</td>\n",
       "    </tr>\n",
       "  </tbody>\n",
       "</table>\n",
       "</div>"
      ],
      "text/plain": [
       "                name platform  year_of_release   genre  na_sales  eu_sales  \\\n",
       "604    Madden NFL 13      PS3             2012  Sports      2.11      0.22   \n",
       "16230  Madden NFL 13      PS3             2012  Sports      0.00      0.01   \n",
       "\n",
       "       jp_sales  other_sales  critic_score  user_score rating  total_sales  \n",
       "604         0.0         0.23          83.0         5.5      E         2.56  \n",
       "16230       0.0         0.00          83.0         5.5      E         0.01  "
      ]
     },
     "execution_count": 20,
     "metadata": {},
     "output_type": "execute_result"
    }
   ],
   "source": [
    "data[(data['name'] =='Madden NFL 13') & (data['platform'] == 'PS3')]"
   ]
  },
  {
   "cell_type": "markdown",
   "metadata": {},
   "source": [
    "Это строки 604 и 16230. В строке 16230 нет продаж по Северной Америке и Японии, а значения в столбцах с годом выпуска, оценками и рейтингом совпадают. Так что удалим именно эту строку."
   ]
  },
  {
   "cell_type": "code",
   "execution_count": 21,
   "metadata": {},
   "outputs": [],
   "source": [
    "data = data.drop(index=[16230])"
   ]
  },
  {
   "cell_type": "markdown",
   "metadata": {},
   "source": [
    "Также посмотрим на игру Need for Speed: Most Wanted"
   ]
  },
  {
   "cell_type": "code",
   "execution_count": 22,
   "metadata": {},
   "outputs": [
    {
     "data": {
      "text/html": [
       "<div>\n",
       "<style scoped>\n",
       "    .dataframe tbody tr th:only-of-type {\n",
       "        vertical-align: middle;\n",
       "    }\n",
       "\n",
       "    .dataframe tbody tr th {\n",
       "        vertical-align: top;\n",
       "    }\n",
       "\n",
       "    .dataframe thead th {\n",
       "        text-align: right;\n",
       "    }\n",
       "</style>\n",
       "<table border=\"1\" class=\"dataframe\">\n",
       "  <thead>\n",
       "    <tr style=\"text-align: right;\">\n",
       "      <th></th>\n",
       "      <th>name</th>\n",
       "      <th>platform</th>\n",
       "      <th>year_of_release</th>\n",
       "      <th>genre</th>\n",
       "      <th>na_sales</th>\n",
       "      <th>eu_sales</th>\n",
       "      <th>jp_sales</th>\n",
       "      <th>other_sales</th>\n",
       "      <th>critic_score</th>\n",
       "      <th>user_score</th>\n",
       "      <th>rating</th>\n",
       "      <th>total_sales</th>\n",
       "    </tr>\n",
       "  </thead>\n",
       "  <tbody>\n",
       "    <tr>\n",
       "      <th>1190</th>\n",
       "      <td>Need for Speed: Most Wanted</td>\n",
       "      <td>X360</td>\n",
       "      <td>2012</td>\n",
       "      <td>Racing</td>\n",
       "      <td>0.62</td>\n",
       "      <td>0.78</td>\n",
       "      <td>0.01</td>\n",
       "      <td>0.15</td>\n",
       "      <td>83.0</td>\n",
       "      <td>8.5</td>\n",
       "      <td>T</td>\n",
       "      <td>1.56</td>\n",
       "    </tr>\n",
       "    <tr>\n",
       "      <th>1591</th>\n",
       "      <td>Need for Speed: Most Wanted</td>\n",
       "      <td>X360</td>\n",
       "      <td>2005</td>\n",
       "      <td>Racing</td>\n",
       "      <td>1.00</td>\n",
       "      <td>0.13</td>\n",
       "      <td>0.02</td>\n",
       "      <td>0.10</td>\n",
       "      <td>83.0</td>\n",
       "      <td>8.5</td>\n",
       "      <td>T</td>\n",
       "      <td>1.25</td>\n",
       "    </tr>\n",
       "    <tr>\n",
       "      <th>5972</th>\n",
       "      <td>Need for Speed: Most Wanted</td>\n",
       "      <td>PC</td>\n",
       "      <td>2005</td>\n",
       "      <td>Racing</td>\n",
       "      <td>0.02</td>\n",
       "      <td>0.23</td>\n",
       "      <td>0.00</td>\n",
       "      <td>0.04</td>\n",
       "      <td>82.0</td>\n",
       "      <td>8.5</td>\n",
       "      <td>T</td>\n",
       "      <td>0.29</td>\n",
       "    </tr>\n",
       "    <tr>\n",
       "      <th>11715</th>\n",
       "      <td>Need for Speed: Most Wanted</td>\n",
       "      <td>PC</td>\n",
       "      <td>2012</td>\n",
       "      <td>Racing</td>\n",
       "      <td>0.00</td>\n",
       "      <td>0.06</td>\n",
       "      <td>0.00</td>\n",
       "      <td>0.02</td>\n",
       "      <td>82.0</td>\n",
       "      <td>8.5</td>\n",
       "      <td>T</td>\n",
       "      <td>0.08</td>\n",
       "    </tr>\n",
       "  </tbody>\n",
       "</table>\n",
       "</div>"
      ],
      "text/plain": [
       "                              name platform  year_of_release   genre  \\\n",
       "1190   Need for Speed: Most Wanted     X360             2012  Racing   \n",
       "1591   Need for Speed: Most Wanted     X360             2005  Racing   \n",
       "5972   Need for Speed: Most Wanted       PC             2005  Racing   \n",
       "11715  Need for Speed: Most Wanted       PC             2012  Racing   \n",
       "\n",
       "       na_sales  eu_sales  jp_sales  other_sales  critic_score  user_score  \\\n",
       "1190       0.62      0.78      0.01         0.15          83.0         8.5   \n",
       "1591       1.00      0.13      0.02         0.10          83.0         8.5   \n",
       "5972       0.02      0.23      0.00         0.04          82.0         8.5   \n",
       "11715      0.00      0.06      0.00         0.02          82.0         8.5   \n",
       "\n",
       "      rating  total_sales  \n",
       "1190       T         1.56  \n",
       "1591       T         1.25  \n",
       "5972       T         0.29  \n",
       "11715      T         0.08  "
      ]
     },
     "execution_count": 22,
     "metadata": {},
     "output_type": "execute_result"
    }
   ],
   "source": [
    "data[(data['name'] =='Need for Speed: Most Wanted') & ((data['platform'] == 'X360') | (data['platform'] == 'PC'))]"
   ]
  },
  {
   "cell_type": "markdown",
   "metadata": {},
   "source": [
    "Здесь игры различаются по году выпуска - скорее всего, разработчики перевыпускали одну и ту же игру на одной и той же платформе. Произошло это в одинаковые годы - выглядит вполне правдоподобно. Эти дубликаты удалять не будем."
   ]
  },
  {
   "cell_type": "markdown",
   "metadata": {},
   "source": [
    "### Промежуточный вывод:\n",
    "В ходе предобработки данных были заменены названия всех столбцов на названия в нижнем регистре. Это было сделано для дальнейшего удобства пользования таблицей. Также изменены типы данных столбцов `year_of_release` и `user_score`. Были обработаны пропуски, и удалена 271 строка (1,6% от датасета). В столбце `user_score` значения `tbd` были заменены на пропуски. Были проведены проверки на явные и неявные дубликаты, в результате чего была удалена 1 строка. Также был создан отдельный столбец с суммарной продажей игры по всем регионам."
   ]
  },
  {
   "cell_type": "markdown",
   "metadata": {},
   "source": [
    "## Шаг 3. Исследовательский анализ\n"
   ]
  },
  {
   "cell_type": "markdown",
   "metadata": {},
   "source": [
    "### Количество игр по годам\n",
    "Посмотрим, сколько игр выпускалось в разные годы. Важны ли данные за все периоды?"
   ]
  },
  {
   "cell_type": "code",
   "execution_count": 23,
   "metadata": {},
   "outputs": [
    {
     "data": {
      "image/png": "[encoded data removed]",
      "text/plain": [
       "<Figure size 1152x504 with 1 Axes>"
      ]
     },
     "metadata": {
      "needs_background": "light"
     },
     "output_type": "display_data"
    }
   ],
   "source": [
    "# группируем по году, считаем, выводим график\n",
    "data.groupby('year_of_release')['name'].count().plot(kind='bar', figsize = (16,7),xlabel='Год выпуска', \n",
    "                                                     ylabel='Количество игр', \n",
    "                                                     title='Количество выпущенных игр в каждый год')\n",
    "plt.show()"
   ]
  },
  {
   "cell_type": "markdown",
   "metadata": {},
   "source": [
    "По данным видно, что подъем случился после 2002 года. 2008-2009 года являются пиковыми. После 2012 года произошел спад - скорее всего, интерес к играм упал.<br>\n",
    "Для анализа нет необходимости учитывать все периоды."
   ]
  },
  {
   "cell_type": "markdown",
   "metadata": {},
   "source": [
    "### Продажи по платформам по годам\n",
    "Посмотрим, как менялись продажи по платформам. Выберем платформы с наибольшими суммарными продажами и построим распределение по годам. За какой характерный срок появляются новые и исчезают старые платформы?"
   ]
  },
  {
   "cell_type": "code",
   "execution_count": 24,
   "metadata": {},
   "outputs": [
    {
     "data": {
      "text/html": [
       "<div>\n",
       "<style scoped>\n",
       "    .dataframe tbody tr th:only-of-type {\n",
       "        vertical-align: middle;\n",
       "    }\n",
       "\n",
       "    .dataframe tbody tr th {\n",
       "        vertical-align: top;\n",
       "    }\n",
       "\n",
       "    .dataframe thead th {\n",
       "        text-align: right;\n",
       "    }\n",
       "</style>\n",
       "<table border=\"1\" class=\"dataframe\">\n",
       "  <thead>\n",
       "    <tr style=\"text-align: right;\">\n",
       "      <th></th>\n",
       "      <th>total_sales</th>\n",
       "    </tr>\n",
       "    <tr>\n",
       "      <th>platform</th>\n",
       "      <th></th>\n",
       "    </tr>\n",
       "  </thead>\n",
       "  <tbody>\n",
       "    <tr>\n",
       "      <th>PS2</th>\n",
       "      <td>1233.56</td>\n",
       "    </tr>\n",
       "    <tr>\n",
       "      <th>X360</th>\n",
       "      <td>961.24</td>\n",
       "    </tr>\n",
       "    <tr>\n",
       "      <th>PS3</th>\n",
       "      <td>931.33</td>\n",
       "    </tr>\n",
       "    <tr>\n",
       "      <th>Wii</th>\n",
       "      <td>891.18</td>\n",
       "    </tr>\n",
       "    <tr>\n",
       "      <th>DS</th>\n",
       "      <td>802.78</td>\n",
       "    </tr>\n",
       "    <tr>\n",
       "      <th>PS</th>\n",
       "      <td>727.58</td>\n",
       "    </tr>\n",
       "    <tr>\n",
       "      <th>PS4</th>\n",
       "      <td>314.14</td>\n",
       "    </tr>\n",
       "    <tr>\n",
       "      <th>GBA</th>\n",
       "      <td>312.88</td>\n",
       "    </tr>\n",
       "    <tr>\n",
       "      <th>PSP</th>\n",
       "      <td>289.53</td>\n",
       "    </tr>\n",
       "    <tr>\n",
       "      <th>3DS</th>\n",
       "      <td>257.81</td>\n",
       "    </tr>\n",
       "  </tbody>\n",
       "</table>\n",
       "</div>"
      ],
      "text/plain": [
       "          total_sales\n",
       "platform             \n",
       "PS2           1233.56\n",
       "X360           961.24\n",
       "PS3            931.33\n",
       "Wii            891.18\n",
       "DS             802.78\n",
       "PS             727.58\n",
       "PS4            314.14\n",
       "GBA            312.88\n",
       "PSP            289.53\n",
       "3DS            257.81"
      ]
     },
     "execution_count": 24,
     "metadata": {},
     "output_type": "execute_result"
    }
   ],
   "source": [
    "#группируем по платформам и сортируем по суммарным продажам\n",
    "data.groupby('platform')['total_sales'].sum().to_frame('total_sales').sort_values('total_sales', ascending=False).head(10)"
   ]
  },
  {
   "cell_type": "markdown",
   "metadata": {},
   "source": [
    "Выберем платформы с суммарными продажами больше 600. Сюда войдут PS2, X360, PS3, Wii, DS, PS. Далее по суммарным продажам идет резкий обрыв, поэтому берем для анализа только 6 платформ."
   ]
  },
  {
   "cell_type": "code",
   "execution_count": 25,
   "metadata": {},
   "outputs": [
    {
     "data": {
      "image/png": "[encoded data removed]",
      "text/plain": [
       "<Figure size 1152x504 with 1 Axes>"
      ]
     },
     "metadata": {
      "needs_background": "light"
     },
     "output_type": "display_data"
    }
   ],
   "source": [
    "top_pltf = data[(data['platform'] == 'PS2') |\n",
    "     (data['platform'] == 'X360') |\n",
    "     (data['platform'] == 'PS3') |\n",
    "     (data['platform'] == 'Wii') |\n",
    "     (data['platform'] == 'DS') |\n",
    "     (data['platform'] == 'PS')] # отбираем только топовые платформы\n",
    "top_pltf.pivot_table(index='year_of_release', columns = 'platform', values='total_sales', aggfunc='sum') \\\n",
    "    .plot(figsize=(16,7)) #формируем сводную таблицу и график\n",
    "plt.xlabel('Год выпуска')\n",
    "plt.title('Продажи по платформам')\n",
    "plt.ylabel('Количество игр')\n",
    "plt.xlim(1993,2016)\n",
    "plt.show()"
   ]
  },
  {
   "cell_type": "markdown",
   "metadata": {},
   "source": [
    "По графику видно, что у каждой из платформ есть жизненный цикл с характерным подъемом, пиком и спадом. Например, PS начала свою деятельность в 1994 году, пик пришелся на 1998 год, далее спад до 2003.<br>\n",
    "\n",
    "Также интересно отметить, что большинство топовых платформ свой жизненный цикл проживали как раз в пик популярности и выхода новых игр (график выше).\n",
    "\n",
    "В среднем платформы \"живут\" 10 лет. Далее неизбежно идет спад, так как с каждым годом технические характеристики и требования, улучшаются и платформа не может конкурировать с новыми платформами. Также возможной причиной может быть развитие информационных технологий, а вследствии и пиратства на рынке игр."
   ]
  },
  {
   "cell_type": "markdown",
   "metadata": {},
   "source": [
    "### Определение актуального периода\n",
    "Для дальнейшего анализа необходимо выбрать актуальный период - на его основе и будут выявляться закономерности. По данным и графикам актуальным является период с 2014 года по 2016.\n",
    "\n",
    " - Игровая индустрия меняется быстрее, поэтому период нужно брать максимально короткий\n",
    " - Самые прибыльные платформы как раз либо отжили свой срок и их можно не учитывать, либо еще держатся\n",
    " \n",
    "В соответствии с этим решением перезапишем датафрейм с условием `year_of_release >= 2014`"
   ]
  },
  {
   "cell_type": "code",
   "execution_count": 26,
   "metadata": {},
   "outputs": [
    {
     "data": {
      "text/html": [
       "<div>\n",
       "<style scoped>\n",
       "    .dataframe tbody tr th:only-of-type {\n",
       "        vertical-align: middle;\n",
       "    }\n",
       "\n",
       "    .dataframe tbody tr th {\n",
       "        vertical-align: top;\n",
       "    }\n",
       "\n",
       "    .dataframe thead th {\n",
       "        text-align: right;\n",
       "    }\n",
       "</style>\n",
       "<table border=\"1\" class=\"dataframe\">\n",
       "  <thead>\n",
       "    <tr style=\"text-align: right;\">\n",
       "      <th></th>\n",
       "      <th>index</th>\n",
       "      <th>name</th>\n",
       "      <th>platform</th>\n",
       "      <th>year_of_release</th>\n",
       "      <th>genre</th>\n",
       "      <th>na_sales</th>\n",
       "      <th>eu_sales</th>\n",
       "      <th>jp_sales</th>\n",
       "      <th>other_sales</th>\n",
       "      <th>critic_score</th>\n",
       "      <th>user_score</th>\n",
       "      <th>rating</th>\n",
       "      <th>total_sales</th>\n",
       "    </tr>\n",
       "  </thead>\n",
       "  <tbody>\n",
       "    <tr>\n",
       "      <th>0</th>\n",
       "      <td>31</td>\n",
       "      <td>Call of Duty: Black Ops 3</td>\n",
       "      <td>PS4</td>\n",
       "      <td>2015</td>\n",
       "      <td>Shooter</td>\n",
       "      <td>6.03</td>\n",
       "      <td>5.86</td>\n",
       "      <td>0.36</td>\n",
       "      <td>2.38</td>\n",
       "      <td>NaN</td>\n",
       "      <td>NaN</td>\n",
       "      <td>RP</td>\n",
       "      <td>14.63</td>\n",
       "    </tr>\n",
       "    <tr>\n",
       "      <th>1</th>\n",
       "      <td>42</td>\n",
       "      <td>Grand Theft Auto V</td>\n",
       "      <td>PS4</td>\n",
       "      <td>2014</td>\n",
       "      <td>Action</td>\n",
       "      <td>3.96</td>\n",
       "      <td>6.31</td>\n",
       "      <td>0.38</td>\n",
       "      <td>1.97</td>\n",
       "      <td>97.0</td>\n",
       "      <td>8.3</td>\n",
       "      <td>M</td>\n",
       "      <td>12.62</td>\n",
       "    </tr>\n",
       "    <tr>\n",
       "      <th>2</th>\n",
       "      <td>47</td>\n",
       "      <td>Pokemon Omega Ruby/Pokemon Alpha Sapphire</td>\n",
       "      <td>3DS</td>\n",
       "      <td>2014</td>\n",
       "      <td>Role-Playing</td>\n",
       "      <td>4.35</td>\n",
       "      <td>3.49</td>\n",
       "      <td>3.10</td>\n",
       "      <td>0.74</td>\n",
       "      <td>NaN</td>\n",
       "      <td>NaN</td>\n",
       "      <td>RP</td>\n",
       "      <td>11.68</td>\n",
       "    </tr>\n",
       "    <tr>\n",
       "      <th>3</th>\n",
       "      <td>77</td>\n",
       "      <td>FIFA 16</td>\n",
       "      <td>PS4</td>\n",
       "      <td>2015</td>\n",
       "      <td>Sports</td>\n",
       "      <td>1.12</td>\n",
       "      <td>6.12</td>\n",
       "      <td>0.06</td>\n",
       "      <td>1.28</td>\n",
       "      <td>82.0</td>\n",
       "      <td>4.3</td>\n",
       "      <td>E</td>\n",
       "      <td>8.58</td>\n",
       "    </tr>\n",
       "    <tr>\n",
       "      <th>4</th>\n",
       "      <td>87</td>\n",
       "      <td>Star Wars Battlefront (2015)</td>\n",
       "      <td>PS4</td>\n",
       "      <td>2015</td>\n",
       "      <td>Shooter</td>\n",
       "      <td>2.99</td>\n",
       "      <td>3.49</td>\n",
       "      <td>0.22</td>\n",
       "      <td>1.28</td>\n",
       "      <td>NaN</td>\n",
       "      <td>NaN</td>\n",
       "      <td>RP</td>\n",
       "      <td>7.98</td>\n",
       "    </tr>\n",
       "    <tr>\n",
       "      <th>...</th>\n",
       "      <td>...</td>\n",
       "      <td>...</td>\n",
       "      <td>...</td>\n",
       "      <td>...</td>\n",
       "      <td>...</td>\n",
       "      <td>...</td>\n",
       "      <td>...</td>\n",
       "      <td>...</td>\n",
       "      <td>...</td>\n",
       "      <td>...</td>\n",
       "      <td>...</td>\n",
       "      <td>...</td>\n",
       "      <td>...</td>\n",
       "    </tr>\n",
       "    <tr>\n",
       "      <th>1684</th>\n",
       "      <td>16703</td>\n",
       "      <td>Strawberry Nauts</td>\n",
       "      <td>PSV</td>\n",
       "      <td>2016</td>\n",
       "      <td>Adventure</td>\n",
       "      <td>0.00</td>\n",
       "      <td>0.00</td>\n",
       "      <td>0.01</td>\n",
       "      <td>0.00</td>\n",
       "      <td>NaN</td>\n",
       "      <td>NaN</td>\n",
       "      <td>RP</td>\n",
       "      <td>0.01</td>\n",
       "    </tr>\n",
       "    <tr>\n",
       "      <th>1685</th>\n",
       "      <td>16707</td>\n",
       "      <td>Aiyoku no Eustia</td>\n",
       "      <td>PSV</td>\n",
       "      <td>2014</td>\n",
       "      <td>Misc</td>\n",
       "      <td>0.00</td>\n",
       "      <td>0.00</td>\n",
       "      <td>0.01</td>\n",
       "      <td>0.00</td>\n",
       "      <td>NaN</td>\n",
       "      <td>NaN</td>\n",
       "      <td>RP</td>\n",
       "      <td>0.01</td>\n",
       "    </tr>\n",
       "    <tr>\n",
       "      <th>1686</th>\n",
       "      <td>16710</td>\n",
       "      <td>Samurai Warriors: Sanada Maru</td>\n",
       "      <td>PS3</td>\n",
       "      <td>2016</td>\n",
       "      <td>Action</td>\n",
       "      <td>0.00</td>\n",
       "      <td>0.00</td>\n",
       "      <td>0.01</td>\n",
       "      <td>0.00</td>\n",
       "      <td>NaN</td>\n",
       "      <td>NaN</td>\n",
       "      <td>RP</td>\n",
       "      <td>0.01</td>\n",
       "    </tr>\n",
       "    <tr>\n",
       "      <th>1687</th>\n",
       "      <td>16712</td>\n",
       "      <td>Haitaka no Psychedelica</td>\n",
       "      <td>PSV</td>\n",
       "      <td>2016</td>\n",
       "      <td>Adventure</td>\n",
       "      <td>0.00</td>\n",
       "      <td>0.00</td>\n",
       "      <td>0.01</td>\n",
       "      <td>0.00</td>\n",
       "      <td>NaN</td>\n",
       "      <td>NaN</td>\n",
       "      <td>RP</td>\n",
       "      <td>0.01</td>\n",
       "    </tr>\n",
       "    <tr>\n",
       "      <th>1688</th>\n",
       "      <td>16714</td>\n",
       "      <td>Winning Post 8 2016</td>\n",
       "      <td>PSV</td>\n",
       "      <td>2016</td>\n",
       "      <td>Simulation</td>\n",
       "      <td>0.00</td>\n",
       "      <td>0.00</td>\n",
       "      <td>0.01</td>\n",
       "      <td>0.00</td>\n",
       "      <td>NaN</td>\n",
       "      <td>NaN</td>\n",
       "      <td>RP</td>\n",
       "      <td>0.01</td>\n",
       "    </tr>\n",
       "  </tbody>\n",
       "</table>\n",
       "<p>1689 rows × 13 columns</p>\n",
       "</div>"
      ],
      "text/plain": [
       "      index                                       name platform  \\\n",
       "0        31                  Call of Duty: Black Ops 3      PS4   \n",
       "1        42                         Grand Theft Auto V      PS4   \n",
       "2        47  Pokemon Omega Ruby/Pokemon Alpha Sapphire      3DS   \n",
       "3        77                                    FIFA 16      PS4   \n",
       "4        87               Star Wars Battlefront (2015)      PS4   \n",
       "...     ...                                        ...      ...   \n",
       "1684  16703                           Strawberry Nauts      PSV   \n",
       "1685  16707                           Aiyoku no Eustia      PSV   \n",
       "1686  16710              Samurai Warriors: Sanada Maru      PS3   \n",
       "1687  16712                    Haitaka no Psychedelica      PSV   \n",
       "1688  16714                        Winning Post 8 2016      PSV   \n",
       "\n",
       "      year_of_release         genre  na_sales  eu_sales  jp_sales  \\\n",
       "0                2015       Shooter      6.03      5.86      0.36   \n",
       "1                2014        Action      3.96      6.31      0.38   \n",
       "2                2014  Role-Playing      4.35      3.49      3.10   \n",
       "3                2015        Sports      1.12      6.12      0.06   \n",
       "4                2015       Shooter      2.99      3.49      0.22   \n",
       "...               ...           ...       ...       ...       ...   \n",
       "1684             2016     Adventure      0.00      0.00      0.01   \n",
       "1685             2014          Misc      0.00      0.00      0.01   \n",
       "1686             2016        Action      0.00      0.00      0.01   \n",
       "1687             2016     Adventure      0.00      0.00      0.01   \n",
       "1688             2016    Simulation      0.00      0.00      0.01   \n",
       "\n",
       "      other_sales  critic_score  user_score rating  total_sales  \n",
       "0            2.38           NaN         NaN     RP        14.63  \n",
       "1            1.97          97.0         8.3      M        12.62  \n",
       "2            0.74           NaN         NaN     RP        11.68  \n",
       "3            1.28          82.0         4.3      E         8.58  \n",
       "4            1.28           NaN         NaN     RP         7.98  \n",
       "...           ...           ...         ...    ...          ...  \n",
       "1684         0.00           NaN         NaN     RP         0.01  \n",
       "1685         0.00           NaN         NaN     RP         0.01  \n",
       "1686         0.00           NaN         NaN     RP         0.01  \n",
       "1687         0.00           NaN         NaN     RP         0.01  \n",
       "1688         0.00           NaN         NaN     RP         0.01  \n",
       "\n",
       "[1689 rows x 13 columns]"
      ]
     },
     "execution_count": 26,
     "metadata": {},
     "output_type": "execute_result"
    }
   ],
   "source": [
    "new_data = data[data['year_of_release'] >= 2014].reset_index() #перезаписываем таблицу с условием\n",
    "new_data"
   ]
  },
  {
   "cell_type": "markdown",
   "metadata": {},
   "source": [
    "### Текущие платформы-лидеры\n",
    "Посмотрим, какие из платформ в данный момент находятся на пике, растут или падают."
   ]
  },
  {
   "cell_type": "code",
   "execution_count": 27,
   "metadata": {},
   "outputs": [
    {
     "data": {
      "image/png": "[encoded data removed]",
      "text/plain": [
       "<Figure size 1152x504 with 1 Axes>"
      ]
     },
     "metadata": {
      "needs_background": "light"
     },
     "output_type": "display_data"
    }
   ],
   "source": [
    "new_data.pivot_table(index='year_of_release', columns = 'platform', values='total_sales', aggfunc='sum') \\\n",
    "    .plot(figsize=(16,7)) #сводная таблица по платформам и продажам в разрезе годов и график\n",
    "plt.xlabel('Год выпуска')\n",
    "plt.ylabel('Количество игр')\n",
    "plt.xlim(2014,2016)\n",
    "plt.legend(bbox_to_anchor=(1, 1))\n",
    "plt.show()"
   ]
  },
  {
   "cell_type": "markdown",
   "metadata": {},
   "source": [
    "По графику видно, что ни одна из платформ на 2016 год не находится на пике и не растет.\n",
    "\n",
    "На 2016 год лидерами по продажам являются: \n",
    " - PS4\n",
    " - XOne\n",
    " - 3DS\n",
    " \n",
    "Однако и они проживают стадию спада. Отсюда можно сделать вывод, что падают продажи не только по отдельным платформам, а по всему рынку игр. "
   ]
  },
  {
   "cell_type": "markdown",
   "metadata": {},
   "source": [
    "### Глобальные продажи в разбивке по платформам\n",
    "Постройте график «ящик с усами» по глобальным продажам игр в разбивке по платформам. Опишите результат."
   ]
  },
  {
   "cell_type": "code",
   "execution_count": 28,
   "metadata": {},
   "outputs": [
    {
     "data": {
      "image/png": "[encoded data removed]",
      "text/plain": [
       "<Figure size 1800x720 with 1 Axes>"
      ]
     },
     "metadata": {
      "needs_background": "light"
     },
     "output_type": "display_data"
    }
   ],
   "source": [
    "top_pltf_new = top_pltf[top_pltf['year_of_release'] >= 2014] #запрос из таблицы с условием\n",
    "top_pltf_new.boxplot(column='total_sales', by='platform', fontsize=25, figsize=(25,10)) #ящик с усами\n",
    "plt.xlabel('Платформа')\n",
    "plt.ylabel('Продажи')\n",
    "plt.title('Продажи по платформам')\n",
    "plt.show()"
   ]
  },
  {
   "cell_type": "markdown",
   "metadata": {},
   "source": [
    "Посмотрим поближе, чтобы увидеть медианы."
   ]
  },
  {
   "cell_type": "code",
   "execution_count": 29,
   "metadata": {},
   "outputs": [
    {
     "data": {
      "image/png": "[encoded data removed]",
      "text/plain": [
       "<Figure size 1800x720 with 1 Axes>"
      ]
     },
     "metadata": {
      "needs_background": "light"
     },
     "output_type": "display_data"
    }
   ],
   "source": [
    "top_pltf_new.boxplot(column='total_sales', by='platform', fontsize=25, figsize=(25,10)) #ящик с усами поближе\n",
    "plt.ylim([0, 0.8])\n",
    "plt.xlabel('Платформа')\n",
    "plt.ylabel('Продажи')\n",
    "plt.title('Продажи по платформам')\n",
    "plt.show()"
   ]
  },
  {
   "cell_type": "markdown",
   "metadata": {},
   "source": [
    "Из датасета с топовыми платформами пропала платформа PS, так как ее жизненный цикл закончился до актуального для нас периода.\n",
    "\n",
    "В среднем продажи держатся около 0,35 миллионов копий. Медиана - 0,12. На диаграмме видны выбросы - возможно, платформа попала в топ именно из-за \"выстрелившей\" игры.\n",
    "\n",
    "Убедимся в цифрах еще раз."
   ]
  },
  {
   "cell_type": "code",
   "execution_count": 30,
   "metadata": {},
   "outputs": [
    {
     "data": {
      "text/plain": [
       "count    341.000000\n",
       "mean       0.356217\n",
       "std        0.632537\n",
       "min        0.010000\n",
       "25%        0.040000\n",
       "50%        0.120000\n",
       "75%        0.410000\n",
       "max        5.270000\n",
       "Name: total_sales, dtype: float64"
      ]
     },
     "execution_count": 30,
     "metadata": {},
     "output_type": "execute_result"
    }
   ],
   "source": [
    "top_pltf_new['total_sales'].describe() #описание таблицы с топовыми платформами"
   ]
  },
  {
   "cell_type": "markdown",
   "metadata": {},
   "source": [
    "Посмотрим самые \"топовые\" игры для топовых платформ."
   ]
  },
  {
   "cell_type": "code",
   "execution_count": 31,
   "metadata": {},
   "outputs": [
    {
     "data": {
      "text/html": [
       "<div>\n",
       "<style scoped>\n",
       "    .dataframe tbody tr th:only-of-type {\n",
       "        vertical-align: middle;\n",
       "    }\n",
       "\n",
       "    .dataframe tbody tr th {\n",
       "        vertical-align: top;\n",
       "    }\n",
       "\n",
       "    .dataframe thead th {\n",
       "        text-align: right;\n",
       "    }\n",
       "</style>\n",
       "<table border=\"1\" class=\"dataframe\">\n",
       "  <thead>\n",
       "    <tr style=\"text-align: right;\">\n",
       "      <th></th>\n",
       "      <th>name</th>\n",
       "      <th>platform</th>\n",
       "      <th>year_of_release</th>\n",
       "      <th>genre</th>\n",
       "      <th>na_sales</th>\n",
       "      <th>eu_sales</th>\n",
       "      <th>jp_sales</th>\n",
       "      <th>other_sales</th>\n",
       "      <th>critic_score</th>\n",
       "      <th>user_score</th>\n",
       "      <th>rating</th>\n",
       "      <th>total_sales</th>\n",
       "    </tr>\n",
       "  </thead>\n",
       "  <tbody>\n",
       "    <tr>\n",
       "      <th>180</th>\n",
       "      <td>Minecraft</td>\n",
       "      <td>PS3</td>\n",
       "      <td>2014</td>\n",
       "      <td>Misc</td>\n",
       "      <td>2.03</td>\n",
       "      <td>2.37</td>\n",
       "      <td>0.00</td>\n",
       "      <td>0.87</td>\n",
       "      <td>NaN</td>\n",
       "      <td>NaN</td>\n",
       "      <td>RP</td>\n",
       "      <td>5.27</td>\n",
       "    </tr>\n",
       "    <tr>\n",
       "      <th>255</th>\n",
       "      <td>Call of Duty: Advanced Warfare</td>\n",
       "      <td>PS3</td>\n",
       "      <td>2014</td>\n",
       "      <td>Shooter</td>\n",
       "      <td>1.56</td>\n",
       "      <td>1.93</td>\n",
       "      <td>0.19</td>\n",
       "      <td>0.68</td>\n",
       "      <td>NaN</td>\n",
       "      <td>4.8</td>\n",
       "      <td>M</td>\n",
       "      <td>4.36</td>\n",
       "    </tr>\n",
       "    <tr>\n",
       "      <th>263</th>\n",
       "      <td>Call of Duty: Advanced Warfare</td>\n",
       "      <td>X360</td>\n",
       "      <td>2014</td>\n",
       "      <td>Shooter</td>\n",
       "      <td>2.77</td>\n",
       "      <td>1.11</td>\n",
       "      <td>0.00</td>\n",
       "      <td>0.40</td>\n",
       "      <td>NaN</td>\n",
       "      <td>4.9</td>\n",
       "      <td>M</td>\n",
       "      <td>4.28</td>\n",
       "    </tr>\n",
       "    <tr>\n",
       "      <th>264</th>\n",
       "      <td>FIFA 15</td>\n",
       "      <td>PS3</td>\n",
       "      <td>2014</td>\n",
       "      <td>Sports</td>\n",
       "      <td>0.58</td>\n",
       "      <td>3.02</td>\n",
       "      <td>0.04</td>\n",
       "      <td>0.64</td>\n",
       "      <td>NaN</td>\n",
       "      <td>4.5</td>\n",
       "      <td>E</td>\n",
       "      <td>4.28</td>\n",
       "    </tr>\n",
       "    <tr>\n",
       "      <th>494</th>\n",
       "      <td>FIFA 15</td>\n",
       "      <td>X360</td>\n",
       "      <td>2014</td>\n",
       "      <td>Sports</td>\n",
       "      <td>0.79</td>\n",
       "      <td>1.92</td>\n",
       "      <td>0.00</td>\n",
       "      <td>0.21</td>\n",
       "      <td>NaN</td>\n",
       "      <td>4.2</td>\n",
       "      <td>E</td>\n",
       "      <td>2.92</td>\n",
       "    </tr>\n",
       "    <tr>\n",
       "      <th>552</th>\n",
       "      <td>FIFA 16</td>\n",
       "      <td>PS3</td>\n",
       "      <td>2015</td>\n",
       "      <td>Sports</td>\n",
       "      <td>0.41</td>\n",
       "      <td>1.84</td>\n",
       "      <td>0.05</td>\n",
       "      <td>0.40</td>\n",
       "      <td>NaN</td>\n",
       "      <td>3.2</td>\n",
       "      <td>E</td>\n",
       "      <td>2.70</td>\n",
       "    </tr>\n",
       "    <tr>\n",
       "      <th>829</th>\n",
       "      <td>Madden NFL 15</td>\n",
       "      <td>X360</td>\n",
       "      <td>2014</td>\n",
       "      <td>Sports</td>\n",
       "      <td>1.77</td>\n",
       "      <td>0.06</td>\n",
       "      <td>0.00</td>\n",
       "      <td>0.22</td>\n",
       "      <td>NaN</td>\n",
       "      <td>5.5</td>\n",
       "      <td>E</td>\n",
       "      <td>2.05</td>\n",
       "    </tr>\n",
       "    <tr>\n",
       "      <th>850</th>\n",
       "      <td>Just Dance 2015</td>\n",
       "      <td>Wii</td>\n",
       "      <td>2014</td>\n",
       "      <td>Misc</td>\n",
       "      <td>0.99</td>\n",
       "      <td>0.85</td>\n",
       "      <td>0.00</td>\n",
       "      <td>0.17</td>\n",
       "      <td>NaN</td>\n",
       "      <td>8.4</td>\n",
       "      <td>E10+</td>\n",
       "      <td>2.01</td>\n",
       "    </tr>\n",
       "    <tr>\n",
       "      <th>898</th>\n",
       "      <td>Destiny</td>\n",
       "      <td>X360</td>\n",
       "      <td>2014</td>\n",
       "      <td>Shooter</td>\n",
       "      <td>1.31</td>\n",
       "      <td>0.43</td>\n",
       "      <td>0.00</td>\n",
       "      <td>0.18</td>\n",
       "      <td>NaN</td>\n",
       "      <td>4.7</td>\n",
       "      <td>T</td>\n",
       "      <td>1.92</td>\n",
       "    </tr>\n",
       "  </tbody>\n",
       "</table>\n",
       "</div>"
      ],
      "text/plain": [
       "                               name platform  year_of_release    genre  \\\n",
       "180                       Minecraft      PS3             2014     Misc   \n",
       "255  Call of Duty: Advanced Warfare      PS3             2014  Shooter   \n",
       "263  Call of Duty: Advanced Warfare     X360             2014  Shooter   \n",
       "264                         FIFA 15      PS3             2014   Sports   \n",
       "494                         FIFA 15     X360             2014   Sports   \n",
       "552                         FIFA 16      PS3             2015   Sports   \n",
       "829                   Madden NFL 15     X360             2014   Sports   \n",
       "850                 Just Dance 2015      Wii             2014     Misc   \n",
       "898                         Destiny     X360             2014  Shooter   \n",
       "\n",
       "     na_sales  eu_sales  jp_sales  other_sales  critic_score  user_score  \\\n",
       "180      2.03      2.37      0.00         0.87           NaN         NaN   \n",
       "255      1.56      1.93      0.19         0.68           NaN         4.8   \n",
       "263      2.77      1.11      0.00         0.40           NaN         4.9   \n",
       "264      0.58      3.02      0.04         0.64           NaN         4.5   \n",
       "494      0.79      1.92      0.00         0.21           NaN         4.2   \n",
       "552      0.41      1.84      0.05         0.40           NaN         3.2   \n",
       "829      1.77      0.06      0.00         0.22           NaN         5.5   \n",
       "850      0.99      0.85      0.00         0.17           NaN         8.4   \n",
       "898      1.31      0.43      0.00         0.18           NaN         4.7   \n",
       "\n",
       "    rating  total_sales  \n",
       "180     RP         5.27  \n",
       "255      M         4.36  \n",
       "263      M         4.28  \n",
       "264      E         4.28  \n",
       "494      E         2.92  \n",
       "552      E         2.70  \n",
       "829      E         2.05  \n",
       "850   E10+         2.01  \n",
       "898      T         1.92  "
      ]
     },
     "execution_count": 31,
     "metadata": {},
     "output_type": "execute_result"
    }
   ],
   "source": [
    "top_pltf_new[top_pltf_new['total_sales'] >=1.8] # самые прибыльные игры для топовых платформ"
   ]
  },
  {
   "cell_type": "markdown",
   "metadata": {},
   "source": [
    "### Оценка экспертов и пользователей\n",
    "Посмотрим, как влияют на продажи внутри одной популярной платформы отзывы пользователей и критиков. Построим диаграмму рассеяния и посчитаем корреляцию между отзывами и продажами. "
   ]
  },
  {
   "cell_type": "markdown",
   "metadata": {},
   "source": [
    "Посмотрим на примере самых популярных на 2016 год платформ: PS4, XOne, 3DS."
   ]
  },
  {
   "cell_type": "code",
   "execution_count": 32,
   "metadata": {},
   "outputs": [
    {
     "name": "stdout",
     "output_type": "stream",
     "text": [
      "Коэффициент корреляции для оценки критиков и продаж = 0.40266141068104083\n",
      "Коэффициент корреляции для оценки пользователей и продаж = -0.040131589472697286\n"
     ]
    }
   ],
   "source": [
    "PS4 = new_data[new_data['platform'] == 'PS4'] #новая переменная из новой таблицы с условием\n",
    "\n",
    "#коэффициенты корреляции\n",
    "print('Коэффициент корреляции для оценки критиков и продаж =', PS4['critic_score'].corr(PS4['total_sales']))\n",
    "print('Коэффициент корреляции для оценки пользователей и продаж =', PS4['user_score'].corr(PS4['total_sales']))"
   ]
  },
  {
   "cell_type": "markdown",
   "metadata": {},
   "source": [
    "Коэффициент корреляции для оценки критиков и продаж = 0,4. Это средняя положительная связь. <br>\n",
    "Коэффициент корреляции для оценки пользователей и продаж = -0.04. Это отрицательная крайне слабая связь."
   ]
  },
  {
   "cell_type": "code",
   "execution_count": 33,
   "metadata": {},
   "outputs": [
    {
     "data": {
      "image/png": "[encoded data removed]",
      "text/plain": [
       "<Figure size 720x432 with 1 Axes>"
      ]
     },
     "metadata": {
      "needs_background": "light"
     },
     "output_type": "display_data"
    }
   ],
   "source": [
    "# диаграмма рассеяния\n",
    "PS4.plot(kind='scatter', x='critic_score', y='total_sales', \n",
    "         figsize=(10,6), xlabel='Оценка критиков', ylabel='Продажи', \n",
    "         title='PS4 critic_score')\n",
    "plt.show()"
   ]
  },
  {
   "cell_type": "markdown",
   "metadata": {},
   "source": [
    "По диаграмме рассеяния видно, что чем выше оцениваеют игру, тем больше она приносит дохода. Это неудивительно, если оценка критиков высокая - игра качественная, соответственно, больше выручки приносит."
   ]
  },
  {
   "cell_type": "code",
   "execution_count": 34,
   "metadata": {},
   "outputs": [
    {
     "data": {
      "image/png": "[encoded data removed]",
      "text/plain": [
       "<Figure size 720x432 with 1 Axes>"
      ]
     },
     "metadata": {
      "needs_background": "light"
     },
     "output_type": "display_data"
    }
   ],
   "source": [
    "#диаграмма рассеяния\n",
    "PS4.plot(kind='scatter', x='user_score', y='total_sales', \n",
    "         figsize=(10,6), xlabel='Оценка пользователей', ylabel='Продажи', \n",
    "         title='PS4 user_score')\n",
    "\n",
    "plt.show()"
   ]
  },
  {
   "cell_type": "markdown",
   "metadata": {},
   "source": [
    "По диаграмме видно, что нет тенденции к зависимости между оценкой пользователей и продажами."
   ]
  },
  {
   "cell_type": "markdown",
   "metadata": {},
   "source": [
    "Посмотрим на те же самые метрики для двух других платформ."
   ]
  },
  {
   "cell_type": "code",
   "execution_count": 35,
   "metadata": {},
   "outputs": [
    {
     "name": "stdout",
     "output_type": "stream",
     "text": [
      "Коэффициент корреляции для оценки критиков и продаж = 0.428676943703332\n",
      "Коэффициент корреляции для оценки пользователей и продаж = -0.07038392806475818\n"
     ]
    },
    {
     "data": {
      "image/png": "[encoded data removed]",
      "text/plain": [
       "<Figure size 1080x360 with 2 Axes>"
      ]
     },
     "metadata": {
      "needs_background": "light"
     },
     "output_type": "display_data"
    }
   ],
   "source": [
    "#новая переменная с условием по конкретной платформе\n",
    "XOne = new_data[new_data['platform'] == 'XOne']\n",
    "print('Коэффициент корреляции для оценки критиков и продаж =', XOne['critic_score'].corr(XOne['total_sales']))\n",
    "print('Коэффициент корреляции для оценки пользователей и продаж =', XOne['user_score'].corr(XOne['total_sales']))\n",
    "\n",
    "#вывод диаграмм рассеяния\n",
    "fig, ax = plt.subplots(1, 2, figsize=[15,5])\n",
    "fig.suptitle('Диаграмма рассеяния для XOne')\n",
    "\n",
    "ax[0].plot(XOne['critic_score'], XOne['total_sales'], 'o')\n",
    "ax[0].set_title('XOne critic_score')\n",
    "\n",
    "ax[1].plot(XOne['user_score'], XOne['total_sales'], 'o')\n",
    "ax[0].set_title('XOne user_score')\n",
    "\n",
    "plt.show()"
   ]
  },
  {
   "cell_type": "markdown",
   "metadata": {},
   "source": [
    "0,43 = средняя положительная связь. <br>\n",
    "-0,07 = отрицательная крайне слабая связь."
   ]
  },
  {
   "cell_type": "markdown",
   "metadata": {},
   "source": [
    "Собственно, то же самое видно и на диаграммах рассеяния. Есть зависимость с оценкой критиков, нет зависимости с оценкой пользователей.\n",
    "\n",
    "Посмотрим для 3DS."
   ]
  },
  {
   "cell_type": "code",
   "execution_count": 36,
   "metadata": {},
   "outputs": [
    {
     "name": "stdout",
     "output_type": "stream",
     "text": [
      "Коэффициент корреляции для оценки критиков и продаж = 0.3141174928690509\n",
      "Коэффициент корреляции для оценки пользователей и продаж = 0.2151932718527028\n"
     ]
    },
    {
     "data": {
      "image/png": "[encoded data removed]",
      "text/plain": [
       "<Figure size 1080x360 with 2 Axes>"
      ]
     },
     "metadata": {
      "needs_background": "light"
     },
     "output_type": "display_data"
    }
   ],
   "source": [
    "#новая переменная с условием по конкретной платформе\n",
    "DS_3 = new_data[new_data['platform'] == '3DS']\n",
    "print('Коэффициент корреляции для оценки критиков и продаж =', DS_3['critic_score'].corr(DS_3['total_sales']))\n",
    "print('Коэффициент корреляции для оценки пользователей и продаж =', DS_3['user_score'].corr(DS_3['total_sales']))\n",
    "\n",
    "#вывод графиков\n",
    "fig, ax = plt.subplots(1, 2, figsize=[15,5])\n",
    "fig.suptitle('Диаграмма рассеяния для 3DSe')\n",
    "\n",
    "ax[0].plot(DS_3['critic_score'], DS_3['total_sales'], 'o')\n",
    "ax[0].set_title('3DS critic_score')\n",
    "\n",
    "ax[1].plot(DS_3['user_score'], DS_3['total_sales'], 'o')\n",
    "ax[0].set_title('3DS user_score')\n",
    "\n",
    "plt.show()"
   ]
  },
  {
   "cell_type": "markdown",
   "metadata": {},
   "source": [
    "Для платформы 3DS немного другая ситуация: Коэффициент корреляции для оценки критиков и продаж = 0.314, слабая<br> \n",
    "а вот Коэффициент корреляции для оценки пользователей и продаж = 0.215 - положительная, но слабая связь."
   ]
  },
  {
   "cell_type": "markdown",
   "metadata": {},
   "source": [
    "Посмотрим на данные в общем. Что сильнее влияет на продажи: оценки пользователей или оценки экспертов?"
   ]
  },
  {
   "cell_type": "code",
   "execution_count": 37,
   "metadata": {},
   "outputs": [
    {
     "data": {
      "image/png": "[encoded data removed]",
      "text/plain": [
       "<Figure size 648x648 with 2 Axes>"
      ]
     },
     "metadata": {
      "needs_background": "light"
     },
     "output_type": "display_data"
    }
   ],
   "source": [
    "#отбираем только нужные столбцы\n",
    "data_filtered = new_data[['total_sales' ,'critic_score', 'user_score']]\n",
    "#выводим график с корреляцией\n",
    "plt.figure(figsize=(9,9))\n",
    "sns.heatmap(data_filtered.corr(), annot=True)\n",
    "\n",
    "plt.show()"
   ]
  },
  {
   "cell_type": "markdown",
   "metadata": {},
   "source": [
    "По тепловой карте видно, что между оценкой критиков и продажами связь сильнее, чем между оценкой пользователей и продажами. Однако связь не такая уж и сильная (даже скорее слабая, всего 0,33)- ее нельзя считать за показательную."
   ]
  },
  {
   "cell_type": "markdown",
   "metadata": {},
   "source": [
    "### Распределение по жанрам\n",
    "Посмотрите на общее распределение игр по жанрам. Что можно сказать о самых прибыльных жанрах? Выделяются ли жанры с высокими и низкими продажами?\n",
    "\n",
    "Посмотрим, сколько игр приходится на каждый жанр. "
   ]
  },
  {
   "cell_type": "code",
   "execution_count": 38,
   "metadata": {},
   "outputs": [
    {
     "data": {
      "text/plain": [
       "genre\n",
       "Action          619\n",
       "Role-Playing    221\n",
       "Adventure       185\n",
       "Sports          161\n",
       "Shooter         128\n",
       "Misc            113\n",
       "Racing           69\n",
       "Fighting         60\n",
       "Simulation       44\n",
       "Platform         38\n",
       "Strategy         37\n",
       "Puzzle           14\n",
       "dtype: int64"
      ]
     },
     "execution_count": 38,
     "metadata": {},
     "output_type": "execute_result"
    }
   ],
   "source": [
    "new_data.value_counts('genre') #считаем количество игр по жанрам"
   ]
  },
  {
   "cell_type": "markdown",
   "metadata": {},
   "source": [
    "Самыми популярными жанрами являются Action, Sports, Misc, Adventure, Role-Playing.<br>\n",
    "Самыми непопулярными - Strategy, Puzzle, Platform. Вероятно, потому что такие игры требуют большего времени и вникания в процесс.\n",
    "\n",
    "Посмотрим, сколько приходится продаж на каждый жанр."
   ]
  },
  {
   "cell_type": "code",
   "execution_count": 39,
   "metadata": {},
   "outputs": [
    {
     "data": {
      "text/html": [
       "<div>\n",
       "<style scoped>\n",
       "    .dataframe tbody tr th:only-of-type {\n",
       "        vertical-align: middle;\n",
       "    }\n",
       "\n",
       "    .dataframe tbody tr th {\n",
       "        vertical-align: top;\n",
       "    }\n",
       "\n",
       "    .dataframe thead th {\n",
       "        text-align: right;\n",
       "    }\n",
       "</style>\n",
       "<table border=\"1\" class=\"dataframe\">\n",
       "  <thead>\n",
       "    <tr style=\"text-align: right;\">\n",
       "      <th></th>\n",
       "      <th>total_sales</th>\n",
       "    </tr>\n",
       "    <tr>\n",
       "      <th>genre</th>\n",
       "      <th></th>\n",
       "    </tr>\n",
       "  </thead>\n",
       "  <tbody>\n",
       "    <tr>\n",
       "      <th>Action</th>\n",
       "      <td>199.36</td>\n",
       "    </tr>\n",
       "    <tr>\n",
       "      <th>Shooter</th>\n",
       "      <td>170.94</td>\n",
       "    </tr>\n",
       "    <tr>\n",
       "      <th>Sports</th>\n",
       "      <td>109.48</td>\n",
       "    </tr>\n",
       "    <tr>\n",
       "      <th>Role-Playing</th>\n",
       "      <td>101.44</td>\n",
       "    </tr>\n",
       "    <tr>\n",
       "      <th>Misc</th>\n",
       "      <td>37.55</td>\n",
       "    </tr>\n",
       "    <tr>\n",
       "      <th>Fighting</th>\n",
       "      <td>28.22</td>\n",
       "    </tr>\n",
       "    <tr>\n",
       "      <th>Racing</th>\n",
       "      <td>27.52</td>\n",
       "    </tr>\n",
       "    <tr>\n",
       "      <th>Platform</th>\n",
       "      <td>18.09</td>\n",
       "    </tr>\n",
       "    <tr>\n",
       "      <th>Adventure</th>\n",
       "      <td>17.55</td>\n",
       "    </tr>\n",
       "    <tr>\n",
       "      <th>Simulation</th>\n",
       "      <td>13.13</td>\n",
       "    </tr>\n",
       "    <tr>\n",
       "      <th>Strategy</th>\n",
       "      <td>3.96</td>\n",
       "    </tr>\n",
       "    <tr>\n",
       "      <th>Puzzle</th>\n",
       "      <td>2.21</td>\n",
       "    </tr>\n",
       "  </tbody>\n",
       "</table>\n",
       "</div>"
      ],
      "text/plain": [
       "              total_sales\n",
       "genre                    \n",
       "Action             199.36\n",
       "Shooter            170.94\n",
       "Sports             109.48\n",
       "Role-Playing       101.44\n",
       "Misc                37.55\n",
       "Fighting            28.22\n",
       "Racing              27.52\n",
       "Platform            18.09\n",
       "Adventure           17.55\n",
       "Simulation          13.13\n",
       "Strategy             3.96\n",
       "Puzzle               2.21"
      ]
     },
     "execution_count": 39,
     "metadata": {},
     "output_type": "execute_result"
    }
   ],
   "source": [
    "#формируем таблицу по жанру и продажам по жанру\n",
    "new_data.groupby('genre')['total_sales'].sum().to_frame('total_sales') \\\n",
    "    .sort_values('total_sales', ascending=False)"
   ]
  },
  {
   "cell_type": "code",
   "execution_count": 40,
   "metadata": {},
   "outputs": [
    {
     "data": {
      "image/png": "[encoded data removed]",
      "text/plain": [
       "<Figure size 1152x504 with 1 Axes>"
      ]
     },
     "metadata": {
      "needs_background": "light"
     },
     "output_type": "display_data"
    }
   ],
   "source": [
    "#выводим график\n",
    "new_data.groupby('genre')['total_sales'].sum().plot(kind='bar', figsize = (16,7))\n",
    "\n",
    "plt.xlabel('Жанр')\n",
    "plt.ylabel('Количество продаж')\n",
    "plt.title('Количество продаж по жанрам')\n",
    "plt.show()"
   ]
  },
  {
   "cell_type": "markdown",
   "metadata": {},
   "source": [
    "Посчитаем медианы продаж игр в каждом жанре. Возможно, такие высокие продажи Action и Shooter связаны с выпуском огромного количества дешевых игр. Медиана учитывает не только слишком большие\\маленькие значения относительно среднего, но и их количество. Поэтому брать итоговые результаты медианы или среднего более корректно."
   ]
  },
  {
   "cell_type": "code",
   "execution_count": 41,
   "metadata": {},
   "outputs": [
    {
     "data": {
      "text/html": [
       "<div>\n",
       "<style scoped>\n",
       "    .dataframe tbody tr th:only-of-type {\n",
       "        vertical-align: middle;\n",
       "    }\n",
       "\n",
       "    .dataframe tbody tr th {\n",
       "        vertical-align: top;\n",
       "    }\n",
       "\n",
       "    .dataframe thead th {\n",
       "        text-align: right;\n",
       "    }\n",
       "</style>\n",
       "<table border=\"1\" class=\"dataframe\">\n",
       "  <thead>\n",
       "    <tr style=\"text-align: right;\">\n",
       "      <th></th>\n",
       "      <th>total_sales</th>\n",
       "    </tr>\n",
       "    <tr>\n",
       "      <th>genre</th>\n",
       "      <th></th>\n",
       "    </tr>\n",
       "  </thead>\n",
       "  <tbody>\n",
       "    <tr>\n",
       "      <th>Shooter</th>\n",
       "      <td>0.515</td>\n",
       "    </tr>\n",
       "    <tr>\n",
       "      <th>Sports</th>\n",
       "      <td>0.180</td>\n",
       "    </tr>\n",
       "    <tr>\n",
       "      <th>Platform</th>\n",
       "      <td>0.140</td>\n",
       "    </tr>\n",
       "    <tr>\n",
       "      <th>Fighting</th>\n",
       "      <td>0.125</td>\n",
       "    </tr>\n",
       "    <tr>\n",
       "      <th>Role-Playing</th>\n",
       "      <td>0.110</td>\n",
       "    </tr>\n",
       "    <tr>\n",
       "      <th>Simulation</th>\n",
       "      <td>0.100</td>\n",
       "    </tr>\n",
       "    <tr>\n",
       "      <th>Action</th>\n",
       "      <td>0.090</td>\n",
       "    </tr>\n",
       "    <tr>\n",
       "      <th>Misc</th>\n",
       "      <td>0.090</td>\n",
       "    </tr>\n",
       "    <tr>\n",
       "      <th>Racing</th>\n",
       "      <td>0.090</td>\n",
       "    </tr>\n",
       "    <tr>\n",
       "      <th>Strategy</th>\n",
       "      <td>0.060</td>\n",
       "    </tr>\n",
       "    <tr>\n",
       "      <th>Puzzle</th>\n",
       "      <td>0.045</td>\n",
       "    </tr>\n",
       "    <tr>\n",
       "      <th>Adventure</th>\n",
       "      <td>0.030</td>\n",
       "    </tr>\n",
       "  </tbody>\n",
       "</table>\n",
       "</div>"
      ],
      "text/plain": [
       "              total_sales\n",
       "genre                    \n",
       "Shooter             0.515\n",
       "Sports              0.180\n",
       "Platform            0.140\n",
       "Fighting            0.125\n",
       "Role-Playing        0.110\n",
       "Simulation          0.100\n",
       "Action              0.090\n",
       "Misc                0.090\n",
       "Racing              0.090\n",
       "Strategy            0.060\n",
       "Puzzle              0.045\n",
       "Adventure           0.030"
      ]
     },
     "execution_count": 41,
     "metadata": {},
     "output_type": "execute_result"
    }
   ],
   "source": [
    "new_data.groupby('genre')['total_sales'].median().to_frame('total_sales') \\\n",
    "    .sort_values('total_sales', ascending=False)"
   ]
  },
  {
   "cell_type": "markdown",
   "metadata": {},
   "source": [
    "Самыми прибыльными жанрами являются \n",
    "- Shooter (с большим отрывом)\n",
    "- Sports\n",
    "- Platform\n",
    "- Fighting\n",
    "- Role-Playing\n",
    "\n",
    "Самыми неприбыльными являются\n",
    "- Adventure\n",
    "- Puzzle\n",
    "- Strategy\n",
    "\n",
    "Посмотрим количество и общую сумму продаж для каждого жанра."
   ]
  },
  {
   "cell_type": "code",
   "execution_count": 42,
   "metadata": {},
   "outputs": [
    {
     "data": {
      "image/png": "[encoded data removed]",
      "text/plain": [
       "<Figure size 1080x360 with 1 Axes>"
      ]
     },
     "metadata": {
      "needs_background": "light"
     },
     "output_type": "display_data"
    }
   ],
   "source": [
    "#выводим столбчатую диаграмму\n",
    "ax = plt.gca()\n",
    "\n",
    "#новая переменная, где записана группировка по жанру и два столбца: name (количество) и total_sales (сумма)\n",
    "genre_grouping = new_data.groupby('genre').agg({'name': 'count', 'total_sales': 'sum'}).sort_values(by='name')\n",
    "\n",
    "#строим график с наложением друг на друга\n",
    "plot1 = genre_grouping['name']\n",
    "plot1.plot(kind='bar', figsize=(15,5), color='y')\n",
    "\n",
    "plot2 = genre_grouping['total_sales']\n",
    "plot2.plot(kind='bar', figsize=(15,5), color = 'g')\n",
    "\n",
    "plt.xlabel('Жанр')\n",
    "plt.ylabel('Количество продаж')\n",
    "plt.title('Количество и сумма продаж по жанрам')\n",
    "plt.show()"
   ]
  },
  {
   "cell_type": "markdown",
   "metadata": {},
   "source": [
    "Игр в жанре \"Shooter\" в несколько раз меньше, чем игр \"Action\", однако выручка с них не так сильно различается. Можно сделать вывод, что игры в жанре \"Shooter\" стабильно гораздо дороже, чем \"Action\". Что и подтверждает результаты расчетов по медианным продажам."
   ]
  },
  {
   "cell_type": "markdown",
   "metadata": {},
   "source": [
    "**Промежуточный вывод:**\n",
    "В ходе исследовательского анализа было выявлено, что подъем в продаже игр случился после 2002 года, пик пришелся на 2008-2009, а спад начался с 2012 года.\n",
    "\n",
    "Средняя продолжительность жизни платформы составляет 10 лет, также принято решение учитывать в дальнейшем анализе данные с 2014 по 2016 года (для быстро развивающейся индустрии игр будет верным решением).\n",
    "\n",
    "Самыми популярными платформами на 2016 год являются PS4, XOne, 3DS, однако и у них наблюдается спад популярности. Предположительно, можно сделать вывод о падении продаж всего рынка игр и потери популярности.\n",
    "\n",
    "В среднем продажи по платформам 0,35 миллионов копий, также у платформ есть игры, за счет которых платформа и стала доходной, игры, которые дали наибольшую выручку.\n",
    "\n",
    "Также было выявлено, что оценка экспертов и критиков средне коррелирует с продажами по платформам, а оценка пользователей совсем не имеет связи с продажами. Скорее всего, пользователи опираются на высокие оценки экспертов, покупают игру, затем разочаровываются и ставят низкие оценки. Однако нужно учитывать, что в оценках как критиков, так и пользователей было огромное количество пропусков (>40%), что значительно может влиять на правдоподобность результатов.\n",
    "\n",
    "Самыми популярными жанрами являются \n",
    "- Shooter (с большим отрывом)\n",
    "- Sports\n",
    "- Platform\n",
    "- Fighting\n",
    "- Role-Playing\n",
    "\n",
    "Самыми неприбыльными являются\n",
    "\n",
    "- Adventure\n",
    "- Puzzle\n",
    "- Strategy"
   ]
  },
  {
   "cell_type": "markdown",
   "metadata": {},
   "source": [
    "## Шаг 4. Портрет пользователей по каждому региону\n",
    "\n",
    "Определим по каждому региону (NA, EU, JP):\n",
    "- Топ-5 прибыльных платформ;\n",
    "- Топ-5 пприбыльных жанров;\n",
    "- Влияение рейтинга ESRB на продажи в регионе.\n"
   ]
  },
  {
   "cell_type": "markdown",
   "metadata": {},
   "source": [
    "### Распределение по платформам по регионам"
   ]
  },
  {
   "cell_type": "markdown",
   "metadata": {},
   "source": [
    "Создадим отдельную таблицу, куда войдут 5 самых прибыльных платформ для Северной Америки"
   ]
  },
  {
   "cell_type": "code",
   "execution_count": 43,
   "metadata": {},
   "outputs": [
    {
     "data": {
      "image/png": "[encoded data removed]",
      "text/plain": [
       "<Figure size 1152x504 with 1 Axes>"
      ]
     },
     "metadata": {
      "needs_background": "light"
     },
     "output_type": "display_data"
    }
   ],
   "source": [
    "#объявим переменную, где будет сгруппирована таблица по платформе, сумма по столбцу продаж в С.Америке\n",
    "#первые 5 строк = топ-5\n",
    "na_platform = new_data.groupby('platform')['na_sales']\\\n",
    "    .sum().to_frame()\\\n",
    "    .sort_values(by='na_sales', ascending=False)\\\n",
    "    .head(5)\n",
    "#выведем график\n",
    "na_platform.plot(kind='bar', figsize = (16,7), xlabel='Платформа', ylabel='Продажи')\n",
    "\n",
    "plt.show()"
   ]
  },
  {
   "cell_type": "markdown",
   "metadata": {},
   "source": [
    "Самой прибыльной платформой в Северной Америке является **PS4** (98,61 миллионов проданных копий).<br>\n",
    "На втором месте XOne (81,27 миллионов копий). <br>\n",
    "На третьем X360 (28,3 миллионов копий). <br>\n",
    "На четвертом 3DS (22,64 миллионов копий). <br>\n",
    "На пятом PS3 (22.05 миллионов копий).\n",
    "\n",
    "Посмотрим то же самое для Европы."
   ]
  },
  {
   "cell_type": "code",
   "execution_count": 44,
   "metadata": {},
   "outputs": [
    {
     "data": {
      "image/png": "[encoded data removed]",
      "text/plain": [
       "<Figure size 1152x504 with 1 Axes>"
      ]
     },
     "metadata": {
      "needs_background": "light"
     },
     "output_type": "display_data"
    }
   ],
   "source": [
    "eu_platform = new_data.groupby('platform')['eu_sales']\\\n",
    "    .sum().to_frame()\\\n",
    "    .sort_values(by='eu_sales', ascending=False)\\\n",
    "    .head(5)\n",
    "eu_platform.plot(kind='bar', figsize = (16,7), xlabel='Платформа', ylabel='Продажи')\n",
    "\n",
    "plt.show()"
   ]
  },
  {
   "cell_type": "markdown",
   "metadata": {},
   "source": [
    "Самой прибыльной платформой в Европе является **PS4** (130,04 миллионов проданных копий).<br>\n",
    "На втором месте X360 (46,25 миллионов копий). <br>\n",
    "На третьем PS3 (25,54 миллионов копий). <br>\n",
    "На четвертом PC (17,97 миллионов копий). <br>\n",
    "На пятом 3DS (16,12 миллионов копий).\n",
    "\n",
    "Посмотрим то же самое для Японии."
   ]
  },
  {
   "cell_type": "code",
   "execution_count": 45,
   "metadata": {},
   "outputs": [
    {
     "data": {
      "image/png": "[encoded data removed]",
      "text/plain": [
       "<Figure size 1152x504 with 1 Axes>"
      ]
     },
     "metadata": {
      "needs_background": "light"
     },
     "output_type": "display_data"
    }
   ],
   "source": [
    "jp_platform = new_data.groupby('platform')['jp_sales']\\\n",
    "    .sum().to_frame()\\\n",
    "    .sort_values(by='jp_sales', ascending=False)\\\n",
    "    .head(5)\n",
    "jp_platform.plot(kind='bar', figsize = (16,7), xlabel='Платформа', ylabel='Продажи')\n",
    "\n",
    "plt.show()"
   ]
  },
  {
   "cell_type": "markdown",
   "metadata": {},
   "source": [
    "Самой прибыльной платформой в Японии является **3DS** (44,24 миллионов проданных копий). <br>\n",
    "На втором месте PS4 (15,02 миллионов копий).<br>\n",
    "На третьем PSV (14,54 миллионов копий).<br>\n",
    "На четвертом PS3 (11,22 миллионов копий).<br>\n",
    "На пятом WiiU (7,31 миллионов копий).\n",
    "\n",
    "Можно сделать вывод, что в Японии чаще играют на старых платформах, нежели на новых.\n",
    "\n",
    "Сформируем сводную таблицу, где будут все топовые платформы по регионам, чтобы на графике посмотреть продажи."
   ]
  },
  {
   "cell_type": "code",
   "execution_count": 46,
   "metadata": {},
   "outputs": [
    {
     "data": {
      "text/html": [
       "<div>\n",
       "<style scoped>\n",
       "    .dataframe tbody tr th:only-of-type {\n",
       "        vertical-align: middle;\n",
       "    }\n",
       "\n",
       "    .dataframe tbody tr th {\n",
       "        vertical-align: top;\n",
       "    }\n",
       "\n",
       "    .dataframe thead th {\n",
       "        text-align: right;\n",
       "    }\n",
       "</style>\n",
       "<table border=\"1\" class=\"dataframe\">\n",
       "  <thead>\n",
       "    <tr style=\"text-align: right;\">\n",
       "      <th></th>\n",
       "      <th>na_sales</th>\n",
       "      <th>eu_sales</th>\n",
       "      <th>jp_sales</th>\n",
       "    </tr>\n",
       "    <tr>\n",
       "      <th>platform</th>\n",
       "      <th></th>\n",
       "      <th></th>\n",
       "      <th></th>\n",
       "    </tr>\n",
       "  </thead>\n",
       "  <tbody>\n",
       "    <tr>\n",
       "      <th>PS4</th>\n",
       "      <td>98.61</td>\n",
       "      <td>130.04</td>\n",
       "      <td>15.02</td>\n",
       "    </tr>\n",
       "    <tr>\n",
       "      <th>XOne</th>\n",
       "      <td>81.27</td>\n",
       "      <td>46.25</td>\n",
       "      <td>NaN</td>\n",
       "    </tr>\n",
       "    <tr>\n",
       "      <th>X360</th>\n",
       "      <td>28.30</td>\n",
       "      <td>NaN</td>\n",
       "      <td>NaN</td>\n",
       "    </tr>\n",
       "    <tr>\n",
       "      <th>3DS</th>\n",
       "      <td>22.64</td>\n",
       "      <td>16.12</td>\n",
       "      <td>44.24</td>\n",
       "    </tr>\n",
       "    <tr>\n",
       "      <th>PS3</th>\n",
       "      <td>22.05</td>\n",
       "      <td>25.54</td>\n",
       "      <td>11.22</td>\n",
       "    </tr>\n",
       "    <tr>\n",
       "      <th>PC</th>\n",
       "      <td>NaN</td>\n",
       "      <td>17.97</td>\n",
       "      <td>NaN</td>\n",
       "    </tr>\n",
       "    <tr>\n",
       "      <th>PSV</th>\n",
       "      <td>NaN</td>\n",
       "      <td>NaN</td>\n",
       "      <td>14.54</td>\n",
       "    </tr>\n",
       "    <tr>\n",
       "      <th>WiiU</th>\n",
       "      <td>NaN</td>\n",
       "      <td>NaN</td>\n",
       "      <td>7.31</td>\n",
       "    </tr>\n",
       "  </tbody>\n",
       "</table>\n",
       "</div>"
      ],
      "text/plain": [
       "          na_sales  eu_sales  jp_sales\n",
       "platform                              \n",
       "PS4          98.61    130.04     15.02\n",
       "XOne         81.27     46.25       NaN\n",
       "X360         28.30       NaN       NaN\n",
       "3DS          22.64     16.12     44.24\n",
       "PS3          22.05     25.54     11.22\n",
       "PC             NaN     17.97       NaN\n",
       "PSV            NaN       NaN     14.54\n",
       "WiiU           NaN       NaN      7.31"
      ]
     },
     "execution_count": 46,
     "metadata": {},
     "output_type": "execute_result"
    }
   ],
   "source": [
    "#объявим переменную, куда запишем сводную таблицу по всем платформам, учитывая все пропуски\n",
    "na_eu_platform = na_platform.merge(eu_platform, on='platform', how='outer')\n",
    "na_eu_jp_platform = na_eu_platform.merge(jp_platform, on='platform', how='outer')\n",
    "na_eu_jp_platform"
   ]
  },
  {
   "cell_type": "code",
   "execution_count": 47,
   "metadata": {},
   "outputs": [
    {
     "data": {
      "image/png": "[encoded data removed]",
      "text/plain": [
       "<Figure size 1080x360 with 1 Axes>"
      ]
     },
     "metadata": {
      "needs_background": "light"
     },
     "output_type": "display_data"
    }
   ],
   "source": [
    "#строим график с наложением друг на друга\n",
    "plot1 = na_eu_jp_platform['na_sales']\n",
    "plot1.plot(kind='bar', figsize=(15,5), color='y') #Северная Америка\n",
    "\n",
    "plot2 = na_eu_jp_platform['eu_sales']\n",
    "plot2.plot(kind='bar', figsize=(15,5), color = 'g') #Европа\n",
    "\n",
    "plot2 = na_eu_jp_platform['jp_sales']\n",
    "plot2.plot(kind='bar', figsize=(15,5), color = 'b') #Япония\n",
    "\n",
    "plt.xlabel('Платформа')\n",
    "plt.ylabel('Количество продаж')\n",
    "plt.title('Количество продаж по жанрам в разбивке по платформам')\n",
    "plt.show()"
   ]
  },
  {
   "cell_type": "markdown",
   "metadata": {},
   "source": [
    "Самым прибыльным регионом является Северная Америка - там суммарно больше всего продаж по топовым платформам, значит в этом регионе хороший спрос на игры и популярен этот вид досуга. В Европе спрос немного ниже. <br>\n",
    "На графике заметно, что продажи в Японии гораздо ниже продаж в Северной Америке и Европе, можно сделать вывод о непопулярности такого вида досуга, как игры. Также в Японии популярны не те же самые платформы, что в Европе и Америке.<br>\n",
    "Возможно, на это влияет особенности в переводе игр на разные языки - для европейцев легче играть на английском яызке (как в Северной Америке), чем японцам."
   ]
  },
  {
   "cell_type": "markdown",
   "metadata": {},
   "source": [
    "### Распределение по жанрам по регионам\n",
    "Рассмотрим топ-5 самых прибыльных жанров по регионам."
   ]
  },
  {
   "cell_type": "code",
   "execution_count": 48,
   "metadata": {},
   "outputs": [
    {
     "data": {
      "image/png": "[encoded data removed]",
      "text/plain": [
       "<Figure size 1152x504 with 1 Axes>"
      ]
     },
     "metadata": {
      "needs_background": "light"
     },
     "output_type": "display_data"
    }
   ],
   "source": [
    "#объявим переменную, куда запишем сгруппированную таблицу по жанру, суммированный столбец продаж, первые 5 строк\n",
    "na_genre = new_data.groupby('genre')['na_sales']\\\n",
    "    .sum().to_frame()\\\n",
    "    .sort_values(by='na_sales', ascending=False)\\\n",
    "    .head(5)\n",
    "na_genre.plot(kind='bar', figsize = (16,7), xlabel='Жанр', ylabel='Продажи')\n",
    "\n",
    "plt.show()"
   ]
  },
  {
   "cell_type": "markdown",
   "metadata": {},
   "source": [
    "Самыми популярными жанрами в Северной Америке являются:\n",
    "- Shooter (79,02)\n",
    "- Action (72,53)\n",
    "- Sports (46,13)\n",
    "- Role-Playing (33,47)\n",
    "- Misc (15,05)\n",
    "\n",
    "Такое распределение очень схоже с общим распределением по датасету."
   ]
  },
  {
   "cell_type": "code",
   "execution_count": 49,
   "metadata": {},
   "outputs": [
    {
     "data": {
      "image/png": "[encoded data removed]",
      "text/plain": [
       "<Figure size 1152x504 with 1 Axes>"
      ]
     },
     "metadata": {
      "needs_background": "light"
     },
     "output_type": "display_data"
    }
   ],
   "source": [
    "eu_genre = new_data.groupby('genre')['eu_sales']\\\n",
    "    .sum().to_frame()\\\n",
    "    .sort_values(by='eu_sales', ascending=False)\\\n",
    "    .head(5)\n",
    "eu_genre.plot(kind='bar', figsize = (16,7), xlabel='Жанр', ylabel='Продажи')\n",
    "\n",
    "plt.show()"
   ]
  },
  {
   "cell_type": "markdown",
   "metadata": {},
   "source": [
    "Самыми популярными жанрами в Европе являются:\n",
    "- Action (74,68)\n",
    "- Shooter (65,52)\n",
    "- Sports (45,73)\n",
    "- Role-Playing (28,17)\n",
    "- Racing (14,13)\n",
    "\n",
    "Выручка по Европе ниже, чем в Америке, но жанры совпадают."
   ]
  },
  {
   "cell_type": "code",
   "execution_count": 50,
   "metadata": {},
   "outputs": [
    {
     "data": {
      "image/png": "[encoded data removed]",
      "text/plain": [
       "<Figure size 1152x504 with 1 Axes>"
      ]
     },
     "metadata": {
      "needs_background": "light"
     },
     "output_type": "display_data"
    }
   ],
   "source": [
    "jp_genre = new_data.groupby('genre')['jp_sales']\\\n",
    "    .sum().to_frame()\\\n",
    "    .sort_values(by='jp_sales', ascending=False)\\\n",
    "    .head(5)\n",
    "jp_genre.plot(kind='bar', figsize = (16,7), xlabel='Жанр', ylabel='Продажи')\n",
    "\n",
    "plt.show()"
   ]
  },
  {
   "cell_type": "markdown",
   "metadata": {},
   "source": [
    "Самыми популярными жанрами в Японии являются:\n",
    "- Role-Playing (31,16)\n",
    "- Action (29.58)\n",
    "- Fighting\t(6.37)\n",
    "- Misc\t(5.61)\n",
    "- Shooter\t(4.87)\n",
    "\n",
    "На первом месте с большим отрывом в Японии Role-Playing, так же в топ попал жанр Fighting. Как и с платформами, в Японии продажи по жанрам различаются с Европой и Америкой. Выручка также ниже.\n",
    "\n",
    "Построим сводную таблицу и диаграмму по ней."
   ]
  },
  {
   "cell_type": "code",
   "execution_count": 51,
   "metadata": {},
   "outputs": [
    {
     "data": {
      "text/html": [
       "<div>\n",
       "<style scoped>\n",
       "    .dataframe tbody tr th:only-of-type {\n",
       "        vertical-align: middle;\n",
       "    }\n",
       "\n",
       "    .dataframe tbody tr th {\n",
       "        vertical-align: top;\n",
       "    }\n",
       "\n",
       "    .dataframe thead th {\n",
       "        text-align: right;\n",
       "    }\n",
       "</style>\n",
       "<table border=\"1\" class=\"dataframe\">\n",
       "  <thead>\n",
       "    <tr style=\"text-align: right;\">\n",
       "      <th></th>\n",
       "      <th>na_sales</th>\n",
       "      <th>eu_sales</th>\n",
       "      <th>jp_sales</th>\n",
       "    </tr>\n",
       "    <tr>\n",
       "      <th>genre</th>\n",
       "      <th></th>\n",
       "      <th></th>\n",
       "      <th></th>\n",
       "    </tr>\n",
       "  </thead>\n",
       "  <tbody>\n",
       "    <tr>\n",
       "      <th>Shooter</th>\n",
       "      <td>79.02</td>\n",
       "      <td>65.52</td>\n",
       "      <td>4.87</td>\n",
       "    </tr>\n",
       "    <tr>\n",
       "      <th>Action</th>\n",
       "      <td>72.53</td>\n",
       "      <td>74.68</td>\n",
       "      <td>29.58</td>\n",
       "    </tr>\n",
       "    <tr>\n",
       "      <th>Sports</th>\n",
       "      <td>46.13</td>\n",
       "      <td>45.73</td>\n",
       "      <td>NaN</td>\n",
       "    </tr>\n",
       "    <tr>\n",
       "      <th>Role-Playing</th>\n",
       "      <td>33.47</td>\n",
       "      <td>28.17</td>\n",
       "      <td>31.16</td>\n",
       "    </tr>\n",
       "    <tr>\n",
       "      <th>Misc</th>\n",
       "      <td>15.05</td>\n",
       "      <td>NaN</td>\n",
       "      <td>5.61</td>\n",
       "    </tr>\n",
       "    <tr>\n",
       "      <th>Racing</th>\n",
       "      <td>NaN</td>\n",
       "      <td>14.13</td>\n",
       "      <td>NaN</td>\n",
       "    </tr>\n",
       "    <tr>\n",
       "      <th>Fighting</th>\n",
       "      <td>NaN</td>\n",
       "      <td>NaN</td>\n",
       "      <td>6.37</td>\n",
       "    </tr>\n",
       "  </tbody>\n",
       "</table>\n",
       "</div>"
      ],
      "text/plain": [
       "              na_sales  eu_sales  jp_sales\n",
       "genre                                     \n",
       "Shooter          79.02     65.52      4.87\n",
       "Action           72.53     74.68     29.58\n",
       "Sports           46.13     45.73       NaN\n",
       "Role-Playing     33.47     28.17     31.16\n",
       "Misc             15.05       NaN      5.61\n",
       "Racing             NaN     14.13       NaN\n",
       "Fighting           NaN       NaN      6.37"
      ]
     },
     "execution_count": 51,
     "metadata": {},
     "output_type": "execute_result"
    }
   ],
   "source": [
    "#Сводная таблица, где будут все жанры\n",
    "na_eu_genre = na_genre.merge(eu_genre, on='genre', how='outer')\n",
    "na_eu_jp_genre = na_eu_genre.merge(jp_genre, on='genre', how='outer')\n",
    "na_eu_jp_genre"
   ]
  },
  {
   "cell_type": "code",
   "execution_count": 52,
   "metadata": {},
   "outputs": [
    {
     "data": {
      "image/png": "[encoded data removed]",
      "text/plain": [
       "<Figure size 1080x360 with 1 Axes>"
      ]
     },
     "metadata": {
      "needs_background": "light"
     },
     "output_type": "display_data"
    }
   ],
   "source": [
    "#строим график с наложением друг на друга\n",
    "plot1 = na_eu_jp_genre['na_sales']\n",
    "plot1.plot(kind='bar', figsize=(15,5), color='y')\n",
    "\n",
    "plot2 = na_eu_jp_genre['eu_sales']\n",
    "plot2.plot(kind='bar', figsize=(15,5), color = 'g')\n",
    "\n",
    "plot2 = na_eu_jp_genre['jp_sales']\n",
    "plot2.plot(kind='bar', figsize=(15,5), color = 'b')\n",
    "\n",
    "plt.xlabel('Жанр')\n",
    "plt.ylabel('Количество продаж')\n",
    "plt.title('График количества продаж по жанрам в разбивке по регионам')\n",
    "plt.show()"
   ]
  },
  {
   "cell_type": "markdown",
   "metadata": {},
   "source": [
    "В Америке самые высокие продажи по жанрам, Европа немного отстает, но в Европе популярны те же самые жанры.<br>\n",
    "По графику видно, что как и в ситуации с платформами, в Японии популярны другие жанры, в сравнении с Европой и Америкой. Можно предположить, что это связано с менталитетом японцев."
   ]
  },
  {
   "cell_type": "markdown",
   "metadata": {},
   "source": [
    "### Влияние ESRB на продажи в регионе\n",
    "Оценим, есть ли влияние рейтинга ESRB на продажи игр по регионам."
   ]
  },
  {
   "cell_type": "code",
   "execution_count": 53,
   "metadata": {},
   "outputs": [
    {
     "data": {
      "image/png": "[encoded data removed]",
      "text/plain": [
       "<Figure size 1440x360 with 3 Axes>"
      ]
     },
     "metadata": {
      "needs_background": "light"
     },
     "output_type": "display_data"
    }
   ],
   "source": [
    "fig, axes = plt.subplots(1, 3, figsize=(20,5)) #зададим сетку\n",
    "\n",
    "#строим графики по рейтингу и продажам в регионе\n",
    "\n",
    "#Северная Америка\n",
    "na_rating = new_data.groupby('rating')['na_sales']\\\n",
    "    .sum().to_frame()\\\n",
    "    .sort_values(by='na_sales', ascending=False)\\\n",
    "    .head(5)\n",
    "na_rating.plot(kind='bar', xlabel='Рейтинг', ylabel='Продажи в С.Америке', ax=axes[0], color='y')\n",
    "\n",
    "#Европа\n",
    "eu_rating = new_data.groupby('rating')['eu_sales']\\\n",
    "    .sum().to_frame()\\\n",
    "    .sort_values(by='eu_sales', ascending=False)\\\n",
    "    .head(5)\n",
    "eu_rating.plot(kind='bar', xlabel='Рейтинг', ylabel='Продажи по Европе', ax=axes[1], color='g')\n",
    "\n",
    "#Япония\n",
    "jp_rating = new_data.groupby('rating')['jp_sales']\\\n",
    "    .sum().to_frame()\\\n",
    "    .sort_values(by='jp_sales', ascending=False)\\\n",
    "    .head(5)\n",
    "jp_rating.plot(kind='bar', xlabel='Рейтинг', ylabel='Продажи по Японии', ax=axes[2], color='b')\n",
    "\n",
    "plt.show()"
   ]
  },
  {
   "cell_type": "markdown",
   "metadata": {},
   "source": [
    "По графикам видно, что в Америке самый продаваемый жанр `M`, далее идут `RP`, `E`, `T`, `E10+`.\n",
    "В Европе продажи ожидаемо ниже, самый продаваемый жанр также `M`, `RP`, `E`, `T`, `E10+`.\n",
    "В Японии продажи еще гораздо ниже, лидером является рейтинг \"без рейтинга\" - `RP`. В этом столбце были пропущенные значения, которые мы заменили на \"RP\". Соответственно, можно сделать вывод, что в Японии не смотрят на рейтинг при покупке, покупают все равно, даже если рейтинг отсутствует.\n",
    "\n",
    "Стоит также отметить, что в столбце `rating` было большое количество пропусков - результаты могут не отражать реальную картину."
   ]
  },
  {
   "cell_type": "markdown",
   "metadata": {},
   "source": [
    "**Промежуточный вывод:**\n",
    "В Северной Америке самой прибыльной платформой является PS4, далее идут XOne, X360, 3DS, PS3. Самыми популярными жанрами являются Shooter, Action, Sports, Role-Playing, Misc.\n",
    "\n",
    "В Европе ситуация по топ-5 платформ и жанрам не сильно отличается от Америки. Топ-5 платформ: PS4, X360, PS3, PC, 3DS. Топ-5 жанров: Action, Shooter, Sports, Role-Playing. Racing.\n",
    "\n",
    "В Японии топы различаются кардинально. Топ платформ: 3DS, PS4, PSV, PS3, WiiU. Топ жанров: Role-Playing, Action, Fighting, Misc, Shooter. В Японии приветствуются другие жанры, чем в Европе и Америке, используются старые платформы.\n",
    "\n",
    "Самая высокая доля продаж принадлежит Северной Америке, далее ненамного меньше идет Европа, а самые малые продажи показывает Япония.\n",
    "\n",
    "Рейтинг ESRB пользуется популярностью в Америке и Европе: чаще всего игры покупают в жанре \"M\", \"E\", \"T\". В Японии же не слишком ориентируются на рейтинг - больше всего продаж именно у игр либо без рейтинга ESRB, либо у игр, чей рейтинг еще в процессе оценивания.\n",
    "\n",
    "Стоит также отметить, что в столбце rating было большое количество пропусков - результаты могут не отражать реальную картину."
   ]
  },
  {
   "cell_type": "markdown",
   "metadata": {},
   "source": [
    "## Шаг 5. Проверка гипотез\n",
    "\n",
    "Проверим несколько гипотез:\n",
    "\n",
    " - Средние пользовательские рейтинги платформ Xbox One и PC одинаковые;\n",
    " - Средние пользовательские рейтинги жанров Action (англ. «действие», экшен-игры) и Sports (англ. «спортивные соревнования») разные."
   ]
  },
  {
   "cell_type": "markdown",
   "metadata": {},
   "source": [
    "### Средние пользовательские рейтинги платформ Xbox One и PC одинаковые\n",
    "\n",
    "Н0: Средние пользовательские рейтинги XOne и PC равны <br>\n",
    "Н1: Средние пользовательские рейтинги XOne и PC отличаются\n",
    "\n",
    "Для этого нужно посчитать средний рейтинг `user_score` для `XOne` и `PC`."
   ]
  },
  {
   "cell_type": "code",
   "execution_count": 61,
   "metadata": {},
   "outputs": [
    {
     "name": "stdout",
     "output_type": "stream",
     "text": [
      "p-значение: 0.10450507919348415\n",
      "Не получилось отвергнуть нулевую гипотезу\n"
     ]
    }
   ],
   "source": [
    "#выборка по платформе \n",
    "sample_XOne = new_data.query(\"platform == 'XOne' & user_score > 0\")['user_score']\n",
    "sample_PC = new_data.query(\"platform == 'PC' & user_score > 0\")['user_score']\n",
    "alpha = .05 #уровень значимости\n",
    "\n",
    "results = st.ttest_ind(\n",
    "        sample_XOne,\n",
    "        sample_PC)\n",
    "\n",
    "print('p-значение:', results.pvalue)\n",
    "\n",
    "if results.pvalue < alpha:\n",
    "    print(\"Отвергаем нулевую гипотезу\")\n",
    "else:\n",
    "    print(\"Не получилось отвергнуть нулевую гипотезу\") "
   ]
  },
  {
   "cell_type": "markdown",
   "metadata": {},
   "source": [
    "Мы не использовали дополнительный параметр `equal_var = False`, потому что у нас достаточно большие и одинаковые по размеру выборки — нет оснований полагать, что разброс будет сильно отличаться.\n",
    "Зачение `p-value` = 10%. \n",
    "\n",
    "Посмотрим, в какую сторону отклонение."
   ]
  },
  {
   "cell_type": "code",
   "execution_count": 55,
   "metadata": {},
   "outputs": [
    {
     "name": "stdout",
     "output_type": "stream",
     "text": [
      "Средняя пользовательская оценка для Xbox One 6.594545454545453\n",
      "Средняя пользовательская оценка для PC 6.298360655737703\n"
     ]
    }
   ],
   "source": [
    "print('Средняя пользовательская оценка для Xbox One', sample_XOne.mean())\n",
    "print('Средняя пользовательская оценка для PC', sample_PC.mean())"
   ]
  },
  {
   "cell_type": "markdown",
   "metadata": {},
   "source": [
    "Игры на Xbox One оценивают выше, но не намного. "
   ]
  },
  {
   "cell_type": "markdown",
   "metadata": {},
   "source": [
    "### Средние пользовательские рейтинги жанров Action и Sports разные\n",
    "\n",
    "Н0: Средние пользовательские рейтинги жанров Action и Sports равны <br>\n",
    "Н1: Средние пользовательские рейтинги жанров Action и Sports отличаются"
   ]
  },
  {
   "cell_type": "code",
   "execution_count": 56,
   "metadata": {},
   "outputs": [
    {
     "name": "stdout",
     "output_type": "stream",
     "text": [
      "p-значение: 2.8711147985105864e-19\n",
      "Отвергаем нулевую гипотезу\n"
     ]
    }
   ],
   "source": [
    "sample_action = new_data.query(\"genre == 'Action' & user_score > 0\")['user_score']\n",
    "sample_sports = new_data.query(\"genre == 'Sports' & user_score > 0\")['user_score']\n",
    "alpha = .05\n",
    "\n",
    "results = st.ttest_ind(\n",
    "        sample_action,\n",
    "        sample_sports)\n",
    "\n",
    "print('p-значение:', results.pvalue)\n",
    "\n",
    "if results.pvalue < alpha:\n",
    "    print(\"Отвергаем нулевую гипотезу\")\n",
    "else:\n",
    "    print(\"Не получилось отвергнуть нулевую гипотезу\") "
   ]
  },
  {
   "cell_type": "markdown",
   "metadata": {},
   "source": [
    "Мы не использовали дополнительный параметр `equal_var = False`, потому что у нас достаточно большие и одинаковые по размеру выборки — нет оснований полагать, что разброс будет сильно отличаться. Зачение `p-value` = 0.000000002871%.\n",
    "\n",
    "Посмотрим, в какую сторону отклонение."
   ]
  },
  {
   "cell_type": "code",
   "execution_count": 57,
   "metadata": {},
   "outputs": [
    {
     "name": "stdout",
     "output_type": "stream",
     "text": [
      "Средняя пользовательская оценка для Action 6.760606060606054\n",
      "Средняя пользовательская оценка для Sports 5.225196850393697\n"
     ]
    }
   ],
   "source": [
    "print('Средняя пользовательская оценка для Action', sample_action.mean())\n",
    "print('Средняя пользовательская оценка для Sports', sample_sports.mean())"
   ]
  },
  {
   "cell_type": "markdown",
   "metadata": {},
   "source": [
    "Игры в жанре Action оценивают лучше Sports.\n",
    "\n",
    "Таким образом, можно утверждать, что *Средние пользовательские рейтинги XOne и PC равны* и *Средние пользовательские рейтинги жанров Action и Sports отличаются*."
   ]
  },
  {
   "cell_type": "markdown",
   "metadata": {},
   "source": [
    "## Шаг 6. Общий вывод\n",
    "\n"
   ]
  },
  {
   "cell_type": "markdown",
   "metadata": {},
   "source": [
    "Целью проекта являлось определение закономерностей, влияющих на успешность игры.\n",
    "\n",
    "**Предобработка**<br>\n",
    "В нашем распоряжении был датасет с 16715 играми на разных платформах. В ходе предобработки данных (замена названий столбцов, изменение типов данных, обработки прпоусков и добавлении нового столбца суммарных продаж по регионам) были удалена 271 значение без года выпуска игры (1,6% таблицы), обработаны значения в столбце с рейтингом ESRB, обработан столбец с пользовательскими оценками, а также добавлен столбец с суммарными продажами.\n",
    "\n",
    "**Исследовательский анализ**<br>\n",
    "В ходе исследовательского анализа было выявлено, что подъем рынка игровой индустрии пришелся на 2002 год, пик 2008-2009 года, а спад с 2012 года. Жизненный цикл платформы составляет 10 лет. Самыми популярными платформами являются PS4, XOne и 3DS, однако и они находятся в стадии спада прибыльности. В среднем продажи по платформам составляют 0,35 миллионов копий. Была выявлена средняя положительная связь между оценкой экспертов и продажами.\n",
    "\n",
    "Самыми прибыльными жанрами являются\n",
    "\n",
    "    Shooter, Sports, Platform, Fighting, Role-Playing.\n",
    "\n",
    "Самыми неприбыльными\n",
    "    Strategy, Puzzle, Adventure.\n",
    "\n",
    "Однако нужно учитывать, что в оценках как критиков, так и пользователей было огромное количество пропусков (~50%), что значительно может влиять на правдоподобность результатов.\n",
    "\n",
    "**По разбивке по регионам было выявлено следующее:**\n",
    "В Северной Америке самой прибыльной платформой является PS4, далее идут XOne, X360, 3DS, PS3. Самыми популярными жанрами являются Shooter, Action, Sports, Role-Playing, Misc.\n",
    "\n",
    "В Европе ситуация по топ-5 платформ и жанрам не сильно отличается от Америки. Топ-5 платформ: PS4, X360, PS3, PC, 3DS. Топ-5 жанров: Action, Shooter, Sports, Role-Playing. Racing.\n",
    "\n",
    "В Японии топы различаются кардинально. Топ платформ: 3DS, PS4, PSV, PS3, WiiU. Топ жанров: Role-Playing, Action, Fighting, Misc, Shooter.  В Японии приветствуются другие жанры, чем в Европе и Америке, используются старые платформы.\n",
    "\n",
    "**Самая высокая доля продаж** принадлежит Северной Америке, далее немного меньше идет Европа, а самые малые продажи показывает Япония.\n",
    "\n",
    "Рейтинг организации ESRB влияет на продажи игры в Северной Америке и Европе, и не влияет в Японии.\n",
    "\n",
    "Также при проверке гипотез было выявлено, что Средние пользовательские рейтинги XOne и PC равны и Средние пользовательские рейтинги жанров Action и Sports отличаются.\n",
    "\n",
    "**Что касается цели проекта:** больше всего на продажи игры влияют жанр и платформа, на которой была выпущена игра. Нужно учитывать целевую аудиторию выпускаемой игры: страны Северной Америки, Европы, Япония или другие, так как от этого зависит прибыльность жанра выпускаемой игры.\n",
    "\n",
    "- Для Северной Америки самой прибыльной игрой была бы: игра в жанре Shooter, выпущенная на PS4, с рейтингом \"M\".\n",
    "\n",
    "- Для Европы: игра в жанре Action, выпущенная на PS4, с рейтингом \"M\".\n",
    "\n",
    "- Для Японии: игра в жанре Role-Playing на 3DS.\n",
    "\n",
    "В целом, состояние рынка игровой индустрии постепенно идет на спад, игры больше не пользуются такой популярностью, как в 2006-2010 годах, это может быть связано с экономическими кризисами, психологическим состоянием населения, а также с развитием других сфер проведения досуга."
   ]
  }
 ],
 "metadata": {
  "ExecuteTimeLog": [
   {
    "duration": 876,
    "start_time": "2022-11-28T14:18:01.044Z"
   },
   {
    "duration": 502,
    "start_time": "2022-11-28T14:19:31.806Z"
   },
   {
    "duration": 204,
    "start_time": "2022-11-28T14:20:11.129Z"
   },
   {
    "duration": 16,
    "start_time": "2022-11-28T14:21:21.115Z"
   },
   {
    "duration": 16,
    "start_time": "2022-11-28T14:22:19.129Z"
   },
   {
    "duration": 5,
    "start_time": "2022-11-28T14:34:32.643Z"
   },
   {
    "duration": 5,
    "start_time": "2022-11-28T14:34:38.787Z"
   },
   {
    "duration": 5,
    "start_time": "2022-11-28T14:34:57.444Z"
   },
   {
    "duration": 6,
    "start_time": "2022-11-28T14:35:06.910Z"
   },
   {
    "duration": 1497,
    "start_time": "2022-11-28T14:39:21.657Z"
   },
   {
    "duration": 1311,
    "start_time": "2022-11-28T14:39:26.996Z"
   },
   {
    "duration": 3,
    "start_time": "2022-11-28T14:39:49.837Z"
   },
   {
    "duration": 10,
    "start_time": "2022-11-28T14:39:51.967Z"
   },
   {
    "duration": 10,
    "start_time": "2022-11-28T14:44:01.950Z"
   },
   {
    "duration": 9,
    "start_time": "2022-11-28T14:45:40.880Z"
   },
   {
    "duration": 10,
    "start_time": "2022-11-28T14:45:59.299Z"
   },
   {
    "duration": 5,
    "start_time": "2022-11-28T14:47:35.884Z"
   },
   {
    "duration": 9,
    "start_time": "2022-11-28T14:47:46.939Z"
   },
   {
    "duration": 5,
    "start_time": "2022-11-28T14:47:54.197Z"
   },
   {
    "duration": 9,
    "start_time": "2022-11-28T14:48:49.190Z"
   },
   {
    "duration": 9,
    "start_time": "2022-11-28T14:48:55.633Z"
   },
   {
    "duration": 4,
    "start_time": "2022-11-28T14:49:06.649Z"
   },
   {
    "duration": 1224,
    "start_time": "2022-11-28T14:49:20.343Z"
   },
   {
    "duration": 15,
    "start_time": "2022-11-28T14:49:21.569Z"
   },
   {
    "duration": 24,
    "start_time": "2022-11-28T14:49:21.586Z"
   },
   {
    "duration": 41,
    "start_time": "2022-11-28T14:49:21.612Z"
   },
   {
    "duration": 118,
    "start_time": "2022-11-28T14:49:21.655Z"
   },
   {
    "duration": 4,
    "start_time": "2022-11-28T14:49:35.165Z"
   },
   {
    "duration": 13,
    "start_time": "2022-11-28T14:49:41.248Z"
   },
   {
    "duration": 15,
    "start_time": "2022-11-28T14:49:47.845Z"
   },
   {
    "duration": 5,
    "start_time": "2022-11-28T14:50:05.888Z"
   },
   {
    "duration": 11,
    "start_time": "2022-11-28T14:50:31.066Z"
   },
   {
    "duration": 9,
    "start_time": "2022-11-28T14:50:34.563Z"
   },
   {
    "duration": 4,
    "start_time": "2022-11-28T14:50:43.577Z"
   },
   {
    "duration": 11,
    "start_time": "2022-11-28T14:50:50.425Z"
   },
   {
    "duration": 13,
    "start_time": "2022-11-28T14:50:53.282Z"
   },
   {
    "duration": 5,
    "start_time": "2022-11-28T14:50:55.672Z"
   },
   {
    "duration": 8,
    "start_time": "2022-11-28T14:51:05.810Z"
   },
   {
    "duration": 11,
    "start_time": "2022-11-28T14:52:53.971Z"
   },
   {
    "duration": 14,
    "start_time": "2022-11-28T14:52:58.115Z"
   },
   {
    "duration": 19,
    "start_time": "2022-11-28T14:53:05.306Z"
   },
   {
    "duration": 10,
    "start_time": "2022-11-28T14:53:09.406Z"
   },
   {
    "duration": 9,
    "start_time": "2022-11-28T14:54:41.691Z"
   },
   {
    "duration": 18,
    "start_time": "2022-11-28T14:54:46.681Z"
   },
   {
    "duration": 15,
    "start_time": "2022-11-28T14:55:02.552Z"
   },
   {
    "duration": 6,
    "start_time": "2022-11-28T15:04:10.570Z"
   },
   {
    "duration": 7,
    "start_time": "2022-11-28T15:04:27.938Z"
   },
   {
    "duration": 16,
    "start_time": "2022-11-28T15:04:37.277Z"
   },
   {
    "duration": 11,
    "start_time": "2022-11-28T15:06:49.258Z"
   },
   {
    "duration": 9,
    "start_time": "2022-11-28T15:06:57.529Z"
   },
   {
    "duration": 13,
    "start_time": "2022-11-28T15:14:47.106Z"
   },
   {
    "duration": 6,
    "start_time": "2022-11-28T15:14:57.414Z"
   },
   {
    "duration": 9,
    "start_time": "2022-11-28T15:15:40.696Z"
   },
   {
    "duration": 16,
    "start_time": "2022-11-28T15:15:47.177Z"
   },
   {
    "duration": 7,
    "start_time": "2022-11-28T15:21:43.051Z"
   },
   {
    "duration": 7,
    "start_time": "2022-11-28T15:22:04.275Z"
   },
   {
    "duration": 15,
    "start_time": "2022-11-28T15:22:09.910Z"
   },
   {
    "duration": 14,
    "start_time": "2022-11-28T15:36:22.625Z"
   },
   {
    "duration": 6,
    "start_time": "2022-11-28T15:37:25.137Z"
   },
   {
    "duration": 5,
    "start_time": "2022-11-28T15:37:35.317Z"
   },
   {
    "duration": 5,
    "start_time": "2022-11-28T15:39:05.917Z"
   },
   {
    "duration": 6,
    "start_time": "2022-11-28T15:39:12.074Z"
   },
   {
    "duration": 8,
    "start_time": "2022-11-28T15:39:22.576Z"
   },
   {
    "duration": 7,
    "start_time": "2022-11-28T15:50:30.762Z"
   },
   {
    "duration": 6,
    "start_time": "2022-11-28T15:50:43.769Z"
   },
   {
    "duration": 7,
    "start_time": "2022-11-28T15:50:58.019Z"
   },
   {
    "duration": 1075,
    "start_time": "2022-11-28T15:51:32.690Z"
   },
   {
    "duration": 15,
    "start_time": "2022-11-28T15:51:33.767Z"
   },
   {
    "duration": 8,
    "start_time": "2022-11-28T15:51:33.784Z"
   },
   {
    "duration": 12,
    "start_time": "2022-11-28T15:51:33.794Z"
   },
   {
    "duration": 32,
    "start_time": "2022-11-28T15:51:33.808Z"
   },
   {
    "duration": 19,
    "start_time": "2022-11-28T15:51:33.844Z"
   },
   {
    "duration": 9,
    "start_time": "2022-11-28T15:51:33.866Z"
   },
   {
    "duration": 9,
    "start_time": "2022-11-28T15:52:31.831Z"
   },
   {
    "duration": 17,
    "start_time": "2022-11-28T16:02:04.300Z"
   },
   {
    "duration": 37,
    "start_time": "2022-11-28T16:02:44.665Z"
   },
   {
    "duration": 11,
    "start_time": "2022-11-28T16:03:00.356Z"
   },
   {
    "duration": 7,
    "start_time": "2022-11-28T16:03:12.123Z"
   },
   {
    "duration": 98,
    "start_time": "2022-11-28T16:03:17.632Z"
   },
   {
    "duration": 6,
    "start_time": "2022-11-28T16:03:26.412Z"
   },
   {
    "duration": 6,
    "start_time": "2022-11-28T16:03:50.086Z"
   },
   {
    "duration": 11,
    "start_time": "2022-11-28T16:04:18.387Z"
   },
   {
    "duration": 12,
    "start_time": "2022-11-28T16:04:24.993Z"
   },
   {
    "duration": 18,
    "start_time": "2022-11-28T16:04:48.577Z"
   },
   {
    "duration": 11,
    "start_time": "2022-11-28T16:05:27.448Z"
   },
   {
    "duration": 13,
    "start_time": "2022-11-28T16:07:16.203Z"
   },
   {
    "duration": 1188,
    "start_time": "2022-11-28T16:08:30.276Z"
   },
   {
    "duration": 5,
    "start_time": "2022-11-28T16:08:42.772Z"
   },
   {
    "duration": 17,
    "start_time": "2022-11-28T16:08:47.512Z"
   },
   {
    "duration": 19,
    "start_time": "2022-11-28T16:10:12.615Z"
   },
   {
    "duration": 41,
    "start_time": "2022-11-28T16:10:57.555Z"
   },
   {
    "duration": 14,
    "start_time": "2022-11-28T16:14:34.914Z"
   },
   {
    "duration": 13,
    "start_time": "2022-11-28T16:14:41.148Z"
   },
   {
    "duration": 3,
    "start_time": "2022-11-28T16:14:48.781Z"
   },
   {
    "duration": 6,
    "start_time": "2022-11-28T16:18:30.430Z"
   },
   {
    "duration": 1252,
    "start_time": "2022-11-28T16:19:45.430Z"
   },
   {
    "duration": 14,
    "start_time": "2022-11-28T16:19:46.684Z"
   },
   {
    "duration": 5,
    "start_time": "2022-11-28T16:19:46.700Z"
   },
   {
    "duration": 10,
    "start_time": "2022-11-28T16:19:46.707Z"
   },
   {
    "duration": 26,
    "start_time": "2022-11-28T16:19:46.720Z"
   },
   {
    "duration": 16,
    "start_time": "2022-11-28T16:19:46.749Z"
   },
   {
    "duration": 4,
    "start_time": "2022-11-28T16:19:46.767Z"
   },
   {
    "duration": 11,
    "start_time": "2022-11-28T16:19:46.773Z"
   },
   {
    "duration": 11,
    "start_time": "2022-11-28T16:19:46.785Z"
   },
   {
    "duration": 48,
    "start_time": "2022-11-28T16:19:46.798Z"
   },
   {
    "duration": 42,
    "start_time": "2022-11-29T11:47:58.799Z"
   },
   {
    "duration": 1298,
    "start_time": "2022-11-29T11:48:05.870Z"
   },
   {
    "duration": 13,
    "start_time": "2022-11-29T11:48:07.170Z"
   },
   {
    "duration": 29,
    "start_time": "2022-11-29T11:48:07.184Z"
   },
   {
    "duration": 18,
    "start_time": "2022-11-29T11:48:07.215Z"
   },
   {
    "duration": 28,
    "start_time": "2022-11-29T11:48:07.234Z"
   },
   {
    "duration": 34,
    "start_time": "2022-11-29T11:48:07.263Z"
   },
   {
    "duration": 21,
    "start_time": "2022-11-29T11:48:07.299Z"
   },
   {
    "duration": 9,
    "start_time": "2022-11-29T11:48:07.322Z"
   },
   {
    "duration": 8,
    "start_time": "2022-11-29T11:48:07.333Z"
   },
   {
    "duration": 14,
    "start_time": "2022-11-29T11:48:07.343Z"
   },
   {
    "duration": 5,
    "start_time": "2022-11-29T11:48:07.359Z"
   },
   {
    "duration": 4,
    "start_time": "2022-11-29T11:51:56.001Z"
   },
   {
    "duration": 8,
    "start_time": "2022-11-29T12:03:11.747Z"
   },
   {
    "duration": 1149,
    "start_time": "2022-11-29T12:08:22.340Z"
   },
   {
    "duration": 14,
    "start_time": "2022-11-29T12:08:23.490Z"
   },
   {
    "duration": 15,
    "start_time": "2022-11-29T12:08:23.505Z"
   },
   {
    "duration": 11,
    "start_time": "2022-11-29T12:08:23.521Z"
   },
   {
    "duration": 9,
    "start_time": "2022-11-29T12:08:23.533Z"
   },
   {
    "duration": 16,
    "start_time": "2022-11-29T12:08:23.544Z"
   },
   {
    "duration": 4,
    "start_time": "2022-11-29T12:08:23.562Z"
   },
   {
    "duration": 14,
    "start_time": "2022-11-29T12:08:23.567Z"
   },
   {
    "duration": 18,
    "start_time": "2022-11-29T12:08:23.582Z"
   },
   {
    "duration": 20,
    "start_time": "2022-11-29T12:08:23.602Z"
   },
   {
    "duration": 12,
    "start_time": "2022-11-29T12:08:23.623Z"
   },
   {
    "duration": 21,
    "start_time": "2022-11-29T12:08:23.637Z"
   },
   {
    "duration": 4,
    "start_time": "2022-11-29T12:08:23.660Z"
   },
   {
    "duration": 6,
    "start_time": "2022-11-29T12:10:53.302Z"
   },
   {
    "duration": 165,
    "start_time": "2022-11-29T12:11:34.586Z"
   },
   {
    "duration": 140,
    "start_time": "2022-11-29T12:11:40.061Z"
   },
   {
    "duration": 6,
    "start_time": "2022-11-29T12:11:52.136Z"
   },
   {
    "duration": 91,
    "start_time": "2022-11-29T12:12:31.331Z"
   },
   {
    "duration": 9,
    "start_time": "2022-11-29T12:12:47.833Z"
   },
   {
    "duration": 10,
    "start_time": "2022-11-29T12:12:59.967Z"
   },
   {
    "duration": 9,
    "start_time": "2022-11-29T12:14:47.681Z"
   },
   {
    "duration": 6,
    "start_time": "2022-11-29T12:14:51.306Z"
   },
   {
    "duration": 9,
    "start_time": "2022-11-29T12:15:03.767Z"
   },
   {
    "duration": 6,
    "start_time": "2022-11-29T12:15:21.018Z"
   },
   {
    "duration": 7,
    "start_time": "2022-11-29T12:15:41.251Z"
   },
   {
    "duration": 584,
    "start_time": "2022-11-29T12:15:57.583Z"
   },
   {
    "duration": 11,
    "start_time": "2022-11-29T12:16:05.079Z"
   },
   {
    "duration": 9,
    "start_time": "2022-11-29T12:16:25.264Z"
   },
   {
    "duration": 11,
    "start_time": "2022-11-29T12:16:34.425Z"
   },
   {
    "duration": 5,
    "start_time": "2022-11-29T12:16:40.704Z"
   },
   {
    "duration": 3,
    "start_time": "2022-11-29T12:16:49.909Z"
   },
   {
    "duration": 6,
    "start_time": "2022-11-29T12:16:55.074Z"
   },
   {
    "duration": 7,
    "start_time": "2022-11-29T12:22:16.160Z"
   },
   {
    "duration": 22,
    "start_time": "2022-11-29T12:22:20.020Z"
   },
   {
    "duration": 8,
    "start_time": "2022-11-29T12:22:53.935Z"
   },
   {
    "duration": 11,
    "start_time": "2022-11-29T12:23:54.756Z"
   },
   {
    "duration": 11,
    "start_time": "2022-11-29T12:24:05.707Z"
   },
   {
    "duration": 22,
    "start_time": "2022-11-29T12:25:47.278Z"
   },
   {
    "duration": 16,
    "start_time": "2022-11-29T12:27:03.972Z"
   },
   {
    "duration": 45,
    "start_time": "2022-11-29T12:27:13.974Z"
   },
   {
    "duration": 11,
    "start_time": "2022-11-29T12:28:16.461Z"
   },
   {
    "duration": 8,
    "start_time": "2022-11-29T12:28:29.871Z"
   },
   {
    "duration": 7,
    "start_time": "2022-11-29T12:28:56.046Z"
   },
   {
    "duration": 24,
    "start_time": "2022-11-29T12:29:09.760Z"
   },
   {
    "duration": 18,
    "start_time": "2022-11-29T12:30:29.595Z"
   },
   {
    "duration": 23,
    "start_time": "2022-11-29T12:30:49.113Z"
   },
   {
    "duration": 21,
    "start_time": "2022-11-29T12:30:54.318Z"
   },
   {
    "duration": 21,
    "start_time": "2022-11-29T12:31:00.987Z"
   },
   {
    "duration": 42,
    "start_time": "2022-11-29T12:31:04.235Z"
   },
   {
    "duration": 6,
    "start_time": "2022-11-29T12:31:54.776Z"
   },
   {
    "duration": 11,
    "start_time": "2022-11-29T12:32:29.766Z"
   },
   {
    "duration": 4,
    "start_time": "2022-11-29T12:32:45.023Z"
   },
   {
    "duration": 4,
    "start_time": "2022-11-29T12:32:54.387Z"
   },
   {
    "duration": 11,
    "start_time": "2022-11-29T12:33:00.224Z"
   },
   {
    "duration": 11,
    "start_time": "2022-11-29T12:33:20.654Z"
   },
   {
    "duration": 11,
    "start_time": "2022-11-29T12:33:28.006Z"
   },
   {
    "duration": 22,
    "start_time": "2022-11-29T12:34:29.456Z"
   },
   {
    "duration": 10,
    "start_time": "2022-11-29T12:34:45.142Z"
   },
   {
    "duration": 22,
    "start_time": "2022-11-29T12:34:55.249Z"
   },
   {
    "duration": 22,
    "start_time": "2022-11-29T12:35:22.402Z"
   },
   {
    "duration": 18,
    "start_time": "2022-11-29T12:35:46.472Z"
   },
   {
    "duration": 22,
    "start_time": "2022-11-29T12:36:00.918Z"
   },
   {
    "duration": 22,
    "start_time": "2022-11-29T12:36:56.994Z"
   },
   {
    "duration": 22,
    "start_time": "2022-11-29T12:37:06.430Z"
   },
   {
    "duration": 21,
    "start_time": "2022-11-29T12:37:12.439Z"
   },
   {
    "duration": 24,
    "start_time": "2022-11-29T12:37:51.004Z"
   },
   {
    "duration": 14,
    "start_time": "2022-11-29T12:38:01.556Z"
   },
   {
    "duration": 17,
    "start_time": "2022-11-29T12:38:16.314Z"
   },
   {
    "duration": 21,
    "start_time": "2022-11-29T12:38:19.707Z"
   },
   {
    "duration": 16,
    "start_time": "2022-11-29T12:38:53.898Z"
   },
   {
    "duration": 14,
    "start_time": "2022-11-29T12:39:01.807Z"
   },
   {
    "duration": 18,
    "start_time": "2022-11-29T12:39:07.630Z"
   },
   {
    "duration": 9,
    "start_time": "2022-11-29T12:39:13.358Z"
   },
   {
    "duration": 23,
    "start_time": "2022-11-29T12:39:18.464Z"
   },
   {
    "duration": 24,
    "start_time": "2022-11-29T12:40:41.364Z"
   },
   {
    "duration": 20,
    "start_time": "2022-11-29T12:41:40.823Z"
   },
   {
    "duration": 1191,
    "start_time": "2022-11-29T12:46:01.489Z"
   },
   {
    "duration": 0,
    "start_time": "2022-11-29T12:46:02.682Z"
   },
   {
    "duration": 413,
    "start_time": "2022-11-29T12:46:06.704Z"
   },
   {
    "duration": 23,
    "start_time": "2022-11-29T12:46:18.576Z"
   },
   {
    "duration": 1215,
    "start_time": "2022-11-29T12:46:52.917Z"
   },
   {
    "duration": 964,
    "start_time": "2022-11-29T12:47:15.681Z"
   },
   {
    "duration": 20,
    "start_time": "2022-11-29T12:48:08.010Z"
   },
   {
    "duration": 20,
    "start_time": "2022-11-29T12:48:19.721Z"
   },
   {
    "duration": 15,
    "start_time": "2022-11-29T12:48:27.723Z"
   },
   {
    "duration": 6,
    "start_time": "2022-11-29T12:56:58.849Z"
   },
   {
    "duration": 9,
    "start_time": "2022-11-29T12:59:46.552Z"
   },
   {
    "duration": 9,
    "start_time": "2022-11-29T12:59:51.974Z"
   },
   {
    "duration": 262,
    "start_time": "2022-11-29T12:59:56.882Z"
   },
   {
    "duration": 313,
    "start_time": "2022-11-29T13:00:07.254Z"
   },
   {
    "duration": 274,
    "start_time": "2022-11-29T13:00:18.328Z"
   },
   {
    "duration": 11,
    "start_time": "2022-11-29T13:01:17.287Z"
   },
   {
    "duration": 294,
    "start_time": "2022-11-29T13:01:27.070Z"
   },
   {
    "duration": 4,
    "start_time": "2022-11-29T13:03:48.085Z"
   },
   {
    "duration": 4,
    "start_time": "2022-11-29T13:03:55.030Z"
   },
   {
    "duration": 4,
    "start_time": "2022-11-29T13:04:13.826Z"
   },
   {
    "duration": 19,
    "start_time": "2022-11-29T13:04:24.408Z"
   },
   {
    "duration": 9,
    "start_time": "2022-11-29T13:04:33.735Z"
   },
   {
    "duration": 285,
    "start_time": "2022-11-29T13:05:17.357Z"
   },
   {
    "duration": 10,
    "start_time": "2022-11-29T13:08:30.619Z"
   },
   {
    "duration": 12,
    "start_time": "2022-11-29T13:08:39.971Z"
   },
   {
    "duration": 10,
    "start_time": "2022-11-29T13:08:48.479Z"
   },
   {
    "duration": 13,
    "start_time": "2022-11-29T13:08:55.571Z"
   },
   {
    "duration": 10,
    "start_time": "2022-11-29T13:09:12.787Z"
   },
   {
    "duration": 300,
    "start_time": "2022-11-29T13:11:06.919Z"
   },
   {
    "duration": 304,
    "start_time": "2022-11-29T13:11:11.731Z"
   },
   {
    "duration": 378,
    "start_time": "2022-11-29T13:11:16.719Z"
   },
   {
    "duration": 3,
    "start_time": "2022-11-29T13:15:01.145Z"
   },
   {
    "duration": 44,
    "start_time": "2022-11-29T13:21:09.746Z"
   },
   {
    "duration": 231,
    "start_time": "2022-11-29T13:21:19.749Z"
   },
   {
    "duration": 22,
    "start_time": "2022-11-29T13:21:47.790Z"
   },
   {
    "duration": 209,
    "start_time": "2022-11-29T13:22:19.974Z"
   },
   {
    "duration": 215,
    "start_time": "2022-11-29T13:23:27.122Z"
   },
   {
    "duration": 11,
    "start_time": "2022-11-29T13:23:41.425Z"
   },
   {
    "duration": 72,
    "start_time": "2022-11-29T13:25:00.174Z"
   },
   {
    "duration": 27,
    "start_time": "2022-11-29T13:25:07.422Z"
   },
   {
    "duration": 32,
    "start_time": "2022-11-29T13:26:19.891Z"
   },
   {
    "duration": 55,
    "start_time": "2022-11-29T13:26:43.155Z"
   },
   {
    "duration": 44,
    "start_time": "2022-11-29T13:27:05.367Z"
   },
   {
    "duration": 189,
    "start_time": "2022-11-29T13:27:11.857Z"
   },
   {
    "duration": 266,
    "start_time": "2022-11-29T13:28:17.596Z"
   },
   {
    "duration": 236,
    "start_time": "2022-11-29T13:28:45.546Z"
   },
   {
    "duration": 232,
    "start_time": "2022-11-29T13:28:50.084Z"
   },
   {
    "duration": 216,
    "start_time": "2022-11-29T13:28:59.474Z"
   },
   {
    "duration": 238,
    "start_time": "2022-11-29T13:29:03.859Z"
   },
   {
    "duration": 182,
    "start_time": "2022-11-29T13:29:39.488Z"
   },
   {
    "duration": 228,
    "start_time": "2022-11-29T13:29:49.035Z"
   },
   {
    "duration": 24,
    "start_time": "2022-11-29T13:31:59.154Z"
   },
   {
    "duration": 23,
    "start_time": "2022-11-29T13:58:26.149Z"
   },
   {
    "duration": 23,
    "start_time": "2022-11-29T13:58:40.836Z"
   },
   {
    "duration": 1069,
    "start_time": "2022-11-29T14:01:29.739Z"
   },
   {
    "duration": 13,
    "start_time": "2022-11-29T14:01:30.810Z"
   },
   {
    "duration": 32,
    "start_time": "2022-11-29T14:01:30.824Z"
   },
   {
    "duration": 29,
    "start_time": "2022-11-29T14:01:30.858Z"
   },
   {
    "duration": 27,
    "start_time": "2022-11-29T14:01:30.889Z"
   },
   {
    "duration": 18,
    "start_time": "2022-11-29T14:01:30.918Z"
   },
   {
    "duration": 5,
    "start_time": "2022-11-29T14:01:30.938Z"
   },
   {
    "duration": 22,
    "start_time": "2022-11-29T14:01:30.944Z"
   },
   {
    "duration": 14,
    "start_time": "2022-11-29T14:01:30.967Z"
   },
   {
    "duration": 12,
    "start_time": "2022-11-29T14:01:30.983Z"
   },
   {
    "duration": 31,
    "start_time": "2022-11-29T14:01:30.997Z"
   },
   {
    "duration": 37,
    "start_time": "2022-11-29T14:01:31.029Z"
   },
   {
    "duration": 324,
    "start_time": "2022-11-29T14:01:31.067Z"
   },
   {
    "duration": 11,
    "start_time": "2022-11-29T14:01:31.393Z"
   },
   {
    "duration": 253,
    "start_time": "2022-11-29T14:01:31.405Z"
   },
   {
    "duration": 22,
    "start_time": "2022-11-29T14:01:31.660Z"
   },
   {
    "duration": 317,
    "start_time": "2022-11-29T14:01:31.683Z"
   },
   {
    "duration": 259,
    "start_time": "2022-11-29T14:09:35.107Z"
   },
   {
    "duration": 155,
    "start_time": "2022-11-29T14:09:50.849Z"
   },
   {
    "duration": 158,
    "start_time": "2022-11-29T14:10:09.134Z"
   },
   {
    "duration": 98,
    "start_time": "2022-11-29T14:12:21.415Z"
   },
   {
    "duration": 11,
    "start_time": "2022-11-29T14:14:37.004Z"
   },
   {
    "duration": 106,
    "start_time": "2022-11-29T14:14:43.119Z"
   },
   {
    "duration": 524,
    "start_time": "2022-11-29T14:15:34.806Z"
   },
   {
    "duration": 446,
    "start_time": "2022-11-29T14:15:44.827Z"
   },
   {
    "duration": 177,
    "start_time": "2022-11-29T14:15:52.620Z"
   },
   {
    "duration": 233,
    "start_time": "2022-11-29T14:16:12.714Z"
   },
   {
    "duration": 9,
    "start_time": "2022-11-29T14:18:03.294Z"
   },
   {
    "duration": 9,
    "start_time": "2022-11-29T14:18:12.217Z"
   },
   {
    "duration": 249,
    "start_time": "2022-11-29T14:18:30.738Z"
   },
   {
    "duration": 20,
    "start_time": "2022-11-29T14:18:41.395Z"
   },
   {
    "duration": 1124,
    "start_time": "2022-11-29T14:19:09.469Z"
   },
   {
    "duration": 13,
    "start_time": "2022-11-29T14:19:10.595Z"
   },
   {
    "duration": 8,
    "start_time": "2022-11-29T14:19:10.609Z"
   },
   {
    "duration": 10,
    "start_time": "2022-11-29T14:19:10.619Z"
   },
   {
    "duration": 10,
    "start_time": "2022-11-29T14:19:10.630Z"
   },
   {
    "duration": 18,
    "start_time": "2022-11-29T14:19:10.641Z"
   },
   {
    "duration": 4,
    "start_time": "2022-11-29T14:19:10.661Z"
   },
   {
    "duration": 10,
    "start_time": "2022-11-29T14:19:10.667Z"
   },
   {
    "duration": 6,
    "start_time": "2022-11-29T14:19:10.698Z"
   },
   {
    "duration": 15,
    "start_time": "2022-11-29T14:19:10.705Z"
   },
   {
    "duration": 16,
    "start_time": "2022-11-29T14:19:10.721Z"
   },
   {
    "duration": 27,
    "start_time": "2022-11-29T14:19:10.738Z"
   },
   {
    "duration": 324,
    "start_time": "2022-11-29T14:19:10.767Z"
   },
   {
    "duration": 10,
    "start_time": "2022-11-29T14:19:11.097Z"
   },
   {
    "duration": 250,
    "start_time": "2022-11-29T14:19:11.108Z"
   },
   {
    "duration": 23,
    "start_time": "2022-11-29T14:19:11.359Z"
   },
   {
    "duration": 322,
    "start_time": "2022-11-29T14:19:11.383Z"
   },
   {
    "duration": 248,
    "start_time": "2022-11-29T14:19:11.706Z"
   },
   {
    "duration": 259,
    "start_time": "2022-11-29T14:21:00.191Z"
   },
   {
    "duration": 57,
    "start_time": "2022-11-29T14:21:39.331Z"
   },
   {
    "duration": 48,
    "start_time": "2022-11-29T14:22:01.605Z"
   },
   {
    "duration": 236,
    "start_time": "2022-11-29T14:22:08.861Z"
   },
   {
    "duration": 72,
    "start_time": "2022-11-29T14:22:31.813Z"
   },
   {
    "duration": 63,
    "start_time": "2022-11-29T14:22:58.035Z"
   },
   {
    "duration": 254,
    "start_time": "2022-11-29T14:23:05.574Z"
   },
   {
    "duration": 47,
    "start_time": "2022-11-29T14:23:54.308Z"
   },
   {
    "duration": 256,
    "start_time": "2022-11-29T14:25:56.647Z"
   },
   {
    "duration": 316,
    "start_time": "2022-11-29T14:26:03.657Z"
   },
   {
    "duration": 226,
    "start_time": "2022-11-29T14:27:08.171Z"
   },
   {
    "duration": 233,
    "start_time": "2022-11-29T14:27:18.021Z"
   },
   {
    "duration": 10,
    "start_time": "2022-11-29T14:28:37.003Z"
   },
   {
    "duration": 31,
    "start_time": "2022-11-29T14:28:39.860Z"
   },
   {
    "duration": 216,
    "start_time": "2022-11-29T14:30:05.781Z"
   },
   {
    "duration": 223,
    "start_time": "2022-11-29T14:30:11.688Z"
   },
   {
    "duration": 259,
    "start_time": "2022-11-29T14:30:42.280Z"
   },
   {
    "duration": 8,
    "start_time": "2022-11-29T14:33:02.870Z"
   },
   {
    "duration": 16,
    "start_time": "2022-11-29T14:39:20.533Z"
   },
   {
    "duration": 5,
    "start_time": "2022-11-29T14:47:40.883Z"
   },
   {
    "duration": 24,
    "start_time": "2022-11-29T14:47:47.150Z"
   },
   {
    "duration": 7,
    "start_time": "2022-11-29T14:48:58.072Z"
   },
   {
    "duration": 8,
    "start_time": "2022-11-29T14:49:40.886Z"
   },
   {
    "duration": 8,
    "start_time": "2022-11-29T14:50:25.321Z"
   },
   {
    "duration": 8,
    "start_time": "2022-11-29T14:50:49.306Z"
   },
   {
    "duration": 9,
    "start_time": "2022-11-29T14:51:18.978Z"
   },
   {
    "duration": 19,
    "start_time": "2022-11-29T14:51:39.600Z"
   },
   {
    "duration": 26,
    "start_time": "2022-11-29T14:51:53.139Z"
   },
   {
    "duration": 1114,
    "start_time": "2022-11-29T14:52:05.491Z"
   },
   {
    "duration": 12,
    "start_time": "2022-11-29T14:52:06.607Z"
   },
   {
    "duration": 4,
    "start_time": "2022-11-29T14:52:06.621Z"
   },
   {
    "duration": 11,
    "start_time": "2022-11-29T14:52:06.626Z"
   },
   {
    "duration": 8,
    "start_time": "2022-11-29T14:52:06.638Z"
   },
   {
    "duration": 18,
    "start_time": "2022-11-29T14:52:06.648Z"
   },
   {
    "duration": 7,
    "start_time": "2022-11-29T14:52:06.667Z"
   },
   {
    "duration": 29,
    "start_time": "2022-11-29T14:52:06.675Z"
   },
   {
    "duration": 5,
    "start_time": "2022-11-29T14:52:06.705Z"
   },
   {
    "duration": 7,
    "start_time": "2022-11-29T14:52:06.712Z"
   },
   {
    "duration": 6,
    "start_time": "2022-11-29T14:52:06.721Z"
   },
   {
    "duration": 16,
    "start_time": "2022-11-29T14:52:06.729Z"
   },
   {
    "duration": 333,
    "start_time": "2022-11-29T14:52:06.746Z"
   },
   {
    "duration": 19,
    "start_time": "2022-11-29T14:52:07.081Z"
   },
   {
    "duration": 253,
    "start_time": "2022-11-29T14:52:07.101Z"
   },
   {
    "duration": 22,
    "start_time": "2022-11-29T14:52:07.356Z"
   },
   {
    "duration": 328,
    "start_time": "2022-11-29T14:52:07.380Z"
   },
   {
    "duration": 246,
    "start_time": "2022-11-29T14:52:07.710Z"
   },
   {
    "duration": 291,
    "start_time": "2022-11-29T14:52:07.958Z"
   },
   {
    "duration": 8,
    "start_time": "2022-11-29T14:52:08.251Z"
   },
   {
    "duration": 18,
    "start_time": "2022-11-29T14:52:08.260Z"
   },
   {
    "duration": 137,
    "start_time": "2022-11-29T14:52:08.280Z"
   },
   {
    "duration": 17,
    "start_time": "2022-11-29T14:52:24.320Z"
   },
   {
    "duration": 7,
    "start_time": "2022-11-29T14:52:48.394Z"
   },
   {
    "duration": 136,
    "start_time": "2022-11-29T15:01:54.153Z"
   },
   {
    "duration": 168,
    "start_time": "2022-11-29T15:02:57.376Z"
   },
   {
    "duration": 143,
    "start_time": "2022-11-29T15:03:03.567Z"
   },
   {
    "duration": 231,
    "start_time": "2022-11-29T15:03:08.293Z"
   },
   {
    "duration": 153,
    "start_time": "2022-11-29T15:03:13.120Z"
   },
   {
    "duration": 155,
    "start_time": "2022-11-29T15:03:29.911Z"
   },
   {
    "duration": 148,
    "start_time": "2022-11-29T15:03:41.232Z"
   },
   {
    "duration": 140,
    "start_time": "2022-11-29T15:04:58.239Z"
   },
   {
    "duration": 128,
    "start_time": "2022-11-29T15:05:02.891Z"
   },
   {
    "duration": 137,
    "start_time": "2022-11-29T15:05:17.239Z"
   },
   {
    "duration": 7,
    "start_time": "2022-11-29T15:09:56.550Z"
   },
   {
    "duration": 7,
    "start_time": "2022-11-29T15:10:07.959Z"
   },
   {
    "duration": 172,
    "start_time": "2022-11-29T15:11:19.037Z"
   },
   {
    "duration": 147,
    "start_time": "2022-11-29T15:11:30.316Z"
   },
   {
    "duration": 138,
    "start_time": "2022-11-29T15:11:47.747Z"
   },
   {
    "duration": 152,
    "start_time": "2022-11-29T15:12:11.441Z"
   },
   {
    "duration": 127,
    "start_time": "2022-11-29T15:12:33.378Z"
   },
   {
    "duration": 138,
    "start_time": "2022-11-29T15:12:38.774Z"
   },
   {
    "duration": 206,
    "start_time": "2022-11-29T15:12:48.154Z"
   },
   {
    "duration": 263,
    "start_time": "2022-11-29T15:15:07.398Z"
   },
   {
    "duration": 280,
    "start_time": "2022-11-29T15:15:33.209Z"
   },
   {
    "duration": 276,
    "start_time": "2022-11-29T15:15:54.481Z"
   },
   {
    "duration": 250,
    "start_time": "2022-11-29T15:15:58.405Z"
   },
   {
    "duration": 253,
    "start_time": "2022-11-29T15:16:06.494Z"
   },
   {
    "duration": 247,
    "start_time": "2022-11-29T15:16:14.010Z"
   },
   {
    "duration": 249,
    "start_time": "2022-11-29T15:16:55.208Z"
   },
   {
    "duration": 18,
    "start_time": "2022-11-29T15:20:23.994Z"
   },
   {
    "duration": 392,
    "start_time": "2022-11-29T15:20:45.711Z"
   },
   {
    "duration": 317,
    "start_time": "2022-11-29T15:21:10.010Z"
   },
   {
    "duration": 276,
    "start_time": "2022-11-29T15:21:35.447Z"
   },
   {
    "duration": 301,
    "start_time": "2022-11-29T15:23:44.131Z"
   },
   {
    "duration": 301,
    "start_time": "2022-11-29T15:24:07.854Z"
   },
   {
    "duration": 298,
    "start_time": "2022-11-29T15:24:43.138Z"
   },
   {
    "duration": 340,
    "start_time": "2022-11-29T15:26:41.493Z"
   },
   {
    "duration": 398,
    "start_time": "2022-11-29T15:26:52.949Z"
   },
   {
    "duration": 339,
    "start_time": "2022-11-29T15:28:31.883Z"
   },
   {
    "duration": 539,
    "start_time": "2022-11-29T15:28:40.527Z"
   },
   {
    "duration": 478,
    "start_time": "2022-11-29T15:30:54.474Z"
   },
   {
    "duration": 309,
    "start_time": "2022-11-29T15:31:06.290Z"
   },
   {
    "duration": 10,
    "start_time": "2022-11-29T15:31:30.222Z"
   },
   {
    "duration": 110,
    "start_time": "2022-11-29T15:31:37.329Z"
   },
   {
    "duration": 254,
    "start_time": "2022-11-29T15:31:56.961Z"
   },
   {
    "duration": 335,
    "start_time": "2022-11-29T15:32:57.958Z"
   },
   {
    "duration": 306,
    "start_time": "2022-11-29T15:33:12.150Z"
   },
   {
    "duration": 7,
    "start_time": "2022-11-29T15:34:49.384Z"
   },
   {
    "duration": 285,
    "start_time": "2022-11-29T15:35:08.768Z"
   },
   {
    "duration": 43,
    "start_time": "2022-11-29T15:35:48.408Z"
   },
   {
    "duration": 4,
    "start_time": "2022-11-29T15:36:02.526Z"
   },
   {
    "duration": 249,
    "start_time": "2022-11-29T15:36:35.173Z"
   },
   {
    "duration": 303,
    "start_time": "2022-11-29T15:42:42.389Z"
   },
   {
    "duration": 366,
    "start_time": "2022-11-29T15:42:58.545Z"
   },
   {
    "duration": 189,
    "start_time": "2022-11-29T15:43:07.698Z"
   },
   {
    "duration": 348,
    "start_time": "2022-11-29T15:43:21.890Z"
   },
   {
    "duration": 462,
    "start_time": "2022-11-29T15:43:38.423Z"
   },
   {
    "duration": 382,
    "start_time": "2022-11-29T15:43:46.276Z"
   },
   {
    "duration": 181,
    "start_time": "2022-11-29T15:43:51.324Z"
   },
   {
    "duration": 360,
    "start_time": "2022-11-29T15:43:57.678Z"
   },
   {
    "duration": 127,
    "start_time": "2022-11-29T15:44:05.302Z"
   },
   {
    "duration": 186,
    "start_time": "2022-11-29T15:44:11.437Z"
   },
   {
    "duration": 196,
    "start_time": "2022-11-29T15:44:19.375Z"
   },
   {
    "duration": 222,
    "start_time": "2022-11-29T15:44:40.408Z"
   },
   {
    "duration": 160,
    "start_time": "2022-11-29T15:44:49.223Z"
   },
   {
    "duration": 320,
    "start_time": "2022-11-29T15:44:53.327Z"
   },
   {
    "duration": 224,
    "start_time": "2022-11-29T15:44:59.358Z"
   },
   {
    "duration": 183,
    "start_time": "2022-11-29T15:45:15.379Z"
   },
   {
    "duration": 188,
    "start_time": "2022-11-29T15:45:41.933Z"
   },
   {
    "duration": 213,
    "start_time": "2022-11-29T15:45:50.885Z"
   },
   {
    "duration": 195,
    "start_time": "2022-11-29T15:46:12.794Z"
   },
   {
    "duration": 214,
    "start_time": "2022-11-29T15:46:22.649Z"
   },
   {
    "duration": 214,
    "start_time": "2022-11-29T15:46:36.710Z"
   },
   {
    "duration": 236,
    "start_time": "2022-11-29T15:46:43.937Z"
   },
   {
    "duration": 210,
    "start_time": "2022-11-29T15:47:13.466Z"
   },
   {
    "duration": 232,
    "start_time": "2022-11-29T15:47:41.694Z"
   },
   {
    "duration": 223,
    "start_time": "2022-11-29T15:49:13.372Z"
   },
   {
    "duration": 340,
    "start_time": "2022-11-29T15:49:25.076Z"
   },
   {
    "duration": 219,
    "start_time": "2022-11-29T15:50:32.721Z"
   },
   {
    "duration": 11,
    "start_time": "2022-11-29T15:50:53.484Z"
   },
   {
    "duration": 106,
    "start_time": "2022-11-29T15:51:06.248Z"
   },
   {
    "duration": 17,
    "start_time": "2022-11-29T15:51:13.839Z"
   },
   {
    "duration": 756,
    "start_time": "2022-11-29T15:51:23.345Z"
   },
   {
    "duration": 13,
    "start_time": "2022-11-29T15:53:17.411Z"
   },
   {
    "duration": 270,
    "start_time": "2022-11-29T15:53:31.218Z"
   },
   {
    "duration": 260,
    "start_time": "2022-11-29T15:53:42.491Z"
   },
   {
    "duration": 275,
    "start_time": "2022-11-29T15:54:05.293Z"
   },
   {
    "duration": 130,
    "start_time": "2022-11-29T15:54:15.880Z"
   },
   {
    "duration": 273,
    "start_time": "2022-11-29T15:54:38.104Z"
   },
   {
    "duration": 10,
    "start_time": "2022-11-29T15:59:23.807Z"
   },
   {
    "duration": 9,
    "start_time": "2022-11-29T15:59:29.895Z"
   },
   {
    "duration": 14,
    "start_time": "2022-11-29T16:00:36.216Z"
   },
   {
    "duration": 233,
    "start_time": "2022-11-29T16:00:44.846Z"
   },
   {
    "duration": 8,
    "start_time": "2022-11-29T16:02:24.571Z"
   },
   {
    "duration": 50,
    "start_time": "2022-11-29T16:03:03.337Z"
   },
   {
    "duration": 102,
    "start_time": "2022-11-29T16:09:41.760Z"
   },
   {
    "duration": 220,
    "start_time": "2022-11-29T16:09:51.695Z"
   },
   {
    "duration": 210,
    "start_time": "2022-11-29T16:10:12.758Z"
   },
   {
    "duration": 234,
    "start_time": "2022-11-29T16:10:20.090Z"
   },
   {
    "duration": 235,
    "start_time": "2022-11-29T16:10:27.980Z"
   },
   {
    "duration": 387,
    "start_time": "2022-11-29T16:10:31.123Z"
   },
   {
    "duration": 261,
    "start_time": "2022-11-29T16:10:34.491Z"
   },
   {
    "duration": 221,
    "start_time": "2022-11-29T16:10:41.356Z"
   },
   {
    "duration": 272,
    "start_time": "2022-11-29T16:10:44.879Z"
   },
   {
    "duration": 174,
    "start_time": "2022-11-29T16:10:48.342Z"
   },
   {
    "duration": 250,
    "start_time": "2022-11-29T16:10:53.881Z"
   },
   {
    "duration": 120,
    "start_time": "2022-11-29T16:10:57.152Z"
   },
   {
    "duration": 129,
    "start_time": "2022-11-29T16:11:00.297Z"
   },
   {
    "duration": 223,
    "start_time": "2022-11-29T16:11:02.808Z"
   },
   {
    "duration": 208,
    "start_time": "2022-11-29T16:11:16.189Z"
   },
   {
    "duration": 236,
    "start_time": "2022-11-29T16:11:19.436Z"
   },
   {
    "duration": 219,
    "start_time": "2022-11-29T16:11:22.385Z"
   },
   {
    "duration": 211,
    "start_time": "2022-11-29T16:11:26.423Z"
   },
   {
    "duration": 173,
    "start_time": "2022-11-29T16:11:36.430Z"
   },
   {
    "duration": 177,
    "start_time": "2022-11-29T16:12:13.423Z"
   },
   {
    "duration": 1397,
    "start_time": "2022-11-30T10:06:22.326Z"
   },
   {
    "duration": 14,
    "start_time": "2022-11-30T10:06:23.725Z"
   },
   {
    "duration": 12,
    "start_time": "2022-11-30T10:06:23.741Z"
   },
   {
    "duration": 11,
    "start_time": "2022-11-30T10:06:23.755Z"
   },
   {
    "duration": 10,
    "start_time": "2022-11-30T10:06:23.767Z"
   },
   {
    "duration": 25,
    "start_time": "2022-11-30T10:06:23.778Z"
   },
   {
    "duration": 5,
    "start_time": "2022-11-30T10:06:23.805Z"
   },
   {
    "duration": 19,
    "start_time": "2022-11-30T10:06:23.812Z"
   },
   {
    "duration": 7,
    "start_time": "2022-11-30T10:06:23.833Z"
   },
   {
    "duration": 9,
    "start_time": "2022-11-30T10:06:23.842Z"
   },
   {
    "duration": 11,
    "start_time": "2022-11-30T10:06:23.853Z"
   },
   {
    "duration": 42,
    "start_time": "2022-11-30T10:06:23.866Z"
   },
   {
    "duration": 346,
    "start_time": "2022-11-30T10:06:23.910Z"
   },
   {
    "duration": 11,
    "start_time": "2022-11-30T10:06:24.258Z"
   },
   {
    "duration": 284,
    "start_time": "2022-11-30T10:06:24.270Z"
   },
   {
    "duration": 25,
    "start_time": "2022-11-30T10:06:24.556Z"
   },
   {
    "duration": 372,
    "start_time": "2022-11-30T10:06:24.583Z"
   },
   {
    "duration": 282,
    "start_time": "2022-11-30T10:06:24.958Z"
   },
   {
    "duration": 283,
    "start_time": "2022-11-30T10:06:25.242Z"
   },
   {
    "duration": 9,
    "start_time": "2022-11-30T10:06:25.526Z"
   },
   {
    "duration": 18,
    "start_time": "2022-11-30T10:06:25.536Z"
   },
   {
    "duration": 12,
    "start_time": "2022-11-30T10:06:25.556Z"
   },
   {
    "duration": 182,
    "start_time": "2022-11-30T10:06:25.570Z"
   },
   {
    "duration": 172,
    "start_time": "2022-11-30T10:06:25.753Z"
   },
   {
    "duration": 421,
    "start_time": "2022-11-30T10:06:25.926Z"
   },
   {
    "duration": 257,
    "start_time": "2022-11-30T10:06:26.349Z"
   },
   {
    "duration": 342,
    "start_time": "2022-11-30T10:06:26.608Z"
   },
   {
    "duration": 7,
    "start_time": "2022-11-30T10:06:26.953Z"
   },
   {
    "duration": 12,
    "start_time": "2022-11-30T10:06:26.961Z"
   },
   {
    "duration": 204,
    "start_time": "2022-11-30T10:06:26.975Z"
   },
   {
    "duration": 223,
    "start_time": "2022-11-30T10:06:27.181Z"
   },
   {
    "duration": 105,
    "start_time": "2022-11-30T10:17:30.549Z"
   },
   {
    "duration": 253,
    "start_time": "2022-11-30T10:17:34.927Z"
   },
   {
    "duration": 8,
    "start_time": "2022-11-30T10:17:37.457Z"
   },
   {
    "duration": 204,
    "start_time": "2022-11-30T10:18:04.107Z"
   },
   {
    "duration": 146,
    "start_time": "2022-11-30T10:18:39.867Z"
   },
   {
    "duration": 197,
    "start_time": "2022-11-30T10:18:44.208Z"
   },
   {
    "duration": 23,
    "start_time": "2022-11-30T10:23:49.810Z"
   },
   {
    "duration": 8,
    "start_time": "2022-11-30T10:24:16.852Z"
   },
   {
    "duration": 10,
    "start_time": "2022-11-30T10:24:25.600Z"
   },
   {
    "duration": 14,
    "start_time": "2022-11-30T10:24:36.060Z"
   },
   {
    "duration": 11,
    "start_time": "2022-11-30T10:24:42.339Z"
   },
   {
    "duration": 13,
    "start_time": "2022-11-30T10:24:56.263Z"
   },
   {
    "duration": 11,
    "start_time": "2022-11-30T10:25:02.132Z"
   },
   {
    "duration": 11,
    "start_time": "2022-11-30T10:25:11.496Z"
   },
   {
    "duration": 9,
    "start_time": "2022-11-30T10:26:17.359Z"
   },
   {
    "duration": 141,
    "start_time": "2022-11-30T10:26:32.374Z"
   },
   {
    "duration": 10,
    "start_time": "2022-11-30T10:26:41.536Z"
   },
   {
    "duration": 155,
    "start_time": "2022-11-30T10:26:58.135Z"
   },
   {
    "duration": 249,
    "start_time": "2022-11-30T10:27:57.654Z"
   },
   {
    "duration": 160,
    "start_time": "2022-11-30T10:28:04.559Z"
   },
   {
    "duration": 324,
    "start_time": "2022-11-30T10:28:21.662Z"
   },
   {
    "duration": 245,
    "start_time": "2022-11-30T10:28:28.027Z"
   },
   {
    "duration": 346,
    "start_time": "2022-11-30T10:28:37.020Z"
   },
   {
    "duration": 254,
    "start_time": "2022-11-30T10:28:45.172Z"
   },
   {
    "duration": 260,
    "start_time": "2022-11-30T10:28:50.628Z"
   },
   {
    "duration": 192,
    "start_time": "2022-11-30T10:29:06.251Z"
   },
   {
    "duration": 235,
    "start_time": "2022-11-30T10:29:13.244Z"
   },
   {
    "duration": 268,
    "start_time": "2022-11-30T10:29:21.757Z"
   },
   {
    "duration": 403,
    "start_time": "2022-11-30T10:29:27.993Z"
   },
   {
    "duration": 12,
    "start_time": "2022-11-30T10:29:44.921Z"
   },
   {
    "duration": 176,
    "start_time": "2022-11-30T10:29:59.122Z"
   },
   {
    "duration": 200,
    "start_time": "2022-11-30T10:30:06.514Z"
   },
   {
    "duration": 155,
    "start_time": "2022-11-30T10:30:16.310Z"
   },
   {
    "duration": 157,
    "start_time": "2022-11-30T10:30:21.578Z"
   },
   {
    "duration": 152,
    "start_time": "2022-11-30T10:30:58.078Z"
   },
   {
    "duration": 155,
    "start_time": "2022-11-30T10:31:23.517Z"
   },
   {
    "duration": 6,
    "start_time": "2022-11-30T10:31:58.526Z"
   },
   {
    "duration": 7,
    "start_time": "2022-11-30T10:32:04.868Z"
   },
   {
    "duration": 11,
    "start_time": "2022-11-30T10:32:07.590Z"
   },
   {
    "duration": 64,
    "start_time": "2022-11-30T10:32:13.483Z"
   },
   {
    "duration": 156,
    "start_time": "2022-11-30T10:32:18.354Z"
   },
   {
    "duration": 9,
    "start_time": "2022-11-30T10:32:58.623Z"
   },
   {
    "duration": 16,
    "start_time": "2022-11-30T10:35:40.148Z"
   },
   {
    "duration": 11,
    "start_time": "2022-11-30T10:35:46.779Z"
   },
   {
    "duration": 170,
    "start_time": "2022-11-30T10:37:35.216Z"
   },
   {
    "duration": 9,
    "start_time": "2022-11-30T10:37:59.223Z"
   },
   {
    "duration": 200,
    "start_time": "2022-11-30T10:40:02.024Z"
   },
   {
    "duration": 20,
    "start_time": "2022-11-30T10:40:33.996Z"
   },
   {
    "duration": 167,
    "start_time": "2022-11-30T10:40:42.417Z"
   },
   {
    "duration": 3,
    "start_time": "2022-11-30T10:40:59.653Z"
   },
   {
    "duration": 193,
    "start_time": "2022-11-30T10:41:16.369Z"
   },
   {
    "duration": 171,
    "start_time": "2022-11-30T10:41:28.248Z"
   },
   {
    "duration": 186,
    "start_time": "2022-11-30T10:41:35.844Z"
   },
   {
    "duration": 9,
    "start_time": "2022-11-30T10:41:38.573Z"
   },
   {
    "duration": 17,
    "start_time": "2022-11-30T10:42:09.112Z"
   },
   {
    "duration": 23,
    "start_time": "2022-11-30T10:42:16.887Z"
   },
   {
    "duration": 16,
    "start_time": "2022-11-30T10:42:52.256Z"
   },
   {
    "duration": 22,
    "start_time": "2022-11-30T10:43:33.785Z"
   },
   {
    "duration": 20,
    "start_time": "2022-11-30T10:43:55.917Z"
   },
   {
    "duration": 157,
    "start_time": "2022-11-30T10:44:54.612Z"
   },
   {
    "duration": 25,
    "start_time": "2022-11-30T10:45:45.484Z"
   },
   {
    "duration": 8,
    "start_time": "2022-11-30T10:46:03.994Z"
   },
   {
    "duration": 14,
    "start_time": "2022-11-30T10:46:10.210Z"
   },
   {
    "duration": 16,
    "start_time": "2022-11-30T10:50:30.315Z"
   },
   {
    "duration": 22,
    "start_time": "2022-11-30T10:50:41.817Z"
   },
   {
    "duration": 333,
    "start_time": "2022-11-30T10:50:45.535Z"
   },
   {
    "duration": 11,
    "start_time": "2022-11-30T10:51:17.025Z"
   },
   {
    "duration": 189,
    "start_time": "2022-11-30T10:51:18.531Z"
   },
   {
    "duration": 16,
    "start_time": "2022-11-30T10:51:34.575Z"
   },
   {
    "duration": 224,
    "start_time": "2022-11-30T10:51:34.975Z"
   },
   {
    "duration": 171,
    "start_time": "2022-11-30T10:58:44.909Z"
   },
   {
    "duration": 6,
    "start_time": "2022-11-30T10:58:55.110Z"
   },
   {
    "duration": 11,
    "start_time": "2022-11-30T10:59:02.712Z"
   },
   {
    "duration": 169,
    "start_time": "2022-11-30T11:01:01.082Z"
   },
   {
    "duration": 10,
    "start_time": "2022-11-30T11:01:42.037Z"
   },
   {
    "duration": 10,
    "start_time": "2022-11-30T11:02:22.350Z"
   },
   {
    "duration": 167,
    "start_time": "2022-11-30T11:03:41.013Z"
   },
   {
    "duration": 10,
    "start_time": "2022-11-30T11:04:12.948Z"
   },
   {
    "duration": 18,
    "start_time": "2022-11-30T11:07:39.085Z"
   },
   {
    "duration": 11,
    "start_time": "2022-11-30T11:08:20.999Z"
   },
   {
    "duration": 187,
    "start_time": "2022-11-30T11:08:27.013Z"
   },
   {
    "duration": 185,
    "start_time": "2022-11-30T11:13:26.861Z"
   },
   {
    "duration": 184,
    "start_time": "2022-11-30T11:16:31.495Z"
   },
   {
    "duration": 232,
    "start_time": "2022-11-30T11:16:46.103Z"
   },
   {
    "duration": 63,
    "start_time": "2022-11-30T11:18:04.612Z"
   },
   {
    "duration": 310,
    "start_time": "2022-11-30T11:18:39.513Z"
   },
   {
    "duration": 483,
    "start_time": "2022-11-30T11:18:46.084Z"
   },
   {
    "duration": 366,
    "start_time": "2022-11-30T11:18:52.168Z"
   },
   {
    "duration": 328,
    "start_time": "2022-11-30T11:18:55.251Z"
   },
   {
    "duration": 409,
    "start_time": "2022-11-30T11:20:15.494Z"
   },
   {
    "duration": 49,
    "start_time": "2022-11-30T11:20:50.796Z"
   },
   {
    "duration": 426,
    "start_time": "2022-11-30T11:20:56.083Z"
   },
   {
    "duration": 495,
    "start_time": "2022-11-30T11:21:06.006Z"
   },
   {
    "duration": 416,
    "start_time": "2022-11-30T11:21:22.683Z"
   },
   {
    "duration": 513,
    "start_time": "2022-11-30T11:21:27.323Z"
   },
   {
    "duration": 393,
    "start_time": "2022-11-30T11:21:47.390Z"
   },
   {
    "duration": 344,
    "start_time": "2022-11-30T11:21:52.185Z"
   },
   {
    "duration": 395,
    "start_time": "2022-11-30T11:21:56.466Z"
   },
   {
    "duration": 382,
    "start_time": "2022-11-30T11:22:01.881Z"
   },
   {
    "duration": 568,
    "start_time": "2022-11-30T11:22:05.913Z"
   },
   {
    "duration": 378,
    "start_time": "2022-11-30T11:22:10.183Z"
   },
   {
    "duration": 401,
    "start_time": "2022-11-30T11:22:51.046Z"
   },
   {
    "duration": 22,
    "start_time": "2022-11-30T11:46:45.707Z"
   },
   {
    "duration": 8,
    "start_time": "2022-11-30T11:47:12.612Z"
   },
   {
    "duration": 11,
    "start_time": "2022-11-30T11:47:18.474Z"
   },
   {
    "duration": 11,
    "start_time": "2022-11-30T11:47:30.600Z"
   },
   {
    "duration": 15,
    "start_time": "2022-11-30T11:48:05.094Z"
   },
   {
    "duration": 9,
    "start_time": "2022-11-30T11:48:50.226Z"
   },
   {
    "duration": 4,
    "start_time": "2022-11-30T11:49:15.573Z"
   },
   {
    "duration": 7,
    "start_time": "2022-11-30T11:49:23.659Z"
   },
   {
    "duration": 34,
    "start_time": "2022-11-30T11:57:10.618Z"
   },
   {
    "duration": 25,
    "start_time": "2022-11-30T11:57:27.815Z"
   },
   {
    "duration": 5,
    "start_time": "2022-11-30T11:57:53.825Z"
   },
   {
    "duration": 893,
    "start_time": "2022-11-30T11:58:13.915Z"
   },
   {
    "duration": 27,
    "start_time": "2022-11-30T11:59:05.314Z"
   },
   {
    "duration": 31,
    "start_time": "2022-11-30T11:59:47.119Z"
   },
   {
    "duration": 30,
    "start_time": "2022-11-30T11:59:52.827Z"
   },
   {
    "duration": 29,
    "start_time": "2022-11-30T12:00:02.761Z"
   },
   {
    "duration": 12,
    "start_time": "2022-11-30T12:00:19.314Z"
   },
   {
    "duration": 10,
    "start_time": "2022-11-30T12:00:23.583Z"
   },
   {
    "duration": 12,
    "start_time": "2022-11-30T12:00:44.245Z"
   },
   {
    "duration": 11,
    "start_time": "2022-11-30T12:03:54.802Z"
   },
   {
    "duration": 16,
    "start_time": "2022-11-30T12:05:39.470Z"
   },
   {
    "duration": 15,
    "start_time": "2022-11-30T12:06:00.944Z"
   },
   {
    "duration": 10,
    "start_time": "2022-11-30T12:07:34.515Z"
   },
   {
    "duration": 12,
    "start_time": "2022-11-30T12:07:52.610Z"
   },
   {
    "duration": 18,
    "start_time": "2022-11-30T12:09:21.558Z"
   },
   {
    "duration": 16,
    "start_time": "2022-11-30T12:09:31.171Z"
   },
   {
    "duration": 17,
    "start_time": "2022-11-30T12:10:31.038Z"
   },
   {
    "duration": 4,
    "start_time": "2022-11-30T12:16:34.572Z"
   },
   {
    "duration": 4,
    "start_time": "2022-11-30T12:17:07.137Z"
   },
   {
    "duration": 4,
    "start_time": "2022-11-30T12:17:40.212Z"
   },
   {
    "duration": 4,
    "start_time": "2022-11-30T12:17:47.652Z"
   },
   {
    "duration": 11,
    "start_time": "2022-11-30T12:21:24.362Z"
   },
   {
    "duration": 13,
    "start_time": "2022-11-30T12:28:27.681Z"
   },
   {
    "duration": 13,
    "start_time": "2022-11-30T12:29:25.636Z"
   },
   {
    "duration": 4,
    "start_time": "2022-11-30T12:33:41.622Z"
   },
   {
    "duration": 1250,
    "start_time": "2022-11-30T13:05:41.731Z"
   },
   {
    "duration": 15,
    "start_time": "2022-11-30T13:05:42.983Z"
   },
   {
    "duration": 10,
    "start_time": "2022-11-30T13:05:43.000Z"
   },
   {
    "duration": 7,
    "start_time": "2022-11-30T13:05:43.012Z"
   },
   {
    "duration": 12,
    "start_time": "2022-11-30T13:05:43.021Z"
   },
   {
    "duration": 20,
    "start_time": "2022-11-30T13:05:43.035Z"
   },
   {
    "duration": 5,
    "start_time": "2022-11-30T13:05:43.057Z"
   },
   {
    "duration": 13,
    "start_time": "2022-11-30T13:05:43.064Z"
   },
   {
    "duration": 6,
    "start_time": "2022-11-30T13:05:43.097Z"
   },
   {
    "duration": 7,
    "start_time": "2022-11-30T13:05:43.107Z"
   },
   {
    "duration": 11,
    "start_time": "2022-11-30T13:05:43.116Z"
   },
   {
    "duration": 18,
    "start_time": "2022-11-30T13:05:43.128Z"
   },
   {
    "duration": 358,
    "start_time": "2022-11-30T13:05:43.148Z"
   },
   {
    "duration": 11,
    "start_time": "2022-11-30T13:05:43.507Z"
   },
   {
    "duration": 278,
    "start_time": "2022-11-30T13:05:43.520Z"
   },
   {
    "duration": 28,
    "start_time": "2022-11-30T13:05:43.800Z"
   },
   {
    "duration": 380,
    "start_time": "2022-11-30T13:05:43.830Z"
   },
   {
    "duration": 259,
    "start_time": "2022-11-30T13:05:44.211Z"
   },
   {
    "duration": 275,
    "start_time": "2022-11-30T13:05:44.472Z"
   },
   {
    "duration": 9,
    "start_time": "2022-11-30T13:05:44.749Z"
   },
   {
    "duration": 36,
    "start_time": "2022-11-30T13:05:44.760Z"
   },
   {
    "duration": 8,
    "start_time": "2022-11-30T13:05:44.798Z"
   },
   {
    "duration": 166,
    "start_time": "2022-11-30T13:05:44.808Z"
   },
   {
    "duration": 250,
    "start_time": "2022-11-30T13:05:44.976Z"
   },
   {
    "duration": 240,
    "start_time": "2022-11-30T13:05:45.228Z"
   },
   {
    "duration": 243,
    "start_time": "2022-11-30T13:05:45.469Z"
   },
   {
    "duration": 306,
    "start_time": "2022-11-30T13:05:45.716Z"
   },
   {
    "duration": 11,
    "start_time": "2022-11-30T13:05:46.026Z"
   },
   {
    "duration": 24,
    "start_time": "2022-11-30T13:05:46.043Z"
   },
   {
    "duration": 210,
    "start_time": "2022-11-30T13:05:46.069Z"
   },
   {
    "duration": 200,
    "start_time": "2022-11-30T13:05:46.281Z"
   },
   {
    "duration": 175,
    "start_time": "2022-11-30T13:05:46.483Z"
   },
   {
    "duration": 193,
    "start_time": "2022-11-30T13:05:46.660Z"
   },
   {
    "duration": 174,
    "start_time": "2022-11-30T13:05:46.856Z"
   },
   {
    "duration": 17,
    "start_time": "2022-11-30T13:05:47.031Z"
   },
   {
    "duration": 192,
    "start_time": "2022-11-30T13:05:47.050Z"
   },
   {
    "duration": 174,
    "start_time": "2022-11-30T13:05:47.243Z"
   },
   {
    "duration": 254,
    "start_time": "2022-11-30T13:05:47.419Z"
   },
   {
    "duration": 178,
    "start_time": "2022-11-30T13:05:47.675Z"
   },
   {
    "duration": 16,
    "start_time": "2022-11-30T13:05:47.854Z"
   },
   {
    "duration": 205,
    "start_time": "2022-11-30T13:05:47.872Z"
   },
   {
    "duration": 365,
    "start_time": "2022-11-30T13:05:48.079Z"
   },
   {
    "duration": 12,
    "start_time": "2022-11-30T13:05:48.445Z"
   },
   {
    "duration": 109,
    "start_time": "2022-11-30T13:05:48.459Z"
   },
   {
    "duration": 0,
    "start_time": "2022-11-30T13:05:48.570Z"
   },
   {
    "duration": 0,
    "start_time": "2022-11-30T13:05:48.571Z"
   },
   {
    "duration": 1248,
    "start_time": "2022-11-30T13:06:34.349Z"
   },
   {
    "duration": 15,
    "start_time": "2022-11-30T13:06:35.599Z"
   },
   {
    "duration": 8,
    "start_time": "2022-11-30T13:06:35.616Z"
   },
   {
    "duration": 13,
    "start_time": "2022-11-30T13:06:35.627Z"
   },
   {
    "duration": 14,
    "start_time": "2022-11-30T13:06:35.642Z"
   },
   {
    "duration": 48,
    "start_time": "2022-11-30T13:06:35.658Z"
   },
   {
    "duration": 6,
    "start_time": "2022-11-30T13:06:35.708Z"
   },
   {
    "duration": 12,
    "start_time": "2022-11-30T13:06:35.716Z"
   },
   {
    "duration": 7,
    "start_time": "2022-11-30T13:06:35.730Z"
   },
   {
    "duration": 21,
    "start_time": "2022-11-30T13:06:35.741Z"
   },
   {
    "duration": 38,
    "start_time": "2022-11-30T13:06:35.764Z"
   },
   {
    "duration": 23,
    "start_time": "2022-11-30T13:06:35.804Z"
   },
   {
    "duration": 466,
    "start_time": "2022-11-30T13:06:35.830Z"
   },
   {
    "duration": 12,
    "start_time": "2022-11-30T13:06:36.298Z"
   },
   {
    "duration": 306,
    "start_time": "2022-11-30T13:06:36.312Z"
   },
   {
    "duration": 27,
    "start_time": "2022-11-30T13:06:36.619Z"
   },
   {
    "duration": 369,
    "start_time": "2022-11-30T13:06:36.649Z"
   },
   {
    "duration": 280,
    "start_time": "2022-11-30T13:06:37.020Z"
   },
   {
    "duration": 279,
    "start_time": "2022-11-30T13:06:37.302Z"
   },
   {
    "duration": 17,
    "start_time": "2022-11-30T13:06:37.583Z"
   },
   {
    "duration": 20,
    "start_time": "2022-11-30T13:06:37.601Z"
   },
   {
    "duration": 9,
    "start_time": "2022-11-30T13:06:37.623Z"
   },
   {
    "duration": 185,
    "start_time": "2022-11-30T13:06:37.634Z"
   },
   {
    "duration": 250,
    "start_time": "2022-11-30T13:06:37.820Z"
   },
   {
    "duration": 262,
    "start_time": "2022-11-30T13:06:38.072Z"
   },
   {
    "duration": 266,
    "start_time": "2022-11-30T13:06:38.335Z"
   },
   {
    "duration": 307,
    "start_time": "2022-11-30T13:06:38.603Z"
   },
   {
    "duration": 7,
    "start_time": "2022-11-30T13:06:38.915Z"
   },
   {
    "duration": 19,
    "start_time": "2022-11-30T13:06:38.924Z"
   },
   {
    "duration": 210,
    "start_time": "2022-11-30T13:06:38.944Z"
   },
   {
    "duration": 221,
    "start_time": "2022-11-30T13:06:39.156Z"
   },
   {
    "duration": 179,
    "start_time": "2022-11-30T13:06:39.378Z"
   },
   {
    "duration": 190,
    "start_time": "2022-11-30T13:06:39.559Z"
   },
   {
    "duration": 219,
    "start_time": "2022-11-30T13:06:39.751Z"
   },
   {
    "duration": 25,
    "start_time": "2022-11-30T13:06:39.972Z"
   },
   {
    "duration": 217,
    "start_time": "2022-11-30T13:06:39.999Z"
   },
   {
    "duration": 209,
    "start_time": "2022-11-30T13:06:40.217Z"
   },
   {
    "duration": 284,
    "start_time": "2022-11-30T13:06:40.427Z"
   },
   {
    "duration": 193,
    "start_time": "2022-11-30T13:06:40.713Z"
   },
   {
    "duration": 16,
    "start_time": "2022-11-30T13:06:40.908Z"
   },
   {
    "duration": 211,
    "start_time": "2022-11-30T13:06:40.926Z"
   },
   {
    "duration": 400,
    "start_time": "2022-11-30T13:06:41.139Z"
   },
   {
    "duration": 14,
    "start_time": "2022-11-30T13:06:41.541Z"
   },
   {
    "duration": 8,
    "start_time": "2022-11-30T13:06:41.557Z"
   },
   {
    "duration": 32,
    "start_time": "2022-11-30T13:06:41.567Z"
   },
   {
    "duration": 5,
    "start_time": "2022-11-30T13:06:41.600Z"
   },
   {
    "duration": 1215,
    "start_time": "2022-11-30T15:43:02.458Z"
   },
   {
    "duration": 14,
    "start_time": "2022-11-30T15:43:03.674Z"
   },
   {
    "duration": 5,
    "start_time": "2022-11-30T15:43:03.690Z"
   },
   {
    "duration": 9,
    "start_time": "2022-11-30T15:43:03.697Z"
   },
   {
    "duration": 16,
    "start_time": "2022-11-30T15:43:03.708Z"
   },
   {
    "duration": 15,
    "start_time": "2022-11-30T15:43:03.725Z"
   },
   {
    "duration": 6,
    "start_time": "2022-11-30T15:43:03.741Z"
   },
   {
    "duration": 10,
    "start_time": "2022-11-30T15:43:03.748Z"
   },
   {
    "duration": 8,
    "start_time": "2022-11-30T15:43:03.760Z"
   },
   {
    "duration": 10,
    "start_time": "2022-11-30T15:43:03.770Z"
   },
   {
    "duration": 41,
    "start_time": "2022-11-30T15:43:03.782Z"
   },
   {
    "duration": 18,
    "start_time": "2022-11-30T15:43:03.824Z"
   },
   {
    "duration": 398,
    "start_time": "2022-11-30T15:43:03.843Z"
   },
   {
    "duration": 14,
    "start_time": "2022-11-30T15:43:04.244Z"
   },
   {
    "duration": 251,
    "start_time": "2022-11-30T15:43:04.259Z"
   },
   {
    "duration": 32,
    "start_time": "2022-11-30T15:43:04.511Z"
   },
   {
    "duration": 339,
    "start_time": "2022-11-30T15:43:04.544Z"
   },
   {
    "duration": 252,
    "start_time": "2022-11-30T15:43:04.885Z"
   },
   {
    "duration": 276,
    "start_time": "2022-11-30T15:43:05.139Z"
   },
   {
    "duration": 12,
    "start_time": "2022-11-30T15:43:05.416Z"
   },
   {
    "duration": 21,
    "start_time": "2022-11-30T15:43:05.430Z"
   },
   {
    "duration": 15,
    "start_time": "2022-11-30T15:43:05.453Z"
   },
   {
    "duration": 165,
    "start_time": "2022-11-30T15:43:05.470Z"
   },
   {
    "duration": 260,
    "start_time": "2022-11-30T15:43:05.637Z"
   },
   {
    "duration": 247,
    "start_time": "2022-11-30T15:43:05.899Z"
   },
   {
    "duration": 242,
    "start_time": "2022-11-30T15:43:06.148Z"
   },
   {
    "duration": 309,
    "start_time": "2022-11-30T15:43:06.392Z"
   },
   {
    "duration": 19,
    "start_time": "2022-11-30T15:43:06.704Z"
   },
   {
    "duration": 12,
    "start_time": "2022-11-30T15:43:06.725Z"
   },
   {
    "duration": 198,
    "start_time": "2022-11-30T15:43:06.739Z"
   },
   {
    "duration": 198,
    "start_time": "2022-11-30T15:43:06.938Z"
   },
   {
    "duration": 165,
    "start_time": "2022-11-30T15:43:07.137Z"
   },
   {
    "duration": 166,
    "start_time": "2022-11-30T15:43:07.304Z"
   },
   {
    "duration": 171,
    "start_time": "2022-11-30T15:43:07.471Z"
   },
   {
    "duration": 17,
    "start_time": "2022-11-30T15:43:07.644Z"
   },
   {
    "duration": 196,
    "start_time": "2022-11-30T15:43:07.662Z"
   },
   {
    "duration": 177,
    "start_time": "2022-11-30T15:43:07.859Z"
   },
   {
    "duration": 253,
    "start_time": "2022-11-30T15:43:08.037Z"
   },
   {
    "duration": 177,
    "start_time": "2022-11-30T15:43:08.292Z"
   },
   {
    "duration": 15,
    "start_time": "2022-11-30T15:43:08.470Z"
   },
   {
    "duration": 189,
    "start_time": "2022-11-30T15:43:08.487Z"
   },
   {
    "duration": 372,
    "start_time": "2022-11-30T15:43:08.677Z"
   },
   {
    "duration": 13,
    "start_time": "2022-11-30T15:43:09.050Z"
   },
   {
    "duration": 5,
    "start_time": "2022-11-30T15:43:09.064Z"
   },
   {
    "duration": 15,
    "start_time": "2022-11-30T15:43:09.070Z"
   },
   {
    "duration": 7,
    "start_time": "2022-11-30T15:43:09.086Z"
   },
   {
    "duration": 1418,
    "start_time": "2022-12-01T04:59:25.474Z"
   },
   {
    "duration": 15,
    "start_time": "2022-12-01T04:59:26.894Z"
   },
   {
    "duration": 9,
    "start_time": "2022-12-01T04:59:26.911Z"
   },
   {
    "duration": 17,
    "start_time": "2022-12-01T04:59:26.921Z"
   },
   {
    "duration": 14,
    "start_time": "2022-12-01T04:59:26.941Z"
   },
   {
    "duration": 19,
    "start_time": "2022-12-01T04:59:26.957Z"
   },
   {
    "duration": 6,
    "start_time": "2022-12-01T04:59:26.978Z"
   },
   {
    "duration": 13,
    "start_time": "2022-12-01T04:59:26.986Z"
   },
   {
    "duration": 17,
    "start_time": "2022-12-01T04:59:27.002Z"
   },
   {
    "duration": 18,
    "start_time": "2022-12-01T04:59:27.021Z"
   },
   {
    "duration": 10,
    "start_time": "2022-12-01T04:59:27.040Z"
   },
   {
    "duration": 24,
    "start_time": "2022-12-01T04:59:27.051Z"
   },
   {
    "duration": 338,
    "start_time": "2022-12-01T04:59:27.076Z"
   },
   {
    "duration": 19,
    "start_time": "2022-12-01T04:59:27.417Z"
   },
   {
    "duration": 259,
    "start_time": "2022-12-01T04:59:27.438Z"
   },
   {
    "duration": 24,
    "start_time": "2022-12-01T04:59:27.699Z"
   },
   {
    "duration": 351,
    "start_time": "2022-12-01T04:59:27.725Z"
   },
   {
    "duration": 252,
    "start_time": "2022-12-01T04:59:28.078Z"
   },
   {
    "duration": 264,
    "start_time": "2022-12-01T04:59:28.331Z"
   },
   {
    "duration": 10,
    "start_time": "2022-12-01T04:59:28.597Z"
   },
   {
    "duration": 37,
    "start_time": "2022-12-01T04:59:28.609Z"
   },
   {
    "duration": 13,
    "start_time": "2022-12-01T04:59:28.648Z"
   },
   {
    "duration": 185,
    "start_time": "2022-12-01T04:59:28.663Z"
   },
   {
    "duration": 228,
    "start_time": "2022-12-01T04:59:28.850Z"
   },
   {
    "duration": 231,
    "start_time": "2022-12-01T04:59:29.080Z"
   },
   {
    "duration": 225,
    "start_time": "2022-12-01T04:59:29.313Z"
   },
   {
    "duration": 326,
    "start_time": "2022-12-01T04:59:29.539Z"
   },
   {
    "duration": 6,
    "start_time": "2022-12-01T04:59:29.867Z"
   },
   {
    "duration": 19,
    "start_time": "2022-12-01T04:59:29.874Z"
   },
   {
    "duration": 194,
    "start_time": "2022-12-01T04:59:29.895Z"
   },
   {
    "duration": 201,
    "start_time": "2022-12-01T04:59:30.091Z"
   },
   {
    "duration": 164,
    "start_time": "2022-12-01T04:59:30.294Z"
   },
   {
    "duration": 164,
    "start_time": "2022-12-01T04:59:30.460Z"
   },
   {
    "duration": 169,
    "start_time": "2022-12-01T04:59:30.626Z"
   },
   {
    "duration": 16,
    "start_time": "2022-12-01T04:59:30.797Z"
   },
   {
    "duration": 217,
    "start_time": "2022-12-01T04:59:30.815Z"
   },
   {
    "duration": 161,
    "start_time": "2022-12-01T04:59:31.034Z"
   },
   {
    "duration": 246,
    "start_time": "2022-12-01T04:59:31.196Z"
   },
   {
    "duration": 168,
    "start_time": "2022-12-01T04:59:31.443Z"
   },
   {
    "duration": 23,
    "start_time": "2022-12-01T04:59:31.613Z"
   },
   {
    "duration": 182,
    "start_time": "2022-12-01T04:59:31.641Z"
   },
   {
    "duration": 389,
    "start_time": "2022-12-01T04:59:31.825Z"
   },
   {
    "duration": 12,
    "start_time": "2022-12-01T04:59:32.215Z"
   },
   {
    "duration": 4,
    "start_time": "2022-12-01T04:59:32.235Z"
   },
   {
    "duration": 23,
    "start_time": "2022-12-01T04:59:32.241Z"
   },
   {
    "duration": 7,
    "start_time": "2022-12-01T04:59:32.266Z"
   }
  ],
  "kernelspec": {
   "display_name": "Python 3 (ipykernel)",
   "language": "python",
   "name": "python3"
  },
  "language_info": {
   "codemirror_mode": {
    "name": "ipython",
    "version": 3
   },
   "file_extension": ".py",
   "mimetype": "text/x-python",
   "name": "python",
   "nbconvert_exporter": "python",
   "pygments_lexer": "ipython3",
   "version": "3.9.12"
  },
  "toc": {
   "base_numbering": 1,
   "nav_menu": {
    "height": "112px",
    "width": "536px"
   },
   "number_sections": true,
   "sideBar": true,
   "skip_h1_title": true,
   "title_cell": "Table of Contents",
   "title_sidebar": "Contents",
   "toc_cell": false,
   "toc_position": {},
   "toc_section_display": true,
   "toc_window_display": true
  }
 },
 "nbformat": 4,
 "nbformat_minor": 2
}
